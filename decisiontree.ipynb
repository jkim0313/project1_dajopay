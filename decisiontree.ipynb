{
 "cells": [
  {
   "cell_type": "code",
   "execution_count": 220,
   "metadata": {},
   "outputs": [
    {
     "data": {
      "text/html": [
       "<div>\n",
       "<style scoped>\n",
       "    .dataframe tbody tr th:only-of-type {\n",
       "        vertical-align: middle;\n",
       "    }\n",
       "\n",
       "    .dataframe tbody tr th {\n",
       "        vertical-align: top;\n",
       "    }\n",
       "\n",
       "    .dataframe thead th {\n",
       "        text-align: right;\n",
       "    }\n",
       "</style>\n",
       "<table border=\"1\" class=\"dataframe\">\n",
       "  <thead>\n",
       "    <tr style=\"text-align: right;\">\n",
       "      <th></th>\n",
       "      <th>날짜</th>\n",
       "      <th>서적/문구</th>\n",
       "      <th>소비자물가지수</th>\n",
       "      <th>소매판매지수</th>\n",
       "      <th>동월_평균_등락률</th>\n",
       "      <th>전체_평균_대비</th>\n",
       "      <th>소비</th>\n",
       "      <th>월</th>\n",
       "      <th>전년_동월_대비</th>\n",
       "    </tr>\n",
       "  </thead>\n",
       "  <tbody>\n",
       "    <tr>\n",
       "      <th>0</th>\n",
       "      <td>201212</td>\n",
       "      <td>0.118333</td>\n",
       "      <td>0.001782</td>\n",
       "      <td>0.023590</td>\n",
       "      <td>0.164177</td>\n",
       "      <td>1</td>\n",
       "      <td>1</td>\n",
       "      <td>12</td>\n",
       "      <td>1.0</td>\n",
       "    </tr>\n",
       "    <tr>\n",
       "      <th>1</th>\n",
       "      <td>201301</td>\n",
       "      <td>-0.069215</td>\n",
       "      <td>0.005999</td>\n",
       "      <td>-0.086172</td>\n",
       "      <td>-0.077975</td>\n",
       "      <td>0</td>\n",
       "      <td>0</td>\n",
       "      <td>1</td>\n",
       "      <td>0.0</td>\n",
       "    </tr>\n",
       "    <tr>\n",
       "      <th>2</th>\n",
       "      <td>201302</td>\n",
       "      <td>-0.107126</td>\n",
       "      <td>0.003343</td>\n",
       "      <td>-0.048246</td>\n",
       "      <td>-0.093226</td>\n",
       "      <td>0</td>\n",
       "      <td>0</td>\n",
       "      <td>2</td>\n",
       "      <td>0.0</td>\n",
       "    </tr>\n",
       "    <tr>\n",
       "      <th>3</th>\n",
       "      <td>201303</td>\n",
       "      <td>0.471158</td>\n",
       "      <td>-0.000924</td>\n",
       "      <td>0.078341</td>\n",
       "      <td>0.390163</td>\n",
       "      <td>1</td>\n",
       "      <td>1</td>\n",
       "      <td>3</td>\n",
       "      <td>1.0</td>\n",
       "    </tr>\n",
       "    <tr>\n",
       "      <th>4</th>\n",
       "      <td>201304</td>\n",
       "      <td>-0.204835</td>\n",
       "      <td>-0.001388</td>\n",
       "      <td>-0.018162</td>\n",
       "      <td>-0.222949</td>\n",
       "      <td>0</td>\n",
       "      <td>1</td>\n",
       "      <td>4</td>\n",
       "      <td>0.0</td>\n",
       "    </tr>\n",
       "  </tbody>\n",
       "</table>\n",
       "</div>"
      ],
      "text/plain": [
       "       날짜     서적/문구   소비자물가지수    소매판매지수  동월_평균_등락률  전체_평균_대비  소비   월  전년_동월_대비\n",
       "0  201212  0.118333  0.001782  0.023590   0.164177         1   1  12       1.0\n",
       "1  201301 -0.069215  0.005999 -0.086172  -0.077975         0   0   1       0.0\n",
       "2  201302 -0.107126  0.003343 -0.048246  -0.093226         0   0   2       0.0\n",
       "3  201303  0.471158 -0.000924  0.078341   0.390163         1   1   3       1.0\n",
       "4  201304 -0.204835 -0.001388 -0.018162  -0.222949         0   1   4       0.0"
      ]
     },
     "execution_count": 220,
     "metadata": {},
     "output_type": "execute_result"
    }
   ],
   "source": [
    "import pandas as pd\n",
    "\n",
    "# df = pd.read_csv('./data/test_df.csv', encoding='cp949')\n",
    "df = pd.read_csv('./data/whole_df.csv')\n",
    "df.drop(columns=\"Unnamed: 0\", inplace=True)\n",
    "# df[\"날짜\"] = pd.to_datetime(df[\"날짜\"], format='%Y%m')      # 데이터 타입 datetime으로 변경\n",
    "# df[\"날짜\"] = df[\"날짜\"].dt.strftime('%Y%m') # datetime 형식 설정\n",
    "# df.set_index(\"날짜\", inplace=True)          # 날짜 컬럼 인덱스 설정\n",
    "\n",
    "df.head()"
   ]
  },
  {
   "cell_type": "code",
   "execution_count": 28,
   "metadata": {},
   "outputs": [],
   "source": [
    "from sklearn.preprocessing import StandardScaler\n",
    "ss = StandardScaler()\n",
    "\n",
    "from sklearn.model_selection import cross_validate\n",
    "from sklearn.model_selection import GridSearchCV\n",
    "from sklearn.model_selection import StratifiedKFold\n",
    "from sklearn.model_selection import train_test_split\n",
    "\n",
    "import matplotlib.pyplot as plt\n",
    "%matplotlib inline\n",
    "import numpy as np\n",
    "\n",
    "from sklearn.linear_model import LogisticRegression\n",
    "from sklearn.linear_model import Ridge\n",
    "from sklearn.linear_model import Lasso"
   ]
  },
  {
   "cell_type": "code",
   "execution_count": 221,
   "metadata": {},
   "outputs": [],
   "source": [
    "from sklearn.tree import DecisionTreeClassifier\n",
    "from sklearn.ensemble import RandomForestClassifier"
   ]
  },
  {
   "cell_type": "code",
   "execution_count": 30,
   "metadata": {},
   "outputs": [
    {
     "data": {
      "text/html": [
       "<style>#sk-container-id-3 {color: black;background-color: white;}#sk-container-id-3 pre{padding: 0;}#sk-container-id-3 div.sk-toggleable {background-color: white;}#sk-container-id-3 label.sk-toggleable__label {cursor: pointer;display: block;width: 100%;margin-bottom: 0;padding: 0.3em;box-sizing: border-box;text-align: center;}#sk-container-id-3 label.sk-toggleable__label-arrow:before {content: \"▸\";float: left;margin-right: 0.25em;color: #696969;}#sk-container-id-3 label.sk-toggleable__label-arrow:hover:before {color: black;}#sk-container-id-3 div.sk-estimator:hover label.sk-toggleable__label-arrow:before {color: black;}#sk-container-id-3 div.sk-toggleable__content {max-height: 0;max-width: 0;overflow: hidden;text-align: left;background-color: #f0f8ff;}#sk-container-id-3 div.sk-toggleable__content pre {margin: 0.2em;color: black;border-radius: 0.25em;background-color: #f0f8ff;}#sk-container-id-3 input.sk-toggleable__control:checked~div.sk-toggleable__content {max-height: 200px;max-width: 100%;overflow: auto;}#sk-container-id-3 input.sk-toggleable__control:checked~label.sk-toggleable__label-arrow:before {content: \"▾\";}#sk-container-id-3 div.sk-estimator input.sk-toggleable__control:checked~label.sk-toggleable__label {background-color: #d4ebff;}#sk-container-id-3 div.sk-label input.sk-toggleable__control:checked~label.sk-toggleable__label {background-color: #d4ebff;}#sk-container-id-3 input.sk-hidden--visually {border: 0;clip: rect(1px 1px 1px 1px);clip: rect(1px, 1px, 1px, 1px);height: 1px;margin: -1px;overflow: hidden;padding: 0;position: absolute;width: 1px;}#sk-container-id-3 div.sk-estimator {font-family: monospace;background-color: #f0f8ff;border: 1px dotted black;border-radius: 0.25em;box-sizing: border-box;margin-bottom: 0.5em;}#sk-container-id-3 div.sk-estimator:hover {background-color: #d4ebff;}#sk-container-id-3 div.sk-parallel-item::after {content: \"\";width: 100%;border-bottom: 1px solid gray;flex-grow: 1;}#sk-container-id-3 div.sk-label:hover label.sk-toggleable__label {background-color: #d4ebff;}#sk-container-id-3 div.sk-serial::before {content: \"\";position: absolute;border-left: 1px solid gray;box-sizing: border-box;top: 0;bottom: 0;left: 50%;z-index: 0;}#sk-container-id-3 div.sk-serial {display: flex;flex-direction: column;align-items: center;background-color: white;padding-right: 0.2em;padding-left: 0.2em;position: relative;}#sk-container-id-3 div.sk-item {position: relative;z-index: 1;}#sk-container-id-3 div.sk-parallel {display: flex;align-items: stretch;justify-content: center;background-color: white;position: relative;}#sk-container-id-3 div.sk-item::before, #sk-container-id-3 div.sk-parallel-item::before {content: \"\";position: absolute;border-left: 1px solid gray;box-sizing: border-box;top: 0;bottom: 0;left: 50%;z-index: -1;}#sk-container-id-3 div.sk-parallel-item {display: flex;flex-direction: column;z-index: 1;position: relative;background-color: white;}#sk-container-id-3 div.sk-parallel-item:first-child::after {align-self: flex-end;width: 50%;}#sk-container-id-3 div.sk-parallel-item:last-child::after {align-self: flex-start;width: 50%;}#sk-container-id-3 div.sk-parallel-item:only-child::after {width: 0;}#sk-container-id-3 div.sk-dashed-wrapped {border: 1px dashed gray;margin: 0 0.4em 0.5em 0.4em;box-sizing: border-box;padding-bottom: 0.4em;background-color: white;}#sk-container-id-3 div.sk-label label {font-family: monospace;font-weight: bold;display: inline-block;line-height: 1.2em;}#sk-container-id-3 div.sk-label-container {text-align: center;}#sk-container-id-3 div.sk-container {/* jupyter's `normalize.less` sets `[hidden] { display: none; }` but bootstrap.min.css set `[hidden] { display: none !important; }` so we also need the `!important` here to be able to override the default hidden behavior on the sphinx rendered scikit-learn.org. See: https://github.com/scikit-learn/scikit-learn/issues/21755 */display: inline-block !important;position: relative;}#sk-container-id-3 div.sk-text-repr-fallback {display: none;}</style><div id=\"sk-container-id-3\" class=\"sk-top-container\"><div class=\"sk-text-repr-fallback\"><pre>StandardScaler()</pre><b>In a Jupyter environment, please rerun this cell to show the HTML representation or trust the notebook. <br />On GitHub, the HTML representation is unable to render, please try loading this page with nbviewer.org.</b></div><div class=\"sk-container\" hidden><div class=\"sk-item\"><div class=\"sk-estimator sk-toggleable\"><input class=\"sk-toggleable__control sk-hidden--visually\" id=\"sk-estimator-id-3\" type=\"checkbox\" checked><label for=\"sk-estimator-id-3\" class=\"sk-toggleable__label sk-toggleable__label-arrow\">StandardScaler</label><div class=\"sk-toggleable__content\"><pre>StandardScaler()</pre></div></div></div></div></div>"
      ],
      "text/plain": [
       "StandardScaler()"
      ]
     },
     "execution_count": 30,
     "metadata": {},
     "output_type": "execute_result"
    }
   ],
   "source": [
    "ss.fit(data)"
   ]
  },
  {
   "cell_type": "code",
   "execution_count": 31,
   "metadata": {},
   "outputs": [],
   "source": [
    "data_scaled = ss.transform(data)"
   ]
  },
  {
   "cell_type": "code",
   "execution_count": 32,
   "metadata": {},
   "outputs": [],
   "source": [
    "params = {'C':[0, 0.1, 1, 10, 20]}"
   ]
  },
  {
   "cell_type": "code",
   "execution_count": 33,
   "metadata": {},
   "outputs": [],
   "source": [
    "lr = LogisticRegression()\n",
    "rg = Ridge()\n",
    "ls = Lasso()\n",
    "logisticreg = LogisticRegression()\n",
    "detreec = DecisionTreeClassifier()\n",
    "randomforest = RandomForestClassifier()\n",
    "# xgb = XGBClassifier()"
   ]
  },
  {
   "cell_type": "code",
   "execution_count": 34,
   "metadata": {},
   "outputs": [],
   "source": [
    "splitter = StratifiedKFold(n_splits=6, shuffle=True, random_state=42)\n",
    "scores_logistic = cross_validate(lr, data, target, cv=splitter, n_jobs=-1, return_train_score=True)\n",
    "scores_ridge = cross_validate(rg, data, target, cv=splitter, n_jobs=-1, return_train_score=True)\n",
    "scores_lasso = cross_validate(ls, data, target, cv=splitter, n_jobs=-1, return_train_score=True)\n",
    "scores_logisticreg = cross_validate(logisticreg, data, target, cv=splitter, n_jobs=-1, return_train_score=True)\n",
    "scores_dectree = cross_validate(detreec, data, target, cv=splitter, n_jobs=-1, return_train_score=True)\n",
    "scores_randomforest = cross_validate(randomforest, data, target, cv=splitter, n_jobs=-1, return_train_score=True)\n",
    "# scores_xgb = cross_validate(xgb, data, target, cv=splitter, n_jobs=-1, return_train_score=True)"
   ]
  },
  {
   "cell_type": "code",
   "execution_count": 35,
   "metadata": {},
   "outputs": [
    {
     "name": "stdout",
     "output_type": "stream",
     "text": [
      "로지스틱 train data score :  0.6941314553990611\n",
      "로지스틱 test data score :  0.6944444444444445\n",
      "릿지 train data score :  0.5011621032217423\n",
      "릿지 test data score :  0.4624484634351287\n",
      "라쏘 train data score :  0.0023680243561094625\n",
      "라쏘 test data score :  -0.02511630804150448\n",
      "결정트리(Decision Tree) train data score :  1.0\n",
      "결정트리(Decision Tree) test data score :  0.9285714285714285\n",
      "랜덤포레스트 train data score :  1.0\n",
      "랜덤포레스트 test data score :  0.9055555555555554\n"
     ]
    }
   ],
   "source": [
    "print('로지스틱 train data score : ',np.mean(scores_logistic['train_score'])) \n",
    "print('로지스틱 test data score : ',np.mean(scores_logistic['test_score']))  \n",
    "print('릿지 train data score : ',np.mean(scores_ridge['train_score'])) \n",
    "print('릿지 test data score : ',np.mean(scores_ridge['test_score']))  \n",
    "print('라쏘 train data score : ', np.mean(scores_lasso['train_score'])) \n",
    "print('라쏘 test data score : ', np.mean(scores_lasso['test_score'])) \n",
    "print('결정트리(Decision Tree) train data score : ',np.mean(scores_dectree['train_score']))\n",
    "print('결정트리(Decision Tree) test data score : ',np.mean(scores_dectree['test_score']))\n",
    "print('랜덤포레스트 train data score : ',np.mean(scores_randomforest['train_score']))\n",
    "print('랜덤포레스트 test data score : ',np.mean(scores_randomforest['test_score']))\n",
    "# print('XGB train data score : ',np.mean(scores_xgb['train_score']))\n",
    "# print('XGB test data score : ',np.mean(scores_xgb['test_score']))"
   ]
  },
  {
   "cell_type": "code",
   "execution_count": 222,
   "metadata": {},
   "outputs": [],
   "source": [
    "data = df[[\"날짜\", \"서적/문구\", \"소비자물가지수\", \"소매판매지수\", \"전년_동월_대비\"]]\n",
    "target = df[\"소비\"]"
   ]
  },
  {
   "cell_type": "code",
   "execution_count": 223,
   "metadata": {},
   "outputs": [
    {
     "name": "stdout",
     "output_type": "stream",
     "text": [
      "<class 'pandas.core.frame.DataFrame'>\n",
      "RangeIndex: 111 entries, 0 to 110\n",
      "Data columns (total 9 columns):\n",
      " #   Column     Non-Null Count  Dtype  \n",
      "---  ------     --------------  -----  \n",
      " 0   날짜         111 non-null    int64  \n",
      " 1   서적/문구      111 non-null    float64\n",
      " 2   소비자물가지수    111 non-null    float64\n",
      " 3   소매판매지수     111 non-null    float64\n",
      " 4   동월_평균_등락률  111 non-null    float64\n",
      " 5   전체_평균_대비   111 non-null    int64  \n",
      " 6   소비         111 non-null    int64  \n",
      " 7   월          111 non-null    int64  \n",
      " 8   전년_동월_대비   111 non-null    float64\n",
      "dtypes: float64(5), int64(4)\n",
      "memory usage: 7.9 KB\n"
     ]
    }
   ],
   "source": [
    "df.info()"
   ]
  },
  {
   "cell_type": "code",
   "execution_count": 229,
   "metadata": {},
   "outputs": [],
   "source": [
    "# 데이터 셋 분리\n",
    "\n",
    "from sklearn.metrics import accuracy_score\n",
    "from sklearn.model_selection import train_test_split\n",
    "\n",
    "X_train, X_test, y_train, y_test = train_test_split(data, target, test_size = .3, random_state=11)\n"
   ]
  },
  {
   "cell_type": "code",
   "execution_count": 237,
   "metadata": {},
   "outputs": [
    {
     "name": "stdout",
     "output_type": "stream",
     "text": [
      "학습 세트 Shape:(77, 5), 테스트 세트 Shape:(34, 5)\n",
      " 학습 세트 레이블 값 분포 비율\n",
      "1    0.662338\n",
      "0    0.337662\n",
      "Name: 소비, dtype: float64\n",
      "\n",
      " 테스트 세트 레이블 값 분포 비율\n",
      "1    0.324675\n",
      "0    0.116883\n",
      "Name: 소비, dtype: float64\n"
     ]
    }
   ],
   "source": [
    "# 피처, 레이블 데이터 분포 비율\n",
    "\n",
    "train_cnt = y_train.count()\n",
    "test_cnt = y_test.count()\n",
    "print('학습 세트 Shape:{0}, 테스트 세트 Shape:{1}'.format(X_train.shape, X_test.shape))\n",
    "\n",
    "print(' 학습 세트 레이블 값 분포 비율')\n",
    "print(y_train.value_counts()/train_cnt)\n",
    "print('\\n 테스트 세트 레이블 값 분포 비율')\n",
    "print(y_test.value_counts()/train_cnt)"
   ]
  },
  {
   "cell_type": "markdown",
   "metadata": {},
   "source": [
    "### DecisionTree"
   ]
  },
  {
   "cell_type": "code",
   "execution_count": 248,
   "metadata": {},
   "outputs": [],
   "source": [
    "dt_clf = DecisionTreeClassifier(random_state=11)"
   ]
  },
  {
   "cell_type": "code",
   "execution_count": 249,
   "metadata": {},
   "outputs": [
    {
     "data": {
      "text/html": [
       "<style>#sk-container-id-19 {color: black;background-color: white;}#sk-container-id-19 pre{padding: 0;}#sk-container-id-19 div.sk-toggleable {background-color: white;}#sk-container-id-19 label.sk-toggleable__label {cursor: pointer;display: block;width: 100%;margin-bottom: 0;padding: 0.3em;box-sizing: border-box;text-align: center;}#sk-container-id-19 label.sk-toggleable__label-arrow:before {content: \"▸\";float: left;margin-right: 0.25em;color: #696969;}#sk-container-id-19 label.sk-toggleable__label-arrow:hover:before {color: black;}#sk-container-id-19 div.sk-estimator:hover label.sk-toggleable__label-arrow:before {color: black;}#sk-container-id-19 div.sk-toggleable__content {max-height: 0;max-width: 0;overflow: hidden;text-align: left;background-color: #f0f8ff;}#sk-container-id-19 div.sk-toggleable__content pre {margin: 0.2em;color: black;border-radius: 0.25em;background-color: #f0f8ff;}#sk-container-id-19 input.sk-toggleable__control:checked~div.sk-toggleable__content {max-height: 200px;max-width: 100%;overflow: auto;}#sk-container-id-19 input.sk-toggleable__control:checked~label.sk-toggleable__label-arrow:before {content: \"▾\";}#sk-container-id-19 div.sk-estimator input.sk-toggleable__control:checked~label.sk-toggleable__label {background-color: #d4ebff;}#sk-container-id-19 div.sk-label input.sk-toggleable__control:checked~label.sk-toggleable__label {background-color: #d4ebff;}#sk-container-id-19 input.sk-hidden--visually {border: 0;clip: rect(1px 1px 1px 1px);clip: rect(1px, 1px, 1px, 1px);height: 1px;margin: -1px;overflow: hidden;padding: 0;position: absolute;width: 1px;}#sk-container-id-19 div.sk-estimator {font-family: monospace;background-color: #f0f8ff;border: 1px dotted black;border-radius: 0.25em;box-sizing: border-box;margin-bottom: 0.5em;}#sk-container-id-19 div.sk-estimator:hover {background-color: #d4ebff;}#sk-container-id-19 div.sk-parallel-item::after {content: \"\";width: 100%;border-bottom: 1px solid gray;flex-grow: 1;}#sk-container-id-19 div.sk-label:hover label.sk-toggleable__label {background-color: #d4ebff;}#sk-container-id-19 div.sk-serial::before {content: \"\";position: absolute;border-left: 1px solid gray;box-sizing: border-box;top: 0;bottom: 0;left: 50%;z-index: 0;}#sk-container-id-19 div.sk-serial {display: flex;flex-direction: column;align-items: center;background-color: white;padding-right: 0.2em;padding-left: 0.2em;position: relative;}#sk-container-id-19 div.sk-item {position: relative;z-index: 1;}#sk-container-id-19 div.sk-parallel {display: flex;align-items: stretch;justify-content: center;background-color: white;position: relative;}#sk-container-id-19 div.sk-item::before, #sk-container-id-19 div.sk-parallel-item::before {content: \"\";position: absolute;border-left: 1px solid gray;box-sizing: border-box;top: 0;bottom: 0;left: 50%;z-index: -1;}#sk-container-id-19 div.sk-parallel-item {display: flex;flex-direction: column;z-index: 1;position: relative;background-color: white;}#sk-container-id-19 div.sk-parallel-item:first-child::after {align-self: flex-end;width: 50%;}#sk-container-id-19 div.sk-parallel-item:last-child::after {align-self: flex-start;width: 50%;}#sk-container-id-19 div.sk-parallel-item:only-child::after {width: 0;}#sk-container-id-19 div.sk-dashed-wrapped {border: 1px dashed gray;margin: 0 0.4em 0.5em 0.4em;box-sizing: border-box;padding-bottom: 0.4em;background-color: white;}#sk-container-id-19 div.sk-label label {font-family: monospace;font-weight: bold;display: inline-block;line-height: 1.2em;}#sk-container-id-19 div.sk-label-container {text-align: center;}#sk-container-id-19 div.sk-container {/* jupyter's `normalize.less` sets `[hidden] { display: none; }` but bootstrap.min.css set `[hidden] { display: none !important; }` so we also need the `!important` here to be able to override the default hidden behavior on the sphinx rendered scikit-learn.org. See: https://github.com/scikit-learn/scikit-learn/issues/21755 */display: inline-block !important;position: relative;}#sk-container-id-19 div.sk-text-repr-fallback {display: none;}</style><div id=\"sk-container-id-19\" class=\"sk-top-container\"><div class=\"sk-text-repr-fallback\"><pre>DecisionTreeClassifier(random_state=11)</pre><b>In a Jupyter environment, please rerun this cell to show the HTML representation or trust the notebook. <br />On GitHub, the HTML representation is unable to render, please try loading this page with nbviewer.org.</b></div><div class=\"sk-container\" hidden><div class=\"sk-item\"><div class=\"sk-estimator sk-toggleable\"><input class=\"sk-toggleable__control sk-hidden--visually\" id=\"sk-estimator-id-19\" type=\"checkbox\" checked><label for=\"sk-estimator-id-19\" class=\"sk-toggleable__label sk-toggleable__label-arrow\">DecisionTreeClassifier</label><div class=\"sk-toggleable__content\"><pre>DecisionTreeClassifier(random_state=11)</pre></div></div></div></div></div>"
      ],
      "text/plain": [
       "DecisionTreeClassifier(random_state=11)"
      ]
     },
     "execution_count": 249,
     "metadata": {},
     "output_type": "execute_result"
    }
   ],
   "source": [
    "dt_clf.fit(X_train, y_train)"
   ]
  },
  {
   "cell_type": "code",
   "execution_count": 250,
   "metadata": {},
   "outputs": [
    {
     "data": {
      "text/plain": [
       "array([1, 0, 1, 0, 1, 1, 1, 0, 1, 0, 0, 1, 0, 1, 1, 1, 1, 1, 1, 1, 1, 1,\n",
       "       0, 1, 0, 1, 0, 1, 1, 1, 1, 1, 1, 1], dtype=int64)"
      ]
     },
     "execution_count": 250,
     "metadata": {},
     "output_type": "execute_result"
    }
   ],
   "source": [
    "X_pred = dt_clf.predict(X_test)\n",
    "X_pred"
   ]
  },
  {
   "cell_type": "code",
   "execution_count": 251,
   "metadata": {},
   "outputs": [
    {
     "name": "stdout",
     "output_type": "stream",
     "text": [
      "예측 정확도: 1.0000\n"
     ]
    }
   ],
   "source": [
    "print('예측 정확도: {0:.4f}'.format(accuracy_score(y_test, X_pred)))"
   ]
  },
  {
   "cell_type": "code",
   "execution_count": 252,
   "metadata": {},
   "outputs": [
    {
     "data": {
      "image/png": "[encoded data removed]",
      "text/plain": [
       "<Figure size 1152x720 with 1 Axes>"
      ]
     },
     "metadata": {
      "needs_background": "light"
     },
     "output_type": "display_data"
    }
   ],
   "source": [
    "from sklearn.tree import plot_tree\n",
    "\n",
    "feature_names = [\"날짜\", \"등락률\", \"소비자물가지수\", \"소매판매지수\",  \"전년_동월_대비\"]\n",
    "\n",
    "plt.rcParams[\"font.family\"] = \"Malgun Gothic\"\n",
    "\n",
    "plt.figure(figsize=(16,10))\n",
    "plot_tree(dt_clf, filled=True, feature_names=feature_names, node_ids=True)\n",
    "plt.show()"
   ]
  },
  {
   "cell_type": "code",
   "execution_count": 253,
   "metadata": {},
   "outputs": [
    {
     "data": {
      "text/plain": [
       "array([0.03871292, 0.11420312, 0.05360251, 0.39038068, 0.40310078])"
      ]
     },
     "execution_count": 253,
     "metadata": {},
     "output_type": "execute_result"
    }
   ],
   "source": [
    "dt_clf.feature_importances_"
   ]
  },
  {
   "cell_type": "code",
   "execution_count": 254,
   "metadata": {},
   "outputs": [
    {
     "data": {
      "text/plain": [
       "<AxesSubplot:title={'center':'피처중요도'}>"
      ]
     },
     "execution_count": 254,
     "metadata": {},
     "output_type": "execute_result"
    },
    {
     "data": {
      "image/png": "[encoded data removed]",
      "text/plain": [
       "<Figure size 432x288 with 1 Axes>"
      ]
     },
     "metadata": {
      "needs_background": "light"
     },
     "output_type": "display_data"
    }
   ],
   "source": [
    "# 피처 중요도 시각화\n",
    "import seaborn as sns\n",
    "import matplotlib.pyplot as plt\n",
    "\n",
    "plt.rcParams['axes.unicode_minus'] = False\n",
    "plt.rcParams[\"font.family\"] = \"Malgun Gothic\"\n",
    "\n",
    "plt.title(\"피처중요도\")\n",
    "sns.barplot(x=dt_clf.feature_importances_, y=data.columns)"
   ]
  },
  {
   "cell_type": "markdown",
   "metadata": {},
   "source": [
    "### 데이터 수동 분리"
   ]
  },
  {
   "cell_type": "code",
   "execution_count": 279,
   "metadata": {},
   "outputs": [
    {
     "name": "stdout",
     "output_type": "stream",
     "text": [
      "훈련 데이터 크기: 77\n",
      "테스트 데이터 크기: 34\n"
     ]
    }
   ],
   "source": [
    "num_of_train = int(len(data) * 0.7)\n",
    "num_of_test = int(len(data) - num_of_train)\n",
    "\n",
    "print('훈련 데이터 크기:', num_of_train)\n",
    "print('테스트 데이터 크기:', num_of_test)"
   ]
  },
  {
   "cell_type": "code",
   "execution_count": 280,
   "metadata": {},
   "outputs": [
    {
     "name": "stdout",
     "output_type": "stream",
     "text": [
      "X 테스트 데이터 :\n",
      "         날짜     서적/문구   소비자물가지수    소매판매지수  전년_동월_대비\n",
      "77   201905  0.005815  0.001719  0.046679       0.0\n",
      "78   201906 -0.044019 -0.001616 -0.056604       1.0\n",
      "79   201907  0.077752 -0.003056  0.004545       0.0\n",
      "80   201908 -0.016262  0.002400  0.009050       1.0\n",
      "81   201909 -0.024028  0.003711  0.016143       0.0\n",
      "82   201910 -0.033313  0.002475  0.021183       1.0\n",
      "83   201911  0.021241 -0.005598  0.040622       1.0\n",
      "84   201912  0.121899  0.002392  0.009967       0.0\n",
      "85   202001 -0.061820  0.003720 -0.080592       0.0\n",
      "86   202002 -0.108362  0.000699 -0.125224       0.0\n",
      "87   202003 -0.049071 -0.002196  0.093047       0.0\n",
      "88   202004  0.034980 -0.004403  0.018709       1.0\n",
      "89   202005  0.107948 -0.000603  0.087236       1.0\n",
      "90   202006 -0.084113  0.002715 -0.012669       0.0\n",
      "91   202007  0.011341 -0.000802 -0.051326       0.0\n",
      "92   202008 -0.029148  0.005621  0.007214       0.0\n",
      "93   202009 -0.006505  0.005490  0.056401       1.0\n",
      "94   202010 -0.051901 -0.005559 -0.018644       0.0\n",
      "95   202011 -0.005193 -0.000898  0.027634       0.0\n",
      "96   202012  0.120831  0.002398  0.000840       0.0\n",
      "97   202101 -0.010869  0.007077 -0.057935       1.0\n",
      "98   202102 -0.091223  0.005344 -0.053476       1.0\n",
      "99   202103  0.341261  0.002560  0.125235       1.0\n",
      "100  202104 -0.195506  0.001375 -0.005021       0.0\n",
      "101  202105  0.045043  0.000686  0.032801       0.0\n",
      "102  202106 -0.077637  0.000000 -0.026873       1.0\n",
      "103  202107  0.090554  0.002058  0.005858       1.0\n",
      "104  202108 -0.052783  0.004792 -0.030782       0.0\n",
      "105  202109  0.048359  0.004088  0.053219       1.0\n",
      "106  202110 -0.008680  0.001745  0.018745       1.0\n",
      "107  202111 -0.053841  0.005031 -0.002400       0.0\n",
      "108  202112  0.185547  0.001637  0.020048       1.0\n",
      "109  202201 -0.050630  0.006248 -0.076258       0.0\n",
      "110  202202 -0.163863  0.005827 -0.081702       0.0\n",
      "y 테스트 데이터 :\n",
      "[1, 1, 0, 1, 0, 1, 1, 1, 0, 0, 1, 1, 1, 0, 0, 0, 1, 0, 1, 0, 1, 1, 1, 1, 1, 1, 1, 0, 1, 1, 0, 1, 0, 0]\n"
     ]
    }
   ],
   "source": [
    "X_train = data[:num_of_train] \n",
    "X_test = data[num_of_train:] \n",
    "y_train = target[:num_of_train] \n",
    "y_test = target[num_of_train:] \n",
    "\n",
    "print('X 테스트 데이터 :')\n",
    "print(X_test)\n",
    "print('y 테스트 데이터 :')\n",
    "print(list(y_test))"
   ]
  },
  {
   "cell_type": "markdown",
   "metadata": {},
   "source": [
    "### 코로나 전, 후 데이터 분리"
   ]
  },
  {
   "cell_type": "code",
   "execution_count": 286,
   "metadata": {},
   "outputs": [
    {
     "name": "stdout",
     "output_type": "stream",
     "text": [
      "X 테스트 데이터 :\n",
      "         날짜     서적/문구   소비자물가지수    소매판매지수  전년_동월_대비\n",
      "85   202001 -0.061820  0.003720 -0.080592       0.0\n",
      "86   202002 -0.108362  0.000699 -0.125224       0.0\n",
      "87   202003 -0.049071 -0.002196  0.093047       0.0\n",
      "88   202004  0.034980 -0.004403  0.018709       1.0\n",
      "89   202005  0.107948 -0.000603  0.087236       1.0\n",
      "90   202006 -0.084113  0.002715 -0.012669       0.0\n",
      "91   202007  0.011341 -0.000802 -0.051326       0.0\n",
      "92   202008 -0.029148  0.005621  0.007214       0.0\n",
      "93   202009 -0.006505  0.005490  0.056401       1.0\n",
      "94   202010 -0.051901 -0.005559 -0.018644       0.0\n",
      "95   202011 -0.005193 -0.000898  0.027634       0.0\n",
      "96   202012  0.120831  0.002398  0.000840       0.0\n",
      "97   202101 -0.010869  0.007077 -0.057935       1.0\n",
      "98   202102 -0.091223  0.005344 -0.053476       1.0\n",
      "99   202103  0.341261  0.002560  0.125235       1.0\n",
      "100  202104 -0.195506  0.001375 -0.005021       0.0\n",
      "101  202105  0.045043  0.000686  0.032801       0.0\n",
      "102  202106 -0.077637  0.000000 -0.026873       1.0\n",
      "103  202107  0.090554  0.002058  0.005858       1.0\n",
      "104  202108 -0.052783  0.004792 -0.030782       0.0\n",
      "105  202109  0.048359  0.004088  0.053219       1.0\n",
      "106  202110 -0.008680  0.001745  0.018745       1.0\n",
      "107  202111 -0.053841  0.005031 -0.002400       0.0\n",
      "108  202112  0.185547  0.001637  0.020048       1.0\n",
      "109  202201 -0.050630  0.006248 -0.076258       0.0\n",
      "110  202202 -0.163863  0.005827 -0.081702       0.0\n",
      "y 테스트 데이터 :\n",
      "[0, 0, 1, 1, 1, 0, 0, 0, 1, 0, 1, 0, 1, 1, 1, 1, 1, 1, 1, 0, 1, 1, 0, 1, 0, 0]\n"
     ]
    }
   ],
   "source": [
    "X_train = data[:84] \n",
    "X_test = data[85:] \n",
    "y_train = target[:84] \n",
    "y_test = target[85:] \n",
    "\n",
    "print('X 테스트 데이터 :')\n",
    "print(X_test)\n",
    "print('y 테스트 데이터 :')\n",
    "print(list(y_test))"
   ]
  },
  {
   "cell_type": "code",
   "execution_count": 287,
   "metadata": {},
   "outputs": [],
   "source": [
    "dt_clf = DecisionTreeClassifier(random_state=11)"
   ]
  },
  {
   "cell_type": "code",
   "execution_count": 288,
   "metadata": {},
   "outputs": [
    {
     "data": {
      "text/html": [
       "<style>#sk-container-id-23 {color: black;background-color: white;}#sk-container-id-23 pre{padding: 0;}#sk-container-id-23 div.sk-toggleable {background-color: white;}#sk-container-id-23 label.sk-toggleable__label {cursor: pointer;display: block;width: 100%;margin-bottom: 0;padding: 0.3em;box-sizing: border-box;text-align: center;}#sk-container-id-23 label.sk-toggleable__label-arrow:before {content: \"▸\";float: left;margin-right: 0.25em;color: #696969;}#sk-container-id-23 label.sk-toggleable__label-arrow:hover:before {color: black;}#sk-container-id-23 div.sk-estimator:hover label.sk-toggleable__label-arrow:before {color: black;}#sk-container-id-23 div.sk-toggleable__content {max-height: 0;max-width: 0;overflow: hidden;text-align: left;background-color: #f0f8ff;}#sk-container-id-23 div.sk-toggleable__content pre {margin: 0.2em;color: black;border-radius: 0.25em;background-color: #f0f8ff;}#sk-container-id-23 input.sk-toggleable__control:checked~div.sk-toggleable__content {max-height: 200px;max-width: 100%;overflow: auto;}#sk-container-id-23 input.sk-toggleable__control:checked~label.sk-toggleable__label-arrow:before {content: \"▾\";}#sk-container-id-23 div.sk-estimator input.sk-toggleable__control:checked~label.sk-toggleable__label {background-color: #d4ebff;}#sk-container-id-23 div.sk-label input.sk-toggleable__control:checked~label.sk-toggleable__label {background-color: #d4ebff;}#sk-container-id-23 input.sk-hidden--visually {border: 0;clip: rect(1px 1px 1px 1px);clip: rect(1px, 1px, 1px, 1px);height: 1px;margin: -1px;overflow: hidden;padding: 0;position: absolute;width: 1px;}#sk-container-id-23 div.sk-estimator {font-family: monospace;background-color: #f0f8ff;border: 1px dotted black;border-radius: 0.25em;box-sizing: border-box;margin-bottom: 0.5em;}#sk-container-id-23 div.sk-estimator:hover {background-color: #d4ebff;}#sk-container-id-23 div.sk-parallel-item::after {content: \"\";width: 100%;border-bottom: 1px solid gray;flex-grow: 1;}#sk-container-id-23 div.sk-label:hover label.sk-toggleable__label {background-color: #d4ebff;}#sk-container-id-23 div.sk-serial::before {content: \"\";position: absolute;border-left: 1px solid gray;box-sizing: border-box;top: 0;bottom: 0;left: 50%;z-index: 0;}#sk-container-id-23 div.sk-serial {display: flex;flex-direction: column;align-items: center;background-color: white;padding-right: 0.2em;padding-left: 0.2em;position: relative;}#sk-container-id-23 div.sk-item {position: relative;z-index: 1;}#sk-container-id-23 div.sk-parallel {display: flex;align-items: stretch;justify-content: center;background-color: white;position: relative;}#sk-container-id-23 div.sk-item::before, #sk-container-id-23 div.sk-parallel-item::before {content: \"\";position: absolute;border-left: 1px solid gray;box-sizing: border-box;top: 0;bottom: 0;left: 50%;z-index: -1;}#sk-container-id-23 div.sk-parallel-item {display: flex;flex-direction: column;z-index: 1;position: relative;background-color: white;}#sk-container-id-23 div.sk-parallel-item:first-child::after {align-self: flex-end;width: 50%;}#sk-container-id-23 div.sk-parallel-item:last-child::after {align-self: flex-start;width: 50%;}#sk-container-id-23 div.sk-parallel-item:only-child::after {width: 0;}#sk-container-id-23 div.sk-dashed-wrapped {border: 1px dashed gray;margin: 0 0.4em 0.5em 0.4em;box-sizing: border-box;padding-bottom: 0.4em;background-color: white;}#sk-container-id-23 div.sk-label label {font-family: monospace;font-weight: bold;display: inline-block;line-height: 1.2em;}#sk-container-id-23 div.sk-label-container {text-align: center;}#sk-container-id-23 div.sk-container {/* jupyter's `normalize.less` sets `[hidden] { display: none; }` but bootstrap.min.css set `[hidden] { display: none !important; }` so we also need the `!important` here to be able to override the default hidden behavior on the sphinx rendered scikit-learn.org. See: https://github.com/scikit-learn/scikit-learn/issues/21755 */display: inline-block !important;position: relative;}#sk-container-id-23 div.sk-text-repr-fallback {display: none;}</style><div id=\"sk-container-id-23\" class=\"sk-top-container\"><div class=\"sk-text-repr-fallback\"><pre>DecisionTreeClassifier(random_state=11)</pre><b>In a Jupyter environment, please rerun this cell to show the HTML representation or trust the notebook. <br />On GitHub, the HTML representation is unable to render, please try loading this page with nbviewer.org.</b></div><div class=\"sk-container\" hidden><div class=\"sk-item\"><div class=\"sk-estimator sk-toggleable\"><input class=\"sk-toggleable__control sk-hidden--visually\" id=\"sk-estimator-id-23\" type=\"checkbox\" checked><label for=\"sk-estimator-id-23\" class=\"sk-toggleable__label sk-toggleable__label-arrow\">DecisionTreeClassifier</label><div class=\"sk-toggleable__content\"><pre>DecisionTreeClassifier(random_state=11)</pre></div></div></div></div></div>"
      ],
      "text/plain": [
       "DecisionTreeClassifier(random_state=11)"
      ]
     },
     "execution_count": 288,
     "metadata": {},
     "output_type": "execute_result"
    }
   ],
   "source": [
    "dt_clf.fit(X_train, y_train)"
   ]
  },
  {
   "cell_type": "code",
   "execution_count": 289,
   "metadata": {},
   "outputs": [
    {
     "data": {
      "text/plain": [
       "array([0, 0, 1, 1, 1, 0, 0, 0, 1, 0, 1, 1, 1, 1, 1, 0, 1, 1, 1, 0, 1, 1,\n",
       "       0, 1, 0, 0], dtype=int64)"
      ]
     },
     "execution_count": 289,
     "metadata": {},
     "output_type": "execute_result"
    }
   ],
   "source": [
    "X_pred = dt_clf.predict(X_test)\n",
    "X_pred"
   ]
  },
  {
   "cell_type": "code",
   "execution_count": 290,
   "metadata": {},
   "outputs": [
    {
     "data": {
      "text/plain": [
       "85     0\n",
       "86     0\n",
       "87     1\n",
       "88     1\n",
       "89     1\n",
       "90     0\n",
       "91     0\n",
       "92     0\n",
       "93     1\n",
       "94     0\n",
       "95     1\n",
       "96     0\n",
       "97     1\n",
       "98     1\n",
       "99     1\n",
       "100    1\n",
       "101    1\n",
       "102    1\n",
       "103    1\n",
       "104    0\n",
       "105    1\n",
       "106    1\n",
       "107    0\n",
       "108    1\n",
       "109    0\n",
       "110    0\n",
       "Name: 소비, dtype: int64"
      ]
     },
     "execution_count": 290,
     "metadata": {},
     "output_type": "execute_result"
    }
   ],
   "source": [
    "y_test"
   ]
  },
  {
   "cell_type": "code",
   "execution_count": 291,
   "metadata": {},
   "outputs": [
    {
     "name": "stdout",
     "output_type": "stream",
     "text": [
      "예측 정확도: 0.9231\n"
     ]
    }
   ],
   "source": [
    "print('예측 정확도: {0:.4f}'.format(accuracy_score(y_test, X_pred)))"
   ]
  },
  {
   "cell_type": "markdown",
   "metadata": {},
   "source": [
    "### XGBClassifier"
   ]
  },
  {
   "cell_type": "code",
   "execution_count": 292,
   "metadata": {},
   "outputs": [
    {
     "name": "stdout",
     "output_type": "stream",
     "text": [
      "[0]\tvalidation_0-auc:0.98160\tvalidation_1-auc:0.96364\n",
      "[1]\tvalidation_0-auc:0.98160\tvalidation_1-auc:0.96364\n",
      "[2]\tvalidation_0-auc:0.99236\tvalidation_1-auc:0.96364\n",
      "[3]\tvalidation_0-auc:0.99583\tvalidation_1-auc:0.95758\n",
      "[4]\tvalidation_0-auc:0.99653\tvalidation_1-auc:0.97576\n",
      "[5]\tvalidation_0-auc:0.99653\tvalidation_1-auc:0.97576\n",
      "[6]\tvalidation_0-auc:0.99653\tvalidation_1-auc:0.97576\n",
      "[7]\tvalidation_0-auc:0.99722\tvalidation_1-auc:0.97273\n",
      "[8]\tvalidation_0-auc:0.99722\tvalidation_1-auc:0.98182\n",
      "[9]\tvalidation_0-auc:0.99792\tvalidation_1-auc:0.98788\n",
      "[10]\tvalidation_0-auc:0.99792\tvalidation_1-auc:0.98788\n",
      "[11]\tvalidation_0-auc:0.99861\tvalidation_1-auc:0.98788\n",
      "[12]\tvalidation_0-auc:0.99861\tvalidation_1-auc:0.98788\n"
     ]
    },
    {
     "name": "stderr",
     "output_type": "stream",
     "text": [
      "c:\\Users\\wndgj\\AppData\\Local\\Programs\\Python\\Python310\\lib\\site-packages\\xgboost\\sklearn.py:793: UserWarning: `eval_metric` in `fit` method is deprecated for better compatibility with scikit-learn, use `eval_metric` in constructor or`set_params` instead.\n",
      "  warnings.warn(\n",
      "c:\\Users\\wndgj\\AppData\\Local\\Programs\\Python\\Python310\\lib\\site-packages\\xgboost\\sklearn.py:793: UserWarning: `early_stopping_rounds` in `fit` method is deprecated for better compatibility with scikit-learn, use `early_stopping_rounds` in constructor or`set_params` instead.\n",
      "  warnings.warn(\n"
     ]
    },
    {
     "name": "stdout",
     "output_type": "stream",
     "text": [
      "[13]\tvalidation_0-auc:0.99931\tvalidation_1-auc:0.98788\n",
      "[14]\tvalidation_0-auc:0.99931\tvalidation_1-auc:0.98788\n",
      "[15]\tvalidation_0-auc:0.99931\tvalidation_1-auc:0.98788\n",
      "[16]\tvalidation_0-auc:0.99931\tvalidation_1-auc:0.98788\n",
      "[17]\tvalidation_0-auc:0.99931\tvalidation_1-auc:0.98788\n",
      "[18]\tvalidation_0-auc:1.00000\tvalidation_1-auc:0.98788\n",
      "[19]\tvalidation_0-auc:1.00000\tvalidation_1-auc:0.98788\n",
      "[20]\tvalidation_0-auc:1.00000\tvalidation_1-auc:0.98788\n",
      "[21]\tvalidation_0-auc:1.00000\tvalidation_1-auc:0.98182\n",
      "[22]\tvalidation_0-auc:1.00000\tvalidation_1-auc:0.98182\n",
      "[23]\tvalidation_0-auc:1.00000\tvalidation_1-auc:0.98182\n",
      "[24]\tvalidation_0-auc:1.00000\tvalidation_1-auc:0.98182\n",
      "[25]\tvalidation_0-auc:1.00000\tvalidation_1-auc:0.98182\n",
      "[26]\tvalidation_0-auc:1.00000\tvalidation_1-auc:0.97576\n",
      "[27]\tvalidation_0-auc:1.00000\tvalidation_1-auc:0.97576\n",
      "[28]\tvalidation_0-auc:1.00000\tvalidation_1-auc:0.96970\n",
      "[29]\tvalidation_0-auc:1.00000\tvalidation_1-auc:0.96970\n",
      "[30]\tvalidation_0-auc:1.00000\tvalidation_1-auc:0.96970\n",
      "[31]\tvalidation_0-auc:1.00000\tvalidation_1-auc:0.96970\n",
      "[32]\tvalidation_0-auc:1.00000\tvalidation_1-auc:0.96970\n",
      "[33]\tvalidation_0-auc:1.00000\tvalidation_1-auc:0.96970\n",
      "[34]\tvalidation_0-auc:1.00000\tvalidation_1-auc:0.96970\n",
      "[35]\tvalidation_0-auc:1.00000\tvalidation_1-auc:0.96970\n",
      "[36]\tvalidation_0-auc:1.00000\tvalidation_1-auc:0.96970\n",
      "[37]\tvalidation_0-auc:1.00000\tvalidation_1-auc:0.96970\n",
      "[38]\tvalidation_0-auc:1.00000\tvalidation_1-auc:0.96970\n",
      "[39]\tvalidation_0-auc:1.00000\tvalidation_1-auc:0.96970\n",
      "[40]\tvalidation_0-auc:1.00000\tvalidation_1-auc:0.96970\n",
      "[41]\tvalidation_0-auc:1.00000\tvalidation_1-auc:0.96970\n",
      "[42]\tvalidation_0-auc:1.00000\tvalidation_1-auc:0.96970\n",
      "[43]\tvalidation_0-auc:1.00000\tvalidation_1-auc:0.96970\n",
      "[44]\tvalidation_0-auc:1.00000\tvalidation_1-auc:0.96970\n",
      "[45]\tvalidation_0-auc:1.00000\tvalidation_1-auc:0.96970\n",
      "[46]\tvalidation_0-auc:1.00000\tvalidation_1-auc:0.96970\n",
      "[47]\tvalidation_0-auc:1.00000\tvalidation_1-auc:0.96970\n",
      "[48]\tvalidation_0-auc:1.00000\tvalidation_1-auc:0.96970\n",
      "[49]\tvalidation_0-auc:1.00000\tvalidation_1-auc:0.96970\n",
      "[50]\tvalidation_0-auc:1.00000\tvalidation_1-auc:0.96970\n",
      "[51]\tvalidation_0-auc:1.00000\tvalidation_1-auc:0.96970\n",
      "[52]\tvalidation_0-auc:1.00000\tvalidation_1-auc:0.96970\n",
      "[53]\tvalidation_0-auc:1.00000\tvalidation_1-auc:0.96970\n",
      "[54]\tvalidation_0-auc:1.00000\tvalidation_1-auc:0.96970\n",
      "[55]\tvalidation_0-auc:1.00000\tvalidation_1-auc:0.96970\n",
      "[56]\tvalidation_0-auc:1.00000\tvalidation_1-auc:0.96970\n",
      "[57]\tvalidation_0-auc:1.00000\tvalidation_1-auc:0.96970\n",
      "[58]\tvalidation_0-auc:1.00000\tvalidation_1-auc:0.96970\n",
      "ROC AUC: 0.9879\n"
     ]
    }
   ],
   "source": [
    "from xgboost import XGBClassifier\n",
    "from sklearn.metrics import roc_auc_score\n",
    "\n",
    "xgb_clf = XGBClassifier(n_estimators=100, random_state=11)\n",
    "\n",
    "xgb_clf.fit(X_train, y_train, early_stopping_rounds=50, eval_metric=\"auc\", eval_set=[(X_train, y_train), (X_test, y_test)])\n",
    "\n",
    "xgb_roc_score = roc_auc_score(y_test, xgb_clf.predict_proba(X_test)[:, 1], average='macro')\n",
    "print('ROC AUC: {0:.4f}'.format(xgb_roc_score))"
   ]
  },
  {
   "cell_type": "markdown",
   "metadata": {},
   "source": [
    "### GridSearchCV"
   ]
  },
  {
   "cell_type": "code",
   "execution_count": 293,
   "metadata": {},
   "outputs": [
    {
     "name": "stdout",
     "output_type": "stream",
     "text": [
      "[0]\tvalidation_0-auc:0.83194\tvalidation_1-auc:0.84848\n"
     ]
    },
    {
     "name": "stderr",
     "output_type": "stream",
     "text": [
      "c:\\Users\\wndgj\\AppData\\Local\\Programs\\Python\\Python310\\lib\\site-packages\\xgboost\\sklearn.py:793: UserWarning: `eval_metric` in `fit` method is deprecated for better compatibility with scikit-learn, use `eval_metric` in constructor or`set_params` instead.\n",
      "  warnings.warn(\n",
      "c:\\Users\\wndgj\\AppData\\Local\\Programs\\Python\\Python310\\lib\\site-packages\\xgboost\\sklearn.py:793: UserWarning: `early_stopping_rounds` in `fit` method is deprecated for better compatibility with scikit-learn, use `early_stopping_rounds` in constructor or`set_params` instead.\n",
      "  warnings.warn(\n"
     ]
    },
    {
     "name": "stdout",
     "output_type": "stream",
     "text": [
      "[1]\tvalidation_0-auc:0.83194\tvalidation_1-auc:0.84848\n",
      "[2]\tvalidation_0-auc:0.88715\tvalidation_1-auc:0.90909\n",
      "[3]\tvalidation_0-auc:0.95764\tvalidation_1-auc:0.95455\n",
      "[4]\tvalidation_0-auc:0.96528\tvalidation_1-auc:0.94848\n",
      "[5]\tvalidation_0-auc:0.96736\tvalidation_1-auc:0.94848\n",
      "[6]\tvalidation_0-auc:0.95799\tvalidation_1-auc:0.94848\n",
      "[7]\tvalidation_0-auc:0.97396\tvalidation_1-auc:0.95455\n",
      "[8]\tvalidation_0-auc:0.97951\tvalidation_1-auc:0.95152\n",
      "[9]\tvalidation_0-auc:0.98646\tvalidation_1-auc:0.96970\n",
      "[10]\tvalidation_0-auc:0.98854\tvalidation_1-auc:0.98182\n",
      "[11]\tvalidation_0-auc:0.98715\tvalidation_1-auc:0.97576\n",
      "[12]\tvalidation_0-auc:0.98924\tvalidation_1-auc:0.98788\n",
      "[13]\tvalidation_0-auc:0.98924\tvalidation_1-auc:0.98182\n",
      "[14]\tvalidation_0-auc:0.98924\tvalidation_1-auc:0.97576\n",
      "[15]\tvalidation_0-auc:0.98924\tvalidation_1-auc:0.98182\n",
      "[16]\tvalidation_0-auc:0.98924\tvalidation_1-auc:0.98182\n",
      "[17]\tvalidation_0-auc:0.98924\tvalidation_1-auc:0.98182\n",
      "[18]\tvalidation_0-auc:0.98924\tvalidation_1-auc:0.98182\n",
      "[19]\tvalidation_0-auc:0.98924\tvalidation_1-auc:0.98182\n",
      "[20]\tvalidation_0-auc:0.99062\tvalidation_1-auc:0.98182\n",
      "[21]\tvalidation_0-auc:0.99062\tvalidation_1-auc:0.98182\n",
      "[22]\tvalidation_0-auc:0.99062\tvalidation_1-auc:0.98182\n",
      "[23]\tvalidation_0-auc:0.99132\tvalidation_1-auc:0.98182\n",
      "[24]\tvalidation_0-auc:0.99132\tvalidation_1-auc:0.98182\n",
      "[25]\tvalidation_0-auc:0.99062\tvalidation_1-auc:0.98182\n",
      "[26]\tvalidation_0-auc:0.99062\tvalidation_1-auc:0.98182\n",
      "[27]\tvalidation_0-auc:0.98993\tvalidation_1-auc:0.98182\n",
      "[28]\tvalidation_0-auc:0.98993\tvalidation_1-auc:0.98182\n",
      "[29]\tvalidation_0-auc:0.98993\tvalidation_1-auc:0.98182\n",
      "[30]\tvalidation_0-auc:0.98993\tvalidation_1-auc:0.98182\n",
      "[31]\tvalidation_0-auc:0.98993\tvalidation_1-auc:0.98182\n",
      "[32]\tvalidation_0-auc:0.98993\tvalidation_1-auc:0.98182\n",
      "[33]\tvalidation_0-auc:0.98993\tvalidation_1-auc:0.98182\n",
      "[34]\tvalidation_0-auc:0.98993\tvalidation_1-auc:0.98182\n",
      "[35]\tvalidation_0-auc:0.99062\tvalidation_1-auc:0.98182\n",
      "[36]\tvalidation_0-auc:0.99062\tvalidation_1-auc:0.98182\n",
      "[37]\tvalidation_0-auc:0.99062\tvalidation_1-auc:0.98182\n",
      "[38]\tvalidation_0-auc:0.99062\tvalidation_1-auc:0.98182\n",
      "[39]\tvalidation_0-auc:0.99062\tvalidation_1-auc:0.98182\n",
      "[40]\tvalidation_0-auc:0.99062\tvalidation_1-auc:0.98182\n",
      "[41]\tvalidation_0-auc:0.99062\tvalidation_1-auc:0.98182\n",
      "[0]\tvalidation_0-auc:0.83437\tvalidation_1-auc:0.83333\n",
      "[1]\tvalidation_0-auc:0.85417\tvalidation_1-auc:0.83939\n",
      "[2]\tvalidation_0-auc:0.86389\tvalidation_1-auc:0.87273\n",
      "[3]\tvalidation_0-auc:0.96354\tvalidation_1-auc:0.93939\n",
      "[4]\tvalidation_0-auc:0.96424\tvalidation_1-auc:0.93333\n",
      "[5]\tvalidation_0-auc:0.95451\tvalidation_1-auc:0.93333\n",
      "[6]\tvalidation_0-auc:0.96007\tvalidation_1-auc:0.92727\n",
      "[7]\tvalidation_0-auc:0.97674\tvalidation_1-auc:0.93333\n",
      "[8]\tvalidation_0-auc:0.97708\tvalidation_1-auc:0.93939\n"
     ]
    },
    {
     "name": "stderr",
     "output_type": "stream",
     "text": [
      "c:\\Users\\wndgj\\AppData\\Local\\Programs\\Python\\Python310\\lib\\site-packages\\xgboost\\sklearn.py:793: UserWarning: `eval_metric` in `fit` method is deprecated for better compatibility with scikit-learn, use `eval_metric` in constructor or`set_params` instead.\n",
      "  warnings.warn(\n",
      "c:\\Users\\wndgj\\AppData\\Local\\Programs\\Python\\Python310\\lib\\site-packages\\xgboost\\sklearn.py:793: UserWarning: `early_stopping_rounds` in `fit` method is deprecated for better compatibility with scikit-learn, use `early_stopping_rounds` in constructor or`set_params` instead.\n",
      "  warnings.warn(\n"
     ]
    },
    {
     "name": "stdout",
     "output_type": "stream",
     "text": [
      "[9]\tvalidation_0-auc:0.99028\tvalidation_1-auc:0.96970\n",
      "[10]\tvalidation_0-auc:0.99167\tvalidation_1-auc:0.96970\n",
      "[11]\tvalidation_0-auc:0.99236\tvalidation_1-auc:0.96364\n",
      "[12]\tvalidation_0-auc:0.99236\tvalidation_1-auc:0.96970\n",
      "[13]\tvalidation_0-auc:0.99306\tvalidation_1-auc:0.98182\n",
      "[14]\tvalidation_0-auc:0.99375\tvalidation_1-auc:0.96364\n",
      "[15]\tvalidation_0-auc:0.99444\tvalidation_1-auc:0.96364\n",
      "[16]\tvalidation_0-auc:0.99514\tvalidation_1-auc:0.96364\n",
      "[17]\tvalidation_0-auc:0.99375\tvalidation_1-auc:0.95152\n",
      "[18]\tvalidation_0-auc:0.99444\tvalidation_1-auc:0.96364\n",
      "[19]\tvalidation_0-auc:0.99653\tvalidation_1-auc:0.96364\n",
      "[20]\tvalidation_0-auc:0.99653\tvalidation_1-auc:0.97576\n",
      "[21]\tvalidation_0-auc:0.99653\tvalidation_1-auc:0.97576\n",
      "[22]\tvalidation_0-auc:0.99722\tvalidation_1-auc:0.97576\n",
      "[23]\tvalidation_0-auc:0.99722\tvalidation_1-auc:0.97576\n",
      "[24]\tvalidation_0-auc:0.99722\tvalidation_1-auc:0.97576\n",
      "[25]\tvalidation_0-auc:0.99653\tvalidation_1-auc:0.97576\n",
      "[26]\tvalidation_0-auc:0.99653\tvalidation_1-auc:0.97576\n",
      "[27]\tvalidation_0-auc:0.99653\tvalidation_1-auc:0.97576\n",
      "[28]\tvalidation_0-auc:0.99653\tvalidation_1-auc:0.96970\n",
      "[29]\tvalidation_0-auc:0.99722\tvalidation_1-auc:0.97576\n",
      "[30]\tvalidation_0-auc:0.99931\tvalidation_1-auc:0.97576\n",
      "[31]\tvalidation_0-auc:0.99931\tvalidation_1-auc:0.97576\n",
      "[32]\tvalidation_0-auc:0.99931\tvalidation_1-auc:0.96970\n",
      "[33]\tvalidation_0-auc:1.00000\tvalidation_1-auc:0.95758\n",
      "[34]\tvalidation_0-auc:1.00000\tvalidation_1-auc:0.95758\n",
      "[35]\tvalidation_0-auc:1.00000\tvalidation_1-auc:0.95152\n",
      "[36]\tvalidation_0-auc:1.00000\tvalidation_1-auc:0.95152\n",
      "[37]\tvalidation_0-auc:1.00000\tvalidation_1-auc:0.95152\n",
      "[38]\tvalidation_0-auc:1.00000\tvalidation_1-auc:0.95152\n",
      "[39]\tvalidation_0-auc:1.00000\tvalidation_1-auc:0.95152\n",
      "[40]\tvalidation_0-auc:1.00000\tvalidation_1-auc:0.95152\n",
      "[41]\tvalidation_0-auc:1.00000\tvalidation_1-auc:0.95152\n",
      "[42]\tvalidation_0-auc:1.00000\tvalidation_1-auc:0.95152\n",
      "[0]\tvalidation_0-auc:0.83472\tvalidation_1-auc:0.88788\n",
      "[1]\tvalidation_0-auc:0.84132\tvalidation_1-auc:0.84242\n",
      "[2]\tvalidation_0-auc:0.83368\tvalidation_1-auc:0.78182\n",
      "[3]\tvalidation_0-auc:0.93889\tvalidation_1-auc:0.96667\n",
      "[4]\tvalidation_0-auc:0.93403\tvalidation_1-auc:0.96061\n",
      "[5]\tvalidation_0-auc:0.92917\tvalidation_1-auc:0.96061\n",
      "[6]\tvalidation_0-auc:0.92708\tvalidation_1-auc:0.96061\n",
      "[7]\tvalidation_0-auc:0.94514\tvalidation_1-auc:0.99091\n",
      "[8]\tvalidation_0-auc:0.95382\tvalidation_1-auc:0.97273\n",
      "[9]\tvalidation_0-auc:0.96076\tvalidation_1-auc:0.98182\n"
     ]
    },
    {
     "name": "stderr",
     "output_type": "stream",
     "text": [
      "c:\\Users\\wndgj\\AppData\\Local\\Programs\\Python\\Python310\\lib\\site-packages\\xgboost\\sklearn.py:793: UserWarning: `eval_metric` in `fit` method is deprecated for better compatibility with scikit-learn, use `eval_metric` in constructor or`set_params` instead.\n",
      "  warnings.warn(\n",
      "c:\\Users\\wndgj\\AppData\\Local\\Programs\\Python\\Python310\\lib\\site-packages\\xgboost\\sklearn.py:793: UserWarning: `early_stopping_rounds` in `fit` method is deprecated for better compatibility with scikit-learn, use `early_stopping_rounds` in constructor or`set_params` instead.\n",
      "  warnings.warn(\n"
     ]
    },
    {
     "name": "stdout",
     "output_type": "stream",
     "text": [
      "[10]\tvalidation_0-auc:0.96111\tvalidation_1-auc:0.98788\n",
      "[11]\tvalidation_0-auc:0.95903\tvalidation_1-auc:0.98182\n",
      "[12]\tvalidation_0-auc:0.96528\tvalidation_1-auc:0.98182\n",
      "[13]\tvalidation_0-auc:0.96389\tvalidation_1-auc:0.97576\n",
      "[14]\tvalidation_0-auc:0.96389\tvalidation_1-auc:0.97576\n",
      "[15]\tvalidation_0-auc:0.96736\tvalidation_1-auc:0.96970\n",
      "[16]\tvalidation_0-auc:0.96875\tvalidation_1-auc:0.96970\n",
      "[17]\tvalidation_0-auc:0.96875\tvalidation_1-auc:0.96970\n",
      "[18]\tvalidation_0-auc:0.96736\tvalidation_1-auc:0.96364\n",
      "[19]\tvalidation_0-auc:0.97500\tvalidation_1-auc:0.96970\n",
      "[20]\tvalidation_0-auc:0.97778\tvalidation_1-auc:0.96970\n",
      "[21]\tvalidation_0-auc:0.97639\tvalidation_1-auc:0.96970\n",
      "[22]\tvalidation_0-auc:0.97639\tvalidation_1-auc:0.96970\n",
      "[23]\tvalidation_0-auc:0.97569\tvalidation_1-auc:0.96364\n",
      "[24]\tvalidation_0-auc:0.97708\tvalidation_1-auc:0.96364\n",
      "[25]\tvalidation_0-auc:0.97569\tvalidation_1-auc:0.96364\n",
      "[26]\tvalidation_0-auc:0.97708\tvalidation_1-auc:0.96364\n",
      "[27]\tvalidation_0-auc:0.97847\tvalidation_1-auc:0.96364\n",
      "[28]\tvalidation_0-auc:0.97917\tvalidation_1-auc:0.96970\n",
      "[29]\tvalidation_0-auc:0.97778\tvalidation_1-auc:0.96364\n",
      "[30]\tvalidation_0-auc:0.97778\tvalidation_1-auc:0.96364\n",
      "[31]\tvalidation_0-auc:0.97708\tvalidation_1-auc:0.96364\n",
      "[32]\tvalidation_0-auc:0.97708\tvalidation_1-auc:0.96364\n",
      "[33]\tvalidation_0-auc:0.97708\tvalidation_1-auc:0.96364\n",
      "[34]\tvalidation_0-auc:0.97708\tvalidation_1-auc:0.96364\n",
      "[35]\tvalidation_0-auc:0.97639\tvalidation_1-auc:0.96364\n",
      "[36]\tvalidation_0-auc:0.97778\tvalidation_1-auc:0.96364\n",
      "[37]\tvalidation_0-auc:0.97639\tvalidation_1-auc:0.96364\n",
      "[0]\tvalidation_0-auc:0.79167\tvalidation_1-auc:0.82424\n",
      "[1]\tvalidation_0-auc:0.79167\tvalidation_1-auc:0.82424\n",
      "[2]\tvalidation_0-auc:0.80590\tvalidation_1-auc:0.83333\n",
      "[3]\tvalidation_0-auc:0.94479\tvalidation_1-auc:0.94242\n",
      "[4]\tvalidation_0-auc:0.94618\tvalidation_1-auc:0.94242\n",
      "[5]\tvalidation_0-auc:0.94618\tvalidation_1-auc:0.94242\n",
      "[6]\tvalidation_0-auc:0.95451\tvalidation_1-auc:0.94242\n",
      "[7]\tvalidation_0-auc:0.96146\tvalidation_1-auc:0.94848\n",
      "[8]\tvalidation_0-auc:0.96215\tvalidation_1-auc:0.94545\n",
      "[9]\tvalidation_0-auc:0.96979\tvalidation_1-auc:0.94545\n",
      "[10]\tvalidation_0-auc:0.96528\tvalidation_1-auc:0.95455\n",
      "[11]\tvalidation_0-auc:0.97361\tvalidation_1-auc:0.95758\n"
     ]
    },
    {
     "name": "stderr",
     "output_type": "stream",
     "text": [
      "c:\\Users\\wndgj\\AppData\\Local\\Programs\\Python\\Python310\\lib\\site-packages\\xgboost\\sklearn.py:793: UserWarning: `eval_metric` in `fit` method is deprecated for better compatibility with scikit-learn, use `eval_metric` in constructor or`set_params` instead.\n",
      "  warnings.warn(\n",
      "c:\\Users\\wndgj\\AppData\\Local\\Programs\\Python\\Python310\\lib\\site-packages\\xgboost\\sklearn.py:793: UserWarning: `early_stopping_rounds` in `fit` method is deprecated for better compatibility with scikit-learn, use `early_stopping_rounds` in constructor or`set_params` instead.\n",
      "  warnings.warn(\n"
     ]
    },
    {
     "name": "stdout",
     "output_type": "stream",
     "text": [
      "[12]\tvalidation_0-auc:0.97569\tvalidation_1-auc:0.96364\n",
      "[13]\tvalidation_0-auc:0.97639\tvalidation_1-auc:0.95758\n",
      "[14]\tvalidation_0-auc:0.97569\tvalidation_1-auc:0.95758\n",
      "[15]\tvalidation_0-auc:0.97500\tvalidation_1-auc:0.95758\n",
      "[16]\tvalidation_0-auc:0.97569\tvalidation_1-auc:0.95758\n",
      "[17]\tvalidation_0-auc:0.97500\tvalidation_1-auc:0.95758\n",
      "[18]\tvalidation_0-auc:0.97604\tvalidation_1-auc:0.96970\n",
      "[19]\tvalidation_0-auc:0.97917\tvalidation_1-auc:0.96970\n",
      "[20]\tvalidation_0-auc:0.98056\tvalidation_1-auc:0.96364\n",
      "[21]\tvalidation_0-auc:0.97986\tvalidation_1-auc:0.95758\n",
      "[22]\tvalidation_0-auc:0.97986\tvalidation_1-auc:0.95758\n",
      "[23]\tvalidation_0-auc:0.98194\tvalidation_1-auc:0.95758\n",
      "[24]\tvalidation_0-auc:0.98264\tvalidation_1-auc:0.95758\n",
      "[25]\tvalidation_0-auc:0.98264\tvalidation_1-auc:0.95758\n",
      "[26]\tvalidation_0-auc:0.98194\tvalidation_1-auc:0.95758\n",
      "[27]\tvalidation_0-auc:0.98403\tvalidation_1-auc:0.95758\n",
      "[28]\tvalidation_0-auc:0.98611\tvalidation_1-auc:0.96364\n",
      "[29]\tvalidation_0-auc:0.98403\tvalidation_1-auc:0.95758\n",
      "[30]\tvalidation_0-auc:0.98681\tvalidation_1-auc:0.95758\n",
      "[31]\tvalidation_0-auc:0.98472\tvalidation_1-auc:0.95758\n",
      "[32]\tvalidation_0-auc:0.98681\tvalidation_1-auc:0.95758\n",
      "[33]\tvalidation_0-auc:0.98542\tvalidation_1-auc:0.95758\n",
      "[34]\tvalidation_0-auc:0.98611\tvalidation_1-auc:0.95758\n",
      "[35]\tvalidation_0-auc:0.98681\tvalidation_1-auc:0.96364\n",
      "[36]\tvalidation_0-auc:0.98611\tvalidation_1-auc:0.95758\n",
      "[37]\tvalidation_0-auc:0.98542\tvalidation_1-auc:0.95758\n",
      "[38]\tvalidation_0-auc:0.98681\tvalidation_1-auc:0.95758\n",
      "[39]\tvalidation_0-auc:0.98750\tvalidation_1-auc:0.95758\n",
      "[40]\tvalidation_0-auc:0.98819\tvalidation_1-auc:0.95758\n",
      "[41]\tvalidation_0-auc:0.98819\tvalidation_1-auc:0.95758\n",
      "[42]\tvalidation_0-auc:0.98750\tvalidation_1-auc:0.95152\n",
      "[43]\tvalidation_0-auc:0.98681\tvalidation_1-auc:0.95152\n",
      "[44]\tvalidation_0-auc:0.98542\tvalidation_1-auc:0.95758\n",
      "[45]\tvalidation_0-auc:0.98542\tvalidation_1-auc:0.95758\n",
      "[46]\tvalidation_0-auc:0.98611\tvalidation_1-auc:0.95758\n",
      "[47]\tvalidation_0-auc:0.98681\tvalidation_1-auc:0.95758\n",
      "[48]\tvalidation_0-auc:0.98750\tvalidation_1-auc:0.95758\n",
      "[0]\tvalidation_0-auc:0.80729\tvalidation_1-auc:0.82121\n",
      "[1]\tvalidation_0-auc:0.80729\tvalidation_1-auc:0.82121\n",
      "[2]\tvalidation_0-auc:0.84375\tvalidation_1-auc:0.85152\n",
      "[3]\tvalidation_0-auc:0.93576\tvalidation_1-auc:0.93030\n",
      "[4]\tvalidation_0-auc:0.93542\tvalidation_1-auc:0.93030\n",
      "[5]\tvalidation_0-auc:0.93542\tvalidation_1-auc:0.93030\n",
      "[6]\tvalidation_0-auc:0.94410\tvalidation_1-auc:0.96364\n",
      "[7]\tvalidation_0-auc:0.96701\tvalidation_1-auc:0.98182\n",
      "[8]\tvalidation_0-auc:0.96007\tvalidation_1-auc:0.94242\n",
      "[9]\tvalidation_0-auc:0.96910\tvalidation_1-auc:0.94848\n",
      "[10]\tvalidation_0-auc:0.96701\tvalidation_1-auc:0.94848\n",
      "[11]\tvalidation_0-auc:0.97569\tvalidation_1-auc:0.96970\n",
      "[12]\tvalidation_0-auc:0.97708\tvalidation_1-auc:0.97576\n",
      "[13]\tvalidation_0-auc:0.97500\tvalidation_1-auc:0.97576\n"
     ]
    },
    {
     "name": "stderr",
     "output_type": "stream",
     "text": [
      "c:\\Users\\wndgj\\AppData\\Local\\Programs\\Python\\Python310\\lib\\site-packages\\xgboost\\sklearn.py:793: UserWarning: `eval_metric` in `fit` method is deprecated for better compatibility with scikit-learn, use `eval_metric` in constructor or`set_params` instead.\n",
      "  warnings.warn(\n",
      "c:\\Users\\wndgj\\AppData\\Local\\Programs\\Python\\Python310\\lib\\site-packages\\xgboost\\sklearn.py:793: UserWarning: `early_stopping_rounds` in `fit` method is deprecated for better compatibility with scikit-learn, use `early_stopping_rounds` in constructor or`set_params` instead.\n",
      "  warnings.warn(\n"
     ]
    },
    {
     "name": "stdout",
     "output_type": "stream",
     "text": [
      "[14]\tvalidation_0-auc:0.97292\tvalidation_1-auc:0.96970\n",
      "[15]\tvalidation_0-auc:0.97014\tvalidation_1-auc:0.96364\n",
      "[16]\tvalidation_0-auc:0.97465\tvalidation_1-auc:0.96364\n",
      "[17]\tvalidation_0-auc:0.97396\tvalidation_1-auc:0.96364\n",
      "[18]\tvalidation_0-auc:0.97500\tvalidation_1-auc:0.96364\n",
      "[19]\tvalidation_0-auc:0.97708\tvalidation_1-auc:0.96364\n",
      "[20]\tvalidation_0-auc:0.97708\tvalidation_1-auc:0.96364\n",
      "[21]\tvalidation_0-auc:0.97500\tvalidation_1-auc:0.96364\n",
      "[22]\tvalidation_0-auc:0.97500\tvalidation_1-auc:0.96364\n",
      "[23]\tvalidation_0-auc:0.97569\tvalidation_1-auc:0.96364\n",
      "[24]\tvalidation_0-auc:0.97917\tvalidation_1-auc:0.96364\n",
      "[25]\tvalidation_0-auc:0.97778\tvalidation_1-auc:0.96364\n",
      "[26]\tvalidation_0-auc:0.98056\tvalidation_1-auc:0.96364\n",
      "[27]\tvalidation_0-auc:0.98194\tvalidation_1-auc:0.96364\n",
      "[28]\tvalidation_0-auc:0.98264\tvalidation_1-auc:0.96364\n",
      "[29]\tvalidation_0-auc:0.98056\tvalidation_1-auc:0.96364\n",
      "[30]\tvalidation_0-auc:0.98125\tvalidation_1-auc:0.96364\n",
      "[31]\tvalidation_0-auc:0.98125\tvalidation_1-auc:0.96364\n",
      "[32]\tvalidation_0-auc:0.98021\tvalidation_1-auc:0.96364\n",
      "[33]\tvalidation_0-auc:0.98021\tvalidation_1-auc:0.96364\n",
      "[34]\tvalidation_0-auc:0.98021\tvalidation_1-auc:0.96364\n",
      "[35]\tvalidation_0-auc:0.98021\tvalidation_1-auc:0.96364\n",
      "[36]\tvalidation_0-auc:0.98021\tvalidation_1-auc:0.96364\n",
      "[37]\tvalidation_0-auc:0.98021\tvalidation_1-auc:0.96364\n",
      "[0]\tvalidation_0-auc:0.80104\tvalidation_1-auc:0.83333\n",
      "[1]\tvalidation_0-auc:0.80764\tvalidation_1-auc:0.85455\n",
      "[2]\tvalidation_0-auc:0.80139\tvalidation_1-auc:0.85152\n",
      "[3]\tvalidation_0-auc:0.90590\tvalidation_1-auc:0.95455\n",
      "[4]\tvalidation_0-auc:0.90590\tvalidation_1-auc:0.95455\n",
      "[5]\tvalidation_0-auc:0.91007\tvalidation_1-auc:0.95455\n",
      "[6]\tvalidation_0-auc:0.90347\tvalidation_1-auc:0.94545\n",
      "[7]\tvalidation_0-auc:0.93472\tvalidation_1-auc:0.98788\n",
      "[8]\tvalidation_0-auc:0.92639\tvalidation_1-auc:0.97576\n",
      "[9]\tvalidation_0-auc:0.93403\tvalidation_1-auc:0.97576\n",
      "[10]\tvalidation_0-auc:0.93229\tvalidation_1-auc:0.96364\n",
      "[11]\tvalidation_0-auc:0.92812\tvalidation_1-auc:0.96364\n",
      "[12]\tvalidation_0-auc:0.92535\tvalidation_1-auc:0.96364\n",
      "[13]\tvalidation_0-auc:0.92188\tvalidation_1-auc:0.95152\n"
     ]
    },
    {
     "name": "stderr",
     "output_type": "stream",
     "text": [
      "c:\\Users\\wndgj\\AppData\\Local\\Programs\\Python\\Python310\\lib\\site-packages\\xgboost\\sklearn.py:793: UserWarning: `eval_metric` in `fit` method is deprecated for better compatibility with scikit-learn, use `eval_metric` in constructor or`set_params` instead.\n",
      "  warnings.warn(\n",
      "c:\\Users\\wndgj\\AppData\\Local\\Programs\\Python\\Python310\\lib\\site-packages\\xgboost\\sklearn.py:793: UserWarning: `early_stopping_rounds` in `fit` method is deprecated for better compatibility with scikit-learn, use `early_stopping_rounds` in constructor or`set_params` instead.\n",
      "  warnings.warn(\n"
     ]
    },
    {
     "name": "stdout",
     "output_type": "stream",
     "text": [
      "[14]\tvalidation_0-auc:0.91910\tvalidation_1-auc:0.93939\n",
      "[15]\tvalidation_0-auc:0.91910\tvalidation_1-auc:0.93939\n",
      "[16]\tvalidation_0-auc:0.92118\tvalidation_1-auc:0.93939\n",
      "[17]\tvalidation_0-auc:0.92118\tvalidation_1-auc:0.93939\n",
      "[18]\tvalidation_0-auc:0.92049\tvalidation_1-auc:0.93939\n",
      "[19]\tvalidation_0-auc:0.92257\tvalidation_1-auc:0.93939\n",
      "[20]\tvalidation_0-auc:0.92326\tvalidation_1-auc:0.93939\n",
      "[21]\tvalidation_0-auc:0.92188\tvalidation_1-auc:0.93939\n",
      "[22]\tvalidation_0-auc:0.92188\tvalidation_1-auc:0.93939\n",
      "[23]\tvalidation_0-auc:0.92188\tvalidation_1-auc:0.93939\n",
      "[24]\tvalidation_0-auc:0.92326\tvalidation_1-auc:0.93939\n",
      "[25]\tvalidation_0-auc:0.92326\tvalidation_1-auc:0.93939\n",
      "[26]\tvalidation_0-auc:0.92326\tvalidation_1-auc:0.93333\n",
      "[27]\tvalidation_0-auc:0.92326\tvalidation_1-auc:0.93333\n",
      "[28]\tvalidation_0-auc:0.92326\tvalidation_1-auc:0.93333\n",
      "[29]\tvalidation_0-auc:0.92326\tvalidation_1-auc:0.93333\n",
      "[30]\tvalidation_0-auc:0.92326\tvalidation_1-auc:0.93333\n",
      "[31]\tvalidation_0-auc:0.92326\tvalidation_1-auc:0.93333\n",
      "[32]\tvalidation_0-auc:0.92396\tvalidation_1-auc:0.93333\n",
      "[33]\tvalidation_0-auc:0.92396\tvalidation_1-auc:0.93333\n",
      "[34]\tvalidation_0-auc:0.92396\tvalidation_1-auc:0.93333\n",
      "[35]\tvalidation_0-auc:0.92396\tvalidation_1-auc:0.93333\n",
      "[36]\tvalidation_0-auc:0.92396\tvalidation_1-auc:0.93333\n",
      "[37]\tvalidation_0-auc:0.92396\tvalidation_1-auc:0.93333\n",
      "[0]\tvalidation_0-auc:0.83194\tvalidation_1-auc:0.84848\n",
      "[1]\tvalidation_0-auc:0.83194\tvalidation_1-auc:0.84848\n",
      "[2]\tvalidation_0-auc:0.88715\tvalidation_1-auc:0.90909\n",
      "[3]\tvalidation_0-auc:0.95764\tvalidation_1-auc:0.95455\n",
      "[4]\tvalidation_0-auc:0.96528\tvalidation_1-auc:0.94848\n",
      "[5]\tvalidation_0-auc:0.96736\tvalidation_1-auc:0.94848\n",
      "[6]\tvalidation_0-auc:0.95799\tvalidation_1-auc:0.94848\n",
      "[7]\tvalidation_0-auc:0.97396\tvalidation_1-auc:0.95455\n",
      "[8]\tvalidation_0-auc:0.97951\tvalidation_1-auc:0.95152\n"
     ]
    },
    {
     "name": "stderr",
     "output_type": "stream",
     "text": [
      "c:\\Users\\wndgj\\AppData\\Local\\Programs\\Python\\Python310\\lib\\site-packages\\xgboost\\sklearn.py:793: UserWarning: `eval_metric` in `fit` method is deprecated for better compatibility with scikit-learn, use `eval_metric` in constructor or`set_params` instead.\n",
      "  warnings.warn(\n",
      "c:\\Users\\wndgj\\AppData\\Local\\Programs\\Python\\Python310\\lib\\site-packages\\xgboost\\sklearn.py:793: UserWarning: `early_stopping_rounds` in `fit` method is deprecated for better compatibility with scikit-learn, use `early_stopping_rounds` in constructor or`set_params` instead.\n",
      "  warnings.warn(\n"
     ]
    },
    {
     "name": "stdout",
     "output_type": "stream",
     "text": [
      "[9]\tvalidation_0-auc:0.98646\tvalidation_1-auc:0.96970\n",
      "[10]\tvalidation_0-auc:0.98854\tvalidation_1-auc:0.98182\n",
      "[11]\tvalidation_0-auc:0.98715\tvalidation_1-auc:0.97576\n",
      "[12]\tvalidation_0-auc:0.98924\tvalidation_1-auc:0.98788\n",
      "[13]\tvalidation_0-auc:0.98924\tvalidation_1-auc:0.98182\n",
      "[14]\tvalidation_0-auc:0.98924\tvalidation_1-auc:0.97576\n",
      "[15]\tvalidation_0-auc:0.98924\tvalidation_1-auc:0.98182\n",
      "[16]\tvalidation_0-auc:0.98924\tvalidation_1-auc:0.98182\n",
      "[17]\tvalidation_0-auc:0.98924\tvalidation_1-auc:0.98182\n",
      "[18]\tvalidation_0-auc:0.98924\tvalidation_1-auc:0.98182\n",
      "[19]\tvalidation_0-auc:0.98924\tvalidation_1-auc:0.98182\n",
      "[20]\tvalidation_0-auc:0.99062\tvalidation_1-auc:0.98182\n",
      "[21]\tvalidation_0-auc:0.99062\tvalidation_1-auc:0.98182\n",
      "[22]\tvalidation_0-auc:0.99062\tvalidation_1-auc:0.98182\n",
      "[23]\tvalidation_0-auc:0.99132\tvalidation_1-auc:0.98182\n",
      "[24]\tvalidation_0-auc:0.99132\tvalidation_1-auc:0.98182\n",
      "[25]\tvalidation_0-auc:0.99062\tvalidation_1-auc:0.98182\n",
      "[26]\tvalidation_0-auc:0.99062\tvalidation_1-auc:0.98182\n",
      "[27]\tvalidation_0-auc:0.98993\tvalidation_1-auc:0.98182\n",
      "[28]\tvalidation_0-auc:0.98993\tvalidation_1-auc:0.98182\n",
      "[29]\tvalidation_0-auc:0.98993\tvalidation_1-auc:0.98182\n",
      "[30]\tvalidation_0-auc:0.98993\tvalidation_1-auc:0.98182\n",
      "[31]\tvalidation_0-auc:0.98993\tvalidation_1-auc:0.98182\n",
      "[32]\tvalidation_0-auc:0.98993\tvalidation_1-auc:0.98182\n",
      "[33]\tvalidation_0-auc:0.98993\tvalidation_1-auc:0.98182\n",
      "[34]\tvalidation_0-auc:0.98993\tvalidation_1-auc:0.98182\n",
      "[35]\tvalidation_0-auc:0.99062\tvalidation_1-auc:0.98182\n",
      "[36]\tvalidation_0-auc:0.99062\tvalidation_1-auc:0.98182\n",
      "[37]\tvalidation_0-auc:0.99062\tvalidation_1-auc:0.98182\n",
      "[38]\tvalidation_0-auc:0.99062\tvalidation_1-auc:0.98182\n",
      "[39]\tvalidation_0-auc:0.99062\tvalidation_1-auc:0.98182\n",
      "[40]\tvalidation_0-auc:0.99062\tvalidation_1-auc:0.98182\n",
      "[41]\tvalidation_0-auc:0.99062\tvalidation_1-auc:0.98182\n",
      "[42]\tvalidation_0-auc:0.99062\tvalidation_1-auc:0.98182\n",
      "[0]\tvalidation_0-auc:0.83437\tvalidation_1-auc:0.83333\n",
      "[1]\tvalidation_0-auc:0.85417\tvalidation_1-auc:0.83939\n",
      "[2]\tvalidation_0-auc:0.86389\tvalidation_1-auc:0.87273\n",
      "[3]\tvalidation_0-auc:0.96354\tvalidation_1-auc:0.93939\n"
     ]
    },
    {
     "name": "stderr",
     "output_type": "stream",
     "text": [
      "c:\\Users\\wndgj\\AppData\\Local\\Programs\\Python\\Python310\\lib\\site-packages\\xgboost\\sklearn.py:793: UserWarning: `eval_metric` in `fit` method is deprecated for better compatibility with scikit-learn, use `eval_metric` in constructor or`set_params` instead.\n",
      "  warnings.warn(\n",
      "c:\\Users\\wndgj\\AppData\\Local\\Programs\\Python\\Python310\\lib\\site-packages\\xgboost\\sklearn.py:793: UserWarning: `early_stopping_rounds` in `fit` method is deprecated for better compatibility with scikit-learn, use `early_stopping_rounds` in constructor or`set_params` instead.\n",
      "  warnings.warn(\n"
     ]
    },
    {
     "name": "stdout",
     "output_type": "stream",
     "text": [
      "[4]\tvalidation_0-auc:0.96424\tvalidation_1-auc:0.93333\n",
      "[5]\tvalidation_0-auc:0.95451\tvalidation_1-auc:0.93333\n",
      "[6]\tvalidation_0-auc:0.96007\tvalidation_1-auc:0.92727\n",
      "[7]\tvalidation_0-auc:0.97674\tvalidation_1-auc:0.93333\n",
      "[8]\tvalidation_0-auc:0.97708\tvalidation_1-auc:0.93939\n",
      "[9]\tvalidation_0-auc:0.99028\tvalidation_1-auc:0.96970\n",
      "[10]\tvalidation_0-auc:0.99167\tvalidation_1-auc:0.96970\n",
      "[11]\tvalidation_0-auc:0.99236\tvalidation_1-auc:0.96364\n",
      "[12]\tvalidation_0-auc:0.99236\tvalidation_1-auc:0.96970\n",
      "[13]\tvalidation_0-auc:0.99306\tvalidation_1-auc:0.98182\n",
      "[14]\tvalidation_0-auc:0.99375\tvalidation_1-auc:0.96364\n",
      "[15]\tvalidation_0-auc:0.99444\tvalidation_1-auc:0.96364\n",
      "[16]\tvalidation_0-auc:0.99514\tvalidation_1-auc:0.96364\n",
      "[17]\tvalidation_0-auc:0.99375\tvalidation_1-auc:0.95152\n",
      "[18]\tvalidation_0-auc:0.99444\tvalidation_1-auc:0.96364\n",
      "[19]\tvalidation_0-auc:0.99653\tvalidation_1-auc:0.96364\n",
      "[20]\tvalidation_0-auc:0.99653\tvalidation_1-auc:0.97576\n",
      "[21]\tvalidation_0-auc:0.99653\tvalidation_1-auc:0.97576\n",
      "[22]\tvalidation_0-auc:0.99722\tvalidation_1-auc:0.97576\n",
      "[23]\tvalidation_0-auc:0.99722\tvalidation_1-auc:0.97576\n",
      "[24]\tvalidation_0-auc:0.99722\tvalidation_1-auc:0.97576\n",
      "[25]\tvalidation_0-auc:0.99653\tvalidation_1-auc:0.97576\n",
      "[26]\tvalidation_0-auc:0.99653\tvalidation_1-auc:0.97576\n",
      "[27]\tvalidation_0-auc:0.99653\tvalidation_1-auc:0.97576\n",
      "[28]\tvalidation_0-auc:0.99653\tvalidation_1-auc:0.96970\n",
      "[29]\tvalidation_0-auc:0.99722\tvalidation_1-auc:0.97576\n",
      "[30]\tvalidation_0-auc:0.99931\tvalidation_1-auc:0.97576\n",
      "[31]\tvalidation_0-auc:0.99931\tvalidation_1-auc:0.97576\n",
      "[32]\tvalidation_0-auc:0.99931\tvalidation_1-auc:0.96970\n",
      "[33]\tvalidation_0-auc:1.00000\tvalidation_1-auc:0.95758\n",
      "[34]\tvalidation_0-auc:1.00000\tvalidation_1-auc:0.95758\n",
      "[35]\tvalidation_0-auc:1.00000\tvalidation_1-auc:0.95152\n",
      "[36]\tvalidation_0-auc:1.00000\tvalidation_1-auc:0.95152\n",
      "[37]\tvalidation_0-auc:1.00000\tvalidation_1-auc:0.95152\n",
      "[38]\tvalidation_0-auc:1.00000\tvalidation_1-auc:0.95152\n",
      "[39]\tvalidation_0-auc:1.00000\tvalidation_1-auc:0.95152\n",
      "[40]\tvalidation_0-auc:1.00000\tvalidation_1-auc:0.95152\n",
      "[41]\tvalidation_0-auc:1.00000\tvalidation_1-auc:0.95152\n",
      "[42]\tvalidation_0-auc:1.00000\tvalidation_1-auc:0.95152\n",
      "[0]\tvalidation_0-auc:0.83472\tvalidation_1-auc:0.88788\n",
      "[1]\tvalidation_0-auc:0.84132\tvalidation_1-auc:0.84242\n",
      "[2]\tvalidation_0-auc:0.83368\tvalidation_1-auc:0.78182\n"
     ]
    },
    {
     "name": "stderr",
     "output_type": "stream",
     "text": [
      "c:\\Users\\wndgj\\AppData\\Local\\Programs\\Python\\Python310\\lib\\site-packages\\xgboost\\sklearn.py:793: UserWarning: `eval_metric` in `fit` method is deprecated for better compatibility with scikit-learn, use `eval_metric` in constructor or`set_params` instead.\n",
      "  warnings.warn(\n",
      "c:\\Users\\wndgj\\AppData\\Local\\Programs\\Python\\Python310\\lib\\site-packages\\xgboost\\sklearn.py:793: UserWarning: `early_stopping_rounds` in `fit` method is deprecated for better compatibility with scikit-learn, use `early_stopping_rounds` in constructor or`set_params` instead.\n",
      "  warnings.warn(\n"
     ]
    },
    {
     "name": "stdout",
     "output_type": "stream",
     "text": [
      "[3]\tvalidation_0-auc:0.93889\tvalidation_1-auc:0.96667\n",
      "[4]\tvalidation_0-auc:0.93403\tvalidation_1-auc:0.96061\n",
      "[5]\tvalidation_0-auc:0.92917\tvalidation_1-auc:0.96061\n",
      "[6]\tvalidation_0-auc:0.92708\tvalidation_1-auc:0.96061\n",
      "[7]\tvalidation_0-auc:0.94514\tvalidation_1-auc:0.99091\n",
      "[8]\tvalidation_0-auc:0.95382\tvalidation_1-auc:0.97273\n",
      "[9]\tvalidation_0-auc:0.96076\tvalidation_1-auc:0.98182\n",
      "[10]\tvalidation_0-auc:0.96111\tvalidation_1-auc:0.98788\n",
      "[11]\tvalidation_0-auc:0.95903\tvalidation_1-auc:0.98182\n",
      "[12]\tvalidation_0-auc:0.96528\tvalidation_1-auc:0.98182\n",
      "[13]\tvalidation_0-auc:0.96389\tvalidation_1-auc:0.97576\n",
      "[14]\tvalidation_0-auc:0.96389\tvalidation_1-auc:0.97576\n",
      "[15]\tvalidation_0-auc:0.96736\tvalidation_1-auc:0.96970\n",
      "[16]\tvalidation_0-auc:0.96875\tvalidation_1-auc:0.96970\n",
      "[17]\tvalidation_0-auc:0.96875\tvalidation_1-auc:0.96970\n",
      "[18]\tvalidation_0-auc:0.96736\tvalidation_1-auc:0.96364\n",
      "[19]\tvalidation_0-auc:0.97500\tvalidation_1-auc:0.96970\n",
      "[20]\tvalidation_0-auc:0.97778\tvalidation_1-auc:0.96970\n",
      "[21]\tvalidation_0-auc:0.97639\tvalidation_1-auc:0.96970\n",
      "[22]\tvalidation_0-auc:0.97639\tvalidation_1-auc:0.96970\n",
      "[23]\tvalidation_0-auc:0.97569\tvalidation_1-auc:0.96364\n",
      "[24]\tvalidation_0-auc:0.97708\tvalidation_1-auc:0.96364\n",
      "[25]\tvalidation_0-auc:0.97569\tvalidation_1-auc:0.96364\n",
      "[26]\tvalidation_0-auc:0.97708\tvalidation_1-auc:0.96364\n",
      "[27]\tvalidation_0-auc:0.97847\tvalidation_1-auc:0.96364\n",
      "[28]\tvalidation_0-auc:0.97917\tvalidation_1-auc:0.96970\n",
      "[29]\tvalidation_0-auc:0.97778\tvalidation_1-auc:0.96364\n",
      "[30]\tvalidation_0-auc:0.97778\tvalidation_1-auc:0.96364\n",
      "[31]\tvalidation_0-auc:0.97708\tvalidation_1-auc:0.96364\n",
      "[32]\tvalidation_0-auc:0.97708\tvalidation_1-auc:0.96364\n",
      "[33]\tvalidation_0-auc:0.97708\tvalidation_1-auc:0.96364\n",
      "[34]\tvalidation_0-auc:0.97708\tvalidation_1-auc:0.96364\n",
      "[35]\tvalidation_0-auc:0.97639\tvalidation_1-auc:0.96364\n",
      "[36]\tvalidation_0-auc:0.97778\tvalidation_1-auc:0.96364\n",
      "[37]\tvalidation_0-auc:0.97639\tvalidation_1-auc:0.96364\n",
      "[0]\tvalidation_0-auc:0.79167\tvalidation_1-auc:0.82424\n",
      "[1]\tvalidation_0-auc:0.79167\tvalidation_1-auc:0.82424\n",
      "[2]\tvalidation_0-auc:0.80590\tvalidation_1-auc:0.83333\n",
      "[3]\tvalidation_0-auc:0.94479\tvalidation_1-auc:0.94242\n"
     ]
    },
    {
     "name": "stderr",
     "output_type": "stream",
     "text": [
      "c:\\Users\\wndgj\\AppData\\Local\\Programs\\Python\\Python310\\lib\\site-packages\\xgboost\\sklearn.py:793: UserWarning: `eval_metric` in `fit` method is deprecated for better compatibility with scikit-learn, use `eval_metric` in constructor or`set_params` instead.\n",
      "  warnings.warn(\n",
      "c:\\Users\\wndgj\\AppData\\Local\\Programs\\Python\\Python310\\lib\\site-packages\\xgboost\\sklearn.py:793: UserWarning: `early_stopping_rounds` in `fit` method is deprecated for better compatibility with scikit-learn, use `early_stopping_rounds` in constructor or`set_params` instead.\n",
      "  warnings.warn(\n"
     ]
    },
    {
     "name": "stdout",
     "output_type": "stream",
     "text": [
      "[4]\tvalidation_0-auc:0.94618\tvalidation_1-auc:0.94242\n",
      "[5]\tvalidation_0-auc:0.94618\tvalidation_1-auc:0.94242\n",
      "[6]\tvalidation_0-auc:0.95451\tvalidation_1-auc:0.94242\n",
      "[7]\tvalidation_0-auc:0.96146\tvalidation_1-auc:0.94848\n",
      "[8]\tvalidation_0-auc:0.96215\tvalidation_1-auc:0.94545\n",
      "[9]\tvalidation_0-auc:0.96979\tvalidation_1-auc:0.94545\n",
      "[10]\tvalidation_0-auc:0.96528\tvalidation_1-auc:0.95455\n",
      "[11]\tvalidation_0-auc:0.97361\tvalidation_1-auc:0.95758\n",
      "[12]\tvalidation_0-auc:0.97569\tvalidation_1-auc:0.96364\n",
      "[13]\tvalidation_0-auc:0.97639\tvalidation_1-auc:0.95758\n",
      "[14]\tvalidation_0-auc:0.97569\tvalidation_1-auc:0.95758\n",
      "[15]\tvalidation_0-auc:0.97500\tvalidation_1-auc:0.95758\n",
      "[16]\tvalidation_0-auc:0.97569\tvalidation_1-auc:0.95758\n",
      "[17]\tvalidation_0-auc:0.97500\tvalidation_1-auc:0.95758\n",
      "[18]\tvalidation_0-auc:0.97604\tvalidation_1-auc:0.96970\n",
      "[19]\tvalidation_0-auc:0.97917\tvalidation_1-auc:0.96970\n",
      "[20]\tvalidation_0-auc:0.98056\tvalidation_1-auc:0.96364\n",
      "[21]\tvalidation_0-auc:0.97986\tvalidation_1-auc:0.95758\n",
      "[22]\tvalidation_0-auc:0.97986\tvalidation_1-auc:0.95758\n",
      "[23]\tvalidation_0-auc:0.98194\tvalidation_1-auc:0.95758\n",
      "[24]\tvalidation_0-auc:0.98264\tvalidation_1-auc:0.95758\n",
      "[25]\tvalidation_0-auc:0.98264\tvalidation_1-auc:0.95758\n",
      "[26]\tvalidation_0-auc:0.98194\tvalidation_1-auc:0.95758\n",
      "[27]\tvalidation_0-auc:0.98403\tvalidation_1-auc:0.95758\n",
      "[28]\tvalidation_0-auc:0.98611\tvalidation_1-auc:0.96364\n",
      "[29]\tvalidation_0-auc:0.98403\tvalidation_1-auc:0.95758\n",
      "[30]\tvalidation_0-auc:0.98681\tvalidation_1-auc:0.95758\n",
      "[31]\tvalidation_0-auc:0.98472\tvalidation_1-auc:0.95758\n",
      "[32]\tvalidation_0-auc:0.98681\tvalidation_1-auc:0.95758\n",
      "[33]\tvalidation_0-auc:0.98542\tvalidation_1-auc:0.95758\n",
      "[34]\tvalidation_0-auc:0.98611\tvalidation_1-auc:0.95758\n",
      "[35]\tvalidation_0-auc:0.98681\tvalidation_1-auc:0.96364\n",
      "[36]\tvalidation_0-auc:0.98611\tvalidation_1-auc:0.95758\n",
      "[37]\tvalidation_0-auc:0.98542\tvalidation_1-auc:0.95758\n",
      "[38]\tvalidation_0-auc:0.98681\tvalidation_1-auc:0.95758\n",
      "[39]\tvalidation_0-auc:0.98750\tvalidation_1-auc:0.95758\n",
      "[40]\tvalidation_0-auc:0.98819\tvalidation_1-auc:0.95758\n",
      "[41]\tvalidation_0-auc:0.98819\tvalidation_1-auc:0.95758\n",
      "[42]\tvalidation_0-auc:0.98750\tvalidation_1-auc:0.95152\n",
      "[43]\tvalidation_0-auc:0.98681\tvalidation_1-auc:0.95152\n",
      "[44]\tvalidation_0-auc:0.98542\tvalidation_1-auc:0.95758\n",
      "[45]\tvalidation_0-auc:0.98542\tvalidation_1-auc:0.95758\n",
      "[46]\tvalidation_0-auc:0.98611\tvalidation_1-auc:0.95758\n",
      "[47]\tvalidation_0-auc:0.98681\tvalidation_1-auc:0.95758\n",
      "[0]\tvalidation_0-auc:0.80729\tvalidation_1-auc:0.82121\n",
      "[1]\tvalidation_0-auc:0.80729\tvalidation_1-auc:0.82121\n"
     ]
    },
    {
     "name": "stderr",
     "output_type": "stream",
     "text": [
      "c:\\Users\\wndgj\\AppData\\Local\\Programs\\Python\\Python310\\lib\\site-packages\\xgboost\\sklearn.py:793: UserWarning: `eval_metric` in `fit` method is deprecated for better compatibility with scikit-learn, use `eval_metric` in constructor or`set_params` instead.\n",
      "  warnings.warn(\n",
      "c:\\Users\\wndgj\\AppData\\Local\\Programs\\Python\\Python310\\lib\\site-packages\\xgboost\\sklearn.py:793: UserWarning: `early_stopping_rounds` in `fit` method is deprecated for better compatibility with scikit-learn, use `early_stopping_rounds` in constructor or`set_params` instead.\n",
      "  warnings.warn(\n"
     ]
    },
    {
     "name": "stdout",
     "output_type": "stream",
     "text": [
      "[2]\tvalidation_0-auc:0.84375\tvalidation_1-auc:0.85152\n",
      "[3]\tvalidation_0-auc:0.93576\tvalidation_1-auc:0.93030\n",
      "[4]\tvalidation_0-auc:0.93542\tvalidation_1-auc:0.93030\n",
      "[5]\tvalidation_0-auc:0.93542\tvalidation_1-auc:0.93030\n",
      "[6]\tvalidation_0-auc:0.94410\tvalidation_1-auc:0.96364\n",
      "[7]\tvalidation_0-auc:0.96701\tvalidation_1-auc:0.98182\n",
      "[8]\tvalidation_0-auc:0.96007\tvalidation_1-auc:0.94242\n",
      "[9]\tvalidation_0-auc:0.96910\tvalidation_1-auc:0.94848\n",
      "[10]\tvalidation_0-auc:0.96701\tvalidation_1-auc:0.94848\n",
      "[11]\tvalidation_0-auc:0.97569\tvalidation_1-auc:0.96970\n",
      "[12]\tvalidation_0-auc:0.97708\tvalidation_1-auc:0.97576\n",
      "[13]\tvalidation_0-auc:0.97500\tvalidation_1-auc:0.97576\n",
      "[14]\tvalidation_0-auc:0.97292\tvalidation_1-auc:0.96970\n",
      "[15]\tvalidation_0-auc:0.97014\tvalidation_1-auc:0.96364\n",
      "[16]\tvalidation_0-auc:0.97465\tvalidation_1-auc:0.96364\n",
      "[17]\tvalidation_0-auc:0.97396\tvalidation_1-auc:0.96364\n",
      "[18]\tvalidation_0-auc:0.97500\tvalidation_1-auc:0.96364\n",
      "[19]\tvalidation_0-auc:0.97708\tvalidation_1-auc:0.96364\n",
      "[20]\tvalidation_0-auc:0.97708\tvalidation_1-auc:0.96364\n",
      "[21]\tvalidation_0-auc:0.97500\tvalidation_1-auc:0.96364\n",
      "[22]\tvalidation_0-auc:0.97500\tvalidation_1-auc:0.96364\n",
      "[23]\tvalidation_0-auc:0.97569\tvalidation_1-auc:0.96364\n",
      "[24]\tvalidation_0-auc:0.97917\tvalidation_1-auc:0.96364\n",
      "[25]\tvalidation_0-auc:0.97778\tvalidation_1-auc:0.96364\n",
      "[26]\tvalidation_0-auc:0.98056\tvalidation_1-auc:0.96364\n",
      "[27]\tvalidation_0-auc:0.98194\tvalidation_1-auc:0.96364\n",
      "[28]\tvalidation_0-auc:0.98264\tvalidation_1-auc:0.96364\n",
      "[29]\tvalidation_0-auc:0.98056\tvalidation_1-auc:0.96364\n",
      "[30]\tvalidation_0-auc:0.98125\tvalidation_1-auc:0.96364\n",
      "[31]\tvalidation_0-auc:0.98125\tvalidation_1-auc:0.96364\n",
      "[32]\tvalidation_0-auc:0.98021\tvalidation_1-auc:0.96364\n",
      "[33]\tvalidation_0-auc:0.98021\tvalidation_1-auc:0.96364\n",
      "[34]\tvalidation_0-auc:0.98021\tvalidation_1-auc:0.96364\n",
      "[35]\tvalidation_0-auc:0.98021\tvalidation_1-auc:0.96364\n",
      "[36]\tvalidation_0-auc:0.98021\tvalidation_1-auc:0.96364\n",
      "[37]\tvalidation_0-auc:0.98021\tvalidation_1-auc:0.96364\n"
     ]
    },
    {
     "name": "stderr",
     "output_type": "stream",
     "text": [
      "c:\\Users\\wndgj\\AppData\\Local\\Programs\\Python\\Python310\\lib\\site-packages\\xgboost\\sklearn.py:793: UserWarning: `eval_metric` in `fit` method is deprecated for better compatibility with scikit-learn, use `eval_metric` in constructor or`set_params` instead.\n",
      "  warnings.warn(\n",
      "c:\\Users\\wndgj\\AppData\\Local\\Programs\\Python\\Python310\\lib\\site-packages\\xgboost\\sklearn.py:793: UserWarning: `early_stopping_rounds` in `fit` method is deprecated for better compatibility with scikit-learn, use `early_stopping_rounds` in constructor or`set_params` instead.\n",
      "  warnings.warn(\n"
     ]
    },
    {
     "name": "stdout",
     "output_type": "stream",
     "text": [
      "[0]\tvalidation_0-auc:0.80104\tvalidation_1-auc:0.83333\n",
      "[1]\tvalidation_0-auc:0.80764\tvalidation_1-auc:0.85455\n",
      "[2]\tvalidation_0-auc:0.80139\tvalidation_1-auc:0.85152\n",
      "[3]\tvalidation_0-auc:0.90590\tvalidation_1-auc:0.95455\n",
      "[4]\tvalidation_0-auc:0.90590\tvalidation_1-auc:0.95455\n",
      "[5]\tvalidation_0-auc:0.91007\tvalidation_1-auc:0.95455\n",
      "[6]\tvalidation_0-auc:0.90347\tvalidation_1-auc:0.94545\n",
      "[7]\tvalidation_0-auc:0.93472\tvalidation_1-auc:0.98788\n",
      "[8]\tvalidation_0-auc:0.92639\tvalidation_1-auc:0.97576\n",
      "[9]\tvalidation_0-auc:0.93403\tvalidation_1-auc:0.97576\n",
      "[10]\tvalidation_0-auc:0.93229\tvalidation_1-auc:0.96364\n",
      "[11]\tvalidation_0-auc:0.92812\tvalidation_1-auc:0.96364\n",
      "[12]\tvalidation_0-auc:0.92535\tvalidation_1-auc:0.96364\n",
      "[13]\tvalidation_0-auc:0.92188\tvalidation_1-auc:0.95152\n",
      "[14]\tvalidation_0-auc:0.91910\tvalidation_1-auc:0.93939\n",
      "[15]\tvalidation_0-auc:0.91910\tvalidation_1-auc:0.93939\n",
      "[16]\tvalidation_0-auc:0.92118\tvalidation_1-auc:0.93939\n",
      "[17]\tvalidation_0-auc:0.92118\tvalidation_1-auc:0.93939\n",
      "[18]\tvalidation_0-auc:0.92049\tvalidation_1-auc:0.93939\n",
      "[19]\tvalidation_0-auc:0.92257\tvalidation_1-auc:0.93939\n",
      "[20]\tvalidation_0-auc:0.92326\tvalidation_1-auc:0.93939\n",
      "[21]\tvalidation_0-auc:0.92188\tvalidation_1-auc:0.93939\n",
      "[22]\tvalidation_0-auc:0.92188\tvalidation_1-auc:0.93939\n",
      "[23]\tvalidation_0-auc:0.92188\tvalidation_1-auc:0.93939\n",
      "[24]\tvalidation_0-auc:0.92326\tvalidation_1-auc:0.93939\n",
      "[25]\tvalidation_0-auc:0.92326\tvalidation_1-auc:0.93939\n",
      "[26]\tvalidation_0-auc:0.92326\tvalidation_1-auc:0.93333\n",
      "[27]\tvalidation_0-auc:0.92326\tvalidation_1-auc:0.93333\n",
      "[28]\tvalidation_0-auc:0.92326\tvalidation_1-auc:0.93333\n",
      "[29]\tvalidation_0-auc:0.92326\tvalidation_1-auc:0.93333\n",
      "[30]\tvalidation_0-auc:0.92326\tvalidation_1-auc:0.93333\n",
      "[31]\tvalidation_0-auc:0.92326\tvalidation_1-auc:0.93333\n",
      "[32]\tvalidation_0-auc:0.92396\tvalidation_1-auc:0.93333\n",
      "[33]\tvalidation_0-auc:0.92396\tvalidation_1-auc:0.93333\n",
      "[34]\tvalidation_0-auc:0.92396\tvalidation_1-auc:0.93333\n",
      "[35]\tvalidation_0-auc:0.92396\tvalidation_1-auc:0.93333\n",
      "[36]\tvalidation_0-auc:0.92396\tvalidation_1-auc:0.93333\n",
      "[0]\tvalidation_0-auc:0.95937\tvalidation_1-auc:0.96667\n",
      "[1]\tvalidation_0-auc:0.97465\tvalidation_1-auc:0.99394\n",
      "[2]\tvalidation_0-auc:0.98472\tvalidation_1-auc:0.98182\n",
      "[3]\tvalidation_0-auc:0.99167\tvalidation_1-auc:0.97576\n",
      "[4]\tvalidation_0-auc:0.99201\tvalidation_1-auc:0.97576\n",
      "[5]\tvalidation_0-auc:0.99479\tvalidation_1-auc:0.98182\n",
      "[6]\tvalidation_0-auc:0.99479\tvalidation_1-auc:0.98182\n",
      "[7]\tvalidation_0-auc:0.99410\tvalidation_1-auc:0.97576\n"
     ]
    },
    {
     "name": "stderr",
     "output_type": "stream",
     "text": [
      "c:\\Users\\wndgj\\AppData\\Local\\Programs\\Python\\Python310\\lib\\site-packages\\xgboost\\sklearn.py:793: UserWarning: `eval_metric` in `fit` method is deprecated for better compatibility with scikit-learn, use `eval_metric` in constructor or`set_params` instead.\n",
      "  warnings.warn(\n",
      "c:\\Users\\wndgj\\AppData\\Local\\Programs\\Python\\Python310\\lib\\site-packages\\xgboost\\sklearn.py:793: UserWarning: `early_stopping_rounds` in `fit` method is deprecated for better compatibility with scikit-learn, use `early_stopping_rounds` in constructor or`set_params` instead.\n",
      "  warnings.warn(\n"
     ]
    },
    {
     "name": "stdout",
     "output_type": "stream",
     "text": [
      "[8]\tvalidation_0-auc:0.99410\tvalidation_1-auc:0.97576\n",
      "[9]\tvalidation_0-auc:0.99410\tvalidation_1-auc:0.97576\n",
      "[10]\tvalidation_0-auc:0.99410\tvalidation_1-auc:0.97576\n",
      "[11]\tvalidation_0-auc:0.99410\tvalidation_1-auc:0.97576\n",
      "[12]\tvalidation_0-auc:0.99410\tvalidation_1-auc:0.97576\n",
      "[13]\tvalidation_0-auc:0.99479\tvalidation_1-auc:0.97576\n",
      "[14]\tvalidation_0-auc:0.99479\tvalidation_1-auc:0.97576\n",
      "[15]\tvalidation_0-auc:0.99479\tvalidation_1-auc:0.97576\n",
      "[16]\tvalidation_0-auc:0.99479\tvalidation_1-auc:0.97576\n",
      "[17]\tvalidation_0-auc:0.99479\tvalidation_1-auc:0.97576\n",
      "[18]\tvalidation_0-auc:0.99479\tvalidation_1-auc:0.97576\n",
      "[19]\tvalidation_0-auc:0.99479\tvalidation_1-auc:0.97576\n",
      "[20]\tvalidation_0-auc:0.99479\tvalidation_1-auc:0.97576\n",
      "[21]\tvalidation_0-auc:0.99514\tvalidation_1-auc:0.97576\n",
      "[22]\tvalidation_0-auc:0.99514\tvalidation_1-auc:0.97576\n",
      "[23]\tvalidation_0-auc:0.99514\tvalidation_1-auc:0.97576\n",
      "[24]\tvalidation_0-auc:0.99514\tvalidation_1-auc:0.97576\n",
      "[25]\tvalidation_0-auc:0.99514\tvalidation_1-auc:0.97576\n",
      "[26]\tvalidation_0-auc:0.99514\tvalidation_1-auc:0.97576\n",
      "[27]\tvalidation_0-auc:0.99514\tvalidation_1-auc:0.97576\n",
      "[28]\tvalidation_0-auc:0.99514\tvalidation_1-auc:0.97576\n",
      "[29]\tvalidation_0-auc:0.99514\tvalidation_1-auc:0.97576\n",
      "[30]\tvalidation_0-auc:0.99514\tvalidation_1-auc:0.97576\n",
      "[0]\tvalidation_0-auc:0.97153\tvalidation_1-auc:0.95455\n",
      "[1]\tvalidation_0-auc:0.98021\tvalidation_1-auc:0.94848\n"
     ]
    },
    {
     "name": "stderr",
     "output_type": "stream",
     "text": [
      "c:\\Users\\wndgj\\AppData\\Local\\Programs\\Python\\Python310\\lib\\site-packages\\xgboost\\sklearn.py:793: UserWarning: `eval_metric` in `fit` method is deprecated for better compatibility with scikit-learn, use `eval_metric` in constructor or`set_params` instead.\n",
      "  warnings.warn(\n",
      "c:\\Users\\wndgj\\AppData\\Local\\Programs\\Python\\Python310\\lib\\site-packages\\xgboost\\sklearn.py:793: UserWarning: `early_stopping_rounds` in `fit` method is deprecated for better compatibility with scikit-learn, use `early_stopping_rounds` in constructor or`set_params` instead.\n",
      "  warnings.warn(\n"
     ]
    },
    {
     "name": "stdout",
     "output_type": "stream",
     "text": [
      "[2]\tvalidation_0-auc:0.97743\tvalidation_1-auc:0.94848\n",
      "[3]\tvalidation_0-auc:0.98403\tvalidation_1-auc:0.96970\n",
      "[4]\tvalidation_0-auc:0.99097\tvalidation_1-auc:0.95758\n",
      "[5]\tvalidation_0-auc:0.99097\tvalidation_1-auc:0.98182\n",
      "[6]\tvalidation_0-auc:0.99167\tvalidation_1-auc:0.98182\n",
      "[7]\tvalidation_0-auc:0.99306\tvalidation_1-auc:0.98788\n",
      "[8]\tvalidation_0-auc:0.99444\tvalidation_1-auc:0.98182\n",
      "[9]\tvalidation_0-auc:0.99722\tvalidation_1-auc:0.98788\n",
      "[10]\tvalidation_0-auc:0.99722\tvalidation_1-auc:0.99394\n",
      "[11]\tvalidation_0-auc:0.99722\tvalidation_1-auc:0.99394\n",
      "[12]\tvalidation_0-auc:0.99861\tvalidation_1-auc:0.99394\n",
      "[13]\tvalidation_0-auc:0.99861\tvalidation_1-auc:0.99394\n",
      "[14]\tvalidation_0-auc:0.99861\tvalidation_1-auc:0.99394\n",
      "[15]\tvalidation_0-auc:1.00000\tvalidation_1-auc:0.99394\n",
      "[16]\tvalidation_0-auc:1.00000\tvalidation_1-auc:0.99394\n",
      "[17]\tvalidation_0-auc:1.00000\tvalidation_1-auc:0.99394\n",
      "[18]\tvalidation_0-auc:1.00000\tvalidation_1-auc:0.99394\n",
      "[19]\tvalidation_0-auc:1.00000\tvalidation_1-auc:0.99394\n",
      "[20]\tvalidation_0-auc:1.00000\tvalidation_1-auc:0.99394\n",
      "[21]\tvalidation_0-auc:1.00000\tvalidation_1-auc:0.99394\n",
      "[22]\tvalidation_0-auc:1.00000\tvalidation_1-auc:0.99394\n",
      "[23]\tvalidation_0-auc:1.00000\tvalidation_1-auc:0.99394\n",
      "[24]\tvalidation_0-auc:1.00000\tvalidation_1-auc:0.99394\n",
      "[25]\tvalidation_0-auc:1.00000\tvalidation_1-auc:0.99394\n",
      "[26]\tvalidation_0-auc:1.00000\tvalidation_1-auc:0.99394\n",
      "[27]\tvalidation_0-auc:1.00000\tvalidation_1-auc:0.99394\n",
      "[28]\tvalidation_0-auc:1.00000\tvalidation_1-auc:0.99394\n",
      "[29]\tvalidation_0-auc:1.00000\tvalidation_1-auc:0.99394\n",
      "[30]\tvalidation_0-auc:1.00000\tvalidation_1-auc:0.99394\n",
      "[31]\tvalidation_0-auc:1.00000\tvalidation_1-auc:0.99394\n",
      "[32]\tvalidation_0-auc:1.00000\tvalidation_1-auc:0.98788\n",
      "[33]\tvalidation_0-auc:1.00000\tvalidation_1-auc:0.98788\n",
      "[34]\tvalidation_0-auc:1.00000\tvalidation_1-auc:0.98788\n",
      "[35]\tvalidation_0-auc:1.00000\tvalidation_1-auc:0.98788\n",
      "[36]\tvalidation_0-auc:1.00000\tvalidation_1-auc:0.98788\n",
      "[37]\tvalidation_0-auc:1.00000\tvalidation_1-auc:0.98788\n",
      "[38]\tvalidation_0-auc:1.00000\tvalidation_1-auc:0.98788\n",
      "[39]\tvalidation_0-auc:1.00000\tvalidation_1-auc:0.98788\n",
      "[0]\tvalidation_0-auc:0.91944\tvalidation_1-auc:0.96667\n",
      "[1]\tvalidation_0-auc:0.93368\tvalidation_1-auc:0.99091\n"
     ]
    },
    {
     "name": "stderr",
     "output_type": "stream",
     "text": [
      "c:\\Users\\wndgj\\AppData\\Local\\Programs\\Python\\Python310\\lib\\site-packages\\xgboost\\sklearn.py:793: UserWarning: `eval_metric` in `fit` method is deprecated for better compatibility with scikit-learn, use `eval_metric` in constructor or`set_params` instead.\n",
      "  warnings.warn(\n",
      "c:\\Users\\wndgj\\AppData\\Local\\Programs\\Python\\Python310\\lib\\site-packages\\xgboost\\sklearn.py:793: UserWarning: `early_stopping_rounds` in `fit` method is deprecated for better compatibility with scikit-learn, use `early_stopping_rounds` in constructor or`set_params` instead.\n",
      "  warnings.warn(\n"
     ]
    },
    {
     "name": "stdout",
     "output_type": "stream",
     "text": [
      "[2]\tvalidation_0-auc:0.92708\tvalidation_1-auc:0.96667\n",
      "[3]\tvalidation_0-auc:0.94792\tvalidation_1-auc:0.99091\n",
      "[4]\tvalidation_0-auc:0.94792\tvalidation_1-auc:0.98788\n",
      "[5]\tvalidation_0-auc:0.94931\tvalidation_1-auc:0.98788\n",
      "[6]\tvalidation_0-auc:0.94931\tvalidation_1-auc:0.98182\n",
      "[7]\tvalidation_0-auc:0.95000\tvalidation_1-auc:0.98182\n",
      "[8]\tvalidation_0-auc:0.95069\tvalidation_1-auc:0.98182\n",
      "[9]\tvalidation_0-auc:0.95000\tvalidation_1-auc:0.96970\n",
      "[10]\tvalidation_0-auc:0.95486\tvalidation_1-auc:0.97576\n",
      "[11]\tvalidation_0-auc:0.96250\tvalidation_1-auc:0.97576\n",
      "[12]\tvalidation_0-auc:0.97083\tvalidation_1-auc:0.98182\n",
      "[13]\tvalidation_0-auc:0.96875\tvalidation_1-auc:0.97576\n",
      "[14]\tvalidation_0-auc:0.96875\tvalidation_1-auc:0.96970\n",
      "[15]\tvalidation_0-auc:0.97083\tvalidation_1-auc:0.96970\n",
      "[16]\tvalidation_0-auc:0.97708\tvalidation_1-auc:0.97576\n",
      "[17]\tvalidation_0-auc:0.97431\tvalidation_1-auc:0.96970\n",
      "[18]\tvalidation_0-auc:0.97500\tvalidation_1-auc:0.96970\n",
      "[19]\tvalidation_0-auc:0.97778\tvalidation_1-auc:0.96970\n",
      "[20]\tvalidation_0-auc:0.97500\tvalidation_1-auc:0.96970\n",
      "[21]\tvalidation_0-auc:0.97569\tvalidation_1-auc:0.97576\n",
      "[22]\tvalidation_0-auc:0.97569\tvalidation_1-auc:0.97576\n",
      "[23]\tvalidation_0-auc:0.97569\tvalidation_1-auc:0.97576\n",
      "[24]\tvalidation_0-auc:0.97569\tvalidation_1-auc:0.97576\n",
      "[25]\tvalidation_0-auc:0.97431\tvalidation_1-auc:0.97576\n",
      "[26]\tvalidation_0-auc:0.97431\tvalidation_1-auc:0.97576\n",
      "[27]\tvalidation_0-auc:0.97431\tvalidation_1-auc:0.97576\n",
      "[28]\tvalidation_0-auc:0.97361\tvalidation_1-auc:0.97576\n",
      "[29]\tvalidation_0-auc:0.97292\tvalidation_1-auc:0.97576\n",
      "[30]\tvalidation_0-auc:0.97361\tvalidation_1-auc:0.97576\n",
      "[31]\tvalidation_0-auc:0.97292\tvalidation_1-auc:0.96970\n",
      "[0]\tvalidation_0-auc:0.95937\tvalidation_1-auc:0.96667\n",
      "[1]\tvalidation_0-auc:0.93160\tvalidation_1-auc:0.95152\n",
      "[2]\tvalidation_0-auc:0.93993\tvalidation_1-auc:0.96667\n",
      "[3]\tvalidation_0-auc:0.95590\tvalidation_1-auc:0.96061\n"
     ]
    },
    {
     "name": "stderr",
     "output_type": "stream",
     "text": [
      "c:\\Users\\wndgj\\AppData\\Local\\Programs\\Python\\Python310\\lib\\site-packages\\xgboost\\sklearn.py:793: UserWarning: `eval_metric` in `fit` method is deprecated for better compatibility with scikit-learn, use `eval_metric` in constructor or`set_params` instead.\n",
      "  warnings.warn(\n",
      "c:\\Users\\wndgj\\AppData\\Local\\Programs\\Python\\Python310\\lib\\site-packages\\xgboost\\sklearn.py:793: UserWarning: `early_stopping_rounds` in `fit` method is deprecated for better compatibility with scikit-learn, use `early_stopping_rounds` in constructor or`set_params` instead.\n",
      "  warnings.warn(\n"
     ]
    },
    {
     "name": "stdout",
     "output_type": "stream",
     "text": [
      "[4]\tvalidation_0-auc:0.96910\tvalidation_1-auc:0.95455\n",
      "[5]\tvalidation_0-auc:0.97535\tvalidation_1-auc:0.95455\n",
      "[6]\tvalidation_0-auc:0.98438\tvalidation_1-auc:0.97273\n",
      "[7]\tvalidation_0-auc:0.98924\tvalidation_1-auc:0.97273\n",
      "[8]\tvalidation_0-auc:0.98854\tvalidation_1-auc:0.96667\n",
      "[9]\tvalidation_0-auc:0.98438\tvalidation_1-auc:0.96667\n",
      "[10]\tvalidation_0-auc:0.98576\tvalidation_1-auc:0.96667\n",
      "[11]\tvalidation_0-auc:0.98854\tvalidation_1-auc:0.96667\n",
      "[12]\tvalidation_0-auc:0.98576\tvalidation_1-auc:0.96667\n",
      "[13]\tvalidation_0-auc:0.98646\tvalidation_1-auc:0.96667\n",
      "[14]\tvalidation_0-auc:0.99062\tvalidation_1-auc:0.96667\n",
      "[15]\tvalidation_0-auc:0.98715\tvalidation_1-auc:0.96667\n",
      "[16]\tvalidation_0-auc:0.98750\tvalidation_1-auc:0.96667\n",
      "[17]\tvalidation_0-auc:0.98750\tvalidation_1-auc:0.96667\n",
      "[18]\tvalidation_0-auc:0.98785\tvalidation_1-auc:0.96667\n",
      "[19]\tvalidation_0-auc:0.98924\tvalidation_1-auc:0.96667\n",
      "[20]\tvalidation_0-auc:0.98924\tvalidation_1-auc:0.96667\n",
      "[21]\tvalidation_0-auc:0.99167\tvalidation_1-auc:0.96667\n",
      "[22]\tvalidation_0-auc:0.98958\tvalidation_1-auc:0.96667\n",
      "[23]\tvalidation_0-auc:0.99167\tvalidation_1-auc:0.96667\n",
      "[24]\tvalidation_0-auc:0.99236\tvalidation_1-auc:0.96667\n",
      "[25]\tvalidation_0-auc:0.99236\tvalidation_1-auc:0.96667\n",
      "[26]\tvalidation_0-auc:0.99236\tvalidation_1-auc:0.96667\n",
      "[27]\tvalidation_0-auc:0.99306\tvalidation_1-auc:0.96667\n",
      "[28]\tvalidation_0-auc:0.99236\tvalidation_1-auc:0.96667\n",
      "[29]\tvalidation_0-auc:0.99375\tvalidation_1-auc:0.96667\n",
      "[30]\tvalidation_0-auc:0.99375\tvalidation_1-auc:0.96667\n",
      "[31]\tvalidation_0-auc:0.99375\tvalidation_1-auc:0.96061\n",
      "[32]\tvalidation_0-auc:0.99375\tvalidation_1-auc:0.96061\n",
      "[33]\tvalidation_0-auc:0.99375\tvalidation_1-auc:0.96061\n",
      "[34]\tvalidation_0-auc:0.99375\tvalidation_1-auc:0.96061\n",
      "[35]\tvalidation_0-auc:0.99375\tvalidation_1-auc:0.96061\n",
      "[36]\tvalidation_0-auc:0.99375\tvalidation_1-auc:0.96061\n",
      "[0]\tvalidation_0-auc:0.96146\tvalidation_1-auc:0.95455\n",
      "[1]\tvalidation_0-auc:0.92604\tvalidation_1-auc:0.93636\n",
      "[2]\tvalidation_0-auc:0.93715\tvalidation_1-auc:0.94545\n",
      "[3]\tvalidation_0-auc:0.95278\tvalidation_1-auc:0.98788\n",
      "[4]\tvalidation_0-auc:0.95694\tvalidation_1-auc:0.98788\n",
      "[5]\tvalidation_0-auc:0.96319\tvalidation_1-auc:0.98788\n",
      "[6]\tvalidation_0-auc:0.96319\tvalidation_1-auc:0.98788\n"
     ]
    },
    {
     "name": "stderr",
     "output_type": "stream",
     "text": [
      "c:\\Users\\wndgj\\AppData\\Local\\Programs\\Python\\Python310\\lib\\site-packages\\xgboost\\sklearn.py:793: UserWarning: `eval_metric` in `fit` method is deprecated for better compatibility with scikit-learn, use `eval_metric` in constructor or`set_params` instead.\n",
      "  warnings.warn(\n",
      "c:\\Users\\wndgj\\AppData\\Local\\Programs\\Python\\Python310\\lib\\site-packages\\xgboost\\sklearn.py:793: UserWarning: `early_stopping_rounds` in `fit` method is deprecated for better compatibility with scikit-learn, use `early_stopping_rounds` in constructor or`set_params` instead.\n",
      "  warnings.warn(\n"
     ]
    },
    {
     "name": "stdout",
     "output_type": "stream",
     "text": [
      "[7]\tvalidation_0-auc:0.97500\tvalidation_1-auc:0.98788\n",
      "[8]\tvalidation_0-auc:0.97257\tvalidation_1-auc:0.98788\n",
      "[9]\tvalidation_0-auc:0.98333\tvalidation_1-auc:0.99394\n",
      "[10]\tvalidation_0-auc:0.97917\tvalidation_1-auc:0.99394\n",
      "[11]\tvalidation_0-auc:0.98264\tvalidation_1-auc:0.99394\n",
      "[12]\tvalidation_0-auc:0.98194\tvalidation_1-auc:0.99394\n",
      "[13]\tvalidation_0-auc:0.98403\tvalidation_1-auc:0.99394\n",
      "[14]\tvalidation_0-auc:0.98611\tvalidation_1-auc:0.99394\n",
      "[15]\tvalidation_0-auc:0.98681\tvalidation_1-auc:0.99394\n",
      "[16]\tvalidation_0-auc:0.98681\tvalidation_1-auc:0.99394\n",
      "[17]\tvalidation_0-auc:0.98681\tvalidation_1-auc:0.99394\n",
      "[18]\tvalidation_0-auc:0.98611\tvalidation_1-auc:0.98788\n",
      "[19]\tvalidation_0-auc:0.98611\tvalidation_1-auc:0.98788\n",
      "[20]\tvalidation_0-auc:0.98403\tvalidation_1-auc:0.98788\n",
      "[21]\tvalidation_0-auc:0.98333\tvalidation_1-auc:0.97576\n",
      "[22]\tvalidation_0-auc:0.98333\tvalidation_1-auc:0.97576\n",
      "[23]\tvalidation_0-auc:0.98333\tvalidation_1-auc:0.97576\n",
      "[24]\tvalidation_0-auc:0.98333\tvalidation_1-auc:0.97576\n",
      "[25]\tvalidation_0-auc:0.98333\tvalidation_1-auc:0.97576\n",
      "[26]\tvalidation_0-auc:0.98333\tvalidation_1-auc:0.97576\n",
      "[27]\tvalidation_0-auc:0.98333\tvalidation_1-auc:0.97576\n",
      "[28]\tvalidation_0-auc:0.98333\tvalidation_1-auc:0.97576\n",
      "[29]\tvalidation_0-auc:0.98333\tvalidation_1-auc:0.97576\n",
      "[30]\tvalidation_0-auc:0.98333\tvalidation_1-auc:0.97576\n",
      "[31]\tvalidation_0-auc:0.98333\tvalidation_1-auc:0.97576\n",
      "[32]\tvalidation_0-auc:0.98194\tvalidation_1-auc:0.97576\n",
      "[33]\tvalidation_0-auc:0.98194\tvalidation_1-auc:0.97576\n",
      "[34]\tvalidation_0-auc:0.98194\tvalidation_1-auc:0.97576\n",
      "[35]\tvalidation_0-auc:0.98194\tvalidation_1-auc:0.97576\n",
      "[36]\tvalidation_0-auc:0.98194\tvalidation_1-auc:0.97576\n",
      "[37]\tvalidation_0-auc:0.98194\tvalidation_1-auc:0.97576\n",
      "[38]\tvalidation_0-auc:0.98194\tvalidation_1-auc:0.97576\n",
      "[39]\tvalidation_0-auc:0.98194\tvalidation_1-auc:0.97576\n",
      "[0]\tvalidation_0-auc:0.91944\tvalidation_1-auc:0.96667\n",
      "[1]\tvalidation_0-auc:0.93056\tvalidation_1-auc:0.99091\n"
     ]
    },
    {
     "name": "stderr",
     "output_type": "stream",
     "text": [
      "c:\\Users\\wndgj\\AppData\\Local\\Programs\\Python\\Python310\\lib\\site-packages\\xgboost\\sklearn.py:793: UserWarning: `eval_metric` in `fit` method is deprecated for better compatibility with scikit-learn, use `eval_metric` in constructor or`set_params` instead.\n",
      "  warnings.warn(\n",
      "c:\\Users\\wndgj\\AppData\\Local\\Programs\\Python\\Python310\\lib\\site-packages\\xgboost\\sklearn.py:793: UserWarning: `early_stopping_rounds` in `fit` method is deprecated for better compatibility with scikit-learn, use `early_stopping_rounds` in constructor or`set_params` instead.\n",
      "  warnings.warn(\n"
     ]
    },
    {
     "name": "stdout",
     "output_type": "stream",
     "text": [
      "[2]\tvalidation_0-auc:0.93437\tvalidation_1-auc:0.99091\n",
      "[3]\tvalidation_0-auc:0.94757\tvalidation_1-auc:0.99091\n",
      "[4]\tvalidation_0-auc:0.93924\tvalidation_1-auc:0.98485\n",
      "[5]\tvalidation_0-auc:0.95174\tvalidation_1-auc:0.98485\n",
      "[6]\tvalidation_0-auc:0.94757\tvalidation_1-auc:0.98485\n",
      "[7]\tvalidation_0-auc:0.94757\tvalidation_1-auc:0.98485\n",
      "[8]\tvalidation_0-auc:0.94201\tvalidation_1-auc:0.96970\n",
      "[9]\tvalidation_0-auc:0.93715\tvalidation_1-auc:0.94545\n",
      "[10]\tvalidation_0-auc:0.94340\tvalidation_1-auc:0.95758\n",
      "[11]\tvalidation_0-auc:0.94132\tvalidation_1-auc:0.94545\n",
      "[12]\tvalidation_0-auc:0.94271\tvalidation_1-auc:0.94545\n",
      "[13]\tvalidation_0-auc:0.93924\tvalidation_1-auc:0.93333\n",
      "[14]\tvalidation_0-auc:0.93924\tvalidation_1-auc:0.93333\n",
      "[15]\tvalidation_0-auc:0.93993\tvalidation_1-auc:0.93333\n",
      "[16]\tvalidation_0-auc:0.94167\tvalidation_1-auc:0.93333\n",
      "[17]\tvalidation_0-auc:0.94167\tvalidation_1-auc:0.94545\n",
      "[18]\tvalidation_0-auc:0.94167\tvalidation_1-auc:0.94545\n",
      "[19]\tvalidation_0-auc:0.94167\tvalidation_1-auc:0.94545\n",
      "[20]\tvalidation_0-auc:0.94167\tvalidation_1-auc:0.94545\n",
      "[21]\tvalidation_0-auc:0.94167\tvalidation_1-auc:0.94545\n",
      "[22]\tvalidation_0-auc:0.94167\tvalidation_1-auc:0.94545\n",
      "[23]\tvalidation_0-auc:0.94167\tvalidation_1-auc:0.94545\n",
      "[24]\tvalidation_0-auc:0.94167\tvalidation_1-auc:0.94545\n",
      "[25]\tvalidation_0-auc:0.94167\tvalidation_1-auc:0.94545\n",
      "[26]\tvalidation_0-auc:0.94167\tvalidation_1-auc:0.94545\n",
      "[27]\tvalidation_0-auc:0.94167\tvalidation_1-auc:0.94545\n",
      "[28]\tvalidation_0-auc:0.94167\tvalidation_1-auc:0.94545\n",
      "[29]\tvalidation_0-auc:0.94167\tvalidation_1-auc:0.94545\n",
      "[30]\tvalidation_0-auc:0.94167\tvalidation_1-auc:0.94545\n",
      "[0]\tvalidation_0-auc:0.95937\tvalidation_1-auc:0.96667\n",
      "[1]\tvalidation_0-auc:0.97465\tvalidation_1-auc:0.99394\n"
     ]
    },
    {
     "name": "stderr",
     "output_type": "stream",
     "text": [
      "c:\\Users\\wndgj\\AppData\\Local\\Programs\\Python\\Python310\\lib\\site-packages\\xgboost\\sklearn.py:793: UserWarning: `eval_metric` in `fit` method is deprecated for better compatibility with scikit-learn, use `eval_metric` in constructor or`set_params` instead.\n",
      "  warnings.warn(\n",
      "c:\\Users\\wndgj\\AppData\\Local\\Programs\\Python\\Python310\\lib\\site-packages\\xgboost\\sklearn.py:793: UserWarning: `early_stopping_rounds` in `fit` method is deprecated for better compatibility with scikit-learn, use `early_stopping_rounds` in constructor or`set_params` instead.\n",
      "  warnings.warn(\n"
     ]
    },
    {
     "name": "stdout",
     "output_type": "stream",
     "text": [
      "[2]\tvalidation_0-auc:0.98472\tvalidation_1-auc:0.98182\n",
      "[3]\tvalidation_0-auc:0.99167\tvalidation_1-auc:0.97576\n",
      "[4]\tvalidation_0-auc:0.99201\tvalidation_1-auc:0.97576\n",
      "[5]\tvalidation_0-auc:0.99479\tvalidation_1-auc:0.98182\n",
      "[6]\tvalidation_0-auc:0.99479\tvalidation_1-auc:0.98182\n",
      "[7]\tvalidation_0-auc:0.99410\tvalidation_1-auc:0.97576\n",
      "[8]\tvalidation_0-auc:0.99410\tvalidation_1-auc:0.97576\n",
      "[9]\tvalidation_0-auc:0.99410\tvalidation_1-auc:0.97576\n",
      "[10]\tvalidation_0-auc:0.99410\tvalidation_1-auc:0.97576\n",
      "[11]\tvalidation_0-auc:0.99410\tvalidation_1-auc:0.97576\n",
      "[12]\tvalidation_0-auc:0.99410\tvalidation_1-auc:0.97576\n",
      "[13]\tvalidation_0-auc:0.99479\tvalidation_1-auc:0.97576\n",
      "[14]\tvalidation_0-auc:0.99479\tvalidation_1-auc:0.97576\n",
      "[15]\tvalidation_0-auc:0.99479\tvalidation_1-auc:0.97576\n",
      "[16]\tvalidation_0-auc:0.99479\tvalidation_1-auc:0.97576\n",
      "[17]\tvalidation_0-auc:0.99479\tvalidation_1-auc:0.97576\n",
      "[18]\tvalidation_0-auc:0.99479\tvalidation_1-auc:0.97576\n",
      "[19]\tvalidation_0-auc:0.99479\tvalidation_1-auc:0.97576\n",
      "[20]\tvalidation_0-auc:0.99479\tvalidation_1-auc:0.97576\n",
      "[21]\tvalidation_0-auc:0.99514\tvalidation_1-auc:0.97576\n",
      "[22]\tvalidation_0-auc:0.99514\tvalidation_1-auc:0.97576\n",
      "[23]\tvalidation_0-auc:0.99514\tvalidation_1-auc:0.97576\n",
      "[24]\tvalidation_0-auc:0.99514\tvalidation_1-auc:0.97576\n",
      "[25]\tvalidation_0-auc:0.99514\tvalidation_1-auc:0.97576\n",
      "[26]\tvalidation_0-auc:0.99514\tvalidation_1-auc:0.97576\n",
      "[27]\tvalidation_0-auc:0.99514\tvalidation_1-auc:0.97576\n",
      "[28]\tvalidation_0-auc:0.99514\tvalidation_1-auc:0.97576\n",
      "[29]\tvalidation_0-auc:0.99514\tvalidation_1-auc:0.97576\n",
      "[30]\tvalidation_0-auc:0.99514\tvalidation_1-auc:0.97576\n",
      "[31]\tvalidation_0-auc:0.99514\tvalidation_1-auc:0.97576\n",
      "[0]\tvalidation_0-auc:0.97153\tvalidation_1-auc:0.95455\n",
      "[1]\tvalidation_0-auc:0.98021\tvalidation_1-auc:0.94848\n",
      "[2]\tvalidation_0-auc:0.97743\tvalidation_1-auc:0.94848\n",
      "[3]\tvalidation_0-auc:0.98403\tvalidation_1-auc:0.96970\n",
      "[4]\tvalidation_0-auc:0.99097\tvalidation_1-auc:0.95758\n"
     ]
    },
    {
     "name": "stderr",
     "output_type": "stream",
     "text": [
      "c:\\Users\\wndgj\\AppData\\Local\\Programs\\Python\\Python310\\lib\\site-packages\\xgboost\\sklearn.py:793: UserWarning: `eval_metric` in `fit` method is deprecated for better compatibility with scikit-learn, use `eval_metric` in constructor or`set_params` instead.\n",
      "  warnings.warn(\n",
      "c:\\Users\\wndgj\\AppData\\Local\\Programs\\Python\\Python310\\lib\\site-packages\\xgboost\\sklearn.py:793: UserWarning: `early_stopping_rounds` in `fit` method is deprecated for better compatibility with scikit-learn, use `early_stopping_rounds` in constructor or`set_params` instead.\n",
      "  warnings.warn(\n"
     ]
    },
    {
     "name": "stdout",
     "output_type": "stream",
     "text": [
      "[5]\tvalidation_0-auc:0.99097\tvalidation_1-auc:0.98182\n",
      "[6]\tvalidation_0-auc:0.99167\tvalidation_1-auc:0.98182\n",
      "[7]\tvalidation_0-auc:0.99306\tvalidation_1-auc:0.98788\n",
      "[8]\tvalidation_0-auc:0.99444\tvalidation_1-auc:0.98182\n",
      "[9]\tvalidation_0-auc:0.99722\tvalidation_1-auc:0.98788\n",
      "[10]\tvalidation_0-auc:0.99722\tvalidation_1-auc:0.99394\n",
      "[11]\tvalidation_0-auc:0.99722\tvalidation_1-auc:0.99394\n",
      "[12]\tvalidation_0-auc:0.99861\tvalidation_1-auc:0.99394\n",
      "[13]\tvalidation_0-auc:0.99861\tvalidation_1-auc:0.99394\n",
      "[14]\tvalidation_0-auc:0.99861\tvalidation_1-auc:0.99394\n",
      "[15]\tvalidation_0-auc:1.00000\tvalidation_1-auc:0.99394\n",
      "[16]\tvalidation_0-auc:1.00000\tvalidation_1-auc:0.99394\n",
      "[17]\tvalidation_0-auc:1.00000\tvalidation_1-auc:0.99394\n",
      "[18]\tvalidation_0-auc:1.00000\tvalidation_1-auc:0.99394\n",
      "[19]\tvalidation_0-auc:1.00000\tvalidation_1-auc:0.99394\n",
      "[20]\tvalidation_0-auc:1.00000\tvalidation_1-auc:0.99394\n",
      "[21]\tvalidation_0-auc:1.00000\tvalidation_1-auc:0.99394\n",
      "[22]\tvalidation_0-auc:1.00000\tvalidation_1-auc:0.99394\n",
      "[23]\tvalidation_0-auc:1.00000\tvalidation_1-auc:0.99394\n",
      "[24]\tvalidation_0-auc:1.00000\tvalidation_1-auc:0.99394\n",
      "[25]\tvalidation_0-auc:1.00000\tvalidation_1-auc:0.99394\n",
      "[26]\tvalidation_0-auc:1.00000\tvalidation_1-auc:0.99394\n",
      "[27]\tvalidation_0-auc:1.00000\tvalidation_1-auc:0.99394\n",
      "[28]\tvalidation_0-auc:1.00000\tvalidation_1-auc:0.99394\n",
      "[29]\tvalidation_0-auc:1.00000\tvalidation_1-auc:0.99394\n",
      "[30]\tvalidation_0-auc:1.00000\tvalidation_1-auc:0.99394\n",
      "[31]\tvalidation_0-auc:1.00000\tvalidation_1-auc:0.99394\n",
      "[32]\tvalidation_0-auc:1.00000\tvalidation_1-auc:0.98788\n",
      "[33]\tvalidation_0-auc:1.00000\tvalidation_1-auc:0.98788\n",
      "[34]\tvalidation_0-auc:1.00000\tvalidation_1-auc:0.98788\n",
      "[35]\tvalidation_0-auc:1.00000\tvalidation_1-auc:0.98788\n",
      "[36]\tvalidation_0-auc:1.00000\tvalidation_1-auc:0.98788\n",
      "[37]\tvalidation_0-auc:1.00000\tvalidation_1-auc:0.98788\n",
      "[38]\tvalidation_0-auc:1.00000\tvalidation_1-auc:0.98788\n",
      "[39]\tvalidation_0-auc:1.00000\tvalidation_1-auc:0.98788\n",
      "[0]\tvalidation_0-auc:0.91944\tvalidation_1-auc:0.96667\n",
      "[1]\tvalidation_0-auc:0.93368\tvalidation_1-auc:0.99091\n",
      "[2]\tvalidation_0-auc:0.92708\tvalidation_1-auc:0.96667\n",
      "[3]\tvalidation_0-auc:0.94792\tvalidation_1-auc:0.99091\n",
      "[4]\tvalidation_0-auc:0.94792\tvalidation_1-auc:0.98788\n",
      "[5]\tvalidation_0-auc:0.94931\tvalidation_1-auc:0.98788\n"
     ]
    },
    {
     "name": "stderr",
     "output_type": "stream",
     "text": [
      "c:\\Users\\wndgj\\AppData\\Local\\Programs\\Python\\Python310\\lib\\site-packages\\xgboost\\sklearn.py:793: UserWarning: `eval_metric` in `fit` method is deprecated for better compatibility with scikit-learn, use `eval_metric` in constructor or`set_params` instead.\n",
      "  warnings.warn(\n",
      "c:\\Users\\wndgj\\AppData\\Local\\Programs\\Python\\Python310\\lib\\site-packages\\xgboost\\sklearn.py:793: UserWarning: `early_stopping_rounds` in `fit` method is deprecated for better compatibility with scikit-learn, use `early_stopping_rounds` in constructor or`set_params` instead.\n",
      "  warnings.warn(\n"
     ]
    },
    {
     "name": "stdout",
     "output_type": "stream",
     "text": [
      "[6]\tvalidation_0-auc:0.94931\tvalidation_1-auc:0.98182\n",
      "[7]\tvalidation_0-auc:0.95000\tvalidation_1-auc:0.98182\n",
      "[8]\tvalidation_0-auc:0.95069\tvalidation_1-auc:0.98182\n",
      "[9]\tvalidation_0-auc:0.95000\tvalidation_1-auc:0.96970\n",
      "[10]\tvalidation_0-auc:0.95486\tvalidation_1-auc:0.97576\n",
      "[11]\tvalidation_0-auc:0.96250\tvalidation_1-auc:0.97576\n",
      "[12]\tvalidation_0-auc:0.97083\tvalidation_1-auc:0.98182\n",
      "[13]\tvalidation_0-auc:0.96875\tvalidation_1-auc:0.97576\n",
      "[14]\tvalidation_0-auc:0.96875\tvalidation_1-auc:0.96970\n",
      "[15]\tvalidation_0-auc:0.97083\tvalidation_1-auc:0.96970\n",
      "[16]\tvalidation_0-auc:0.97708\tvalidation_1-auc:0.97576\n",
      "[17]\tvalidation_0-auc:0.97431\tvalidation_1-auc:0.96970\n",
      "[18]\tvalidation_0-auc:0.97500\tvalidation_1-auc:0.96970\n",
      "[19]\tvalidation_0-auc:0.97778\tvalidation_1-auc:0.96970\n",
      "[20]\tvalidation_0-auc:0.97500\tvalidation_1-auc:0.96970\n",
      "[21]\tvalidation_0-auc:0.97569\tvalidation_1-auc:0.97576\n",
      "[22]\tvalidation_0-auc:0.97569\tvalidation_1-auc:0.97576\n",
      "[23]\tvalidation_0-auc:0.97569\tvalidation_1-auc:0.97576\n",
      "[24]\tvalidation_0-auc:0.97569\tvalidation_1-auc:0.97576\n",
      "[25]\tvalidation_0-auc:0.97431\tvalidation_1-auc:0.97576\n",
      "[26]\tvalidation_0-auc:0.97431\tvalidation_1-auc:0.97576\n",
      "[27]\tvalidation_0-auc:0.97431\tvalidation_1-auc:0.97576\n",
      "[28]\tvalidation_0-auc:0.97361\tvalidation_1-auc:0.97576\n",
      "[29]\tvalidation_0-auc:0.97292\tvalidation_1-auc:0.97576\n",
      "[30]\tvalidation_0-auc:0.97361\tvalidation_1-auc:0.97576\n",
      "[0]\tvalidation_0-auc:0.95937\tvalidation_1-auc:0.96667\n"
     ]
    },
    {
     "name": "stderr",
     "output_type": "stream",
     "text": [
      "c:\\Users\\wndgj\\AppData\\Local\\Programs\\Python\\Python310\\lib\\site-packages\\xgboost\\sklearn.py:793: UserWarning: `eval_metric` in `fit` method is deprecated for better compatibility with scikit-learn, use `eval_metric` in constructor or`set_params` instead.\n",
      "  warnings.warn(\n",
      "c:\\Users\\wndgj\\AppData\\Local\\Programs\\Python\\Python310\\lib\\site-packages\\xgboost\\sklearn.py:793: UserWarning: `early_stopping_rounds` in `fit` method is deprecated for better compatibility with scikit-learn, use `early_stopping_rounds` in constructor or`set_params` instead.\n",
      "  warnings.warn(\n"
     ]
    },
    {
     "name": "stdout",
     "output_type": "stream",
     "text": [
      "[1]\tvalidation_0-auc:0.93160\tvalidation_1-auc:0.95152\n",
      "[2]\tvalidation_0-auc:0.93993\tvalidation_1-auc:0.96667\n",
      "[3]\tvalidation_0-auc:0.95590\tvalidation_1-auc:0.96061\n",
      "[4]\tvalidation_0-auc:0.96910\tvalidation_1-auc:0.95455\n",
      "[5]\tvalidation_0-auc:0.97535\tvalidation_1-auc:0.95455\n",
      "[6]\tvalidation_0-auc:0.98438\tvalidation_1-auc:0.97273\n",
      "[7]\tvalidation_0-auc:0.98924\tvalidation_1-auc:0.97273\n",
      "[8]\tvalidation_0-auc:0.98854\tvalidation_1-auc:0.96667\n",
      "[9]\tvalidation_0-auc:0.98438\tvalidation_1-auc:0.96667\n",
      "[10]\tvalidation_0-auc:0.98576\tvalidation_1-auc:0.96667\n",
      "[11]\tvalidation_0-auc:0.98854\tvalidation_1-auc:0.96667\n",
      "[12]\tvalidation_0-auc:0.98576\tvalidation_1-auc:0.96667\n",
      "[13]\tvalidation_0-auc:0.98646\tvalidation_1-auc:0.96667\n",
      "[14]\tvalidation_0-auc:0.99062\tvalidation_1-auc:0.96667\n",
      "[15]\tvalidation_0-auc:0.98715\tvalidation_1-auc:0.96667\n",
      "[16]\tvalidation_0-auc:0.98750\tvalidation_1-auc:0.96667\n",
      "[17]\tvalidation_0-auc:0.98750\tvalidation_1-auc:0.96667\n",
      "[18]\tvalidation_0-auc:0.98785\tvalidation_1-auc:0.96667\n",
      "[19]\tvalidation_0-auc:0.98924\tvalidation_1-auc:0.96667\n",
      "[20]\tvalidation_0-auc:0.98924\tvalidation_1-auc:0.96667\n",
      "[21]\tvalidation_0-auc:0.99167\tvalidation_1-auc:0.96667\n",
      "[22]\tvalidation_0-auc:0.98958\tvalidation_1-auc:0.96667\n",
      "[23]\tvalidation_0-auc:0.99167\tvalidation_1-auc:0.96667\n",
      "[24]\tvalidation_0-auc:0.99236\tvalidation_1-auc:0.96667\n",
      "[25]\tvalidation_0-auc:0.99236\tvalidation_1-auc:0.96667\n",
      "[26]\tvalidation_0-auc:0.99236\tvalidation_1-auc:0.96667\n",
      "[27]\tvalidation_0-auc:0.99306\tvalidation_1-auc:0.96667\n",
      "[28]\tvalidation_0-auc:0.99236\tvalidation_1-auc:0.96667\n",
      "[29]\tvalidation_0-auc:0.99375\tvalidation_1-auc:0.96667\n",
      "[30]\tvalidation_0-auc:0.99375\tvalidation_1-auc:0.96667\n",
      "[31]\tvalidation_0-auc:0.99375\tvalidation_1-auc:0.96061\n",
      "[32]\tvalidation_0-auc:0.99375\tvalidation_1-auc:0.96061\n",
      "[33]\tvalidation_0-auc:0.99375\tvalidation_1-auc:0.96061\n",
      "[34]\tvalidation_0-auc:0.99375\tvalidation_1-auc:0.96061\n",
      "[35]\tvalidation_0-auc:0.99375\tvalidation_1-auc:0.96061\n",
      "[0]\tvalidation_0-auc:0.96146\tvalidation_1-auc:0.95455\n",
      "[1]\tvalidation_0-auc:0.92604\tvalidation_1-auc:0.93636\n",
      "[2]\tvalidation_0-auc:0.93715\tvalidation_1-auc:0.94545\n",
      "[3]\tvalidation_0-auc:0.95278\tvalidation_1-auc:0.98788\n",
      "[4]\tvalidation_0-auc:0.95694\tvalidation_1-auc:0.98788\n",
      "[5]\tvalidation_0-auc:0.96319\tvalidation_1-auc:0.98788\n",
      "[6]\tvalidation_0-auc:0.96319\tvalidation_1-auc:0.98788\n",
      "[7]\tvalidation_0-auc:0.97500\tvalidation_1-auc:0.98788\n",
      "[8]\tvalidation_0-auc:0.97257\tvalidation_1-auc:0.98788\n"
     ]
    },
    {
     "name": "stderr",
     "output_type": "stream",
     "text": [
      "c:\\Users\\wndgj\\AppData\\Local\\Programs\\Python\\Python310\\lib\\site-packages\\xgboost\\sklearn.py:793: UserWarning: `eval_metric` in `fit` method is deprecated for better compatibility with scikit-learn, use `eval_metric` in constructor or`set_params` instead.\n",
      "  warnings.warn(\n",
      "c:\\Users\\wndgj\\AppData\\Local\\Programs\\Python\\Python310\\lib\\site-packages\\xgboost\\sklearn.py:793: UserWarning: `early_stopping_rounds` in `fit` method is deprecated for better compatibility with scikit-learn, use `early_stopping_rounds` in constructor or`set_params` instead.\n",
      "  warnings.warn(\n"
     ]
    },
    {
     "name": "stdout",
     "output_type": "stream",
     "text": [
      "[9]\tvalidation_0-auc:0.98333\tvalidation_1-auc:0.99394\n",
      "[10]\tvalidation_0-auc:0.97917\tvalidation_1-auc:0.99394\n",
      "[11]\tvalidation_0-auc:0.98264\tvalidation_1-auc:0.99394\n",
      "[12]\tvalidation_0-auc:0.98194\tvalidation_1-auc:0.99394\n",
      "[13]\tvalidation_0-auc:0.98403\tvalidation_1-auc:0.99394\n",
      "[14]\tvalidation_0-auc:0.98611\tvalidation_1-auc:0.99394\n",
      "[15]\tvalidation_0-auc:0.98681\tvalidation_1-auc:0.99394\n",
      "[16]\tvalidation_0-auc:0.98681\tvalidation_1-auc:0.99394\n",
      "[17]\tvalidation_0-auc:0.98681\tvalidation_1-auc:0.99394\n",
      "[18]\tvalidation_0-auc:0.98611\tvalidation_1-auc:0.98788\n",
      "[19]\tvalidation_0-auc:0.98611\tvalidation_1-auc:0.98788\n",
      "[20]\tvalidation_0-auc:0.98403\tvalidation_1-auc:0.98788\n",
      "[21]\tvalidation_0-auc:0.98333\tvalidation_1-auc:0.97576\n",
      "[22]\tvalidation_0-auc:0.98333\tvalidation_1-auc:0.97576\n",
      "[23]\tvalidation_0-auc:0.98333\tvalidation_1-auc:0.97576\n",
      "[24]\tvalidation_0-auc:0.98333\tvalidation_1-auc:0.97576\n",
      "[25]\tvalidation_0-auc:0.98333\tvalidation_1-auc:0.97576\n",
      "[26]\tvalidation_0-auc:0.98333\tvalidation_1-auc:0.97576\n",
      "[27]\tvalidation_0-auc:0.98333\tvalidation_1-auc:0.97576\n",
      "[28]\tvalidation_0-auc:0.98333\tvalidation_1-auc:0.97576\n",
      "[29]\tvalidation_0-auc:0.98333\tvalidation_1-auc:0.97576\n",
      "[30]\tvalidation_0-auc:0.98333\tvalidation_1-auc:0.97576\n",
      "[31]\tvalidation_0-auc:0.98333\tvalidation_1-auc:0.97576\n",
      "[32]\tvalidation_0-auc:0.98194\tvalidation_1-auc:0.97576\n",
      "[33]\tvalidation_0-auc:0.98194\tvalidation_1-auc:0.97576\n",
      "[34]\tvalidation_0-auc:0.98194\tvalidation_1-auc:0.97576\n",
      "[35]\tvalidation_0-auc:0.98194\tvalidation_1-auc:0.97576\n",
      "[36]\tvalidation_0-auc:0.98194\tvalidation_1-auc:0.97576\n",
      "[37]\tvalidation_0-auc:0.98194\tvalidation_1-auc:0.97576\n",
      "[38]\tvalidation_0-auc:0.98194\tvalidation_1-auc:0.97576\n",
      "[0]\tvalidation_0-auc:0.91944\tvalidation_1-auc:0.96667\n",
      "[1]\tvalidation_0-auc:0.93056\tvalidation_1-auc:0.99091\n",
      "[2]\tvalidation_0-auc:0.93437\tvalidation_1-auc:0.99091\n"
     ]
    },
    {
     "name": "stderr",
     "output_type": "stream",
     "text": [
      "c:\\Users\\wndgj\\AppData\\Local\\Programs\\Python\\Python310\\lib\\site-packages\\xgboost\\sklearn.py:793: UserWarning: `eval_metric` in `fit` method is deprecated for better compatibility with scikit-learn, use `eval_metric` in constructor or`set_params` instead.\n",
      "  warnings.warn(\n",
      "c:\\Users\\wndgj\\AppData\\Local\\Programs\\Python\\Python310\\lib\\site-packages\\xgboost\\sklearn.py:793: UserWarning: `early_stopping_rounds` in `fit` method is deprecated for better compatibility with scikit-learn, use `early_stopping_rounds` in constructor or`set_params` instead.\n",
      "  warnings.warn(\n"
     ]
    },
    {
     "name": "stdout",
     "output_type": "stream",
     "text": [
      "[3]\tvalidation_0-auc:0.94757\tvalidation_1-auc:0.99091\n",
      "[4]\tvalidation_0-auc:0.93924\tvalidation_1-auc:0.98485\n",
      "[5]\tvalidation_0-auc:0.95174\tvalidation_1-auc:0.98485\n",
      "[6]\tvalidation_0-auc:0.94757\tvalidation_1-auc:0.98485\n",
      "[7]\tvalidation_0-auc:0.94757\tvalidation_1-auc:0.98485\n",
      "[8]\tvalidation_0-auc:0.94201\tvalidation_1-auc:0.96970\n",
      "[9]\tvalidation_0-auc:0.93715\tvalidation_1-auc:0.94545\n",
      "[10]\tvalidation_0-auc:0.94340\tvalidation_1-auc:0.95758\n",
      "[11]\tvalidation_0-auc:0.94132\tvalidation_1-auc:0.94545\n",
      "[12]\tvalidation_0-auc:0.94271\tvalidation_1-auc:0.94545\n",
      "[13]\tvalidation_0-auc:0.93924\tvalidation_1-auc:0.93333\n",
      "[14]\tvalidation_0-auc:0.93924\tvalidation_1-auc:0.93333\n",
      "[15]\tvalidation_0-auc:0.93993\tvalidation_1-auc:0.93333\n",
      "[16]\tvalidation_0-auc:0.94167\tvalidation_1-auc:0.93333\n",
      "[17]\tvalidation_0-auc:0.94167\tvalidation_1-auc:0.94545\n",
      "[18]\tvalidation_0-auc:0.94167\tvalidation_1-auc:0.94545\n",
      "[19]\tvalidation_0-auc:0.94167\tvalidation_1-auc:0.94545\n",
      "[20]\tvalidation_0-auc:0.94167\tvalidation_1-auc:0.94545\n",
      "[21]\tvalidation_0-auc:0.94167\tvalidation_1-auc:0.94545\n",
      "[22]\tvalidation_0-auc:0.94167\tvalidation_1-auc:0.94545\n",
      "[23]\tvalidation_0-auc:0.94167\tvalidation_1-auc:0.94545\n",
      "[24]\tvalidation_0-auc:0.94167\tvalidation_1-auc:0.94545\n",
      "[25]\tvalidation_0-auc:0.94167\tvalidation_1-auc:0.94545\n",
      "[26]\tvalidation_0-auc:0.94167\tvalidation_1-auc:0.94545\n",
      "[27]\tvalidation_0-auc:0.94167\tvalidation_1-auc:0.94545\n",
      "[28]\tvalidation_0-auc:0.94167\tvalidation_1-auc:0.94545\n",
      "[29]\tvalidation_0-auc:0.94167\tvalidation_1-auc:0.94545\n",
      "[30]\tvalidation_0-auc:0.94167\tvalidation_1-auc:0.94545\n"
     ]
    },
    {
     "name": "stderr",
     "output_type": "stream",
     "text": [
      "c:\\Users\\wndgj\\AppData\\Local\\Programs\\Python\\Python310\\lib\\site-packages\\xgboost\\sklearn.py:793: UserWarning: `eval_metric` in `fit` method is deprecated for better compatibility with scikit-learn, use `eval_metric` in constructor or`set_params` instead.\n",
      "  warnings.warn(\n",
      "c:\\Users\\wndgj\\AppData\\Local\\Programs\\Python\\Python310\\lib\\site-packages\\xgboost\\sklearn.py:793: UserWarning: `early_stopping_rounds` in `fit` method is deprecated for better compatibility with scikit-learn, use `early_stopping_rounds` in constructor or`set_params` instead.\n",
      "  warnings.warn(\n"
     ]
    },
    {
     "name": "stdout",
     "output_type": "stream",
     "text": [
      "[0]\tvalidation_0-auc:0.98681\tvalidation_1-auc:0.98485\n",
      "[1]\tvalidation_0-auc:0.99062\tvalidation_1-auc:0.99091\n",
      "[2]\tvalidation_0-auc:0.99062\tvalidation_1-auc:0.99091\n",
      "[3]\tvalidation_0-auc:0.99583\tvalidation_1-auc:0.98182\n",
      "[4]\tvalidation_0-auc:0.99722\tvalidation_1-auc:0.98182\n",
      "[5]\tvalidation_0-auc:0.99792\tvalidation_1-auc:0.98788\n",
      "[6]\tvalidation_0-auc:0.99861\tvalidation_1-auc:0.98788\n",
      "[7]\tvalidation_0-auc:0.99861\tvalidation_1-auc:0.98788\n",
      "[8]\tvalidation_0-auc:0.99931\tvalidation_1-auc:0.98788\n",
      "[9]\tvalidation_0-auc:0.99931\tvalidation_1-auc:0.98788\n",
      "[10]\tvalidation_0-auc:0.99931\tvalidation_1-auc:0.98182\n",
      "[11]\tvalidation_0-auc:0.99931\tvalidation_1-auc:0.98182\n",
      "[12]\tvalidation_0-auc:1.00000\tvalidation_1-auc:0.98182\n",
      "[13]\tvalidation_0-auc:0.99931\tvalidation_1-auc:0.98182\n",
      "[14]\tvalidation_0-auc:1.00000\tvalidation_1-auc:0.98182\n",
      "[15]\tvalidation_0-auc:1.00000\tvalidation_1-auc:0.98182\n",
      "[16]\tvalidation_0-auc:1.00000\tvalidation_1-auc:0.98182\n",
      "[17]\tvalidation_0-auc:1.00000\tvalidation_1-auc:0.98182\n",
      "[18]\tvalidation_0-auc:1.00000\tvalidation_1-auc:0.98182\n",
      "[19]\tvalidation_0-auc:1.00000\tvalidation_1-auc:0.98182\n",
      "[20]\tvalidation_0-auc:1.00000\tvalidation_1-auc:0.98182\n",
      "[21]\tvalidation_0-auc:1.00000\tvalidation_1-auc:0.98182\n",
      "[22]\tvalidation_0-auc:1.00000\tvalidation_1-auc:0.98182\n",
      "[23]\tvalidation_0-auc:1.00000\tvalidation_1-auc:0.98182\n",
      "[24]\tvalidation_0-auc:1.00000\tvalidation_1-auc:0.98182\n",
      "[25]\tvalidation_0-auc:1.00000\tvalidation_1-auc:0.98182\n",
      "[26]\tvalidation_0-auc:1.00000\tvalidation_1-auc:0.98182\n",
      "[27]\tvalidation_0-auc:1.00000\tvalidation_1-auc:0.98182\n",
      "[28]\tvalidation_0-auc:1.00000\tvalidation_1-auc:0.97576\n",
      "[29]\tvalidation_0-auc:1.00000\tvalidation_1-auc:0.97576\n",
      "[30]\tvalidation_0-auc:1.00000\tvalidation_1-auc:0.97576\n",
      "[31]\tvalidation_0-auc:1.00000\tvalidation_1-auc:0.97576\n",
      "GridSearchCV 최적 파라미터: {'colsample_bytree': 0.75, 'max_depth': 5, 'min_child_weight': 1}\n",
      "ROC AUC: 0.9909\n"
     ]
    }
   ],
   "source": [
    "from sklearn.model_selection import GridSearchCV\n",
    "\n",
    "xgb_clf = XGBClassifier(n_estimators=100)\n",
    "\n",
    "params = {'max_depth':[5,7], 'min_child_weight':[1, 3], 'colsample_bytree':[0.5, 0.75]}\n",
    "\n",
    "gridcv = GridSearchCV(xgb_clf, param_grid=params, cv=3)\n",
    "gridcv.fit(X_train, y_train, early_stopping_rounds=30, eval_metric=\"auc\", \n",
    "           eval_set=[(X_train, y_train), (X_test, y_test)])\n",
    "\n",
    "print('GridSearchCV 최적 파라미터:', gridcv.best_params_)\n",
    "\n",
    "xgb_roc_score = roc_auc_score(y_test, gridcv.predict_proba(X_test)[:, 1], average='macro')\n",
    "print('ROC AUC: {0:.4f}'.format(xgb_roc_score))"
   ]
  },
  {
   "cell_type": "code",
   "execution_count": 294,
   "metadata": {},
   "outputs": [
    {
     "name": "stdout",
     "output_type": "stream",
     "text": [
      "[19:33:09] WARNING: C:/Users/Administrator/workspace/xgboost-win64_release_1.6.0/src/learner.cc:627: \n",
      "Parameters: { \"learning_reate\" } might not be used.\n",
      "\n",
      "  This could be a false alarm, with some parameters getting used by language bindings but\n",
      "  then being mistakenly passed down to XGBoost core, or some parameter actually being used\n",
      "  but getting flagged wrongly here. Please open an issue if you find any such cases.\n",
      "\n",
      "\n",
      "[0]\tvalidation_0-auc:0.93785\tvalidation_1-auc:0.66970\n",
      "[1]\tvalidation_0-auc:0.98889\tvalidation_1-auc:0.90000\n",
      "[2]\tvalidation_0-auc:0.99444\tvalidation_1-auc:0.90606\n",
      "[3]\tvalidation_0-auc:0.99792\tvalidation_1-auc:0.90909\n",
      "[4]\tvalidation_0-auc:0.99792\tvalidation_1-auc:0.95152\n",
      "[5]\tvalidation_0-auc:0.99931\tvalidation_1-auc:0.98182\n",
      "[6]\tvalidation_0-auc:0.99931\tvalidation_1-auc:0.98788\n"
     ]
    },
    {
     "name": "stderr",
     "output_type": "stream",
     "text": [
      "c:\\Users\\wndgj\\AppData\\Local\\Programs\\Python\\Python310\\lib\\site-packages\\xgboost\\sklearn.py:793: UserWarning: `eval_metric` in `fit` method is deprecated for better compatibility with scikit-learn, use `eval_metric` in constructor or`set_params` instead.\n",
      "  warnings.warn(\n",
      "c:\\Users\\wndgj\\AppData\\Local\\Programs\\Python\\Python310\\lib\\site-packages\\xgboost\\sklearn.py:793: UserWarning: `early_stopping_rounds` in `fit` method is deprecated for better compatibility with scikit-learn, use `early_stopping_rounds` in constructor or`set_params` instead.\n",
      "  warnings.warn(\n"
     ]
    },
    {
     "name": "stdout",
     "output_type": "stream",
     "text": [
      "[7]\tvalidation_0-auc:0.99931\tvalidation_1-auc:0.98788\n",
      "[8]\tvalidation_0-auc:0.99931\tvalidation_1-auc:0.98788\n",
      "[9]\tvalidation_0-auc:0.99931\tvalidation_1-auc:0.98788\n",
      "[10]\tvalidation_0-auc:0.99931\tvalidation_1-auc:0.98788\n",
      "[11]\tvalidation_0-auc:0.99931\tvalidation_1-auc:0.98788\n",
      "[12]\tvalidation_0-auc:0.99931\tvalidation_1-auc:0.98788\n",
      "[13]\tvalidation_0-auc:0.99931\tvalidation_1-auc:0.98788\n",
      "[14]\tvalidation_0-auc:0.99931\tvalidation_1-auc:0.98788\n",
      "[15]\tvalidation_0-auc:0.99931\tvalidation_1-auc:0.98788\n",
      "[16]\tvalidation_0-auc:1.00000\tvalidation_1-auc:0.98788\n",
      "[17]\tvalidation_0-auc:1.00000\tvalidation_1-auc:0.98788\n",
      "[18]\tvalidation_0-auc:1.00000\tvalidation_1-auc:0.98788\n",
      "[19]\tvalidation_0-auc:1.00000\tvalidation_1-auc:0.98788\n",
      "[20]\tvalidation_0-auc:1.00000\tvalidation_1-auc:0.98788\n",
      "[21]\tvalidation_0-auc:1.00000\tvalidation_1-auc:0.98788\n",
      "[22]\tvalidation_0-auc:1.00000\tvalidation_1-auc:0.98788\n",
      "[23]\tvalidation_0-auc:1.00000\tvalidation_1-auc:0.98788\n",
      "[24]\tvalidation_0-auc:1.00000\tvalidation_1-auc:0.98788\n",
      "[25]\tvalidation_0-auc:1.00000\tvalidation_1-auc:0.98788\n",
      "[26]\tvalidation_0-auc:1.00000\tvalidation_1-auc:0.98788\n",
      "[27]\tvalidation_0-auc:1.00000\tvalidation_1-auc:0.98788\n",
      "[28]\tvalidation_0-auc:1.00000\tvalidation_1-auc:0.98788\n",
      "[29]\tvalidation_0-auc:1.00000\tvalidation_1-auc:0.98788\n",
      "[30]\tvalidation_0-auc:1.00000\tvalidation_1-auc:0.98182\n",
      "[31]\tvalidation_0-auc:1.00000\tvalidation_1-auc:0.98788\n",
      "[32]\tvalidation_0-auc:1.00000\tvalidation_1-auc:0.98182\n",
      "[33]\tvalidation_0-auc:1.00000\tvalidation_1-auc:0.98182\n",
      "[34]\tvalidation_0-auc:1.00000\tvalidation_1-auc:0.98182\n",
      "[35]\tvalidation_0-auc:1.00000\tvalidation_1-auc:0.98182\n",
      "[36]\tvalidation_0-auc:1.00000\tvalidation_1-auc:0.98182\n",
      "[37]\tvalidation_0-auc:1.00000\tvalidation_1-auc:0.98182\n",
      "[38]\tvalidation_0-auc:1.00000\tvalidation_1-auc:0.98182\n",
      "[39]\tvalidation_0-auc:1.00000\tvalidation_1-auc:0.98182\n",
      "[40]\tvalidation_0-auc:1.00000\tvalidation_1-auc:0.98182\n",
      "[41]\tvalidation_0-auc:1.00000\tvalidation_1-auc:0.98182\n",
      "[42]\tvalidation_0-auc:1.00000\tvalidation_1-auc:0.98182\n",
      "[43]\tvalidation_0-auc:1.00000\tvalidation_1-auc:0.98182\n",
      "[44]\tvalidation_0-auc:1.00000\tvalidation_1-auc:0.98182\n",
      "[45]\tvalidation_0-auc:1.00000\tvalidation_1-auc:0.98182\n",
      "[46]\tvalidation_0-auc:1.00000\tvalidation_1-auc:0.98182\n",
      "[47]\tvalidation_0-auc:1.00000\tvalidation_1-auc:0.98182\n",
      "[48]\tvalidation_0-auc:1.00000\tvalidation_1-auc:0.98182\n",
      "[49]\tvalidation_0-auc:1.00000\tvalidation_1-auc:0.98182\n",
      "[50]\tvalidation_0-auc:1.00000\tvalidation_1-auc:0.98182\n",
      "[51]\tvalidation_0-auc:1.00000\tvalidation_1-auc:0.98182\n",
      "[52]\tvalidation_0-auc:1.00000\tvalidation_1-auc:0.98182\n",
      "[53]\tvalidation_0-auc:1.00000\tvalidation_1-auc:0.98182\n",
      "[54]\tvalidation_0-auc:1.00000\tvalidation_1-auc:0.98182\n",
      "[55]\tvalidation_0-auc:1.00000\tvalidation_1-auc:0.98182\n",
      "[56]\tvalidation_0-auc:1.00000\tvalidation_1-auc:0.98182\n",
      "[57]\tvalidation_0-auc:1.00000\tvalidation_1-auc:0.98182\n",
      "[58]\tvalidation_0-auc:1.00000\tvalidation_1-auc:0.98182\n",
      "[59]\tvalidation_0-auc:1.00000\tvalidation_1-auc:0.98182\n",
      "[60]\tvalidation_0-auc:1.00000\tvalidation_1-auc:0.98182\n",
      "[61]\tvalidation_0-auc:1.00000\tvalidation_1-auc:0.98182\n",
      "[62]\tvalidation_0-auc:1.00000\tvalidation_1-auc:0.98182\n",
      "[63]\tvalidation_0-auc:1.00000\tvalidation_1-auc:0.98182\n",
      "[64]\tvalidation_0-auc:1.00000\tvalidation_1-auc:0.98182\n",
      "[65]\tvalidation_0-auc:1.00000\tvalidation_1-auc:0.98182\n",
      "[66]\tvalidation_0-auc:1.00000\tvalidation_1-auc:0.98182\n",
      "[67]\tvalidation_0-auc:1.00000\tvalidation_1-auc:0.98182\n",
      "[68]\tvalidation_0-auc:1.00000\tvalidation_1-auc:0.98182\n",
      "[69]\tvalidation_0-auc:1.00000\tvalidation_1-auc:0.98182\n",
      "[70]\tvalidation_0-auc:1.00000\tvalidation_1-auc:0.98182\n",
      "[71]\tvalidation_0-auc:1.00000\tvalidation_1-auc:0.98182\n",
      "[72]\tvalidation_0-auc:1.00000\tvalidation_1-auc:0.98182\n",
      "[73]\tvalidation_0-auc:1.00000\tvalidation_1-auc:0.98182\n",
      "[74]\tvalidation_0-auc:1.00000\tvalidation_1-auc:0.98182\n",
      "[75]\tvalidation_0-auc:1.00000\tvalidation_1-auc:0.98182\n",
      "[76]\tvalidation_0-auc:1.00000\tvalidation_1-auc:0.98182\n",
      "[77]\tvalidation_0-auc:1.00000\tvalidation_1-auc:0.98182\n",
      "[78]\tvalidation_0-auc:1.00000\tvalidation_1-auc:0.98182\n",
      "[79]\tvalidation_0-auc:1.00000\tvalidation_1-auc:0.98182\n",
      "[80]\tvalidation_0-auc:1.00000\tvalidation_1-auc:0.98182\n",
      "[81]\tvalidation_0-auc:1.00000\tvalidation_1-auc:0.98182\n",
      "[82]\tvalidation_0-auc:1.00000\tvalidation_1-auc:0.98182\n",
      "[83]\tvalidation_0-auc:1.00000\tvalidation_1-auc:0.98182\n",
      "[84]\tvalidation_0-auc:1.00000\tvalidation_1-auc:0.98182\n",
      "[85]\tvalidation_0-auc:1.00000\tvalidation_1-auc:0.98182\n",
      "[86]\tvalidation_0-auc:1.00000\tvalidation_1-auc:0.98182\n",
      "[87]\tvalidation_0-auc:1.00000\tvalidation_1-auc:0.98182\n",
      "[88]\tvalidation_0-auc:1.00000\tvalidation_1-auc:0.98182\n",
      "[89]\tvalidation_0-auc:1.00000\tvalidation_1-auc:0.98182\n",
      "[90]\tvalidation_0-auc:1.00000\tvalidation_1-auc:0.98182\n",
      "[91]\tvalidation_0-auc:1.00000\tvalidation_1-auc:0.98182\n",
      "[92]\tvalidation_0-auc:1.00000\tvalidation_1-auc:0.98182\n",
      "[93]\tvalidation_0-auc:1.00000\tvalidation_1-auc:0.98182\n",
      "[94]\tvalidation_0-auc:1.00000\tvalidation_1-auc:0.98182\n",
      "[95]\tvalidation_0-auc:1.00000\tvalidation_1-auc:0.98182\n",
      "[96]\tvalidation_0-auc:1.00000\tvalidation_1-auc:0.98182\n",
      "[97]\tvalidation_0-auc:1.00000\tvalidation_1-auc:0.98182\n",
      "[98]\tvalidation_0-auc:1.00000\tvalidation_1-auc:0.98182\n",
      "[99]\tvalidation_0-auc:1.00000\tvalidation_1-auc:0.98182\n",
      "[100]\tvalidation_0-auc:1.00000\tvalidation_1-auc:0.98182\n",
      "[101]\tvalidation_0-auc:1.00000\tvalidation_1-auc:0.98182\n",
      "[102]\tvalidation_0-auc:1.00000\tvalidation_1-auc:0.98182\n",
      "[103]\tvalidation_0-auc:1.00000\tvalidation_1-auc:0.98182\n",
      "[104]\tvalidation_0-auc:1.00000\tvalidation_1-auc:0.98182\n",
      "[105]\tvalidation_0-auc:1.00000\tvalidation_1-auc:0.98182\n",
      "[106]\tvalidation_0-auc:1.00000\tvalidation_1-auc:0.98182\n",
      "[107]\tvalidation_0-auc:1.00000\tvalidation_1-auc:0.98182\n",
      "[108]\tvalidation_0-auc:1.00000\tvalidation_1-auc:0.98182\n",
      "[109]\tvalidation_0-auc:1.00000\tvalidation_1-auc:0.98182\n",
      "[110]\tvalidation_0-auc:1.00000\tvalidation_1-auc:0.98182\n",
      "[111]\tvalidation_0-auc:1.00000\tvalidation_1-auc:0.98182\n",
      "[112]\tvalidation_0-auc:1.00000\tvalidation_1-auc:0.98182\n",
      "[113]\tvalidation_0-auc:1.00000\tvalidation_1-auc:0.98182\n",
      "[114]\tvalidation_0-auc:1.00000\tvalidation_1-auc:0.98182\n",
      "[115]\tvalidation_0-auc:1.00000\tvalidation_1-auc:0.98182\n",
      "[116]\tvalidation_0-auc:1.00000\tvalidation_1-auc:0.98182\n",
      "[117]\tvalidation_0-auc:1.00000\tvalidation_1-auc:0.98182\n",
      "[118]\tvalidation_0-auc:1.00000\tvalidation_1-auc:0.98182\n",
      "[119]\tvalidation_0-auc:1.00000\tvalidation_1-auc:0.98182\n",
      "[120]\tvalidation_0-auc:1.00000\tvalidation_1-auc:0.98182\n",
      "[121]\tvalidation_0-auc:1.00000\tvalidation_1-auc:0.98182\n",
      "[122]\tvalidation_0-auc:1.00000\tvalidation_1-auc:0.98182\n",
      "[123]\tvalidation_0-auc:1.00000\tvalidation_1-auc:0.98182\n",
      "[124]\tvalidation_0-auc:1.00000\tvalidation_1-auc:0.98182\n",
      "[125]\tvalidation_0-auc:1.00000\tvalidation_1-auc:0.98182\n",
      "[126]\tvalidation_0-auc:1.00000\tvalidation_1-auc:0.98182\n",
      "[127]\tvalidation_0-auc:1.00000\tvalidation_1-auc:0.98182\n",
      "[128]\tvalidation_0-auc:1.00000\tvalidation_1-auc:0.98182\n",
      "[129]\tvalidation_0-auc:1.00000\tvalidation_1-auc:0.98182\n",
      "[130]\tvalidation_0-auc:1.00000\tvalidation_1-auc:0.98182\n",
      "[131]\tvalidation_0-auc:1.00000\tvalidation_1-auc:0.98182\n",
      "[132]\tvalidation_0-auc:1.00000\tvalidation_1-auc:0.98182\n",
      "[133]\tvalidation_0-auc:1.00000\tvalidation_1-auc:0.98182\n",
      "[134]\tvalidation_0-auc:1.00000\tvalidation_1-auc:0.98182\n",
      "[135]\tvalidation_0-auc:1.00000\tvalidation_1-auc:0.98182\n",
      "[136]\tvalidation_0-auc:1.00000\tvalidation_1-auc:0.98182\n",
      "[137]\tvalidation_0-auc:1.00000\tvalidation_1-auc:0.98182\n",
      "[138]\tvalidation_0-auc:1.00000\tvalidation_1-auc:0.98182\n",
      "[139]\tvalidation_0-auc:1.00000\tvalidation_1-auc:0.98182\n",
      "[140]\tvalidation_0-auc:1.00000\tvalidation_1-auc:0.98182\n",
      "[141]\tvalidation_0-auc:1.00000\tvalidation_1-auc:0.98182\n",
      "[142]\tvalidation_0-auc:1.00000\tvalidation_1-auc:0.98182\n",
      "[143]\tvalidation_0-auc:1.00000\tvalidation_1-auc:0.98182\n",
      "[144]\tvalidation_0-auc:1.00000\tvalidation_1-auc:0.98182\n",
      "[145]\tvalidation_0-auc:1.00000\tvalidation_1-auc:0.98182\n",
      "[146]\tvalidation_0-auc:1.00000\tvalidation_1-auc:0.98182\n",
      "[147]\tvalidation_0-auc:1.00000\tvalidation_1-auc:0.98182\n",
      "[148]\tvalidation_0-auc:1.00000\tvalidation_1-auc:0.98182\n",
      "[149]\tvalidation_0-auc:1.00000\tvalidation_1-auc:0.98182\n",
      "[150]\tvalidation_0-auc:1.00000\tvalidation_1-auc:0.98182\n",
      "[151]\tvalidation_0-auc:1.00000\tvalidation_1-auc:0.98182\n",
      "[152]\tvalidation_0-auc:1.00000\tvalidation_1-auc:0.98182\n",
      "[153]\tvalidation_0-auc:1.00000\tvalidation_1-auc:0.98182\n",
      "[154]\tvalidation_0-auc:1.00000\tvalidation_1-auc:0.98182\n",
      "[155]\tvalidation_0-auc:1.00000\tvalidation_1-auc:0.98182\n",
      "[156]\tvalidation_0-auc:1.00000\tvalidation_1-auc:0.98182\n",
      "[157]\tvalidation_0-auc:1.00000\tvalidation_1-auc:0.98182\n",
      "[158]\tvalidation_0-auc:1.00000\tvalidation_1-auc:0.98182\n",
      "[159]\tvalidation_0-auc:1.00000\tvalidation_1-auc:0.98182\n",
      "[160]\tvalidation_0-auc:1.00000\tvalidation_1-auc:0.98182\n",
      "[161]\tvalidation_0-auc:1.00000\tvalidation_1-auc:0.98182\n",
      "[162]\tvalidation_0-auc:1.00000\tvalidation_1-auc:0.98182\n",
      "[163]\tvalidation_0-auc:1.00000\tvalidation_1-auc:0.98182\n",
      "[164]\tvalidation_0-auc:1.00000\tvalidation_1-auc:0.98182\n",
      "[165]\tvalidation_0-auc:1.00000\tvalidation_1-auc:0.98182\n",
      "[166]\tvalidation_0-auc:1.00000\tvalidation_1-auc:0.98182\n",
      "[167]\tvalidation_0-auc:1.00000\tvalidation_1-auc:0.98182\n",
      "[168]\tvalidation_0-auc:1.00000\tvalidation_1-auc:0.98182\n",
      "[169]\tvalidation_0-auc:1.00000\tvalidation_1-auc:0.98182\n",
      "[170]\tvalidation_0-auc:1.00000\tvalidation_1-auc:0.98182\n",
      "[171]\tvalidation_0-auc:1.00000\tvalidation_1-auc:0.98182\n",
      "[172]\tvalidation_0-auc:1.00000\tvalidation_1-auc:0.98182\n",
      "[173]\tvalidation_0-auc:1.00000\tvalidation_1-auc:0.98182\n",
      "[174]\tvalidation_0-auc:1.00000\tvalidation_1-auc:0.98182\n",
      "[175]\tvalidation_0-auc:1.00000\tvalidation_1-auc:0.98182\n",
      "[176]\tvalidation_0-auc:1.00000\tvalidation_1-auc:0.98182\n",
      "[177]\tvalidation_0-auc:1.00000\tvalidation_1-auc:0.98182\n",
      "[178]\tvalidation_0-auc:1.00000\tvalidation_1-auc:0.98182\n",
      "[179]\tvalidation_0-auc:1.00000\tvalidation_1-auc:0.98182\n",
      "[180]\tvalidation_0-auc:1.00000\tvalidation_1-auc:0.98182\n",
      "[181]\tvalidation_0-auc:1.00000\tvalidation_1-auc:0.98182\n",
      "[182]\tvalidation_0-auc:1.00000\tvalidation_1-auc:0.98182\n",
      "[183]\tvalidation_0-auc:1.00000\tvalidation_1-auc:0.98182\n",
      "[184]\tvalidation_0-auc:1.00000\tvalidation_1-auc:0.98182\n",
      "[185]\tvalidation_0-auc:1.00000\tvalidation_1-auc:0.98182\n",
      "[186]\tvalidation_0-auc:1.00000\tvalidation_1-auc:0.98182\n",
      "[187]\tvalidation_0-auc:1.00000\tvalidation_1-auc:0.98182\n",
      "[188]\tvalidation_0-auc:1.00000\tvalidation_1-auc:0.98182\n",
      "[189]\tvalidation_0-auc:1.00000\tvalidation_1-auc:0.98182\n",
      "[190]\tvalidation_0-auc:1.00000\tvalidation_1-auc:0.98182\n",
      "[191]\tvalidation_0-auc:1.00000\tvalidation_1-auc:0.98182\n",
      "[192]\tvalidation_0-auc:1.00000\tvalidation_1-auc:0.98182\n",
      "[193]\tvalidation_0-auc:1.00000\tvalidation_1-auc:0.98182\n",
      "[194]\tvalidation_0-auc:1.00000\tvalidation_1-auc:0.98182\n",
      "[195]\tvalidation_0-auc:1.00000\tvalidation_1-auc:0.98182\n",
      "[196]\tvalidation_0-auc:1.00000\tvalidation_1-auc:0.98182\n",
      "[197]\tvalidation_0-auc:1.00000\tvalidation_1-auc:0.98182\n",
      "[198]\tvalidation_0-auc:1.00000\tvalidation_1-auc:0.98182\n",
      "[199]\tvalidation_0-auc:1.00000\tvalidation_1-auc:0.98182\n",
      "[200]\tvalidation_0-auc:1.00000\tvalidation_1-auc:0.98182\n",
      "[201]\tvalidation_0-auc:1.00000\tvalidation_1-auc:0.98182\n",
      "[202]\tvalidation_0-auc:1.00000\tvalidation_1-auc:0.98182\n",
      "[203]\tvalidation_0-auc:1.00000\tvalidation_1-auc:0.98182\n",
      "[204]\tvalidation_0-auc:1.00000\tvalidation_1-auc:0.98182\n",
      "[205]\tvalidation_0-auc:1.00000\tvalidation_1-auc:0.98182\n",
      "ROC AUC: 0.9879\n"
     ]
    }
   ],
   "source": [
    "xgb_clf = XGBClassifier(n_estimators=1000, random_state=11, learning_reate=0.02, max_depth=7, min_child_weight=1, colsample_bytree=0.75, reg_alpha=0.03)\n",
    "\n",
    "xgb_clf.fit(X_train, y_train, early_stopping_rounds=200, eval_metric=\"auc\", eval_set=[(X_train, y_train), (X_test, y_test)])\n",
    "\n",
    "xgb_roc_score = roc_auc_score(y_test, xgb_clf.predict_proba(X_test)[:, 1], average='macro')\n",
    "print('ROC AUC: {0:.4f}'.format(xgb_roc_score))"
   ]
  },
  {
   "cell_type": "code",
   "execution_count": 295,
   "metadata": {},
   "outputs": [
    {
     "data": {
      "text/plain": [
       "<AxesSubplot:title={'center':'Feature importance'}, xlabel='F score', ylabel='Features'>"
      ]
     },
     "execution_count": 295,
     "metadata": {},
     "output_type": "execute_result"
    },
    {
     "data": {
      "image/png": "[encoded data removed]",
      "text/plain": [
       "<Figure size 1152x720 with 1 Axes>"
      ]
     },
     "metadata": {
      "needs_background": "light"
     },
     "output_type": "display_data"
    }
   ],
   "source": [
    "from xgboost import plot_importance\n",
    "import matplotlib.pyplot as plt\n",
    "%matplotlib inline\n",
    "\n",
    "fig, ax = plt.subplots(1, 1, figsize=(16,10))\n",
    "plot_importance(xgb_clf, ax=ax)"
   ]
  },
  {
   "cell_type": "code",
   "execution_count": 305,
   "metadata": {},
   "outputs": [
    {
     "data": {
      "text/plain": [
       "<Figure size 1152x720 with 0 Axes>"
      ]
     },
     "metadata": {},
     "output_type": "display_data"
    }
   ],
   "source": [
    "from sklearn.tree import export_graphviz\n",
    "from sklearn import tree\n",
    "\n",
    "feature_names = [\"날짜\", \"등락률\", \"소비자물가지수\", \"소매판매지수\",  \"전년_동월_대비\"]\n",
    "target_names = [\"0\", \"1\"]\n",
    "\n",
    "plt.rcParams[\"font.family\"] = \"Malgun Gothic\"\n",
    "\n",
    "plt.figure(figsize=(16,10))\n",
    "export_graphviz(dt_clf, \n",
    "                out_file=\"tree_corona.dot\",\n",
    "                class_names=target_names, \n",
    "                feature_names=feature_names, \n",
    "                impurity=True, \n",
    "                filled=True, \n",
    "                rounded=True\n",
    "                )"
   ]
  },
  {
   "cell_type": "code",
   "execution_count": 307,
   "metadata": {},
   "outputs": [
    {
     "data": {
      "image/svg+xml": "<?xml version=\"1.0\" encoding=\"UTF-8\" standalone=\"no\"?>\n<!DOCTYPE svg PUBLIC \"-//W3C//DTD SVG 1.1//EN\"\n \"http://www.w3.org/Graphics/SVG/1.1/DTD/svg11.dtd\">\n<!-- Generated by graphviz version 4.0.0 (20220529.0937)\n -->\n<!-- Title: Tree Pages: 1 -->\n<svg width=\"791pt\" height=\"671pt\"\n viewBox=\"0.00 0.00 791.00 671.00\" xmlns=\"http://www.w3.org/2000/svg\" xmlns:xlink=\"http://www.w3.org/1999/xlink\">\n<g id=\"graph0\" class=\"graph\" transform=\"scale(1 1) rotate(0) translate(4 667)\">\n<title>Tree</title>\n<polygon fill=\"white\" stroke=\"transparent\" points=\"-4,4 -4,-667 787,-667 787,4 -4,4\"/>\n<!-- 0 -->\n<g id=\"node1\" class=\"node\">\n<title>0</title>\n<path fill=\"#88c4ef\" stroke=\"black\" d=\"M685,-663C685,-663 528,-663 528,-663 522,-663 516,-657 516,-651 516,-651 516,-592 516,-592 516,-586 522,-580 528,-580 528,-580 685,-580 685,-580 691,-580 697,-586 697,-592 697,-592 697,-651 697,-651 697,-657 691,-663 685,-663\"/>\n<text text-anchor=\"middle\" x=\"606.5\" y=\"-647.8\" font-family=\"Helvetica,sans-Serif\" font-size=\"14.00\">전년_동월_대비 &lt;= 0.5</text>\n<text text-anchor=\"middle\" x=\"606.5\" y=\"-632.8\" font-family=\"Helvetica,sans-Serif\" font-size=\"14.00\">gini = 0.408</text>\n<text text-anchor=\"middle\" x=\"606.5\" y=\"-617.8\" font-family=\"Helvetica,sans-Serif\" font-size=\"14.00\">samples = 84</text>\n<text text-anchor=\"middle\" x=\"606.5\" y=\"-602.8\" font-family=\"Helvetica,sans-Serif\" font-size=\"14.00\">value = [24, 60]</text>\n<text text-anchor=\"middle\" x=\"606.5\" y=\"-587.8\" font-family=\"Helvetica,sans-Serif\" font-size=\"14.00\">class = 1</text>\n</g>\n<!-- 1 -->\n<g id=\"node2\" class=\"node\">\n<title>1</title>\n<path fill=\"#fcefe6\" stroke=\"black\" d=\"M605,-544C605,-544 448,-544 448,-544 442,-544 436,-538 436,-532 436,-532 436,-473 436,-473 436,-467 442,-461 448,-461 448,-461 605,-461 605,-461 611,-461 617,-467 617,-473 617,-473 617,-532 617,-532 617,-538 611,-544 605,-544\"/>\n<text text-anchor=\"middle\" x=\"526.5\" y=\"-528.8\" font-family=\"Helvetica,sans-Serif\" font-size=\"14.00\">소매판매지수 &lt;= 0.016</text>\n<text text-anchor=\"middle\" x=\"526.5\" y=\"-513.8\" font-family=\"Helvetica,sans-Serif\" font-size=\"14.00\">gini = 0.498</text>\n<text text-anchor=\"middle\" x=\"526.5\" y=\"-498.8\" font-family=\"Helvetica,sans-Serif\" font-size=\"14.00\">samples = 45</text>\n<text text-anchor=\"middle\" x=\"526.5\" y=\"-483.8\" font-family=\"Helvetica,sans-Serif\" font-size=\"14.00\">value = [24, 21]</text>\n<text text-anchor=\"middle\" x=\"526.5\" y=\"-468.8\" font-family=\"Helvetica,sans-Serif\" font-size=\"14.00\">class = 0</text>\n</g>\n<!-- 0&#45;&gt;1 -->\n<g id=\"edge1\" class=\"edge\">\n<title>0&#45;&gt;1</title>\n<path fill=\"none\" stroke=\"black\" d=\"M578.74,-579.91C572.66,-571.01 566.16,-561.51 559.89,-552.33\"/>\n<polygon fill=\"black\" stroke=\"black\" points=\"562.74,-550.3 554.21,-544.02 556.96,-554.25 562.74,-550.3\"/>\n<text text-anchor=\"middle\" x=\"549.59\" y=\"-564.89\" font-family=\"Helvetica,sans-Serif\" font-size=\"14.00\">True</text>\n</g>\n<!-- 14 -->\n<g id=\"node15\" class=\"node\">\n<title>14</title>\n<path fill=\"#399de5\" stroke=\"black\" d=\"M728,-536.5C728,-536.5 647,-536.5 647,-536.5 641,-536.5 635,-530.5 635,-524.5 635,-524.5 635,-480.5 635,-480.5 635,-474.5 641,-468.5 647,-468.5 647,-468.5 728,-468.5 728,-468.5 734,-468.5 740,-474.5 740,-480.5 740,-480.5 740,-524.5 740,-524.5 740,-530.5 734,-536.5 728,-536.5\"/>\n<text text-anchor=\"middle\" x=\"687.5\" y=\"-521.3\" font-family=\"Helvetica,sans-Serif\" font-size=\"14.00\">gini = 0.0</text>\n<text text-anchor=\"middle\" x=\"687.5\" y=\"-506.3\" font-family=\"Helvetica,sans-Serif\" font-size=\"14.00\">samples = 39</text>\n<text text-anchor=\"middle\" x=\"687.5\" y=\"-491.3\" font-family=\"Helvetica,sans-Serif\" font-size=\"14.00\">value = [0, 39]</text>\n<text text-anchor=\"middle\" x=\"687.5\" y=\"-476.3\" font-family=\"Helvetica,sans-Serif\" font-size=\"14.00\">class = 1</text>\n</g>\n<!-- 0&#45;&gt;14 -->\n<g id=\"edge14\" class=\"edge\">\n<title>0&#45;&gt;14</title>\n<path fill=\"none\" stroke=\"black\" d=\"M634.6,-579.91C642.39,-568.65 650.86,-556.42 658.7,-545.11\"/>\n<polygon fill=\"black\" stroke=\"black\" points=\"661.72,-546.88 664.54,-536.67 655.97,-542.9 661.72,-546.88\"/>\n<text text-anchor=\"middle\" x=\"669.01\" y=\"-557.56\" font-family=\"Helvetica,sans-Serif\" font-size=\"14.00\">False</text>\n</g>\n<!-- 2 -->\n<g id=\"node3\" class=\"node\">\n<title>2</title>\n<path fill=\"#e89153\" stroke=\"black\" d=\"M488,-425C488,-425 383,-425 383,-425 377,-425 371,-419 371,-413 371,-413 371,-354 371,-354 371,-348 377,-342 383,-342 383,-342 488,-342 488,-342 494,-342 500,-348 500,-354 500,-354 500,-413 500,-413 500,-419 494,-425 488,-425\"/>\n<text text-anchor=\"middle\" x=\"435.5\" y=\"-409.8\" font-family=\"Helvetica,sans-Serif\" font-size=\"14.00\">등락률 &lt;= 0.094</text>\n<text text-anchor=\"middle\" x=\"435.5\" y=\"-394.8\" font-family=\"Helvetica,sans-Serif\" font-size=\"14.00\">gini = 0.204</text>\n<text text-anchor=\"middle\" x=\"435.5\" y=\"-379.8\" font-family=\"Helvetica,sans-Serif\" font-size=\"14.00\">samples = 26</text>\n<text text-anchor=\"middle\" x=\"435.5\" y=\"-364.8\" font-family=\"Helvetica,sans-Serif\" font-size=\"14.00\">value = [23, 3]</text>\n<text text-anchor=\"middle\" x=\"435.5\" y=\"-349.8\" font-family=\"Helvetica,sans-Serif\" font-size=\"14.00\">class = 0</text>\n</g>\n<!-- 1&#45;&gt;2 -->\n<g id=\"edge2\" class=\"edge\">\n<title>1&#45;&gt;2</title>\n<path fill=\"none\" stroke=\"black\" d=\"M494.93,-460.91C487.94,-451.92 480.47,-442.32 473.26,-433.05\"/>\n<polygon fill=\"black\" stroke=\"black\" points=\"475.92,-430.77 467.02,-425.02 470.39,-435.06 475.92,-430.77\"/>\n</g>\n<!-- 11 -->\n<g id=\"node12\" class=\"node\">\n<title>11</title>\n<path fill=\"#44a2e6\" stroke=\"black\" d=\"M704.5,-425C704.5,-425 530.5,-425 530.5,-425 524.5,-425 518.5,-419 518.5,-413 518.5,-413 518.5,-354 518.5,-354 518.5,-348 524.5,-342 530.5,-342 530.5,-342 704.5,-342 704.5,-342 710.5,-342 716.5,-348 716.5,-354 716.5,-354 716.5,-413 716.5,-413 716.5,-419 710.5,-425 704.5,-425\"/>\n<text text-anchor=\"middle\" x=\"617.5\" y=\"-409.8\" font-family=\"Helvetica,sans-Serif\" font-size=\"14.00\">소비자물가지수 &lt;= 0.005</text>\n<text text-anchor=\"middle\" x=\"617.5\" y=\"-394.8\" font-family=\"Helvetica,sans-Serif\" font-size=\"14.00\">gini = 0.1</text>\n<text text-anchor=\"middle\" x=\"617.5\" y=\"-379.8\" font-family=\"Helvetica,sans-Serif\" font-size=\"14.00\">samples = 19</text>\n<text text-anchor=\"middle\" x=\"617.5\" y=\"-364.8\" font-family=\"Helvetica,sans-Serif\" font-size=\"14.00\">value = [1, 18]</text>\n<text text-anchor=\"middle\" x=\"617.5\" y=\"-349.8\" font-family=\"Helvetica,sans-Serif\" font-size=\"14.00\">class = 1</text>\n</g>\n<!-- 1&#45;&gt;11 -->\n<g id=\"edge11\" class=\"edge\">\n<title>1&#45;&gt;11</title>\n<path fill=\"none\" stroke=\"black\" d=\"M558.07,-460.91C565.06,-451.92 572.53,-442.32 579.74,-433.05\"/>\n<polygon fill=\"black\" stroke=\"black\" points=\"582.61,-435.06 585.98,-425.02 577.08,-430.77 582.61,-435.06\"/>\n</g>\n<!-- 3 -->\n<g id=\"node4\" class=\"node\">\n<title>3</title>\n<path fill=\"#e68742\" stroke=\"black\" d=\"M307,-306C307,-306 194,-306 194,-306 188,-306 182,-300 182,-294 182,-294 182,-235 182,-235 182,-229 188,-223 194,-223 194,-223 307,-223 307,-223 313,-223 319,-229 319,-235 319,-235 319,-294 319,-294 319,-300 313,-306 307,-306\"/>\n<text text-anchor=\"middle\" x=\"250.5\" y=\"-290.8\" font-family=\"Helvetica,sans-Serif\" font-size=\"14.00\">날짜 &lt;= 201305.0</text>\n<text text-anchor=\"middle\" x=\"250.5\" y=\"-275.8\" font-family=\"Helvetica,sans-Serif\" font-size=\"14.00\">gini = 0.083</text>\n<text text-anchor=\"middle\" x=\"250.5\" y=\"-260.8\" font-family=\"Helvetica,sans-Serif\" font-size=\"14.00\">samples = 23</text>\n<text text-anchor=\"middle\" x=\"250.5\" y=\"-245.8\" font-family=\"Helvetica,sans-Serif\" font-size=\"14.00\">value = [22, 1]</text>\n<text text-anchor=\"middle\" x=\"250.5\" y=\"-230.8\" font-family=\"Helvetica,sans-Serif\" font-size=\"14.00\">class = 0</text>\n</g>\n<!-- 2&#45;&gt;3 -->\n<g id=\"edge3\" class=\"edge\">\n<title>2&#45;&gt;3</title>\n<path fill=\"none\" stroke=\"black\" d=\"M371.32,-341.91C355.82,-332.11 339.15,-321.56 323.29,-311.53\"/>\n<polygon fill=\"black\" stroke=\"black\" points=\"324.89,-308.41 314.57,-306.02 321.15,-314.32 324.89,-308.41\"/>\n</g>\n<!-- 8 -->\n<g id=\"node9\" class=\"node\">\n<title>8</title>\n<path fill=\"#9ccef2\" stroke=\"black\" d=\"M528,-306C528,-306 349,-306 349,-306 343,-306 337,-300 337,-294 337,-294 337,-235 337,-235 337,-229 343,-223 349,-223 349,-223 528,-223 528,-223 534,-223 540,-229 540,-235 540,-235 540,-294 540,-294 540,-300 534,-306 528,-306\"/>\n<text text-anchor=\"middle\" x=\"438.5\" y=\"-290.8\" font-family=\"Helvetica,sans-Serif\" font-size=\"14.00\">소비자물가지수 &lt;= &#45;0.003</text>\n<text text-anchor=\"middle\" x=\"438.5\" y=\"-275.8\" font-family=\"Helvetica,sans-Serif\" font-size=\"14.00\">gini = 0.444</text>\n<text text-anchor=\"middle\" x=\"438.5\" y=\"-260.8\" font-family=\"Helvetica,sans-Serif\" font-size=\"14.00\">samples = 3</text>\n<text text-anchor=\"middle\" x=\"438.5\" y=\"-245.8\" font-family=\"Helvetica,sans-Serif\" font-size=\"14.00\">value = [1, 2]</text>\n<text text-anchor=\"middle\" x=\"438.5\" y=\"-230.8\" font-family=\"Helvetica,sans-Serif\" font-size=\"14.00\">class = 1</text>\n</g>\n<!-- 2&#45;&gt;8 -->\n<g id=\"edge8\" class=\"edge\">\n<title>2&#45;&gt;8</title>\n<path fill=\"none\" stroke=\"black\" d=\"M436.54,-341.91C436.75,-333.56 436.98,-324.67 437.2,-316.02\"/>\n<polygon fill=\"black\" stroke=\"black\" points=\"440.7,-316.11 437.46,-306.02 433.71,-315.93 440.7,-316.11\"/>\n</g>\n<!-- 4 -->\n<g id=\"node5\" class=\"node\">\n<title>4</title>\n<path fill=\"#f2c09c\" stroke=\"black\" d=\"M186,-187C186,-187 25,-187 25,-187 19,-187 13,-181 13,-175 13,-175 13,-116 13,-116 13,-110 19,-104 25,-104 25,-104 186,-104 186,-104 192,-104 198,-110 198,-116 198,-116 198,-175 198,-175 198,-181 192,-187 186,-187\"/>\n<text text-anchor=\"middle\" x=\"105.5\" y=\"-171.8\" font-family=\"Helvetica,sans-Serif\" font-size=\"14.00\">소매판매지수 &lt;= &#45;0.033</text>\n<text text-anchor=\"middle\" x=\"105.5\" y=\"-156.8\" font-family=\"Helvetica,sans-Serif\" font-size=\"14.00\">gini = 0.444</text>\n<text text-anchor=\"middle\" x=\"105.5\" y=\"-141.8\" font-family=\"Helvetica,sans-Serif\" font-size=\"14.00\">samples = 3</text>\n<text text-anchor=\"middle\" x=\"105.5\" y=\"-126.8\" font-family=\"Helvetica,sans-Serif\" font-size=\"14.00\">value = [2, 1]</text>\n<text text-anchor=\"middle\" x=\"105.5\" y=\"-111.8\" font-family=\"Helvetica,sans-Serif\" font-size=\"14.00\">class = 0</text>\n</g>\n<!-- 3&#45;&gt;4 -->\n<g id=\"edge4\" class=\"edge\">\n<title>3&#45;&gt;4</title>\n<path fill=\"none\" stroke=\"black\" d=\"M200.19,-222.91C188.38,-213.38 175.71,-203.15 163.59,-193.37\"/>\n<polygon fill=\"black\" stroke=\"black\" points=\"165.7,-190.58 155.72,-187.02 161.3,-196.02 165.7,-190.58\"/>\n</g>\n<!-- 7 -->\n<g id=\"node8\" class=\"node\">\n<title>7</title>\n<path fill=\"#e58139\" stroke=\"black\" d=\"M309,-179.5C309,-179.5 228,-179.5 228,-179.5 222,-179.5 216,-173.5 216,-167.5 216,-167.5 216,-123.5 216,-123.5 216,-117.5 222,-111.5 228,-111.5 228,-111.5 309,-111.5 309,-111.5 315,-111.5 321,-117.5 321,-123.5 321,-123.5 321,-167.5 321,-167.5 321,-173.5 315,-179.5 309,-179.5\"/>\n<text text-anchor=\"middle\" x=\"268.5\" y=\"-164.3\" font-family=\"Helvetica,sans-Serif\" font-size=\"14.00\">gini = 0.0</text>\n<text text-anchor=\"middle\" x=\"268.5\" y=\"-149.3\" font-family=\"Helvetica,sans-Serif\" font-size=\"14.00\">samples = 20</text>\n<text text-anchor=\"middle\" x=\"268.5\" y=\"-134.3\" font-family=\"Helvetica,sans-Serif\" font-size=\"14.00\">value = [20, 0]</text>\n<text text-anchor=\"middle\" x=\"268.5\" y=\"-119.3\" font-family=\"Helvetica,sans-Serif\" font-size=\"14.00\">class = 0</text>\n</g>\n<!-- 3&#45;&gt;7 -->\n<g id=\"edge7\" class=\"edge\">\n<title>3&#45;&gt;7</title>\n<path fill=\"none\" stroke=\"black\" d=\"M256.75,-222.91C258.39,-212.2 260.17,-200.62 261.84,-189.78\"/>\n<polygon fill=\"black\" stroke=\"black\" points=\"265.34,-190.08 263.4,-179.67 258.42,-189.02 265.34,-190.08\"/>\n</g>\n<!-- 5 -->\n<g id=\"node6\" class=\"node\">\n<title>5</title>\n<path fill=\"#e58139\" stroke=\"black\" d=\"M85,-68C85,-68 12,-68 12,-68 6,-68 0,-62 0,-56 0,-56 0,-12 0,-12 0,-6 6,0 12,0 12,0 85,0 85,0 91,0 97,-6 97,-12 97,-12 97,-56 97,-56 97,-62 91,-68 85,-68\"/>\n<text text-anchor=\"middle\" x=\"48.5\" y=\"-52.8\" font-family=\"Helvetica,sans-Serif\" font-size=\"14.00\">gini = 0.0</text>\n<text text-anchor=\"middle\" x=\"48.5\" y=\"-37.8\" font-family=\"Helvetica,sans-Serif\" font-size=\"14.00\">samples = 2</text>\n<text text-anchor=\"middle\" x=\"48.5\" y=\"-22.8\" font-family=\"Helvetica,sans-Serif\" font-size=\"14.00\">value = [2, 0]</text>\n<text text-anchor=\"middle\" x=\"48.5\" y=\"-7.8\" font-family=\"Helvetica,sans-Serif\" font-size=\"14.00\">class = 0</text>\n</g>\n<!-- 4&#45;&gt;5 -->\n<g id=\"edge5\" class=\"edge\">\n<title>4&#45;&gt;5</title>\n<path fill=\"none\" stroke=\"black\" d=\"M84.28,-103.73C79.76,-95.06 74.99,-85.9 70.46,-77.18\"/>\n<polygon fill=\"black\" stroke=\"black\" points=\"73.56,-75.55 65.83,-68.3 67.35,-78.79 73.56,-75.55\"/>\n</g>\n<!-- 6 -->\n<g id=\"node7\" class=\"node\">\n<title>6</title>\n<path fill=\"#399de5\" stroke=\"black\" d=\"M200,-68C200,-68 127,-68 127,-68 121,-68 115,-62 115,-56 115,-56 115,-12 115,-12 115,-6 121,0 127,0 127,0 200,0 200,0 206,0 212,-6 212,-12 212,-12 212,-56 212,-56 212,-62 206,-68 200,-68\"/>\n<text text-anchor=\"middle\" x=\"163.5\" y=\"-52.8\" font-family=\"Helvetica,sans-Serif\" font-size=\"14.00\">gini = 0.0</text>\n<text text-anchor=\"middle\" x=\"163.5\" y=\"-37.8\" font-family=\"Helvetica,sans-Serif\" font-size=\"14.00\">samples = 1</text>\n<text text-anchor=\"middle\" x=\"163.5\" y=\"-22.8\" font-family=\"Helvetica,sans-Serif\" font-size=\"14.00\">value = [0, 1]</text>\n<text text-anchor=\"middle\" x=\"163.5\" y=\"-7.8\" font-family=\"Helvetica,sans-Serif\" font-size=\"14.00\">class = 1</text>\n</g>\n<!-- 4&#45;&gt;6 -->\n<g id=\"edge6\" class=\"edge\">\n<title>4&#45;&gt;6</title>\n<path fill=\"none\" stroke=\"black\" d=\"M127.1,-103.73C131.69,-95.06 136.54,-85.9 141.16,-77.18\"/>\n<polygon fill=\"black\" stroke=\"black\" points=\"144.27,-78.77 145.86,-68.3 138.09,-75.5 144.27,-78.77\"/>\n</g>\n<!-- 9 -->\n<g id=\"node10\" class=\"node\">\n<title>9</title>\n<path fill=\"#e58139\" stroke=\"black\" d=\"M458,-179.5C458,-179.5 385,-179.5 385,-179.5 379,-179.5 373,-173.5 373,-167.5 373,-167.5 373,-123.5 373,-123.5 373,-117.5 379,-111.5 385,-111.5 385,-111.5 458,-111.5 458,-111.5 464,-111.5 470,-117.5 470,-123.5 470,-123.5 470,-167.5 470,-167.5 470,-173.5 464,-179.5 458,-179.5\"/>\n<text text-anchor=\"middle\" x=\"421.5\" y=\"-164.3\" font-family=\"Helvetica,sans-Serif\" font-size=\"14.00\">gini = 0.0</text>\n<text text-anchor=\"middle\" x=\"421.5\" y=\"-149.3\" font-family=\"Helvetica,sans-Serif\" font-size=\"14.00\">samples = 1</text>\n<text text-anchor=\"middle\" x=\"421.5\" y=\"-134.3\" font-family=\"Helvetica,sans-Serif\" font-size=\"14.00\">value = [1, 0]</text>\n<text text-anchor=\"middle\" x=\"421.5\" y=\"-119.3\" font-family=\"Helvetica,sans-Serif\" font-size=\"14.00\">class = 0</text>\n</g>\n<!-- 8&#45;&gt;9 -->\n<g id=\"edge9\" class=\"edge\">\n<title>8&#45;&gt;9</title>\n<path fill=\"none\" stroke=\"black\" d=\"M432.6,-222.91C431.05,-212.2 429.36,-200.62 427.79,-189.78\"/>\n<polygon fill=\"black\" stroke=\"black\" points=\"431.22,-189.06 426.32,-179.67 424.29,-190.07 431.22,-189.06\"/>\n</g>\n<!-- 10 -->\n<g id=\"node11\" class=\"node\">\n<title>10</title>\n<path fill=\"#399de5\" stroke=\"black\" d=\"M573,-179.5C573,-179.5 500,-179.5 500,-179.5 494,-179.5 488,-173.5 488,-167.5 488,-167.5 488,-123.5 488,-123.5 488,-117.5 494,-111.5 500,-111.5 500,-111.5 573,-111.5 573,-111.5 579,-111.5 585,-117.5 585,-123.5 585,-123.5 585,-167.5 585,-167.5 585,-173.5 579,-179.5 573,-179.5\"/>\n<text text-anchor=\"middle\" x=\"536.5\" y=\"-164.3\" font-family=\"Helvetica,sans-Serif\" font-size=\"14.00\">gini = 0.0</text>\n<text text-anchor=\"middle\" x=\"536.5\" y=\"-149.3\" font-family=\"Helvetica,sans-Serif\" font-size=\"14.00\">samples = 2</text>\n<text text-anchor=\"middle\" x=\"536.5\" y=\"-134.3\" font-family=\"Helvetica,sans-Serif\" font-size=\"14.00\">value = [0, 2]</text>\n<text text-anchor=\"middle\" x=\"536.5\" y=\"-119.3\" font-family=\"Helvetica,sans-Serif\" font-size=\"14.00\">class = 1</text>\n</g>\n<!-- 8&#45;&gt;10 -->\n<g id=\"edge10\" class=\"edge\">\n<title>8&#45;&gt;10</title>\n<path fill=\"none\" stroke=\"black\" d=\"M472.5,-222.91C482.11,-211.43 492.58,-198.94 502.21,-187.44\"/>\n<polygon fill=\"black\" stroke=\"black\" points=\"504.98,-189.58 508.72,-179.67 499.61,-185.09 504.98,-189.58\"/>\n</g>\n<!-- 12 -->\n<g id=\"node13\" class=\"node\">\n<title>12</title>\n<path fill=\"#399de5\" stroke=\"black\" d=\"M656,-298.5C656,-298.5 575,-298.5 575,-298.5 569,-298.5 563,-292.5 563,-286.5 563,-286.5 563,-242.5 563,-242.5 563,-236.5 569,-230.5 575,-230.5 575,-230.5 656,-230.5 656,-230.5 662,-230.5 668,-236.5 668,-242.5 668,-242.5 668,-286.5 668,-286.5 668,-292.5 662,-298.5 656,-298.5\"/>\n<text text-anchor=\"middle\" x=\"615.5\" y=\"-283.3\" font-family=\"Helvetica,sans-Serif\" font-size=\"14.00\">gini = 0.0</text>\n<text text-anchor=\"middle\" x=\"615.5\" y=\"-268.3\" font-family=\"Helvetica,sans-Serif\" font-size=\"14.00\">samples = 18</text>\n<text text-anchor=\"middle\" x=\"615.5\" y=\"-253.3\" font-family=\"Helvetica,sans-Serif\" font-size=\"14.00\">value = [0, 18]</text>\n<text text-anchor=\"middle\" x=\"615.5\" y=\"-238.3\" font-family=\"Helvetica,sans-Serif\" font-size=\"14.00\">class = 1</text>\n</g>\n<!-- 11&#45;&gt;12 -->\n<g id=\"edge12\" class=\"edge\">\n<title>11&#45;&gt;12</title>\n<path fill=\"none\" stroke=\"black\" d=\"M616.81,-341.91C616.62,-331.2 616.43,-319.62 616.24,-308.78\"/>\n<polygon fill=\"black\" stroke=\"black\" points=\"619.74,-308.61 616.07,-298.67 612.74,-308.73 619.74,-308.61\"/>\n</g>\n<!-- 13 -->\n<g id=\"node14\" class=\"node\">\n<title>13</title>\n<path fill=\"#e58139\" stroke=\"black\" d=\"M771,-298.5C771,-298.5 698,-298.5 698,-298.5 692,-298.5 686,-292.5 686,-286.5 686,-286.5 686,-242.5 686,-242.5 686,-236.5 692,-230.5 698,-230.5 698,-230.5 771,-230.5 771,-230.5 777,-230.5 783,-236.5 783,-242.5 783,-242.5 783,-286.5 783,-286.5 783,-292.5 777,-298.5 771,-298.5\"/>\n<text text-anchor=\"middle\" x=\"734.5\" y=\"-283.3\" font-family=\"Helvetica,sans-Serif\" font-size=\"14.00\">gini = 0.0</text>\n<text text-anchor=\"middle\" x=\"734.5\" y=\"-268.3\" font-family=\"Helvetica,sans-Serif\" font-size=\"14.00\">samples = 1</text>\n<text text-anchor=\"middle\" x=\"734.5\" y=\"-253.3\" font-family=\"Helvetica,sans-Serif\" font-size=\"14.00\">value = [1, 0]</text>\n<text text-anchor=\"middle\" x=\"734.5\" y=\"-238.3\" font-family=\"Helvetica,sans-Serif\" font-size=\"14.00\">class = 0</text>\n</g>\n<!-- 11&#45;&gt;13 -->\n<g id=\"edge13\" class=\"edge\">\n<title>11&#45;&gt;13</title>\n<path fill=\"none\" stroke=\"black\" d=\"M658.09,-341.91C669.79,-330.21 682.54,-317.46 694.22,-305.78\"/>\n<polygon fill=\"black\" stroke=\"black\" points=\"696.74,-308.21 701.33,-298.67 691.79,-303.26 696.74,-308.21\"/>\n</g>\n</g>\n</svg>\n",
      "text/plain": [
       "<graphviz.sources.Source at 0x227477988b0>"
      ]
     },
     "execution_count": 307,
     "metadata": {},
     "output_type": "execute_result"
    }
   ],
   "source": [
    "import graphviz\n",
    "\n",
    "with open('./data/tree_corona.dot', encoding='UTF-8') as f:\n",
    "    dot_graph = f.read()\n",
    "graphviz.Source(dot_graph)"
   ]
  },
  {
   "cell_type": "code",
   "execution_count": null,
   "metadata": {},
   "outputs": [],
   "source": []
  }
 ],
 "metadata": {
  "kernelspec": {
   "display_name": "Python 3.10.5 64-bit",
   "language": "python",
   "name": "python3"
  },
  "language_info": {
   "codemirror_mode": {
    "name": "ipython",
    "version": 3
   },
   "file_extension": ".py",
   "mimetype": "text/x-python",
   "name": "python",
   "nbconvert_exporter": "python",
   "pygments_lexer": "ipython3",
   "version": "3.10.5"
  },
  "orig_nbformat": 4,
  "vscode": {
   "interpreter": {
    "hash": "fb4569285eef3a3450cb62085a5b1e0da4bce0af555edc33dcf29baf3acc1368"
   }
  }
 },
 "nbformat": 4,
 "nbformat_minor": 2
}
