{
 "cells": [
  {
   "cell_type": "code",
   "execution_count": 200,
   "metadata": {},
   "outputs": [
    {
     "data": {
      "text/html": [
       "<div>\n",
       "<style scoped>\n",
       "    .dataframe tbody tr th:only-of-type {\n",
       "        vertical-align: middle;\n",
       "    }\n",
       "\n",
       "    .dataframe tbody tr th {\n",
       "        vertical-align: top;\n",
       "    }\n",
       "\n",
       "    .dataframe thead th {\n",
       "        text-align: right;\n",
       "    }\n",
       "</style>\n",
       "<table border=\"1\" class=\"dataframe\">\n",
       "  <thead>\n",
       "    <tr style=\"text-align: right;\">\n",
       "      <th></th>\n",
       "      <th>날짜</th>\n",
       "      <th>서적/문구</th>\n",
       "      <th>소비자물가지수</th>\n",
       "      <th>소매판매지수</th>\n",
       "      <th>동월_평균_등락률</th>\n",
       "      <th>전체_평균_대비</th>\n",
       "      <th>소비</th>\n",
       "      <th>월</th>\n",
       "      <th>전년_동월_대비</th>\n",
       "    </tr>\n",
       "  </thead>\n",
       "  <tbody>\n",
       "    <tr>\n",
       "      <th>0</th>\n",
       "      <td>201212</td>\n",
       "      <td>0.118333</td>\n",
       "      <td>0.001782</td>\n",
       "      <td>0.023590</td>\n",
       "      <td>0.164177</td>\n",
       "      <td>1</td>\n",
       "      <td>1</td>\n",
       "      <td>12</td>\n",
       "      <td>1.0</td>\n",
       "    </tr>\n",
       "    <tr>\n",
       "      <th>1</th>\n",
       "      <td>201301</td>\n",
       "      <td>-0.069215</td>\n",
       "      <td>0.005999</td>\n",
       "      <td>-0.086172</td>\n",
       "      <td>-0.077975</td>\n",
       "      <td>0</td>\n",
       "      <td>0</td>\n",
       "      <td>1</td>\n",
       "      <td>0.0</td>\n",
       "    </tr>\n",
       "    <tr>\n",
       "      <th>2</th>\n",
       "      <td>201302</td>\n",
       "      <td>-0.107126</td>\n",
       "      <td>0.003343</td>\n",
       "      <td>-0.048246</td>\n",
       "      <td>-0.093226</td>\n",
       "      <td>0</td>\n",
       "      <td>0</td>\n",
       "      <td>2</td>\n",
       "      <td>0.0</td>\n",
       "    </tr>\n",
       "    <tr>\n",
       "      <th>3</th>\n",
       "      <td>201303</td>\n",
       "      <td>0.471158</td>\n",
       "      <td>-0.000924</td>\n",
       "      <td>0.078341</td>\n",
       "      <td>0.390163</td>\n",
       "      <td>1</td>\n",
       "      <td>1</td>\n",
       "      <td>3</td>\n",
       "      <td>1.0</td>\n",
       "    </tr>\n",
       "    <tr>\n",
       "      <th>4</th>\n",
       "      <td>201304</td>\n",
       "      <td>-0.204835</td>\n",
       "      <td>-0.001388</td>\n",
       "      <td>-0.018162</td>\n",
       "      <td>-0.222949</td>\n",
       "      <td>0</td>\n",
       "      <td>1</td>\n",
       "      <td>4</td>\n",
       "      <td>0.0</td>\n",
       "    </tr>\n",
       "  </tbody>\n",
       "</table>\n",
       "</div>"
      ],
      "text/plain": [
       "       날짜     서적/문구   소비자물가지수    소매판매지수  동월_평균_등락률  전체_평균_대비  소비   월  전년_동월_대비\n",
       "0  201212  0.118333  0.001782  0.023590   0.164177         1   1  12       1.0\n",
       "1  201301 -0.069215  0.005999 -0.086172  -0.077975         0   0   1       0.0\n",
       "2  201302 -0.107126  0.003343 -0.048246  -0.093226         0   0   2       0.0\n",
       "3  201303  0.471158 -0.000924  0.078341   0.390163         1   1   3       1.0\n",
       "4  201304 -0.204835 -0.001388 -0.018162  -0.222949         0   1   4       0.0"
      ]
     },
     "execution_count": 200,
     "metadata": {},
     "output_type": "execute_result"
    }
   ],
   "source": [
    "import pandas as pd\n",
    "\n",
    "# df = pd.read_csv('./data/test_df.csv', encoding='cp949')\n",
    "df = pd.read_csv('./data/whole_df.csv')\n",
    "df.drop(columns=\"Unnamed: 0\", inplace=True)\n",
    "# df[\"날짜\"] = pd.to_datetime(df[\"날짜\"], format='%Y%m')      # 데이터 타입 datetime으로 변경\n",
    "# df[\"날짜\"] = df[\"날짜\"].dt.strftime('%Y%m') # datetime 형식 설정\n",
    "# df.set_index(\"날짜\", inplace=True)          # 날짜 컬럼 인덱스 설정\n",
    "\n",
    "df.head()"
   ]
  },
  {
   "cell_type": "code",
   "execution_count": 28,
   "metadata": {},
   "outputs": [],
   "source": [
    "# from sklearn.preprocessing import StandardScaler\n",
    "# ss = StandardScaler()\n",
    "\n",
    "# from sklearn.model_selection import cross_validate\n",
    "# from sklearn.model_selection import GridSearchCV\n",
    "# from sklearn.model_selection import StratifiedKFold\n",
    "# from sklearn.model_selection import train_test_split\n",
    "\n",
    "# import matplotlib.pyplot as plt\n",
    "# %matplotlib inline\n",
    "# import numpy as np\n",
    "\n",
    "# from sklearn.linear_model import LogisticRegression\n",
    "# from sklearn.linear_model import Ridge\n",
    "# from sklearn.linear_model import Lasso"
   ]
  },
  {
   "cell_type": "code",
   "execution_count": 221,
   "metadata": {},
   "outputs": [],
   "source": [
    "# from sklearn.tree import DecisionTreeClassifier\n",
    "# from sklearn.ensemble import RandomForestClassifier"
   ]
  },
  {
   "cell_type": "code",
   "execution_count": 32,
   "metadata": {},
   "outputs": [],
   "source": [
    "# params = {'C':[0, 0.1, 1, 10, 20]}"
   ]
  },
  {
   "cell_type": "code",
   "execution_count": 33,
   "metadata": {},
   "outputs": [],
   "source": [
    "# lr = LogisticRegression()\n",
    "# rg = Ridge()\n",
    "# ls = Lasso()\n",
    "# logisticreg = LogisticRegression()\n",
    "# detreec = DecisionTreeClassifier()\n",
    "# randomforest = RandomForestClassifier()\n",
    "# xgb = XGBClassifier()"
   ]
  },
  {
   "cell_type": "code",
   "execution_count": 34,
   "metadata": {},
   "outputs": [],
   "source": [
    "# splitter = StratifiedKFold(n_splits=6, shuffle=True, random_state=42)\n",
    "# scores_logistic = cross_validate(lr, data, target, cv=splitter, n_jobs=-1, return_train_score=True)\n",
    "# scores_ridge = cross_validate(rg, data, target, cv=splitter, n_jobs=-1, return_train_score=True)\n",
    "# scores_lasso = cross_validate(ls, data, target, cv=splitter, n_jobs=-1, return_train_score=True)\n",
    "# scores_logisticreg = cross_validate(logisticreg, data, target, cv=splitter, n_jobs=-1, return_train_score=True)\n",
    "# scores_dectree = cross_validate(detreec, data, target, cv=splitter, n_jobs=-1, return_train_score=True)\n",
    "# scores_randomforest = cross_validate(randomforest, data, target, cv=splitter, n_jobs=-1, return_train_score=True)\n",
    "# scores_xgb = cross_validate(xgb, data, target, cv=splitter, n_jobs=-1, return_train_score=True)"
   ]
  },
  {
   "cell_type": "code",
   "execution_count": 35,
   "metadata": {},
   "outputs": [
    {
     "name": "stdout",
     "output_type": "stream",
     "text": [
      "로지스틱 train data score :  0.6941314553990611\n",
      "로지스틱 test data score :  0.6944444444444445\n",
      "릿지 train data score :  0.5011621032217423\n",
      "릿지 test data score :  0.4624484634351287\n",
      "라쏘 train data score :  0.0023680243561094625\n",
      "라쏘 test data score :  -0.02511630804150448\n",
      "결정트리(Decision Tree) train data score :  1.0\n",
      "결정트리(Decision Tree) test data score :  0.9285714285714285\n",
      "랜덤포레스트 train data score :  1.0\n",
      "랜덤포레스트 test data score :  0.9055555555555554\n"
     ]
    }
   ],
   "source": [
    "# print('로지스틱 train data score : ',np.mean(scores_logistic['train_score'])) \n",
    "# print('로지스틱 test data score : ',np.mean(scores_logistic['test_score']))  \n",
    "# print('릿지 train data score : ',np.mean(scores_ridge['train_score'])) \n",
    "# print('릿지 test data score : ',np.mean(scores_ridge['test_score']))  \n",
    "# print('라쏘 train data score : ', np.mean(scores_lasso['train_score'])) \n",
    "# print('라쏘 test data score : ', np.mean(scores_lasso['test_score'])) \n",
    "# print('결정트리(Decision Tree) train data score : ',np.mean(scores_dectree['train_score']))\n",
    "# print('결정트리(Decision Tree) test data score : ',np.mean(scores_dectree['test_score']))\n",
    "# print('랜덤포레스트 train data score : ',np.mean(scores_randomforest['train_score']))\n",
    "# print('랜덤포레스트 test data score : ',np.mean(scores_randomforest['test_score']))\n",
    "# print('XGB train data score : ',np.mean(scores_xgb['train_score']))\n",
    "# print('XGB test data score : ',np.mean(scores_xgb['test_score']))"
   ]
  },
  {
   "cell_type": "code",
   "execution_count": 95,
   "metadata": {},
   "outputs": [],
   "source": [
    "data = df[[\"날짜\", \"서적/문구\", \"소비자물가지수\", \"소매판매지수\", \"전년_동월_대비\"]]\n",
    "target = df[\"소비\"]"
   ]
  },
  {
   "cell_type": "code",
   "execution_count": 96,
   "metadata": {},
   "outputs": [
    {
     "name": "stdout",
     "output_type": "stream",
     "text": [
      "<class 'pandas.core.frame.DataFrame'>\n",
      "RangeIndex: 111 entries, 0 to 110\n",
      "Data columns (total 9 columns):\n",
      " #   Column     Non-Null Count  Dtype  \n",
      "---  ------     --------------  -----  \n",
      " 0   날짜         111 non-null    int64  \n",
      " 1   서적/문구      111 non-null    float64\n",
      " 2   소비자물가지수    111 non-null    float64\n",
      " 3   소매판매지수     111 non-null    float64\n",
      " 4   동월_평균_등락률  111 non-null    float64\n",
      " 5   전체_평균_대비   111 non-null    int64  \n",
      " 6   소비         111 non-null    int64  \n",
      " 7   월          111 non-null    int64  \n",
      " 8   전년_동월_대비   111 non-null    float64\n",
      "dtypes: float64(5), int64(4)\n",
      "memory usage: 7.9 KB\n"
     ]
    }
   ],
   "source": [
    "df.info()"
   ]
  },
  {
   "cell_type": "code",
   "execution_count": 97,
   "metadata": {},
   "outputs": [],
   "source": [
    "# 데이터 셋 분리\n",
    "\n",
    "from sklearn.metrics import accuracy_score\n",
    "from sklearn.model_selection import train_test_split\n",
    "\n",
    "X_train, X_test, y_train, y_test = train_test_split(data, target, test_size = .3, random_state=11)\n"
   ]
  },
  {
   "cell_type": "code",
   "execution_count": 98,
   "metadata": {},
   "outputs": [
    {
     "name": "stdout",
     "output_type": "stream",
     "text": [
      "학습 세트 Shape:(77, 5), 테스트 세트 Shape:(34, 5)\n",
      " 학습 세트 레이블 값 분포 비율\n",
      "1    0.662338\n",
      "0    0.337662\n",
      "Name: 소비, dtype: float64\n",
      "\n",
      " 테스트 세트 레이블 값 분포 비율\n",
      "1    0.324675\n",
      "0    0.116883\n",
      "Name: 소비, dtype: float64\n"
     ]
    }
   ],
   "source": [
    "# 피처, 레이블 데이터 분포 비율\n",
    "\n",
    "train_cnt = y_train.count()\n",
    "test_cnt = y_test.count()\n",
    "print('학습 세트 Shape:{0}, 테스트 세트 Shape:{1}'.format(X_train.shape, X_test.shape))\n",
    "\n",
    "print(' 학습 세트 레이블 값 분포 비율')\n",
    "print(y_train.value_counts()/train_cnt)\n",
    "print('\\n 테스트 세트 레이블 값 분포 비율')\n",
    "print(y_test.value_counts()/train_cnt)"
   ]
  },
  {
   "cell_type": "markdown",
   "metadata": {},
   "source": [
    "### DecisionTree"
   ]
  },
  {
   "cell_type": "code",
   "execution_count": 99,
   "metadata": {},
   "outputs": [],
   "source": [
    "from sklearn.tree import DecisionTreeClassifier\n",
    "\n",
    "dt_clf = DecisionTreeClassifier(random_state=11)"
   ]
  },
  {
   "cell_type": "code",
   "execution_count": 100,
   "metadata": {},
   "outputs": [
    {
     "data": {
      "text/html": [
       "<style>#sk-container-id-5 {color: black;background-color: white;}#sk-container-id-5 pre{padding: 0;}#sk-container-id-5 div.sk-toggleable {background-color: white;}#sk-container-id-5 label.sk-toggleable__label {cursor: pointer;display: block;width: 100%;margin-bottom: 0;padding: 0.3em;box-sizing: border-box;text-align: center;}#sk-container-id-5 label.sk-toggleable__label-arrow:before {content: \"▸\";float: left;margin-right: 0.25em;color: #696969;}#sk-container-id-5 label.sk-toggleable__label-arrow:hover:before {color: black;}#sk-container-id-5 div.sk-estimator:hover label.sk-toggleable__label-arrow:before {color: black;}#sk-container-id-5 div.sk-toggleable__content {max-height: 0;max-width: 0;overflow: hidden;text-align: left;background-color: #f0f8ff;}#sk-container-id-5 div.sk-toggleable__content pre {margin: 0.2em;color: black;border-radius: 0.25em;background-color: #f0f8ff;}#sk-container-id-5 input.sk-toggleable__control:checked~div.sk-toggleable__content {max-height: 200px;max-width: 100%;overflow: auto;}#sk-container-id-5 input.sk-toggleable__control:checked~label.sk-toggleable__label-arrow:before {content: \"▾\";}#sk-container-id-5 div.sk-estimator input.sk-toggleable__control:checked~label.sk-toggleable__label {background-color: #d4ebff;}#sk-container-id-5 div.sk-label input.sk-toggleable__control:checked~label.sk-toggleable__label {background-color: #d4ebff;}#sk-container-id-5 input.sk-hidden--visually {border: 0;clip: rect(1px 1px 1px 1px);clip: rect(1px, 1px, 1px, 1px);height: 1px;margin: -1px;overflow: hidden;padding: 0;position: absolute;width: 1px;}#sk-container-id-5 div.sk-estimator {font-family: monospace;background-color: #f0f8ff;border: 1px dotted black;border-radius: 0.25em;box-sizing: border-box;margin-bottom: 0.5em;}#sk-container-id-5 div.sk-estimator:hover {background-color: #d4ebff;}#sk-container-id-5 div.sk-parallel-item::after {content: \"\";width: 100%;border-bottom: 1px solid gray;flex-grow: 1;}#sk-container-id-5 div.sk-label:hover label.sk-toggleable__label {background-color: #d4ebff;}#sk-container-id-5 div.sk-serial::before {content: \"\";position: absolute;border-left: 1px solid gray;box-sizing: border-box;top: 0;bottom: 0;left: 50%;z-index: 0;}#sk-container-id-5 div.sk-serial {display: flex;flex-direction: column;align-items: center;background-color: white;padding-right: 0.2em;padding-left: 0.2em;position: relative;}#sk-container-id-5 div.sk-item {position: relative;z-index: 1;}#sk-container-id-5 div.sk-parallel {display: flex;align-items: stretch;justify-content: center;background-color: white;position: relative;}#sk-container-id-5 div.sk-item::before, #sk-container-id-5 div.sk-parallel-item::before {content: \"\";position: absolute;border-left: 1px solid gray;box-sizing: border-box;top: 0;bottom: 0;left: 50%;z-index: -1;}#sk-container-id-5 div.sk-parallel-item {display: flex;flex-direction: column;z-index: 1;position: relative;background-color: white;}#sk-container-id-5 div.sk-parallel-item:first-child::after {align-self: flex-end;width: 50%;}#sk-container-id-5 div.sk-parallel-item:last-child::after {align-self: flex-start;width: 50%;}#sk-container-id-5 div.sk-parallel-item:only-child::after {width: 0;}#sk-container-id-5 div.sk-dashed-wrapped {border: 1px dashed gray;margin: 0 0.4em 0.5em 0.4em;box-sizing: border-box;padding-bottom: 0.4em;background-color: white;}#sk-container-id-5 div.sk-label label {font-family: monospace;font-weight: bold;display: inline-block;line-height: 1.2em;}#sk-container-id-5 div.sk-label-container {text-align: center;}#sk-container-id-5 div.sk-container {/* jupyter's `normalize.less` sets `[hidden] { display: none; }` but bootstrap.min.css set `[hidden] { display: none !important; }` so we also need the `!important` here to be able to override the default hidden behavior on the sphinx rendered scikit-learn.org. See: https://github.com/scikit-learn/scikit-learn/issues/21755 */display: inline-block !important;position: relative;}#sk-container-id-5 div.sk-text-repr-fallback {display: none;}</style><div id=\"sk-container-id-5\" class=\"sk-top-container\"><div class=\"sk-text-repr-fallback\"><pre>DecisionTreeClassifier(random_state=11)</pre><b>In a Jupyter environment, please rerun this cell to show the HTML representation or trust the notebook. <br />On GitHub, the HTML representation is unable to render, please try loading this page with nbviewer.org.</b></div><div class=\"sk-container\" hidden><div class=\"sk-item\"><div class=\"sk-estimator sk-toggleable\"><input class=\"sk-toggleable__control sk-hidden--visually\" id=\"sk-estimator-id-5\" type=\"checkbox\" checked><label for=\"sk-estimator-id-5\" class=\"sk-toggleable__label sk-toggleable__label-arrow\">DecisionTreeClassifier</label><div class=\"sk-toggleable__content\"><pre>DecisionTreeClassifier(random_state=11)</pre></div></div></div></div></div>"
      ],
      "text/plain": [
       "DecisionTreeClassifier(random_state=11)"
      ]
     },
     "execution_count": 100,
     "metadata": {},
     "output_type": "execute_result"
    }
   ],
   "source": [
    "dt_clf.fit(X_train, y_train)"
   ]
  },
  {
   "cell_type": "code",
   "execution_count": 101,
   "metadata": {},
   "outputs": [
    {
     "data": {
      "text/plain": [
       "array([1, 0, 1, 0, 1, 1, 1, 0, 1, 0, 0, 1, 0, 1, 1, 1, 1, 1, 1, 1, 1, 1,\n",
       "       0, 1, 0, 1, 0, 1, 1, 1, 1, 1, 1, 1], dtype=int64)"
      ]
     },
     "execution_count": 101,
     "metadata": {},
     "output_type": "execute_result"
    }
   ],
   "source": [
    "X_pred = dt_clf.predict(X_test)\n",
    "X_pred"
   ]
  },
  {
   "cell_type": "code",
   "execution_count": 103,
   "metadata": {},
   "outputs": [
    {
     "name": "stdout",
     "output_type": "stream",
     "text": [
      "X_train의 Shape: (77, 5)\n",
      "y_train의 Shape: (77,)\n",
      "X_test의 Shape: (34, 5)\n",
      "y_train의 Shape: (34,)\n",
      "X_pred의 Shape: (34,)\n"
     ]
    }
   ],
   "source": [
    "print('X_train의 Shape:', X_train.shape)\n",
    "print('y_train의 Shape:', y_train.shape)\n",
    "print('X_test의 Shape:', X_test.shape)\n",
    "print('y_train의 Shape:', y_test.shape)\n",
    "print('X_pred의 Shape:', X_pred.shape)"
   ]
  },
  {
   "cell_type": "code",
   "execution_count": 104,
   "metadata": {},
   "outputs": [
    {
     "name": "stdout",
     "output_type": "stream",
     "text": [
      "예측 정확도: 1.0000\n"
     ]
    }
   ],
   "source": [
    "print('예측 정확도: {0:.4f}'.format(accuracy_score(y_test, X_pred)))"
   ]
  },
  {
   "cell_type": "code",
   "execution_count": 10,
   "metadata": {},
   "outputs": [
    {
     "data": {
      "image/png": "[encoded data removed]",
      "text/plain": [
       "<Figure size 1152x720 with 1 Axes>"
      ]
     },
     "metadata": {
      "needs_background": "light"
     },
     "output_type": "display_data"
    }
   ],
   "source": [
    "from sklearn.tree import plot_tree\n",
    "import matplotlib.pyplot as plt\n",
    "\n",
    "feature_names = [\"날짜\", \"등락률\", \"소비자물가지수\", \"소매판매지수\",  \"전년_동월_대비\"]\n",
    "\n",
    "plt.rcParams[\"font.family\"] = \"Malgun Gothic\"\n",
    "\n",
    "plt.figure(figsize=(16,10))\n",
    "plot_tree(dt_clf, filled=True, feature_names=feature_names, node_ids=True)\n",
    "plt.show()"
   ]
  },
  {
   "cell_type": "code",
   "execution_count": 11,
   "metadata": {},
   "outputs": [
    {
     "data": {
      "text/plain": [
       "array([0.03871292, 0.11420312, 0.05360251, 0.39038068, 0.40310078])"
      ]
     },
     "execution_count": 11,
     "metadata": {},
     "output_type": "execute_result"
    }
   ],
   "source": [
    "dt_clf.feature_importances_"
   ]
  },
  {
   "cell_type": "code",
   "execution_count": 12,
   "metadata": {},
   "outputs": [
    {
     "data": {
      "text/plain": [
       "<AxesSubplot:title={'center':'피처중요도'}>"
      ]
     },
     "execution_count": 12,
     "metadata": {},
     "output_type": "execute_result"
    },
    {
     "data": {
      "image/png": "[encoded data removed]",
      "text/plain": [
       "<Figure size 432x288 with 1 Axes>"
      ]
     },
     "metadata": {
      "needs_background": "light"
     },
     "output_type": "display_data"
    }
   ],
   "source": [
    "# 피처 중요도 시각화\n",
    "import seaborn as sns\n",
    "import matplotlib.pyplot as plt\n",
    "\n",
    "plt.rcParams['axes.unicode_minus'] = False\n",
    "plt.rcParams[\"font.family\"] = \"Malgun Gothic\"\n",
    "\n",
    "plt.title(\"피처중요도\")\n",
    "sns.barplot(x=dt_clf.feature_importances_, y=data.columns)"
   ]
  },
  {
   "cell_type": "markdown",
   "metadata": {},
   "source": [
    "### 데이터 수동 분리"
   ]
  },
  {
   "cell_type": "code",
   "execution_count": 105,
   "metadata": {},
   "outputs": [
    {
     "name": "stdout",
     "output_type": "stream",
     "text": [
      "훈련 데이터 크기: 77\n",
      "테스트 데이터 크기: 34\n"
     ]
    }
   ],
   "source": [
    "num_of_train = int(len(data) * 0.7)\n",
    "num_of_test = int(len(data) - num_of_train)\n",
    "\n",
    "print('훈련 데이터 크기:', num_of_train)\n",
    "print('테스트 데이터 크기:', num_of_test)"
   ]
  },
  {
   "cell_type": "code",
   "execution_count": 106,
   "metadata": {},
   "outputs": [
    {
     "name": "stdout",
     "output_type": "stream",
     "text": [
      "X 테스트 데이터 :\n",
      "         날짜     서적/문구   소비자물가지수    소매판매지수  전년_동월_대비\n",
      "77   201905  0.005815  0.001719  0.046679       0.0\n",
      "78   201906 -0.044019 -0.001616 -0.056604       1.0\n",
      "79   201907  0.077752 -0.003056  0.004545       0.0\n",
      "80   201908 -0.016262  0.002400  0.009050       1.0\n",
      "81   201909 -0.024028  0.003711  0.016143       0.0\n",
      "82   201910 -0.033313  0.002475  0.021183       1.0\n",
      "83   201911  0.021241 -0.005598  0.040622       1.0\n",
      "84   201912  0.121899  0.002392  0.009967       0.0\n",
      "85   202001 -0.061820  0.003720 -0.080592       0.0\n",
      "86   202002 -0.108362  0.000699 -0.125224       0.0\n",
      "87   202003 -0.049071 -0.002196  0.093047       0.0\n",
      "88   202004  0.034980 -0.004403  0.018709       1.0\n",
      "89   202005  0.107948 -0.000603  0.087236       1.0\n",
      "90   202006 -0.084113  0.002715 -0.012669       0.0\n",
      "91   202007  0.011341 -0.000802 -0.051326       0.0\n",
      "92   202008 -0.029148  0.005621  0.007214       0.0\n",
      "93   202009 -0.006505  0.005490  0.056401       1.0\n",
      "94   202010 -0.051901 -0.005559 -0.018644       0.0\n",
      "95   202011 -0.005193 -0.000898  0.027634       0.0\n",
      "96   202012  0.120831  0.002398  0.000840       0.0\n",
      "97   202101 -0.010869  0.007077 -0.057935       1.0\n",
      "98   202102 -0.091223  0.005344 -0.053476       1.0\n",
      "99   202103  0.341261  0.002560  0.125235       1.0\n",
      "100  202104 -0.195506  0.001375 -0.005021       0.0\n",
      "101  202105  0.045043  0.000686  0.032801       0.0\n",
      "102  202106 -0.077637  0.000000 -0.026873       1.0\n",
      "103  202107  0.090554  0.002058  0.005858       1.0\n",
      "104  202108 -0.052783  0.004792 -0.030782       0.0\n",
      "105  202109  0.048359  0.004088  0.053219       1.0\n",
      "106  202110 -0.008680  0.001745  0.018745       1.0\n",
      "107  202111 -0.053841  0.005031 -0.002400       0.0\n",
      "108  202112  0.185547  0.001637  0.020048       1.0\n",
      "109  202201 -0.050630  0.006248 -0.076258       0.0\n",
      "110  202202 -0.163863  0.005827 -0.081702       0.0\n",
      "y 테스트 데이터 :\n",
      "[1, 1, 0, 1, 0, 1, 1, 1, 0, 0, 1, 1, 1, 0, 0, 0, 1, 0, 1, 0, 1, 1, 1, 1, 1, 1, 1, 0, 1, 1, 0, 1, 0, 0]\n"
     ]
    }
   ],
   "source": [
    "X_train = data[:num_of_train] \n",
    "X_test = data[num_of_train:] \n",
    "y_train = target[:num_of_train] \n",
    "y_test = target[num_of_train:] \n",
    "\n",
    "print('X 테스트 데이터 :')\n",
    "print(X_test)\n",
    "print('y 테스트 데이터 :')\n",
    "print(list(y_test))"
   ]
  },
  {
   "cell_type": "markdown",
   "metadata": {},
   "source": [
    "### 코로나 전, 후 데이터 분리"
   ]
  },
  {
   "cell_type": "code",
   "execution_count": 201,
   "metadata": {},
   "outputs": [
    {
     "name": "stdout",
     "output_type": "stream",
     "text": [
      "X 테스트 데이터 :\n",
      "         날짜     서적/문구   소비자물가지수    소매판매지수  전년_동월_대비\n",
      "85   202001 -0.061820  0.003720 -0.080592       0.0\n",
      "86   202002 -0.108362  0.000699 -0.125224       0.0\n",
      "87   202003 -0.049071 -0.002196  0.093047       0.0\n",
      "88   202004  0.034980 -0.004403  0.018709       1.0\n",
      "89   202005  0.107948 -0.000603  0.087236       1.0\n",
      "90   202006 -0.084113  0.002715 -0.012669       0.0\n",
      "91   202007  0.011341 -0.000802 -0.051326       0.0\n",
      "92   202008 -0.029148  0.005621  0.007214       0.0\n",
      "93   202009 -0.006505  0.005490  0.056401       1.0\n",
      "94   202010 -0.051901 -0.005559 -0.018644       0.0\n",
      "95   202011 -0.005193 -0.000898  0.027634       0.0\n",
      "96   202012  0.120831  0.002398  0.000840       0.0\n",
      "97   202101 -0.010869  0.007077 -0.057935       1.0\n",
      "98   202102 -0.091223  0.005344 -0.053476       1.0\n",
      "99   202103  0.341261  0.002560  0.125235       1.0\n",
      "100  202104 -0.195506  0.001375 -0.005021       0.0\n",
      "101  202105  0.045043  0.000686  0.032801       0.0\n",
      "102  202106 -0.077637  0.000000 -0.026873       1.0\n",
      "103  202107  0.090554  0.002058  0.005858       1.0\n",
      "104  202108 -0.052783  0.004792 -0.030782       0.0\n",
      "105  202109  0.048359  0.004088  0.053219       1.0\n",
      "106  202110 -0.008680  0.001745  0.018745       1.0\n",
      "107  202111 -0.053841  0.005031 -0.002400       0.0\n",
      "108  202112  0.185547  0.001637  0.020048       1.0\n",
      "109  202201 -0.050630  0.006248 -0.076258       0.0\n",
      "110  202202 -0.163863  0.005827 -0.081702       0.0\n",
      "y 테스트 데이터 :\n",
      "[0, 0, 1, 1, 1, 0, 0, 0, 1, 0, 1, 0, 1, 1, 1, 1, 1, 1, 1, 0, 1, 1, 0, 1, 0, 0]\n"
     ]
    }
   ],
   "source": [
    "X_train = data[:84] \n",
    "X_test = data[85:] \n",
    "y_train = target[:84] \n",
    "y_test = target[85:] \n",
    "\n",
    "print('X 테스트 데이터 :')\n",
    "print(X_test)\n",
    "print('y 테스트 데이터 :')\n",
    "print(list(y_test))"
   ]
  },
  {
   "cell_type": "markdown",
   "metadata": {},
   "source": [
    "### 코로나 전 후 DecisionTree, RandomForest, LogisticRegression 정확도"
   ]
  },
  {
   "cell_type": "code",
   "execution_count": 230,
   "metadata": {},
   "outputs": [
    {
     "name": "stdout",
     "output_type": "stream",
     "text": [
      "DecisionTreeClassifier 정확도: 0.9231\n",
      "DecisionTreeClassifier roc_auc: 0.921\n",
      "\n",
      "RandomForestClassifier 정확도: 0.9615\n",
      "DecisionTreeClassifier roc_auc: 0.967\n",
      "\n",
      "LogisticRegression 정확도: 0.5769\n",
      "DecisionTreeClassifier roc_auc: 0.500\n"
     ]
    }
   ],
   "source": [
    "from sklearn.tree import DecisionTreeClassifier\n",
    "from sklearn.ensemble import RandomForestClassifier\n",
    "from sklearn.linear_model import LogisticRegression\n",
    "from sklearn.model_selection import train_test_split\n",
    "from sklearn.metrics import accuracy_score, roc_auc_score\n",
    "import numpy as np\n",
    "\n",
    "data = df[[\"날짜\", \"서적/문구\", \"소비자물가지수\", \"소매판매지수\", \"전년_동월_대비\"]]\n",
    "target = df[\"소비\"]\n",
    "\n",
    "# X_train, X_test, y_train, y_test = train_test_split(data, target, test_size = .3, random_state=11)\n",
    "\n",
    "dt_clf = DecisionTreeClassifier(random_state=11)\n",
    "rf_clf = RandomForestClassifier(random_state=11, n_jobs=-1)\n",
    "lr_clf = LogisticRegression()\n",
    "\n",
    "# DecisionTreeClassifier 학습/예측/평가\n",
    "dt_clf.fit(X_train, y_train)\n",
    "dt_pred = dt_clf.predict(X_test)\n",
    "print('DecisionTreeClassifier 정확도: {0:.4f}'.format(accuracy_score(y_test, dt_pred)))\n",
    "print('DecisionTreeClassifier roc_auc: {:0.3f}'.format(roc_auc_score(y_test, dt_pred)))\n",
    "\n",
    "\n",
    "# RandomForestClassifier 학습/예측/평가\n",
    "rf_clf.fit(X_train, y_train)\n",
    "rf_pred = rf_clf.predict(X_test)\n",
    "print('\\nRandomForestClassifier 정확도: {0:.4f}'.format(accuracy_score(y_test, rf_pred)))\n",
    "print('DecisionTreeClassifier roc_auc: {:0.3f}'.format(roc_auc_score(y_test, rf_pred)))\n",
    "\n",
    "# LogisticRegression 학습/예측/평가\n",
    "lr_clf.fit(X_train, y_train)\n",
    "lr_pred = lr_clf.predict(X_test)\n",
    "print('\\nLogisticRegression 정확도: {0:.4f}'.format(accuracy_score(y_test, lr_pred)))\n",
    "print('DecisionTreeClassifier roc_auc: {:0.3f}'.format(roc_auc_score(y_test, lr_pred)))"
   ]
  },
  {
   "cell_type": "markdown",
   "metadata": {},
   "source": [
    "#### 최적화 작업 전이기 때문에 어떤 알고리즘이 가장 성능이 좋다고 평가할 수 없음."
   ]
  },
  {
   "cell_type": "markdown",
   "metadata": {},
   "source": [
    "### KFold\n",
    "#### 검증 데이터 분리"
   ]
  },
  {
   "cell_type": "code",
   "execution_count": 207,
   "metadata": {},
   "outputs": [
    {
     "name": "stdout",
     "output_type": "stream",
     "text": [
      "교차 검증 0 정확도: 0.9130\n",
      "교차 검증 1 정확도: 0.9545\n",
      "교차 검증 2 정확도: 0.9545\n",
      "교차 검증 3 정확도: 0.7727\n",
      "교차 검증 4 정확도: 0.6364\n",
      "평균 정확도: 0.8462\n"
     ]
    }
   ],
   "source": [
    "from sklearn.model_selection import KFold\n",
    "from sklearn.model_selection import cross_validate\n",
    "from sklearn.model_selection import train_test_split\n",
    "import numpy as np\n",
    "\n",
    "# X_train, X_test, y_train, y_test = train_test_split(data, target, test_size = .3, random_state=11)\n",
    "def exec_kfold(clf, folds=5):\n",
    "    # 폴드 세트를 5개인 KFold객체 생성\n",
    "    kfold = KFold(n_splits=folds)\n",
    "    scores = []\n",
    "    \n",
    "    # KFold 교차 검증\n",
    "    for iter_count, (train_index, test_index) in enumerate(kfold.split(data)):\n",
    "        X_train, X_test = data.values[train_index], data.values[test_index]\n",
    "        y_train, y_test = target.values[train_index], target.values[test_index]\n",
    "        \n",
    "        clf.fit(X_train, y_train)\n",
    "        predictions = clf.predict(X_test)\n",
    "        accuracy = accuracy_score(y_test, predictions)\n",
    "        scores.append(accuracy)\n",
    "        print(\"교차 검증 {0} 정확도: {1:.4f}\".format(iter_count, accuracy))\n",
    "        \n",
    "    mean_score = np.mean(scores)\n",
    "    print(\"평균 정확도: {0:.4f}\".format(mean_score))\n",
    "\n",
    "exec_kfold(dt_clf, folds=5)\n"
   ]
  },
  {
   "cell_type": "markdown",
   "metadata": {},
   "source": [
    "### StratifiedKFold cross_val_score()"
   ]
  },
  {
   "cell_type": "code",
   "execution_count": 204,
   "metadata": {},
   "outputs": [
    {
     "name": "stdout",
     "output_type": "stream",
     "text": [
      "교차 검증 0 정확도: 0.9130\n",
      "교차 검증 1 정확도: 0.9545\n",
      "교차 검증 2 정확도: 0.8636\n",
      "교차 검증 3 정확도: 0.9091\n",
      "교차 검증 4 정확도: 0.9091\n",
      "평균 정확도: 0.9099\n"
     ]
    }
   ],
   "source": [
    "from sklearn.model_selection import cross_val_score\n",
    "\n",
    "scores = cross_val_score(dt_clf, data, target, cv=5)\n",
    "for iter_count, accuracy in enumerate(scores):\n",
    "    print(\"교차 검증 {0} 정확도: {1:.4f}\".format(iter_count, accuracy))\n",
    "\n",
    "print(\"평균 정확도: {0:.4f}\".format(np.mean(scores)))"
   ]
  },
  {
   "cell_type": "markdown",
   "metadata": {},
   "source": [
    "### GridSearchCV\n",
    "#### 최적 하이퍼 파라미터 찾기"
   ]
  },
  {
   "cell_type": "code",
   "execution_count": 226,
   "metadata": {},
   "outputs": [
    {
     "name": "stdout",
     "output_type": "stream",
     "text": [
      "GridSearchCV 최적 하이퍼 파라미터 : {'max_depth': 2, 'min_samples_leaf': 5, 'min_samples_split': 2}\n",
      "GridSearchCV 최고 정확도 :0.8919\n",
      "테스트 세트에서의 DecisionTreeClassifier 정확도 : 0.9615\n"
     ]
    }
   ],
   "source": [
    "from sklearn.model_selection import GridSearchCV\n",
    "\n",
    "parameters = {'max_depth':[2, 3, 5, 10],\\\n",
    "            'min_samples_split':[2, 3, 5],\\\n",
    "            'min_samples_leaf':[1, 5, 8]}\n",
    "\n",
    "# DecisionTreeClassifier GridSearchCV\n",
    "def best_dtparam(clf, param, scoring_name, cv_num):\n",
    "    grid_cv = GridSearchCV(clf, param_grid=param, scoring=scoring_name, cv=cv_num)\n",
    "    grid_cv.fit(X_train, y_train)\n",
    "    \n",
    "    print('GridSearchCV 최적 하이퍼 파라미터 :', grid_cv.best_params_)\n",
    "    print('GridSearchCV 최고 정확도 :{0:.4f}'.format(grid_cv.best_score_))\n",
    "    best_clf = grid_cv.best_estimator_\n",
    "    \n",
    "    # GridSearchCV의 최적 하이퍼 마라미터로 학습된 Estimator로 예측 및 평가 수행\n",
    "    dpredictions = best_clf.predict(X_test)\n",
    "    accuracy = accuracy_score(y_test, dpredictions)\n",
    "    print('테스트 세트에서의 DecisionTreeClassifier 정확도 : {0:.4f}'.format(accuracy))\n",
    "    \n",
    "best_dtparam(dt_clf, parameters, 'accuracy', 5)"
   ]
  },
  {
   "cell_type": "code",
   "execution_count": 232,
   "metadata": {},
   "outputs": [
    {
     "name": "stdout",
     "output_type": "stream",
     "text": [
      "GridSearchCV 최적 하이퍼 파라미터 : {'max_depth': 6, 'min_samples_leaf': 8, 'min_samples_split': 8, 'n_estimators': 100}\n",
      "GridSearchCV 최고 정확도 :0.8452\n",
      "테스트 세트에서의 RandomForestClassifier 정확도 : 0.8846\n"
     ]
    }
   ],
   "source": [
    "parameters = {\\\n",
    "        'n_estimators':[100],\\\n",
    "        'max_depth' : [6, 8, 10, 12],\\\n",
    "        'min_samples_leaf' : [8, 12, 18],\\\n",
    "        'min_samples_split' : [8, 16, 20]\n",
    "}\n",
    "\n",
    "# RandomForestClassifier GridSearchCV\n",
    "def best_rfparam(clf, param, cv_num, n_jobs_num):\n",
    "    grid_cv = GridSearchCV(clf, param_grid=param, cv=cv_num, n_jobs=n_jobs_num)\n",
    "    grid_cv.fit(X_train, y_train)\n",
    "    \n",
    "    print('GridSearchCV 최적 하이퍼 파라미터 :', grid_cv.best_params_)\n",
    "    print('GridSearchCV 최고 정확도 :{0:.4f}'.format(grid_cv.best_score_))\n",
    "    best_clf = grid_cv.best_estimator_\n",
    "    \n",
    "    # GridSearchCV의 최적 하이퍼 마라미터로 학습된 Estimator로 예측 및 평가 수행\n",
    "    dpredictions = best_clf.predict(X_test)\n",
    "    accuracy = accuracy_score(y_test, dpredictions)\n",
    "    print('테스트 세트에서의 RandomForestClassifier 정확도 : {0:.4f}'.format(accuracy))\n",
    "\n",
    "best_rfparam(rf_clf, parameters, 2, -1)"
   ]
  },
  {
   "cell_type": "code",
   "execution_count": 233,
   "metadata": {},
   "outputs": [
    {
     "name": "stdout",
     "output_type": "stream",
     "text": [
      "예측 정확도: 0.8846\n"
     ]
    }
   ],
   "source": [
    "# 최적 하이퍼 파라미터 적용\n",
    "rf_clf1 = RandomForestClassifier(n_estimators=100, max_depth=2, min_samples_leaf=1, min_samples_split=2, random_state=11)\n",
    "rf_clf1.fit(X_train, y_train)\n",
    "pred = rf_clf1.predict(X_test)\n",
    "print('예측 정확도: {0:.4f}'.format(accuracy_score(y_test, pred)))"
   ]
  },
  {
   "cell_type": "code",
   "execution_count": 247,
   "metadata": {},
   "outputs": [
    {
     "data": {
      "image/png": "[encoded data removed]",
      "text/plain": [
       "<Figure size 1152x1008 with 2 Axes>"
      ]
     },
     "metadata": {
      "needs_background": "light"
     },
     "output_type": "display_data"
    }
   ],
   "source": [
    "fig, axes = plt.subplots(2, 1, squeeze=False)\n",
    "fig.set_size_inches((16,14))\n",
    "\n",
    "plt.title(\"피처중요도\")\n",
    "sns.barplot(x=dt_clf.feature_importances_, y=data.columns, ax=axes[0,0])\n",
    "axes[0,0].title.set_text(\"DecisionTree 피처중요도\")\n",
    "sns.barplot(x=rf_clf1.feature_importances_, y=data.columns, ax=axes[1,0])\n",
    "axes[1,0].title.set_text(\"RandomForest 피처중요도\")\n",
    "\n",
    "plt.show()"
   ]
  },
  {
   "cell_type": "markdown",
   "metadata": {},
   "source": [
    "## 평가"
   ]
  },
  {
   "cell_type": "markdown",
   "metadata": {},
   "source": [
    "### 오차행렬\n",
    "#### TN : 환자를 암이 아니라 예측했고 실제로도 암이 아님\n",
    "#### FP : 환자를 암이 맞다고 예측했고 실제로는 암이 아님 -> 1종 오류\n",
    "#### FN : 환자를 암이 아니라 예측했고 실제로는 암이 맞음 -> 2종 오류\n",
    "#### TP : 환자를 암이 맞다고 예측했고 실제로도 암\n",
    "이 맞음"
   ]
  },
  {
   "cell_type": "code",
   "execution_count": 208,
   "metadata": {},
   "outputs": [
    {
     "name": "stdout",
     "output_type": "stream",
     "text": [
      "오차행렬:\n",
      " [[10  1]\n",
      " [ 1 14]]\n"
     ]
    }
   ],
   "source": [
    "from sklearn.metrics import confusion_matrix\n",
    "\n",
    "c_matrix = confusion_matrix(y_test, dt_pred)\n",
    "print(\"오차행렬:\\n\", c_matrix)"
   ]
  },
  {
   "cell_type": "markdown",
   "metadata": {},
   "source": [
    "### 정밀도와 재현율\n",
    "#### 정밀도 = TP / (FP + TP)\n",
    "#### 재현율 = TP / (FN + TP)\n",
    "#### 소비가 많은 월을 0이라 판단하게 되면 큰 영향이 발생하기 때문에 재현율이 더 중요하다.\n",
    "#### 소비가 많이 없는 월을 1이라 판단하더라도 혜택이 있다면 소비가 늘어날 수도있기 때문에 정밀도<재현율"
   ]
  },
  {
   "cell_type": "code",
   "execution_count": 217,
   "metadata": {},
   "outputs": [
    {
     "name": "stdout",
     "output_type": "stream",
     "text": [
      "오차 행렬\n",
      "[[10  1]\n",
      " [ 1 14]]\n",
      "정확도: 0.9231, 정밀도: 0.9333, 재현율: 0.9333\n"
     ]
    }
   ],
   "source": [
    "from sklearn.metrics import accuracy_score, precision_score, recall_score, confusion_matrix\n",
    "\n",
    "def get_clf_eval(y_test, pred):\n",
    "    confusion = confusion_matrix(y_test, dt_pred)\n",
    "    accuracy = accuracy_score(y_test, dt_pred)\n",
    "    precision = precision_score(y_test, dt_pred)\n",
    "    recall = recall_score(y_test, dt_pred)\n",
    "    print('오차 행렬')\n",
    "    print(confusion)\n",
    "    print('정확도: {0:.4f}, 정밀도: {1:.4f}, 재현율: {2:.4f}'.format(accuracy, precision, recall))\n",
    "    \n",
    "get_clf_eval(y_test, dt_pred)"
   ]
  },
  {
   "cell_type": "markdown",
   "metadata": {},
   "source": [
    "### 정밀도/재현율 트레이드오프\n",
    "#### 정밀도와 재현율 값이 똑같이 나왔기 때문에 더 중요한 재현율 값을 올려준다."
   ]
  },
  {
   "cell_type": "code",
   "execution_count": 219,
   "metadata": {},
   "outputs": [
    {
     "name": "stdout",
     "output_type": "stream",
     "text": [
      "pred_proba()결과 Shape : (26, 2)\n",
      "pred_proba array에서 앞 3개만 샘플로 추출: \n",
      " [[0.28535193 0.71464807]\n",
      " [0.285351   0.714649  ]\n",
      " [0.28535008 0.71464992]]\n",
      "두 개의 class 중에서 더 큰 확률을 클래스 값으로 예측: \n",
      " [[0.28535193 0.71464807 1.        ]\n",
      " [0.285351   0.714649   1.        ]\n",
      " [0.28535008 0.71464992 1.        ]]\n"
     ]
    }
   ],
   "source": [
    "pred_proba = lr_clf.predict_proba(X_test)\n",
    "pred = lr_clf.predict(X_test)\n",
    "print('pred_proba()결과 Shape : {0}'.format(pred_proba.shape))\n",
    "print('pred_proba array에서 앞 3개만 샘플로 추출: \\n', pred_proba[:3])\n",
    "\n",
    "pred_proba_result = np.concatenate([pred_proba, pred.reshape(-1, 1)], axis=1)\n",
    "print('두 개의 class 중에서 더 큰 확률을 클래스 값으로 예측: \\n', pred_proba_result[:3])"
   ]
  },
  {
   "cell_type": "code",
   "execution_count": 220,
   "metadata": {},
   "outputs": [
    {
     "name": "stdout",
     "output_type": "stream",
     "text": [
      "임곗값: 0.4\n",
      "오차 행렬\n",
      "[[10  1]\n",
      " [ 1 14]]\n",
      "정확도: 0.9231, 정밀도: 0.9333, 재현율: 0.9333\n",
      "임곗값: 0.45\n",
      "오차 행렬\n",
      "[[10  1]\n",
      " [ 1 14]]\n",
      "정확도: 0.9231, 정밀도: 0.9333, 재현율: 0.9333\n",
      "임곗값: 0.5\n",
      "오차 행렬\n",
      "[[10  1]\n",
      " [ 1 14]]\n",
      "정확도: 0.9231, 정밀도: 0.9333, 재현율: 0.9333\n",
      "임곗값: 0.55\n",
      "오차 행렬\n",
      "[[10  1]\n",
      " [ 1 14]]\n",
      "정확도: 0.9231, 정밀도: 0.9333, 재현율: 0.9333\n",
      "임곗값: 0.6\n",
      "오차 행렬\n",
      "[[10  1]\n",
      " [ 1 14]]\n",
      "정확도: 0.9231, 정밀도: 0.9333, 재현율: 0.9333\n"
     ]
    }
   ],
   "source": [
    "from sklearn.preprocessing import Binarizer\n",
    "thresholds = [0.4, 0.45, 0.5, 0.55, 0.6]\n",
    "\n",
    "def get_eval_by_threshold(y_test, pred_proba_c1, thresholds):\n",
    "    for custom_threshold in thresholds:\n",
    "        binarizer = Binarizer(threshold=custom_threshold).fit(pred_proba_c1)\n",
    "        custom_predict = binarizer.transform(pred_proba_c1)\n",
    "        print('임곗값:', custom_threshold)\n",
    "        get_clf_eval(y_test, custom_predict)\n",
    "\n",
    "get_eval_by_threshold(y_test, pred_proba[:, 1].reshape(-1, 1), thresholds)"
   ]
  },
  {
   "cell_type": "code",
   "execution_count": 211,
   "metadata": {},
   "outputs": [
    {
     "data": {
      "image/png": "[encoded data removed]",
      "text/plain": [
       "<Figure size 1008x576 with 1 Axes>"
      ]
     },
     "metadata": {
      "needs_background": "light"
     },
     "output_type": "display_data"
    }
   ],
   "source": [
    "from sklearn.metrics import precision_recall_curve\n",
    "\n",
    "def precision_recall_curve_plot(y_test, pred_proba_c1):\n",
    "    precisions, recalls, thresholds = precision_recall_curve(y_test, pred_proba_c1)\n",
    "    \n",
    "    # X축을 threshold값으로, Y축은 정밀도, 재현율 값으로 각각 plot 수행. 정밀도는 점선으로 표시\n",
    "    plt.figure(figsize=(14, 8))    \n",
    "    threshold_boundary = thresholds.shape[0]\n",
    "    plt.plot(thresholds, precisions[0:threshold_boundary], linestyle='--', label='precision')\n",
    "    plt.plot(thresholds, recalls[0:threshold_boundary], label='recall')\n",
    "    \n",
    "    start, end = plt.xlim()\n",
    "    plt.xticks(np.round(np.arange(start, end, 0.1), 2))\n",
    "    \n",
    "    plt.xlabel('Threshold value')\n",
    "    plt.ylabel('Precision and Recall value')\n",
    "    plt.legend()\n",
    "    plt.grid()\n",
    "    plt.show()\n",
    "    \n",
    "precision_recall_curve_plot(y_test, lr_clf.predict_proba(X_test)[:, 1])"
   ]
  },
  {
   "cell_type": "markdown",
   "metadata": {},
   "source": [
    "### F1 스코어\n",
    "#### 정밀도와 재현율 결합 지표"
   ]
  },
  {
   "cell_type": "code",
   "execution_count": 212,
   "metadata": {},
   "outputs": [
    {
     "name": "stdout",
     "output_type": "stream",
     "text": [
      "F1 스코어: 0.9333\n"
     ]
    }
   ],
   "source": [
    "from sklearn.metrics import f1_score\n",
    "f1 = f1_score(y_test, dt_pred)\n",
    "print('F1 스코어: {0:.4f}'.format(f1))"
   ]
  },
  {
   "cell_type": "code",
   "execution_count": 213,
   "metadata": {},
   "outputs": [
    {
     "name": "stdout",
     "output_type": "stream",
     "text": [
      "임곗값: 0.4\n",
      "오차행렬\n",
      "[[ 0 11]\n",
      " [ 0 15]]\n",
      "정확도: 0.5769, 정밀도: 0.5769, 재현율: 1.0000, F1:0.7317\n",
      "임곗값: 0.45\n",
      "오차행렬\n",
      "[[ 0 11]\n",
      " [ 0 15]]\n",
      "정확도: 0.5769, 정밀도: 0.5769, 재현율: 1.0000, F1:0.7317\n",
      "임곗값: 0.5\n",
      "오차행렬\n",
      "[[ 0 11]\n",
      " [ 0 15]]\n",
      "정확도: 0.5769, 정밀도: 0.5769, 재현율: 1.0000, F1:0.7317\n",
      "임곗값: 0.55\n",
      "오차행렬\n",
      "[[ 0 11]\n",
      " [ 0 15]]\n",
      "정확도: 0.5769, 정밀도: 0.5769, 재현율: 1.0000, F1:0.7317\n",
      "임곗값: 0.6\n",
      "오차행렬\n",
      "[[ 0 11]\n",
      " [ 0 15]]\n",
      "정확도: 0.5769, 정밀도: 0.5769, 재현율: 1.0000, F1:0.7317\n"
     ]
    }
   ],
   "source": [
    "def get_clf_eval(y_test, dt_pred):\n",
    "    confusion = confusion_matrix(y_test, dt_pred)\n",
    "    accuracy = accuracy_score(y_test, dt_pred)\n",
    "    precision = precision_score(y_test, dt_pred)\n",
    "    recall = recall_score(y_test, dt_pred)\n",
    "    f1 = f1_score(y_test, dt_pred)\n",
    "    print('오차행렬')\n",
    "    print(confusion)\n",
    "    print('정확도: {0:.4f}, 정밀도: {1:.4f}, 재현율: {2:.4f}, F1:{3:.4f}'.format(accuracy, precision, recall, f1))\n",
    "\n",
    "thresholds = [0.4, 0.45, 0.5, 0.55, 0.6]\n",
    "pred_proba = lr_clf.predict_proba(X_test)\n",
    "\n",
    "get_eval_by_threshold(y_test, pred_proba[:, 1].reshape(-1, 1), thresholds)"
   ]
  },
  {
   "cell_type": "markdown",
   "metadata": {},
   "source": [
    "### ROC 곡선과 AUC\n",
    "#### 민감도(TPR): 실제값 positive가 정확히 예측돼야 하는 수준\n",
    "#### 특이성(TNR): 실제값 negative가 정확히 예측돼야 하는 수준"
   ]
  },
  {
   "cell_type": "code",
   "execution_count": 214,
   "metadata": {},
   "outputs": [
    {
     "name": "stdout",
     "output_type": "stream",
     "text": [
      "샘플 추출을 위한 임곗값 배열의 index: [1]\n",
      "샘플 index로 추출한 임곗값:  [1.]\n",
      "샘플 임곗값별 FPR:  [0.364]\n",
      "샘플 임곗값별 TPR:  [0.733]\n"
     ]
    },
    {
     "name": "stderr",
     "output_type": "stream",
     "text": [
      "c:\\Users\\wndgj\\AppData\\Local\\Programs\\Python\\Python310\\lib\\site-packages\\sklearn\\base.py:443: UserWarning: X has feature names, but DecisionTreeClassifier was fitted without feature names\n",
      "  warnings.warn(\n"
     ]
    }
   ],
   "source": [
    "from sklearn.metrics import roc_curve\n",
    "\n",
    "# 레이블 값이 1일때의 예측 확률\n",
    "pred_proba_class1 = dt_clf.predict_proba(X_test)[:, 1]\n",
    "\n",
    "fprs, tprs, thresholds = roc_curve(y_test, pred_proba_class1)\n",
    "# thresholds[0]은 max(예측확률)+1로 임의 설정. 이를 제외하기 위해 np.arange는 1부터 시작\n",
    "thr_index = np.arange(1, thresholds.shape[0], 5)\n",
    "\n",
    "print('샘플 추출을 위한 임곗값 배열의 index:', thr_index)\n",
    "print('샘플 index로 추출한 임곗값: ', np.round(thresholds[thr_index], 2))\n",
    "\n",
    "print('샘플 임곗값별 FPR: ', np.round(fprs[thr_index], 3))\n",
    "print('샘플 임곗값별 TPR: ', np.round(tprs[thr_index], 3))"
   ]
  },
  {
   "cell_type": "markdown",
   "metadata": {},
   "source": [
    "#### ROC 곡선 시각화"
   ]
  },
  {
   "cell_type": "code",
   "execution_count": 215,
   "metadata": {},
   "outputs": [
    {
     "data": {
      "image/png": "[encoded data removed]",
      "text/plain": [
       "<Figure size 864x576 with 1 Axes>"
      ]
     },
     "metadata": {
      "needs_background": "light"
     },
     "output_type": "display_data"
    }
   ],
   "source": [
    "def roc_curve_plot(y_test, pred_proba_c1):\n",
    "    # 임곗값에 따른 FPR, TPR 값\n",
    "    fprs, tprs, thresholds = roc_curve(y_test, pred_proba_c1)\n",
    "    # ROC 곡선\n",
    "    plt.plot(fprs, tprs, label=\"ROC\")\n",
    "    # 가운데 대각선 점선\n",
    "    plt.plot([0, 1], [0, 1], 'k--', label='Random')\n",
    "    \n",
    "    # FPR X 축의 Scale을 0.1 단위로 변경, X, Y축 명 설정\n",
    "    start, end = plt.xlim()\n",
    "    plt.xticks(np.round(np.arange(start, end, 0.1), 2))\n",
    "    plt.xlim(0, 1)\n",
    "    plt.ylim(0, 1)\n",
    "    plt.xlabel('FPR(1 - Sensitivity)')\n",
    "    plt.ylabel('TPR( Recall )')\n",
    "    plt.legend()\n",
    "\n",
    "roc_curve_plot(y_test, pred_proba[:, 1])"
   ]
  },
  {
   "cell_type": "code",
   "execution_count": 216,
   "metadata": {},
   "outputs": [
    {
     "name": "stdout",
     "output_type": "stream",
     "text": [
      "ROC AUC 값: 0.6848\n"
     ]
    },
    {
     "name": "stderr",
     "output_type": "stream",
     "text": [
      "c:\\Users\\wndgj\\AppData\\Local\\Programs\\Python\\Python310\\lib\\site-packages\\sklearn\\base.py:443: UserWarning: X has feature names, but DecisionTreeClassifier was fitted without feature names\n",
      "  warnings.warn(\n"
     ]
    }
   ],
   "source": [
    "from sklearn.metrics import roc_auc_score\n",
    "\n",
    "pred_proba = dt_clf.predict_proba(X_test)[:, 1]\n",
    "roc_score = roc_auc_score(y_test, pred_proba)\n",
    "print('ROC AUC 값: {0:.4f}'.format(roc_score))"
   ]
  },
  {
   "cell_type": "markdown",
   "metadata": {},
   "source": [
    "### 교차 검증"
   ]
  },
  {
   "cell_type": "code",
   "execution_count": 124,
   "metadata": {},
   "outputs": [
    {
     "name": "stdout",
     "output_type": "stream",
     "text": [
      "\n",
      "#1 교차 검증 정확도 :0.913, 학습 데이터 크기: 88, 검증데이터 크기: 23\n",
      "#1 검증 세트 인덱스:[ 0  1  2  3  4  5  6  7  8  9 10 11 12 13 14 15 16 17 18 19 20 21 22]\n",
      "학습 레이블 데이터 분포:\n",
      " 1    60\n",
      "0    28\n",
      "Name: 소비, dtype: int64\n",
      "검증 레이블 데이터 분포:\n",
      " 1    16\n",
      "0     7\n",
      "Name: 소비, dtype: int64\n",
      "\n",
      "#2 교차 검증 정확도 :0.9545, 학습 데이터 크기: 89, 검증데이터 크기: 22\n",
      "#2 검증 세트 인덱스:[23 24 25 26 27 28 29 30 31 32 33 34 35 36 37 38 39 40 41 42 43 44]\n",
      "학습 레이블 데이터 분포:\n",
      " 1    60\n",
      "0    29\n",
      "Name: 소비, dtype: int64\n",
      "검증 레이블 데이터 분포:\n",
      " 1    16\n",
      "0     6\n",
      "Name: 소비, dtype: int64\n",
      "\n",
      "#3 교차 검증 정확도 :0.9545, 학습 데이터 크기: 89, 검증데이터 크기: 22\n",
      "#3 검증 세트 인덱스:[45 46 47 48 49 50 51 52 53 54 55 56 57 58 59 60 61 62 63 64 65 66]\n",
      "학습 레이블 데이터 분포:\n",
      " 1    60\n",
      "0    29\n",
      "Name: 소비, dtype: int64\n",
      "검증 레이블 데이터 분포:\n",
      " 1    16\n",
      "0     6\n",
      "Name: 소비, dtype: int64\n",
      "\n",
      "#4 교차 검증 정확도 :0.7727, 학습 데이터 크기: 89, 검증데이터 크기: 22\n",
      "#4 검증 세트 인덱스:[67 68 69 70 71 72 73 74 75 76 77 78 79 80 81 82 83 84 85 86 87 88]\n",
      "학습 레이블 데이터 분포:\n",
      " 1    61\n",
      "0    28\n",
      "Name: 소비, dtype: int64\n",
      "검증 레이블 데이터 분포:\n",
      " 1    15\n",
      "0     7\n",
      "Name: 소비, dtype: int64\n",
      "\n",
      "#5 교차 검증 정확도 :0.6364, 학습 데이터 크기: 89, 검증데이터 크기: 22\n",
      "#5 검증 세트 인덱스:[ 89  90  91  92  93  94  95  96  97  98  99 100 101 102 103 104 105 106\n",
      " 107 108 109 110]\n",
      "학습 레이블 데이터 분포:\n",
      " 1    63\n",
      "0    26\n",
      "Name: 소비, dtype: int64\n",
      "검증 레이블 데이터 분포:\n",
      " 1    13\n",
      "0     9\n",
      "Name: 소비, dtype: int64\n",
      "\n",
      "## 평균 검증 정확도: 0.84622\n"
     ]
    }
   ],
   "source": [
    "cv_accuracy = []\n",
    "n_iter = 0\n",
    "\n",
    "for train_index, test_index in kfold.split(data):\n",
    "    X_train, X_test = data.iloc[train_index], data.iloc[test_index]\n",
    "    y_train, y_test = target.iloc[train_index], target.iloc[test_index]\n",
    "    \n",
    "    dt_clf.fit(X_train, y_train)\n",
    "    pred = dt_clf.predict(X_test)\n",
    "    n_iter += 1\n",
    "    \n",
    "    accuracy = np.round(accuracy_score(y_test, pred), 4)\n",
    "    train_size = X_train.shape[0]\n",
    "    test_size = X_test.shape[0]\n",
    "    print('\\n#{0} 교차 검증 정확도 :{1}, 학습 데이터 크기: {2}, 검증데이터 크기: {3}'.format(n_iter, accuracy, train_size, test_size))\n",
    "    print('#{0} 검증 세트 인덱스:{1}'.format(n_iter, test_index))\n",
    "    \n",
    "    label_train = target.iloc[train_index]\n",
    "    label_test = target.iloc[test_index]\n",
    "    print('학습 레이블 데이터 분포:\\n', label_train.value_counts())\n",
    "    print('검증 레이블 데이터 분포:\\n', label_test.value_counts())\n",
    "    cv_accuracy.append(accuracy)\n",
    "    \n",
    "print('\\n## 평균 검증 정확도:', np.mean(cv_accuracy))\n",
    "    "
   ]
  },
  {
   "cell_type": "code",
   "execution_count": 76,
   "metadata": {},
   "outputs": [
    {
     "data": {
      "text/plain": [
       "array([0, 0, 1, 1, 1, 0, 0, 0, 1, 0, 1, 1, 1, 1, 1, 0, 1, 1, 1, 0, 1, 1,\n",
       "       0, 1, 0, 0], dtype=int64)"
      ]
     },
     "execution_count": 76,
     "metadata": {},
     "output_type": "execute_result"
    }
   ],
   "source": [
    "X_pred = dt_clf.predict(X_test)\n",
    "X_pred"
   ]
  },
  {
   "cell_type": "code",
   "execution_count": 77,
   "metadata": {},
   "outputs": [
    {
     "data": {
      "text/plain": [
       "85     0\n",
       "86     0\n",
       "87     1\n",
       "88     1\n",
       "89     1\n",
       "90     0\n",
       "91     0\n",
       "92     0\n",
       "93     1\n",
       "94     0\n",
       "95     1\n",
       "96     0\n",
       "97     1\n",
       "98     1\n",
       "99     1\n",
       "100    1\n",
       "101    1\n",
       "102    1\n",
       "103    1\n",
       "104    0\n",
       "105    1\n",
       "106    1\n",
       "107    0\n",
       "108    1\n",
       "109    0\n",
       "110    0\n",
       "Name: 소비, dtype: int64"
      ]
     },
     "execution_count": 77,
     "metadata": {},
     "output_type": "execute_result"
    }
   ],
   "source": [
    "y_test"
   ]
  },
  {
   "cell_type": "code",
   "execution_count": 138,
   "metadata": {},
   "outputs": [
    {
     "ename": "ValueError",
     "evalue": "Found input variables with inconsistent numbers of samples: [22, 34]",
     "output_type": "error",
     "traceback": [
      "\u001b[1;31m---------------------------------------------------------------------------\u001b[0m",
      "\u001b[1;31mValueError\u001b[0m                                Traceback (most recent call last)",
      "\u001b[1;32mc:\\project1_dajopay\\decisiontree.ipynb 셀 38\u001b[0m in \u001b[0;36m<cell line: 1>\u001b[1;34m()\u001b[0m\n\u001b[1;32m----> <a href='vscode-notebook-cell:/c%3A/project1_dajopay/decisiontree.ipynb#X42sZmlsZQ%3D%3D?line=0'>1</a>\u001b[0m \u001b[39mprint\u001b[39m(\u001b[39m'\u001b[39m\u001b[39m예측 정확도: \u001b[39m\u001b[39m{0:.4f}\u001b[39;00m\u001b[39m'\u001b[39m\u001b[39m.\u001b[39mformat(accuracy_score(y_test, X_pred)))\n",
      "File \u001b[1;32mc:\\Users\\wndgj\\AppData\\Local\\Programs\\Python\\Python310\\lib\\site-packages\\sklearn\\metrics\\_classification.py:211\u001b[0m, in \u001b[0;36maccuracy_score\u001b[1;34m(y_true, y_pred, normalize, sample_weight)\u001b[0m\n\u001b[0;32m    145\u001b[0m \u001b[39m\"\"\"Accuracy classification score.\u001b[39;00m\n\u001b[0;32m    146\u001b[0m \n\u001b[0;32m    147\u001b[0m \u001b[39mIn multilabel classification, this function computes subset accuracy:\u001b[39;00m\n\u001b[1;32m   (...)\u001b[0m\n\u001b[0;32m    207\u001b[0m \u001b[39m0.5\u001b[39;00m\n\u001b[0;32m    208\u001b[0m \u001b[39m\"\"\"\u001b[39;00m\n\u001b[0;32m    210\u001b[0m \u001b[39m# Compute accuracy for each possible representation\u001b[39;00m\n\u001b[1;32m--> 211\u001b[0m y_type, y_true, y_pred \u001b[39m=\u001b[39m _check_targets(y_true, y_pred)\n\u001b[0;32m    212\u001b[0m check_consistent_length(y_true, y_pred, sample_weight)\n\u001b[0;32m    213\u001b[0m \u001b[39mif\u001b[39;00m y_type\u001b[39m.\u001b[39mstartswith(\u001b[39m\"\u001b[39m\u001b[39mmultilabel\u001b[39m\u001b[39m\"\u001b[39m):\n",
      "File \u001b[1;32mc:\\Users\\wndgj\\AppData\\Local\\Programs\\Python\\Python310\\lib\\site-packages\\sklearn\\metrics\\_classification.py:84\u001b[0m, in \u001b[0;36m_check_targets\u001b[1;34m(y_true, y_pred)\u001b[0m\n\u001b[0;32m     57\u001b[0m \u001b[39mdef\u001b[39;00m \u001b[39m_check_targets\u001b[39m(y_true, y_pred):\n\u001b[0;32m     58\u001b[0m     \u001b[39m\"\"\"Check that y_true and y_pred belong to the same classification task.\u001b[39;00m\n\u001b[0;32m     59\u001b[0m \n\u001b[0;32m     60\u001b[0m \u001b[39m    This converts multiclass or binary types to a common shape, and raises a\u001b[39;00m\n\u001b[1;32m   (...)\u001b[0m\n\u001b[0;32m     82\u001b[0m \u001b[39m    y_pred : array or indicator matrix\u001b[39;00m\n\u001b[0;32m     83\u001b[0m \u001b[39m    \"\"\"\u001b[39;00m\n\u001b[1;32m---> 84\u001b[0m     check_consistent_length(y_true, y_pred)\n\u001b[0;32m     85\u001b[0m     type_true \u001b[39m=\u001b[39m type_of_target(y_true, input_name\u001b[39m=\u001b[39m\u001b[39m\"\u001b[39m\u001b[39my_true\u001b[39m\u001b[39m\"\u001b[39m)\n\u001b[0;32m     86\u001b[0m     type_pred \u001b[39m=\u001b[39m type_of_target(y_pred, input_name\u001b[39m=\u001b[39m\u001b[39m\"\u001b[39m\u001b[39my_pred\u001b[39m\u001b[39m\"\u001b[39m)\n",
      "File \u001b[1;32mc:\\Users\\wndgj\\AppData\\Local\\Programs\\Python\\Python310\\lib\\site-packages\\sklearn\\utils\\validation.py:387\u001b[0m, in \u001b[0;36mcheck_consistent_length\u001b[1;34m(*arrays)\u001b[0m\n\u001b[0;32m    385\u001b[0m uniques \u001b[39m=\u001b[39m np\u001b[39m.\u001b[39munique(lengths)\n\u001b[0;32m    386\u001b[0m \u001b[39mif\u001b[39;00m \u001b[39mlen\u001b[39m(uniques) \u001b[39m>\u001b[39m \u001b[39m1\u001b[39m:\n\u001b[1;32m--> 387\u001b[0m     \u001b[39mraise\u001b[39;00m \u001b[39mValueError\u001b[39;00m(\n\u001b[0;32m    388\u001b[0m         \u001b[39m\"\u001b[39m\u001b[39mFound input variables with inconsistent numbers of samples: \u001b[39m\u001b[39m%r\u001b[39;00m\u001b[39m\"\u001b[39m\n\u001b[0;32m    389\u001b[0m         \u001b[39m%\u001b[39m [\u001b[39mint\u001b[39m(l) \u001b[39mfor\u001b[39;00m l \u001b[39min\u001b[39;00m lengths]\n\u001b[0;32m    390\u001b[0m     )\n",
      "\u001b[1;31mValueError\u001b[0m: Found input variables with inconsistent numbers of samples: [22, 34]"
     ]
    }
   ],
   "source": [
    "print('예측 정확도: {0:.4f}'.format(accuracy_score(y_test, X_pred)))"
   ]
  },
  {
   "cell_type": "markdown",
   "metadata": {},
   "source": [
    "### XGBClassifier"
   ]
  },
  {
   "cell_type": "code",
   "execution_count": 126,
   "metadata": {},
   "outputs": [
    {
     "name": "stdout",
     "output_type": "stream",
     "text": [
      "[0]\tvalidation_0-auc:0.98718\tvalidation_1-auc:0.77350\n",
      "[1]\tvalidation_0-auc:0.99756\tvalidation_1-auc:0.91880\n",
      "[2]\tvalidation_0-auc:0.99817\tvalidation_1-auc:0.96154\n",
      "[3]\tvalidation_0-auc:0.99817\tvalidation_1-auc:0.96154\n",
      "[4]\tvalidation_0-auc:0.99817\tvalidation_1-auc:0.95299\n",
      "[5]\tvalidation_0-auc:0.99817\tvalidation_1-auc:0.95299\n",
      "[6]\tvalidation_0-auc:0.99817\tvalidation_1-auc:0.95299\n"
     ]
    },
    {
     "name": "stderr",
     "output_type": "stream",
     "text": [
      "c:\\Users\\wndgj\\AppData\\Local\\Programs\\Python\\Python310\\lib\\site-packages\\xgboost\\sklearn.py:793: UserWarning: `eval_metric` in `fit` method is deprecated for better compatibility with scikit-learn, use `eval_metric` in constructor or`set_params` instead.\n",
      "  warnings.warn(\n",
      "c:\\Users\\wndgj\\AppData\\Local\\Programs\\Python\\Python310\\lib\\site-packages\\xgboost\\sklearn.py:793: UserWarning: `early_stopping_rounds` in `fit` method is deprecated for better compatibility with scikit-learn, use `early_stopping_rounds` in constructor or`set_params` instead.\n",
      "  warnings.warn(\n"
     ]
    },
    {
     "name": "stdout",
     "output_type": "stream",
     "text": [
      "[7]\tvalidation_0-auc:0.99817\tvalidation_1-auc:0.95299\n",
      "[8]\tvalidation_0-auc:0.99878\tvalidation_1-auc:0.94872\n",
      "[9]\tvalidation_0-auc:0.99878\tvalidation_1-auc:0.95726\n",
      "[10]\tvalidation_0-auc:0.99878\tvalidation_1-auc:0.95726\n",
      "[11]\tvalidation_0-auc:1.00000\tvalidation_1-auc:0.95726\n",
      "[12]\tvalidation_0-auc:1.00000\tvalidation_1-auc:0.96581\n",
      "[13]\tvalidation_0-auc:1.00000\tvalidation_1-auc:0.96581\n",
      "[14]\tvalidation_0-auc:1.00000\tvalidation_1-auc:0.96581\n",
      "[15]\tvalidation_0-auc:1.00000\tvalidation_1-auc:0.96581\n",
      "[16]\tvalidation_0-auc:1.00000\tvalidation_1-auc:0.96581\n",
      "[17]\tvalidation_0-auc:1.00000\tvalidation_1-auc:0.96581\n",
      "[18]\tvalidation_0-auc:1.00000\tvalidation_1-auc:0.96581\n",
      "[19]\tvalidation_0-auc:1.00000\tvalidation_1-auc:0.96581\n",
      "[20]\tvalidation_0-auc:1.00000\tvalidation_1-auc:0.96581\n",
      "[21]\tvalidation_0-auc:1.00000\tvalidation_1-auc:0.96581\n",
      "[22]\tvalidation_0-auc:1.00000\tvalidation_1-auc:0.96581\n",
      "[23]\tvalidation_0-auc:1.00000\tvalidation_1-auc:0.96581\n",
      "[24]\tvalidation_0-auc:1.00000\tvalidation_1-auc:0.96581\n",
      "[25]\tvalidation_0-auc:1.00000\tvalidation_1-auc:0.96581\n",
      "[26]\tvalidation_0-auc:1.00000\tvalidation_1-auc:0.96581\n",
      "[27]\tvalidation_0-auc:1.00000\tvalidation_1-auc:0.96581\n",
      "[28]\tvalidation_0-auc:1.00000\tvalidation_1-auc:0.96581\n",
      "[29]\tvalidation_0-auc:1.00000\tvalidation_1-auc:0.96581\n",
      "[30]\tvalidation_0-auc:1.00000\tvalidation_1-auc:0.96581\n",
      "[31]\tvalidation_0-auc:1.00000\tvalidation_1-auc:0.96581\n",
      "[32]\tvalidation_0-auc:1.00000\tvalidation_1-auc:0.96581\n",
      "[33]\tvalidation_0-auc:1.00000\tvalidation_1-auc:0.96581\n",
      "[34]\tvalidation_0-auc:1.00000\tvalidation_1-auc:0.96581\n",
      "[35]\tvalidation_0-auc:1.00000\tvalidation_1-auc:0.96581\n",
      "[36]\tvalidation_0-auc:1.00000\tvalidation_1-auc:0.96581\n",
      "[37]\tvalidation_0-auc:1.00000\tvalidation_1-auc:0.96581\n",
      "[38]\tvalidation_0-auc:1.00000\tvalidation_1-auc:0.96581\n",
      "[39]\tvalidation_0-auc:1.00000\tvalidation_1-auc:0.96581\n",
      "[40]\tvalidation_0-auc:1.00000\tvalidation_1-auc:0.96581\n",
      "[41]\tvalidation_0-auc:1.00000\tvalidation_1-auc:0.96581\n",
      "[42]\tvalidation_0-auc:1.00000\tvalidation_1-auc:0.96581\n",
      "[43]\tvalidation_0-auc:1.00000\tvalidation_1-auc:0.96581\n",
      "[44]\tvalidation_0-auc:1.00000\tvalidation_1-auc:0.96581\n",
      "[45]\tvalidation_0-auc:1.00000\tvalidation_1-auc:0.96581\n",
      "[46]\tvalidation_0-auc:1.00000\tvalidation_1-auc:0.96581\n",
      "[47]\tvalidation_0-auc:1.00000\tvalidation_1-auc:0.96581\n",
      "[48]\tvalidation_0-auc:1.00000\tvalidation_1-auc:0.96581\n",
      "[49]\tvalidation_0-auc:1.00000\tvalidation_1-auc:0.96581\n",
      "[50]\tvalidation_0-auc:1.00000\tvalidation_1-auc:0.96581\n",
      "[51]\tvalidation_0-auc:1.00000\tvalidation_1-auc:0.96581\n",
      "[52]\tvalidation_0-auc:1.00000\tvalidation_1-auc:0.96581\n",
      "[53]\tvalidation_0-auc:1.00000\tvalidation_1-auc:0.96581\n",
      "[54]\tvalidation_0-auc:1.00000\tvalidation_1-auc:0.96581\n",
      "[55]\tvalidation_0-auc:1.00000\tvalidation_1-auc:0.96581\n",
      "[56]\tvalidation_0-auc:1.00000\tvalidation_1-auc:0.96581\n",
      "[57]\tvalidation_0-auc:1.00000\tvalidation_1-auc:0.96581\n",
      "[58]\tvalidation_0-auc:1.00000\tvalidation_1-auc:0.96581\n",
      "[59]\tvalidation_0-auc:1.00000\tvalidation_1-auc:0.96581\n",
      "[60]\tvalidation_0-auc:1.00000\tvalidation_1-auc:0.96581\n",
      "[61]\tvalidation_0-auc:1.00000\tvalidation_1-auc:0.96581\n",
      "[62]\tvalidation_0-auc:1.00000\tvalidation_1-auc:0.96581\n",
      "ROC AUC: 0.9658\n"
     ]
    }
   ],
   "source": [
    "from xgboost import XGBClassifier\n",
    "from sklearn.metrics import roc_auc_score\n",
    "\n",
    "xgb_clf = XGBClassifier(n_estimators=100, random_state=11)\n",
    "\n",
    "xgb_clf.fit(X_train, y_train, early_stopping_rounds=50, eval_metric=\"auc\", eval_set=[(X_train, y_train), (X_test, y_test)])\n",
    "\n",
    "xgb_roc_score = roc_auc_score(y_test, xgb_clf.predict_proba(X_test)[:, 1], average='macro')\n",
    "print('ROC AUC: {0:.4f}'.format(xgb_roc_score))"
   ]
  },
  {
   "cell_type": "markdown",
   "metadata": {},
   "source": [
    "### GridSearchCV"
   ]
  },
  {
   "cell_type": "code",
   "execution_count": 127,
   "metadata": {},
   "outputs": [
    {
     "name": "stdout",
     "output_type": "stream",
     "text": [
      "[0]\tvalidation_0-auc:0.84402\tvalidation_1-auc:0.85897\n",
      "[1]\tvalidation_0-auc:0.84890\tvalidation_1-auc:0.87607\n",
      "[2]\tvalidation_0-auc:0.87973\tvalidation_1-auc:0.87607\n",
      "[3]\tvalidation_0-auc:0.96001\tvalidation_1-auc:0.92308\n",
      "[4]\tvalidation_0-auc:0.95696\tvalidation_1-auc:0.92308\n",
      "[5]\tvalidation_0-auc:0.95452\tvalidation_1-auc:0.91453\n",
      "[6]\tvalidation_0-auc:0.95208\tvalidation_1-auc:0.91453\n",
      "[7]\tvalidation_0-auc:0.97466\tvalidation_1-auc:0.95299\n",
      "[8]\tvalidation_0-auc:0.97619\tvalidation_1-auc:0.94017\n",
      "[9]\tvalidation_0-auc:0.98291\tvalidation_1-auc:0.96581\n",
      "[10]\tvalidation_0-auc:0.98718\tvalidation_1-auc:0.97436\n",
      "[11]\tvalidation_0-auc:0.98962\tvalidation_1-auc:0.97436\n",
      "[12]\tvalidation_0-auc:0.99206\tvalidation_1-auc:0.97436\n",
      "[13]\tvalidation_0-auc:0.99267\tvalidation_1-auc:0.97436\n",
      "[14]\tvalidation_0-auc:0.99145\tvalidation_1-auc:0.97436\n",
      "[15]\tvalidation_0-auc:0.99206\tvalidation_1-auc:0.97436\n",
      "[16]\tvalidation_0-auc:0.99206\tvalidation_1-auc:0.97436\n",
      "[17]\tvalidation_0-auc:0.99206\tvalidation_1-auc:0.97436\n",
      "[18]\tvalidation_0-auc:0.99206\tvalidation_1-auc:0.97436\n",
      "[19]\tvalidation_0-auc:0.99206\tvalidation_1-auc:0.97436\n",
      "[20]\tvalidation_0-auc:0.99206\tvalidation_1-auc:0.97436\n",
      "[21]\tvalidation_0-auc:0.99206\tvalidation_1-auc:0.97436\n",
      "[22]\tvalidation_0-auc:0.99206\tvalidation_1-auc:0.97436\n",
      "[23]\tvalidation_0-auc:0.99206\tvalidation_1-auc:0.97436\n",
      "[24]\tvalidation_0-auc:0.99267\tvalidation_1-auc:0.97436\n",
      "[25]\tvalidation_0-auc:0.99267\tvalidation_1-auc:0.97436\n",
      "[26]\tvalidation_0-auc:0.99267\tvalidation_1-auc:0.97436\n",
      "[27]\tvalidation_0-auc:0.99328\tvalidation_1-auc:0.97436\n",
      "[28]\tvalidation_0-auc:0.99389\tvalidation_1-auc:0.97436\n",
      "[29]\tvalidation_0-auc:0.99328\tvalidation_1-auc:0.97436\n",
      "[30]\tvalidation_0-auc:0.99389\tvalidation_1-auc:0.97436\n",
      "[31]\tvalidation_0-auc:0.99328\tvalidation_1-auc:0.97436\n",
      "[32]\tvalidation_0-auc:0.99267\tvalidation_1-auc:0.96581\n",
      "[33]\tvalidation_0-auc:0.99267\tvalidation_1-auc:0.96581\n",
      "[34]\tvalidation_0-auc:0.99267\tvalidation_1-auc:0.95726\n",
      "[35]\tvalidation_0-auc:0.99267\tvalidation_1-auc:0.95726\n"
     ]
    },
    {
     "name": "stderr",
     "output_type": "stream",
     "text": [
      "c:\\Users\\wndgj\\AppData\\Local\\Programs\\Python\\Python310\\lib\\site-packages\\xgboost\\sklearn.py:793: UserWarning: `eval_metric` in `fit` method is deprecated for better compatibility with scikit-learn, use `eval_metric` in constructor or`set_params` instead.\n",
      "  warnings.warn(\n",
      "c:\\Users\\wndgj\\AppData\\Local\\Programs\\Python\\Python310\\lib\\site-packages\\xgboost\\sklearn.py:793: UserWarning: `early_stopping_rounds` in `fit` method is deprecated for better compatibility with scikit-learn, use `early_stopping_rounds` in constructor or`set_params` instead.\n",
      "  warnings.warn(\n"
     ]
    },
    {
     "name": "stdout",
     "output_type": "stream",
     "text": [
      "[36]\tvalidation_0-auc:0.99267\tvalidation_1-auc:0.95726\n",
      "[37]\tvalidation_0-auc:0.99267\tvalidation_1-auc:0.95726\n",
      "[38]\tvalidation_0-auc:0.99206\tvalidation_1-auc:0.95726\n",
      "[39]\tvalidation_0-auc:0.99206\tvalidation_1-auc:0.95726\n",
      "[40]\tvalidation_0-auc:0.99206\tvalidation_1-auc:0.95726\n",
      "[0]\tvalidation_0-auc:0.82906\tvalidation_1-auc:0.75214\n",
      "[1]\tvalidation_0-auc:0.85195\tvalidation_1-auc:0.79487\n",
      "[2]\tvalidation_0-auc:0.87882\tvalidation_1-auc:0.87179\n",
      "[3]\tvalidation_0-auc:0.96062\tvalidation_1-auc:0.93590\n",
      "[4]\tvalidation_0-auc:0.96490\tvalidation_1-auc:0.93590\n",
      "[5]\tvalidation_0-auc:0.96368\tvalidation_1-auc:0.93590\n",
      "[6]\tvalidation_0-auc:0.95421\tvalidation_1-auc:0.90171\n",
      "[7]\tvalidation_0-auc:0.96459\tvalidation_1-auc:0.93590\n",
      "[8]\tvalidation_0-auc:0.96947\tvalidation_1-auc:0.96581\n",
      "[9]\tvalidation_0-auc:0.98413\tvalidation_1-auc:0.97436\n",
      "[10]\tvalidation_0-auc:0.98596\tvalidation_1-auc:0.97436\n",
      "[11]\tvalidation_0-auc:0.99023\tvalidation_1-auc:0.97436\n",
      "[12]\tvalidation_0-auc:0.99145\tvalidation_1-auc:0.97436\n",
      "[13]\tvalidation_0-auc:0.99267\tvalidation_1-auc:0.97436\n",
      "[14]\tvalidation_0-auc:0.99328\tvalidation_1-auc:0.97436\n",
      "[15]\tvalidation_0-auc:0.99389\tvalidation_1-auc:0.98291\n",
      "[16]\tvalidation_0-auc:0.99634\tvalidation_1-auc:0.98291\n",
      "[17]\tvalidation_0-auc:0.99512\tvalidation_1-auc:0.98291\n",
      "[18]\tvalidation_0-auc:0.99634\tvalidation_1-auc:0.98291\n",
      "[19]\tvalidation_0-auc:0.99817\tvalidation_1-auc:0.98291\n",
      "[20]\tvalidation_0-auc:0.99817\tvalidation_1-auc:0.98291\n",
      "[21]\tvalidation_0-auc:0.99817\tvalidation_1-auc:0.98291\n",
      "[22]\tvalidation_0-auc:0.99817\tvalidation_1-auc:0.98291\n",
      "[23]\tvalidation_0-auc:0.99817\tvalidation_1-auc:0.98291\n",
      "[24]\tvalidation_0-auc:0.99817\tvalidation_1-auc:0.98291\n",
      "[25]\tvalidation_0-auc:0.99817\tvalidation_1-auc:0.98291\n",
      "[26]\tvalidation_0-auc:0.99817\tvalidation_1-auc:0.98291\n",
      "[27]\tvalidation_0-auc:0.99817\tvalidation_1-auc:0.98291\n",
      "[28]\tvalidation_0-auc:0.99817\tvalidation_1-auc:0.98291\n",
      "[29]\tvalidation_0-auc:0.99817\tvalidation_1-auc:0.98291\n",
      "[30]\tvalidation_0-auc:0.99878\tvalidation_1-auc:0.98291\n",
      "[31]\tvalidation_0-auc:0.99939\tvalidation_1-auc:0.98291\n",
      "[32]\tvalidation_0-auc:0.99939\tvalidation_1-auc:0.98291\n",
      "[33]\tvalidation_0-auc:1.00000\tvalidation_1-auc:0.98291\n",
      "[34]\tvalidation_0-auc:1.00000\tvalidation_1-auc:0.98291\n"
     ]
    },
    {
     "name": "stderr",
     "output_type": "stream",
     "text": [
      "c:\\Users\\wndgj\\AppData\\Local\\Programs\\Python\\Python310\\lib\\site-packages\\xgboost\\sklearn.py:793: UserWarning: `eval_metric` in `fit` method is deprecated for better compatibility with scikit-learn, use `eval_metric` in constructor or`set_params` instead.\n",
      "  warnings.warn(\n",
      "c:\\Users\\wndgj\\AppData\\Local\\Programs\\Python\\Python310\\lib\\site-packages\\xgboost\\sklearn.py:793: UserWarning: `early_stopping_rounds` in `fit` method is deprecated for better compatibility with scikit-learn, use `early_stopping_rounds` in constructor or`set_params` instead.\n",
      "  warnings.warn(\n"
     ]
    },
    {
     "name": "stdout",
     "output_type": "stream",
     "text": [
      "[35]\tvalidation_0-auc:0.99878\tvalidation_1-auc:0.98291\n",
      "[36]\tvalidation_0-auc:1.00000\tvalidation_1-auc:0.98291\n",
      "[37]\tvalidation_0-auc:1.00000\tvalidation_1-auc:0.97436\n",
      "[38]\tvalidation_0-auc:1.00000\tvalidation_1-auc:0.97436\n",
      "[39]\tvalidation_0-auc:0.99939\tvalidation_1-auc:0.97436\n",
      "[40]\tvalidation_0-auc:1.00000\tvalidation_1-auc:0.97436\n",
      "[41]\tvalidation_0-auc:0.99939\tvalidation_1-auc:0.97436\n",
      "[42]\tvalidation_0-auc:0.99878\tvalidation_1-auc:0.97436\n",
      "[43]\tvalidation_0-auc:1.00000\tvalidation_1-auc:0.97436\n",
      "[44]\tvalidation_0-auc:0.99878\tvalidation_1-auc:0.97436\n",
      "[45]\tvalidation_0-auc:0.99878\tvalidation_1-auc:0.97436\n",
      "[0]\tvalidation_0-auc:0.83944\tvalidation_1-auc:0.83333\n",
      "[1]\tvalidation_0-auc:0.85043\tvalidation_1-auc:0.84615\n",
      "[2]\tvalidation_0-auc:0.84737\tvalidation_1-auc:0.79487\n",
      "[3]\tvalidation_0-auc:0.93681\tvalidation_1-auc:0.95726\n",
      "[4]\tvalidation_0-auc:0.94139\tvalidation_1-auc:0.95726\n",
      "[5]\tvalidation_0-auc:0.93651\tvalidation_1-auc:0.95726\n",
      "[6]\tvalidation_0-auc:0.93101\tvalidation_1-auc:0.95726\n",
      "[7]\tvalidation_0-auc:0.95238\tvalidation_1-auc:0.98291\n",
      "[8]\tvalidation_0-auc:0.94628\tvalidation_1-auc:0.94017\n",
      "[9]\tvalidation_0-auc:0.95910\tvalidation_1-auc:0.95726\n",
      "[10]\tvalidation_0-auc:0.96154\tvalidation_1-auc:0.97436\n",
      "[11]\tvalidation_0-auc:0.96215\tvalidation_1-auc:0.97436\n",
      "[12]\tvalidation_0-auc:0.96703\tvalidation_1-auc:0.97436\n",
      "[13]\tvalidation_0-auc:0.96459\tvalidation_1-auc:0.96581\n",
      "[14]\tvalidation_0-auc:0.96337\tvalidation_1-auc:0.96581\n",
      "[15]\tvalidation_0-auc:0.96703\tvalidation_1-auc:0.95726\n",
      "[16]\tvalidation_0-auc:0.96947\tvalidation_1-auc:0.95726\n",
      "[17]\tvalidation_0-auc:0.96764\tvalidation_1-auc:0.94872\n",
      "[18]\tvalidation_0-auc:0.96825\tvalidation_1-auc:0.95726\n",
      "[19]\tvalidation_0-auc:0.97436\tvalidation_1-auc:0.95726\n",
      "[20]\tvalidation_0-auc:0.97375\tvalidation_1-auc:0.95726\n",
      "[21]\tvalidation_0-auc:0.97619\tvalidation_1-auc:0.95726\n",
      "[22]\tvalidation_0-auc:0.97375\tvalidation_1-auc:0.95726\n",
      "[23]\tvalidation_0-auc:0.97619\tvalidation_1-auc:0.94872\n",
      "[24]\tvalidation_0-auc:0.97863\tvalidation_1-auc:0.94872\n",
      "[25]\tvalidation_0-auc:0.97680\tvalidation_1-auc:0.94872\n",
      "[26]\tvalidation_0-auc:0.97680\tvalidation_1-auc:0.94872\n",
      "[27]\tvalidation_0-auc:0.97802\tvalidation_1-auc:0.95726\n",
      "[28]\tvalidation_0-auc:0.97924\tvalidation_1-auc:0.95726\n",
      "[29]\tvalidation_0-auc:0.97802\tvalidation_1-auc:0.95726\n",
      "[30]\tvalidation_0-auc:0.97924\tvalidation_1-auc:0.95726\n",
      "[31]\tvalidation_0-auc:0.97802\tvalidation_1-auc:0.95726\n"
     ]
    },
    {
     "name": "stderr",
     "output_type": "stream",
     "text": [
      "c:\\Users\\wndgj\\AppData\\Local\\Programs\\Python\\Python310\\lib\\site-packages\\xgboost\\sklearn.py:793: UserWarning: `eval_metric` in `fit` method is deprecated for better compatibility with scikit-learn, use `eval_metric` in constructor or`set_params` instead.\n",
      "  warnings.warn(\n",
      "c:\\Users\\wndgj\\AppData\\Local\\Programs\\Python\\Python310\\lib\\site-packages\\xgboost\\sklearn.py:793: UserWarning: `early_stopping_rounds` in `fit` method is deprecated for better compatibility with scikit-learn, use `early_stopping_rounds` in constructor or`set_params` instead.\n",
      "  warnings.warn(\n"
     ]
    },
    {
     "name": "stdout",
     "output_type": "stream",
     "text": [
      "[32]\tvalidation_0-auc:0.97863\tvalidation_1-auc:0.94872\n",
      "[33]\tvalidation_0-auc:0.97863\tvalidation_1-auc:0.95726\n",
      "[34]\tvalidation_0-auc:0.97680\tvalidation_1-auc:0.94872\n",
      "[35]\tvalidation_0-auc:0.97863\tvalidation_1-auc:0.94872\n",
      "[36]\tvalidation_0-auc:0.97985\tvalidation_1-auc:0.94872\n",
      "[37]\tvalidation_0-auc:0.97985\tvalidation_1-auc:0.94872\n",
      "[0]\tvalidation_0-auc:0.80525\tvalidation_1-auc:0.80769\n",
      "[1]\tvalidation_0-auc:0.83425\tvalidation_1-auc:0.84188\n",
      "[2]\tvalidation_0-auc:0.82662\tvalidation_1-auc:0.84188\n",
      "[3]\tvalidation_0-auc:0.95085\tvalidation_1-auc:0.93590\n",
      "[4]\tvalidation_0-auc:0.95513\tvalidation_1-auc:0.93590\n",
      "[5]\tvalidation_0-auc:0.95513\tvalidation_1-auc:0.93590\n",
      "[6]\tvalidation_0-auc:0.95391\tvalidation_1-auc:0.93590\n",
      "[7]\tvalidation_0-auc:0.96001\tvalidation_1-auc:0.94444\n",
      "[8]\tvalidation_0-auc:0.95971\tvalidation_1-auc:0.93162\n",
      "[9]\tvalidation_0-auc:0.96581\tvalidation_1-auc:0.94017\n",
      "[10]\tvalidation_0-auc:0.96398\tvalidation_1-auc:0.94017\n",
      "[11]\tvalidation_0-auc:0.96520\tvalidation_1-auc:0.93162\n",
      "[12]\tvalidation_0-auc:0.97222\tvalidation_1-auc:0.95299\n",
      "[13]\tvalidation_0-auc:0.97100\tvalidation_1-auc:0.94444\n",
      "[14]\tvalidation_0-auc:0.96734\tvalidation_1-auc:0.93590\n",
      "[15]\tvalidation_0-auc:0.96734\tvalidation_1-auc:0.93590\n",
      "[16]\tvalidation_0-auc:0.96947\tvalidation_1-auc:0.93590\n",
      "[17]\tvalidation_0-auc:0.97100\tvalidation_1-auc:0.93162\n",
      "[18]\tvalidation_0-auc:0.97100\tvalidation_1-auc:0.93162\n",
      "[19]\tvalidation_0-auc:0.97650\tvalidation_1-auc:0.93162\n",
      "[20]\tvalidation_0-auc:0.97589\tvalidation_1-auc:0.92308\n",
      "[21]\tvalidation_0-auc:0.97589\tvalidation_1-auc:0.91453\n",
      "[22]\tvalidation_0-auc:0.97589\tvalidation_1-auc:0.91453\n",
      "[23]\tvalidation_0-auc:0.97711\tvalidation_1-auc:0.91453\n",
      "[24]\tvalidation_0-auc:0.97772\tvalidation_1-auc:0.91453\n",
      "[25]\tvalidation_0-auc:0.97772\tvalidation_1-auc:0.91453\n",
      "[26]\tvalidation_0-auc:0.97772\tvalidation_1-auc:0.91453\n",
      "[27]\tvalidation_0-auc:0.97772\tvalidation_1-auc:0.91453\n",
      "[28]\tvalidation_0-auc:0.97955\tvalidation_1-auc:0.92308\n",
      "[29]\tvalidation_0-auc:0.97955\tvalidation_1-auc:0.92308\n",
      "[30]\tvalidation_0-auc:0.98016\tvalidation_1-auc:0.92308\n",
      "[31]\tvalidation_0-auc:0.98046\tvalidation_1-auc:0.92308\n"
     ]
    },
    {
     "name": "stderr",
     "output_type": "stream",
     "text": [
      "c:\\Users\\wndgj\\AppData\\Local\\Programs\\Python\\Python310\\lib\\site-packages\\xgboost\\sklearn.py:793: UserWarning: `eval_metric` in `fit` method is deprecated for better compatibility with scikit-learn, use `eval_metric` in constructor or`set_params` instead.\n",
      "  warnings.warn(\n",
      "c:\\Users\\wndgj\\AppData\\Local\\Programs\\Python\\Python310\\lib\\site-packages\\xgboost\\sklearn.py:793: UserWarning: `early_stopping_rounds` in `fit` method is deprecated for better compatibility with scikit-learn, use `early_stopping_rounds` in constructor or`set_params` instead.\n",
      "  warnings.warn(\n"
     ]
    },
    {
     "name": "stdout",
     "output_type": "stream",
     "text": [
      "[32]\tvalidation_0-auc:0.98168\tvalidation_1-auc:0.92308\n",
      "[33]\tvalidation_0-auc:0.98046\tvalidation_1-auc:0.92308\n",
      "[34]\tvalidation_0-auc:0.98046\tvalidation_1-auc:0.92308\n",
      "[35]\tvalidation_0-auc:0.98046\tvalidation_1-auc:0.92308\n",
      "[36]\tvalidation_0-auc:0.98046\tvalidation_1-auc:0.92308\n",
      "[37]\tvalidation_0-auc:0.97924\tvalidation_1-auc:0.92308\n",
      "[38]\tvalidation_0-auc:0.97802\tvalidation_1-auc:0.92308\n",
      "[39]\tvalidation_0-auc:0.98230\tvalidation_1-auc:0.93162\n",
      "[40]\tvalidation_0-auc:0.98230\tvalidation_1-auc:0.93162\n",
      "[41]\tvalidation_0-auc:0.97924\tvalidation_1-auc:0.92308\n",
      "[0]\tvalidation_0-auc:0.79884\tvalidation_1-auc:0.75214\n",
      "[1]\tvalidation_0-auc:0.80189\tvalidation_1-auc:0.75214\n",
      "[2]\tvalidation_0-auc:0.81441\tvalidation_1-auc:0.76068\n",
      "[3]\tvalidation_0-auc:0.92979\tvalidation_1-auc:0.94017\n",
      "[4]\tvalidation_0-auc:0.93346\tvalidation_1-auc:0.94017\n",
      "[5]\tvalidation_0-auc:0.93651\tvalidation_1-auc:0.94017\n",
      "[6]\tvalidation_0-auc:0.93407\tvalidation_1-auc:0.94017\n",
      "[7]\tvalidation_0-auc:0.94200\tvalidation_1-auc:0.96581\n",
      "[8]\tvalidation_0-auc:0.95177\tvalidation_1-auc:0.96581\n",
      "[9]\tvalidation_0-auc:0.96337\tvalidation_1-auc:0.97436\n",
      "[10]\tvalidation_0-auc:0.96825\tvalidation_1-auc:0.97436\n",
      "[11]\tvalidation_0-auc:0.97253\tvalidation_1-auc:0.97436\n",
      "[12]\tvalidation_0-auc:0.97497\tvalidation_1-auc:0.97436\n",
      "[13]\tvalidation_0-auc:0.97375\tvalidation_1-auc:0.97436\n",
      "[14]\tvalidation_0-auc:0.97192\tvalidation_1-auc:0.97436\n",
      "[15]\tvalidation_0-auc:0.97009\tvalidation_1-auc:0.96581\n",
      "[16]\tvalidation_0-auc:0.97253\tvalidation_1-auc:0.96581\n",
      "[17]\tvalidation_0-auc:0.97009\tvalidation_1-auc:0.96581\n",
      "[18]\tvalidation_0-auc:0.97253\tvalidation_1-auc:0.97436\n",
      "[19]\tvalidation_0-auc:0.97436\tvalidation_1-auc:0.97436\n",
      "[20]\tvalidation_0-auc:0.97375\tvalidation_1-auc:0.97436\n",
      "[21]\tvalidation_0-auc:0.97375\tvalidation_1-auc:0.97436\n",
      "[22]\tvalidation_0-auc:0.97375\tvalidation_1-auc:0.97436\n",
      "[23]\tvalidation_0-auc:0.97405\tvalidation_1-auc:0.97436\n",
      "[24]\tvalidation_0-auc:0.97527\tvalidation_1-auc:0.97436\n",
      "[25]\tvalidation_0-auc:0.97466\tvalidation_1-auc:0.96581\n",
      "[26]\tvalidation_0-auc:0.97650\tvalidation_1-auc:0.96581\n",
      "[27]\tvalidation_0-auc:0.97833\tvalidation_1-auc:0.96581\n",
      "[28]\tvalidation_0-auc:0.98016\tvalidation_1-auc:0.95726\n",
      "[29]\tvalidation_0-auc:0.97894\tvalidation_1-auc:0.95726\n",
      "[30]\tvalidation_0-auc:0.97772\tvalidation_1-auc:0.95726\n"
     ]
    },
    {
     "name": "stderr",
     "output_type": "stream",
     "text": [
      "c:\\Users\\wndgj\\AppData\\Local\\Programs\\Python\\Python310\\lib\\site-packages\\xgboost\\sklearn.py:793: UserWarning: `eval_metric` in `fit` method is deprecated for better compatibility with scikit-learn, use `eval_metric` in constructor or`set_params` instead.\n",
      "  warnings.warn(\n",
      "c:\\Users\\wndgj\\AppData\\Local\\Programs\\Python\\Python310\\lib\\site-packages\\xgboost\\sklearn.py:793: UserWarning: `early_stopping_rounds` in `fit` method is deprecated for better compatibility with scikit-learn, use `early_stopping_rounds` in constructor or`set_params` instead.\n",
      "  warnings.warn(\n"
     ]
    },
    {
     "name": "stdout",
     "output_type": "stream",
     "text": [
      "[31]\tvalidation_0-auc:0.97772\tvalidation_1-auc:0.94872\n",
      "[32]\tvalidation_0-auc:0.97955\tvalidation_1-auc:0.94017\n",
      "[33]\tvalidation_0-auc:0.97894\tvalidation_1-auc:0.94017\n",
      "[34]\tvalidation_0-auc:0.97894\tvalidation_1-auc:0.94017\n",
      "[35]\tvalidation_0-auc:0.97894\tvalidation_1-auc:0.94017\n",
      "[36]\tvalidation_0-auc:0.97711\tvalidation_1-auc:0.94017\n",
      "[37]\tvalidation_0-auc:0.97650\tvalidation_1-auc:0.94017\n",
      "[38]\tvalidation_0-auc:0.97650\tvalidation_1-auc:0.94017\n",
      "[39]\tvalidation_0-auc:0.97833\tvalidation_1-auc:0.94017\n",
      "[0]\tvalidation_0-auc:0.77106\tvalidation_1-auc:0.71795\n",
      "[1]\tvalidation_0-auc:0.81410\tvalidation_1-auc:0.82051\n",
      "[2]\tvalidation_0-auc:0.81990\tvalidation_1-auc:0.82479\n",
      "[3]\tvalidation_0-auc:0.90629\tvalidation_1-auc:0.90598\n",
      "[4]\tvalidation_0-auc:0.90629\tvalidation_1-auc:0.90598\n",
      "[5]\tvalidation_0-auc:0.90751\tvalidation_1-auc:0.90598\n",
      "[6]\tvalidation_0-auc:0.90873\tvalidation_1-auc:0.90598\n",
      "[7]\tvalidation_0-auc:0.92460\tvalidation_1-auc:0.95726\n",
      "[8]\tvalidation_0-auc:0.92033\tvalidation_1-auc:0.94872\n",
      "[9]\tvalidation_0-auc:0.94048\tvalidation_1-auc:0.96581\n",
      "[10]\tvalidation_0-auc:0.94200\tvalidation_1-auc:0.95726\n",
      "[11]\tvalidation_0-auc:0.93773\tvalidation_1-auc:0.95726\n",
      "[12]\tvalidation_0-auc:0.94750\tvalidation_1-auc:0.95726\n",
      "[13]\tvalidation_0-auc:0.94567\tvalidation_1-auc:0.94017\n",
      "[14]\tvalidation_0-auc:0.94261\tvalidation_1-auc:0.93162\n",
      "[15]\tvalidation_0-auc:0.94139\tvalidation_1-auc:0.92308\n",
      "[16]\tvalidation_0-auc:0.94444\tvalidation_1-auc:0.92308\n",
      "[17]\tvalidation_0-auc:0.94383\tvalidation_1-auc:0.92308\n",
      "[18]\tvalidation_0-auc:0.94322\tvalidation_1-auc:0.92308\n",
      "[19]\tvalidation_0-auc:0.94261\tvalidation_1-auc:0.91453\n",
      "[20]\tvalidation_0-auc:0.94139\tvalidation_1-auc:0.91453\n",
      "[21]\tvalidation_0-auc:0.94017\tvalidation_1-auc:0.91453\n",
      "[22]\tvalidation_0-auc:0.93956\tvalidation_1-auc:0.91453\n",
      "[23]\tvalidation_0-auc:0.94017\tvalidation_1-auc:0.91453\n",
      "[24]\tvalidation_0-auc:0.94322\tvalidation_1-auc:0.91453\n",
      "[25]\tvalidation_0-auc:0.94322\tvalidation_1-auc:0.91453\n",
      "[26]\tvalidation_0-auc:0.94505\tvalidation_1-auc:0.91453\n",
      "[27]\tvalidation_0-auc:0.94170\tvalidation_1-auc:0.91453\n",
      "[28]\tvalidation_0-auc:0.94170\tvalidation_1-auc:0.91453\n",
      "[29]\tvalidation_0-auc:0.94170\tvalidation_1-auc:0.91453\n"
     ]
    },
    {
     "name": "stderr",
     "output_type": "stream",
     "text": [
      "c:\\Users\\wndgj\\AppData\\Local\\Programs\\Python\\Python310\\lib\\site-packages\\xgboost\\sklearn.py:793: UserWarning: `eval_metric` in `fit` method is deprecated for better compatibility with scikit-learn, use `eval_metric` in constructor or`set_params` instead.\n",
      "  warnings.warn(\n",
      "c:\\Users\\wndgj\\AppData\\Local\\Programs\\Python\\Python310\\lib\\site-packages\\xgboost\\sklearn.py:793: UserWarning: `early_stopping_rounds` in `fit` method is deprecated for better compatibility with scikit-learn, use `early_stopping_rounds` in constructor or`set_params` instead.\n",
      "  warnings.warn(\n"
     ]
    },
    {
     "name": "stdout",
     "output_type": "stream",
     "text": [
      "[30]\tvalidation_0-auc:0.94231\tvalidation_1-auc:0.91453\n",
      "[31]\tvalidation_0-auc:0.94231\tvalidation_1-auc:0.91453\n",
      "[32]\tvalidation_0-auc:0.94231\tvalidation_1-auc:0.91453\n",
      "[33]\tvalidation_0-auc:0.94231\tvalidation_1-auc:0.91453\n",
      "[34]\tvalidation_0-auc:0.94231\tvalidation_1-auc:0.91453\n",
      "[35]\tvalidation_0-auc:0.94170\tvalidation_1-auc:0.91453\n",
      "[36]\tvalidation_0-auc:0.94292\tvalidation_1-auc:0.91453\n",
      "[37]\tvalidation_0-auc:0.94292\tvalidation_1-auc:0.91453\n",
      "[38]\tvalidation_0-auc:0.94292\tvalidation_1-auc:0.91453\n",
      "[39]\tvalidation_0-auc:0.94292\tvalidation_1-auc:0.91453\n",
      "[0]\tvalidation_0-auc:0.84829\tvalidation_1-auc:0.85897\n",
      "[1]\tvalidation_0-auc:0.85256\tvalidation_1-auc:0.86752\n",
      "[2]\tvalidation_0-auc:0.89133\tvalidation_1-auc:0.87607\n",
      "[3]\tvalidation_0-auc:0.96490\tvalidation_1-auc:0.95299\n",
      "[4]\tvalidation_0-auc:0.96551\tvalidation_1-auc:0.95299\n",
      "[5]\tvalidation_0-auc:0.96001\tvalidation_1-auc:0.95299\n",
      "[6]\tvalidation_0-auc:0.95879\tvalidation_1-auc:0.94444\n",
      "[7]\tvalidation_0-auc:0.97711\tvalidation_1-auc:0.97009\n",
      "[8]\tvalidation_0-auc:0.97802\tvalidation_1-auc:0.95726\n",
      "[9]\tvalidation_0-auc:0.98657\tvalidation_1-auc:0.96581\n",
      "[10]\tvalidation_0-auc:0.98718\tvalidation_1-auc:0.97436\n",
      "[11]\tvalidation_0-auc:0.98962\tvalidation_1-auc:0.97436\n",
      "[12]\tvalidation_0-auc:0.99206\tvalidation_1-auc:0.97436\n",
      "[13]\tvalidation_0-auc:0.99145\tvalidation_1-auc:0.97436\n",
      "[14]\tvalidation_0-auc:0.99145\tvalidation_1-auc:0.97436\n",
      "[15]\tvalidation_0-auc:0.99145\tvalidation_1-auc:0.97436\n",
      "[16]\tvalidation_0-auc:0.99206\tvalidation_1-auc:0.97436\n",
      "[17]\tvalidation_0-auc:0.99206\tvalidation_1-auc:0.97436\n",
      "[18]\tvalidation_0-auc:0.99206\tvalidation_1-auc:0.97436\n",
      "[19]\tvalidation_0-auc:0.99206\tvalidation_1-auc:0.97436\n",
      "[20]\tvalidation_0-auc:0.99206\tvalidation_1-auc:0.97436\n",
      "[21]\tvalidation_0-auc:0.99206\tvalidation_1-auc:0.97436\n",
      "[22]\tvalidation_0-auc:0.99206\tvalidation_1-auc:0.97436\n",
      "[23]\tvalidation_0-auc:0.99206\tvalidation_1-auc:0.97436\n",
      "[24]\tvalidation_0-auc:0.99206\tvalidation_1-auc:0.97436\n",
      "[25]\tvalidation_0-auc:0.99206\tvalidation_1-auc:0.97436\n",
      "[26]\tvalidation_0-auc:0.99206\tvalidation_1-auc:0.97436\n",
      "[27]\tvalidation_0-auc:0.99328\tvalidation_1-auc:0.97436\n"
     ]
    },
    {
     "name": "stderr",
     "output_type": "stream",
     "text": [
      "c:\\Users\\wndgj\\AppData\\Local\\Programs\\Python\\Python310\\lib\\site-packages\\xgboost\\sklearn.py:793: UserWarning: `eval_metric` in `fit` method is deprecated for better compatibility with scikit-learn, use `eval_metric` in constructor or`set_params` instead.\n",
      "  warnings.warn(\n",
      "c:\\Users\\wndgj\\AppData\\Local\\Programs\\Python\\Python310\\lib\\site-packages\\xgboost\\sklearn.py:793: UserWarning: `early_stopping_rounds` in `fit` method is deprecated for better compatibility with scikit-learn, use `early_stopping_rounds` in constructor or`set_params` instead.\n",
      "  warnings.warn(\n"
     ]
    },
    {
     "name": "stdout",
     "output_type": "stream",
     "text": [
      "[28]\tvalidation_0-auc:0.99328\tvalidation_1-auc:0.97436\n",
      "[29]\tvalidation_0-auc:0.99389\tvalidation_1-auc:0.97436\n",
      "[30]\tvalidation_0-auc:0.99389\tvalidation_1-auc:0.97436\n",
      "[31]\tvalidation_0-auc:0.99389\tvalidation_1-auc:0.97436\n",
      "[32]\tvalidation_0-auc:0.99389\tvalidation_1-auc:0.97436\n",
      "[33]\tvalidation_0-auc:0.99389\tvalidation_1-auc:0.97436\n",
      "[34]\tvalidation_0-auc:0.99389\tvalidation_1-auc:0.97436\n",
      "[35]\tvalidation_0-auc:0.99328\tvalidation_1-auc:0.96581\n",
      "[36]\tvalidation_0-auc:0.99328\tvalidation_1-auc:0.96581\n",
      "[37]\tvalidation_0-auc:0.99328\tvalidation_1-auc:0.96581\n",
      "[38]\tvalidation_0-auc:0.99267\tvalidation_1-auc:0.96581\n",
      "[39]\tvalidation_0-auc:0.99267\tvalidation_1-auc:0.96581\n",
      "[40]\tvalidation_0-auc:0.99267\tvalidation_1-auc:0.96581\n",
      "[0]\tvalidation_0-auc:0.82906\tvalidation_1-auc:0.75214\n",
      "[1]\tvalidation_0-auc:0.85195\tvalidation_1-auc:0.79487\n",
      "[2]\tvalidation_0-auc:0.87882\tvalidation_1-auc:0.87179\n",
      "[3]\tvalidation_0-auc:0.96062\tvalidation_1-auc:0.93590\n",
      "[4]\tvalidation_0-auc:0.96490\tvalidation_1-auc:0.93590\n",
      "[5]\tvalidation_0-auc:0.96368\tvalidation_1-auc:0.93590\n",
      "[6]\tvalidation_0-auc:0.95421\tvalidation_1-auc:0.90171\n",
      "[7]\tvalidation_0-auc:0.96459\tvalidation_1-auc:0.93590\n",
      "[8]\tvalidation_0-auc:0.96947\tvalidation_1-auc:0.96581\n",
      "[9]\tvalidation_0-auc:0.98413\tvalidation_1-auc:0.97436\n",
      "[10]\tvalidation_0-auc:0.98596\tvalidation_1-auc:0.97436\n",
      "[11]\tvalidation_0-auc:0.99023\tvalidation_1-auc:0.97436\n"
     ]
    },
    {
     "name": "stderr",
     "output_type": "stream",
     "text": [
      "c:\\Users\\wndgj\\AppData\\Local\\Programs\\Python\\Python310\\lib\\site-packages\\xgboost\\sklearn.py:793: UserWarning: `eval_metric` in `fit` method is deprecated for better compatibility with scikit-learn, use `eval_metric` in constructor or`set_params` instead.\n",
      "  warnings.warn(\n",
      "c:\\Users\\wndgj\\AppData\\Local\\Programs\\Python\\Python310\\lib\\site-packages\\xgboost\\sklearn.py:793: UserWarning: `early_stopping_rounds` in `fit` method is deprecated for better compatibility with scikit-learn, use `early_stopping_rounds` in constructor or`set_params` instead.\n",
      "  warnings.warn(\n"
     ]
    },
    {
     "name": "stdout",
     "output_type": "stream",
     "text": [
      "[12]\tvalidation_0-auc:0.99145\tvalidation_1-auc:0.97436\n",
      "[13]\tvalidation_0-auc:0.99267\tvalidation_1-auc:0.97436\n",
      "[14]\tvalidation_0-auc:0.99328\tvalidation_1-auc:0.97436\n",
      "[15]\tvalidation_0-auc:0.99389\tvalidation_1-auc:0.98291\n",
      "[16]\tvalidation_0-auc:0.99634\tvalidation_1-auc:0.98291\n",
      "[17]\tvalidation_0-auc:0.99512\tvalidation_1-auc:0.98291\n",
      "[18]\tvalidation_0-auc:0.99634\tvalidation_1-auc:0.98291\n",
      "[19]\tvalidation_0-auc:0.99817\tvalidation_1-auc:0.98291\n",
      "[20]\tvalidation_0-auc:0.99817\tvalidation_1-auc:0.98291\n",
      "[21]\tvalidation_0-auc:0.99817\tvalidation_1-auc:0.98291\n",
      "[22]\tvalidation_0-auc:0.99817\tvalidation_1-auc:0.98291\n",
      "[23]\tvalidation_0-auc:0.99817\tvalidation_1-auc:0.98291\n",
      "[24]\tvalidation_0-auc:0.99817\tvalidation_1-auc:0.98291\n",
      "[25]\tvalidation_0-auc:0.99817\tvalidation_1-auc:0.98291\n",
      "[26]\tvalidation_0-auc:0.99817\tvalidation_1-auc:0.98291\n",
      "[27]\tvalidation_0-auc:0.99817\tvalidation_1-auc:0.98291\n",
      "[28]\tvalidation_0-auc:0.99817\tvalidation_1-auc:0.98291\n",
      "[29]\tvalidation_0-auc:0.99817\tvalidation_1-auc:0.98291\n",
      "[30]\tvalidation_0-auc:0.99878\tvalidation_1-auc:0.98291\n",
      "[31]\tvalidation_0-auc:0.99939\tvalidation_1-auc:0.98291\n",
      "[32]\tvalidation_0-auc:0.99939\tvalidation_1-auc:0.98291\n",
      "[33]\tvalidation_0-auc:1.00000\tvalidation_1-auc:0.98291\n",
      "[34]\tvalidation_0-auc:1.00000\tvalidation_1-auc:0.98291\n",
      "[35]\tvalidation_0-auc:0.99878\tvalidation_1-auc:0.98291\n",
      "[36]\tvalidation_0-auc:1.00000\tvalidation_1-auc:0.98291\n",
      "[37]\tvalidation_0-auc:1.00000\tvalidation_1-auc:0.97436\n",
      "[38]\tvalidation_0-auc:1.00000\tvalidation_1-auc:0.97436\n",
      "[39]\tvalidation_0-auc:0.99939\tvalidation_1-auc:0.97436\n",
      "[40]\tvalidation_0-auc:1.00000\tvalidation_1-auc:0.97436\n",
      "[41]\tvalidation_0-auc:0.99939\tvalidation_1-auc:0.97436\n",
      "[42]\tvalidation_0-auc:0.99878\tvalidation_1-auc:0.97436\n",
      "[43]\tvalidation_0-auc:1.00000\tvalidation_1-auc:0.97436\n",
      "[44]\tvalidation_0-auc:0.99878\tvalidation_1-auc:0.97436\n",
      "[45]\tvalidation_0-auc:0.99878\tvalidation_1-auc:0.97436\n",
      "[0]\tvalidation_0-auc:0.83944\tvalidation_1-auc:0.83333\n",
      "[1]\tvalidation_0-auc:0.85043\tvalidation_1-auc:0.84615\n",
      "[2]\tvalidation_0-auc:0.84737\tvalidation_1-auc:0.79487\n",
      "[3]\tvalidation_0-auc:0.93681\tvalidation_1-auc:0.95726\n",
      "[4]\tvalidation_0-auc:0.94139\tvalidation_1-auc:0.95726\n",
      "[5]\tvalidation_0-auc:0.93651\tvalidation_1-auc:0.95726\n",
      "[6]\tvalidation_0-auc:0.93101\tvalidation_1-auc:0.95726\n",
      "[7]\tvalidation_0-auc:0.95238\tvalidation_1-auc:0.98291\n",
      "[8]\tvalidation_0-auc:0.94628\tvalidation_1-auc:0.94017\n",
      "[9]\tvalidation_0-auc:0.95910\tvalidation_1-auc:0.95726\n",
      "[10]\tvalidation_0-auc:0.96154\tvalidation_1-auc:0.97436\n",
      "[11]\tvalidation_0-auc:0.96215\tvalidation_1-auc:0.97436\n",
      "[12]\tvalidation_0-auc:0.96703\tvalidation_1-auc:0.97436\n",
      "[13]\tvalidation_0-auc:0.96459\tvalidation_1-auc:0.96581\n",
      "[14]\tvalidation_0-auc:0.96337\tvalidation_1-auc:0.96581\n",
      "[15]\tvalidation_0-auc:0.96703\tvalidation_1-auc:0.95726\n",
      "[16]\tvalidation_0-auc:0.96947\tvalidation_1-auc:0.95726\n",
      "[17]\tvalidation_0-auc:0.96764\tvalidation_1-auc:0.94872\n",
      "[18]\tvalidation_0-auc:0.96825\tvalidation_1-auc:0.95726\n",
      "[19]\tvalidation_0-auc:0.97436\tvalidation_1-auc:0.95726\n",
      "[20]\tvalidation_0-auc:0.97375\tvalidation_1-auc:0.95726\n",
      "[21]\tvalidation_0-auc:0.97619\tvalidation_1-auc:0.95726\n",
      "[22]\tvalidation_0-auc:0.97375\tvalidation_1-auc:0.95726\n",
      "[23]\tvalidation_0-auc:0.97619\tvalidation_1-auc:0.94872\n"
     ]
    },
    {
     "name": "stderr",
     "output_type": "stream",
     "text": [
      "c:\\Users\\wndgj\\AppData\\Local\\Programs\\Python\\Python310\\lib\\site-packages\\xgboost\\sklearn.py:793: UserWarning: `eval_metric` in `fit` method is deprecated for better compatibility with scikit-learn, use `eval_metric` in constructor or`set_params` instead.\n",
      "  warnings.warn(\n",
      "c:\\Users\\wndgj\\AppData\\Local\\Programs\\Python\\Python310\\lib\\site-packages\\xgboost\\sklearn.py:793: UserWarning: `early_stopping_rounds` in `fit` method is deprecated for better compatibility with scikit-learn, use `early_stopping_rounds` in constructor or`set_params` instead.\n",
      "  warnings.warn(\n"
     ]
    },
    {
     "name": "stdout",
     "output_type": "stream",
     "text": [
      "[24]\tvalidation_0-auc:0.97863\tvalidation_1-auc:0.94872\n",
      "[25]\tvalidation_0-auc:0.97680\tvalidation_1-auc:0.94872\n",
      "[26]\tvalidation_0-auc:0.97680\tvalidation_1-auc:0.94872\n",
      "[27]\tvalidation_0-auc:0.97802\tvalidation_1-auc:0.95726\n",
      "[28]\tvalidation_0-auc:0.97924\tvalidation_1-auc:0.95726\n",
      "[29]\tvalidation_0-auc:0.97802\tvalidation_1-auc:0.95726\n",
      "[30]\tvalidation_0-auc:0.97924\tvalidation_1-auc:0.95726\n",
      "[31]\tvalidation_0-auc:0.97802\tvalidation_1-auc:0.95726\n",
      "[32]\tvalidation_0-auc:0.97863\tvalidation_1-auc:0.94872\n",
      "[33]\tvalidation_0-auc:0.97863\tvalidation_1-auc:0.95726\n",
      "[34]\tvalidation_0-auc:0.97680\tvalidation_1-auc:0.94872\n",
      "[35]\tvalidation_0-auc:0.97863\tvalidation_1-auc:0.94872\n",
      "[36]\tvalidation_0-auc:0.97985\tvalidation_1-auc:0.94872\n",
      "[0]\tvalidation_0-auc:0.80525\tvalidation_1-auc:0.80769\n",
      "[1]\tvalidation_0-auc:0.83425\tvalidation_1-auc:0.84188\n",
      "[2]\tvalidation_0-auc:0.82662\tvalidation_1-auc:0.84188\n",
      "[3]\tvalidation_0-auc:0.95085\tvalidation_1-auc:0.93590\n",
      "[4]\tvalidation_0-auc:0.95513\tvalidation_1-auc:0.93590\n",
      "[5]\tvalidation_0-auc:0.95513\tvalidation_1-auc:0.93590\n",
      "[6]\tvalidation_0-auc:0.95391\tvalidation_1-auc:0.93590\n",
      "[7]\tvalidation_0-auc:0.96001\tvalidation_1-auc:0.94444\n",
      "[8]\tvalidation_0-auc:0.95971\tvalidation_1-auc:0.93162\n",
      "[9]\tvalidation_0-auc:0.96581\tvalidation_1-auc:0.94017\n",
      "[10]\tvalidation_0-auc:0.96398\tvalidation_1-auc:0.94017\n",
      "[11]\tvalidation_0-auc:0.96520\tvalidation_1-auc:0.93162\n",
      "[12]\tvalidation_0-auc:0.97222\tvalidation_1-auc:0.95299\n",
      "[13]\tvalidation_0-auc:0.97100\tvalidation_1-auc:0.94444\n",
      "[14]\tvalidation_0-auc:0.96734\tvalidation_1-auc:0.93590\n",
      "[15]\tvalidation_0-auc:0.96734\tvalidation_1-auc:0.93590\n",
      "[16]\tvalidation_0-auc:0.96947\tvalidation_1-auc:0.93590\n",
      "[17]\tvalidation_0-auc:0.97100\tvalidation_1-auc:0.93162\n",
      "[18]\tvalidation_0-auc:0.97100\tvalidation_1-auc:0.93162\n",
      "[19]\tvalidation_0-auc:0.97650\tvalidation_1-auc:0.93162\n",
      "[20]\tvalidation_0-auc:0.97589\tvalidation_1-auc:0.92308\n",
      "[21]\tvalidation_0-auc:0.97589\tvalidation_1-auc:0.91453\n",
      "[22]\tvalidation_0-auc:0.97589\tvalidation_1-auc:0.91453\n",
      "[23]\tvalidation_0-auc:0.97711\tvalidation_1-auc:0.91453\n",
      "[24]\tvalidation_0-auc:0.97772\tvalidation_1-auc:0.91453\n",
      "[25]\tvalidation_0-auc:0.97772\tvalidation_1-auc:0.91453\n",
      "[26]\tvalidation_0-auc:0.97772\tvalidation_1-auc:0.91453\n",
      "[27]\tvalidation_0-auc:0.97772\tvalidation_1-auc:0.91453\n",
      "[28]\tvalidation_0-auc:0.97955\tvalidation_1-auc:0.92308\n",
      "[29]\tvalidation_0-auc:0.97955\tvalidation_1-auc:0.92308\n"
     ]
    },
    {
     "name": "stderr",
     "output_type": "stream",
     "text": [
      "c:\\Users\\wndgj\\AppData\\Local\\Programs\\Python\\Python310\\lib\\site-packages\\xgboost\\sklearn.py:793: UserWarning: `eval_metric` in `fit` method is deprecated for better compatibility with scikit-learn, use `eval_metric` in constructor or`set_params` instead.\n",
      "  warnings.warn(\n",
      "c:\\Users\\wndgj\\AppData\\Local\\Programs\\Python\\Python310\\lib\\site-packages\\xgboost\\sklearn.py:793: UserWarning: `early_stopping_rounds` in `fit` method is deprecated for better compatibility with scikit-learn, use `early_stopping_rounds` in constructor or`set_params` instead.\n",
      "  warnings.warn(\n"
     ]
    },
    {
     "name": "stdout",
     "output_type": "stream",
     "text": [
      "[30]\tvalidation_0-auc:0.98016\tvalidation_1-auc:0.92308\n",
      "[31]\tvalidation_0-auc:0.98046\tvalidation_1-auc:0.92308\n",
      "[32]\tvalidation_0-auc:0.98168\tvalidation_1-auc:0.92308\n",
      "[33]\tvalidation_0-auc:0.98046\tvalidation_1-auc:0.92308\n",
      "[34]\tvalidation_0-auc:0.98046\tvalidation_1-auc:0.92308\n",
      "[35]\tvalidation_0-auc:0.98046\tvalidation_1-auc:0.92308\n",
      "[36]\tvalidation_0-auc:0.98046\tvalidation_1-auc:0.92308\n",
      "[37]\tvalidation_0-auc:0.97924\tvalidation_1-auc:0.92308\n",
      "[38]\tvalidation_0-auc:0.97802\tvalidation_1-auc:0.92308\n",
      "[39]\tvalidation_0-auc:0.98230\tvalidation_1-auc:0.93162\n",
      "[40]\tvalidation_0-auc:0.98230\tvalidation_1-auc:0.93162\n",
      "[41]\tvalidation_0-auc:0.97924\tvalidation_1-auc:0.92308\n",
      "[0]\tvalidation_0-auc:0.79884\tvalidation_1-auc:0.75214\n",
      "[1]\tvalidation_0-auc:0.80189\tvalidation_1-auc:0.75214\n",
      "[2]\tvalidation_0-auc:0.81441\tvalidation_1-auc:0.76068\n",
      "[3]\tvalidation_0-auc:0.92979\tvalidation_1-auc:0.94017\n",
      "[4]\tvalidation_0-auc:0.93346\tvalidation_1-auc:0.94017\n",
      "[5]\tvalidation_0-auc:0.93651\tvalidation_1-auc:0.94017\n",
      "[6]\tvalidation_0-auc:0.93407\tvalidation_1-auc:0.94017\n",
      "[7]\tvalidation_0-auc:0.94200\tvalidation_1-auc:0.96581\n",
      "[8]\tvalidation_0-auc:0.95177\tvalidation_1-auc:0.96581\n",
      "[9]\tvalidation_0-auc:0.96337\tvalidation_1-auc:0.97436\n",
      "[10]\tvalidation_0-auc:0.96825\tvalidation_1-auc:0.97436\n",
      "[11]\tvalidation_0-auc:0.97253\tvalidation_1-auc:0.97436\n",
      "[12]\tvalidation_0-auc:0.97497\tvalidation_1-auc:0.97436\n",
      "[13]\tvalidation_0-auc:0.97375\tvalidation_1-auc:0.97436\n",
      "[14]\tvalidation_0-auc:0.97192\tvalidation_1-auc:0.97436\n",
      "[15]\tvalidation_0-auc:0.97009\tvalidation_1-auc:0.96581\n",
      "[16]\tvalidation_0-auc:0.97253\tvalidation_1-auc:0.96581\n",
      "[17]\tvalidation_0-auc:0.97009\tvalidation_1-auc:0.96581\n",
      "[18]\tvalidation_0-auc:0.97253\tvalidation_1-auc:0.97436\n",
      "[19]\tvalidation_0-auc:0.97436\tvalidation_1-auc:0.97436\n",
      "[20]\tvalidation_0-auc:0.97375\tvalidation_1-auc:0.97436\n",
      "[21]\tvalidation_0-auc:0.97375\tvalidation_1-auc:0.97436\n",
      "[22]\tvalidation_0-auc:0.97375\tvalidation_1-auc:0.97436\n",
      "[23]\tvalidation_0-auc:0.97405\tvalidation_1-auc:0.97436\n",
      "[24]\tvalidation_0-auc:0.97527\tvalidation_1-auc:0.97436\n",
      "[25]\tvalidation_0-auc:0.97466\tvalidation_1-auc:0.96581\n",
      "[26]\tvalidation_0-auc:0.97650\tvalidation_1-auc:0.96581\n",
      "[27]\tvalidation_0-auc:0.97833\tvalidation_1-auc:0.96581\n",
      "[28]\tvalidation_0-auc:0.98016\tvalidation_1-auc:0.95726\n",
      "[29]\tvalidation_0-auc:0.97894\tvalidation_1-auc:0.95726\n",
      "[30]\tvalidation_0-auc:0.97772\tvalidation_1-auc:0.95726\n",
      "[31]\tvalidation_0-auc:0.97772\tvalidation_1-auc:0.94872\n",
      "[32]\tvalidation_0-auc:0.97955\tvalidation_1-auc:0.94017\n",
      "[33]\tvalidation_0-auc:0.97894\tvalidation_1-auc:0.94017\n",
      "[34]\tvalidation_0-auc:0.97894\tvalidation_1-auc:0.94017\n",
      "[35]\tvalidation_0-auc:0.97894\tvalidation_1-auc:0.94017\n",
      "[36]\tvalidation_0-auc:0.97711\tvalidation_1-auc:0.94017\n",
      "[37]\tvalidation_0-auc:0.97650\tvalidation_1-auc:0.94017\n"
     ]
    },
    {
     "name": "stderr",
     "output_type": "stream",
     "text": [
      "c:\\Users\\wndgj\\AppData\\Local\\Programs\\Python\\Python310\\lib\\site-packages\\xgboost\\sklearn.py:793: UserWarning: `eval_metric` in `fit` method is deprecated for better compatibility with scikit-learn, use `eval_metric` in constructor or`set_params` instead.\n",
      "  warnings.warn(\n",
      "c:\\Users\\wndgj\\AppData\\Local\\Programs\\Python\\Python310\\lib\\site-packages\\xgboost\\sklearn.py:793: UserWarning: `early_stopping_rounds` in `fit` method is deprecated for better compatibility with scikit-learn, use `early_stopping_rounds` in constructor or`set_params` instead.\n",
      "  warnings.warn(\n"
     ]
    },
    {
     "name": "stdout",
     "output_type": "stream",
     "text": [
      "[38]\tvalidation_0-auc:0.97650\tvalidation_1-auc:0.94017\n",
      "[39]\tvalidation_0-auc:0.97833\tvalidation_1-auc:0.94017\n",
      "[0]\tvalidation_0-auc:0.77106\tvalidation_1-auc:0.71795\n",
      "[1]\tvalidation_0-auc:0.81410\tvalidation_1-auc:0.82051\n",
      "[2]\tvalidation_0-auc:0.81990\tvalidation_1-auc:0.82479\n",
      "[3]\tvalidation_0-auc:0.90629\tvalidation_1-auc:0.90598\n",
      "[4]\tvalidation_0-auc:0.90629\tvalidation_1-auc:0.90598\n",
      "[5]\tvalidation_0-auc:0.90751\tvalidation_1-auc:0.90598\n",
      "[6]\tvalidation_0-auc:0.90873\tvalidation_1-auc:0.90598\n",
      "[7]\tvalidation_0-auc:0.92460\tvalidation_1-auc:0.95726\n",
      "[8]\tvalidation_0-auc:0.92033\tvalidation_1-auc:0.94872\n",
      "[9]\tvalidation_0-auc:0.94048\tvalidation_1-auc:0.96581\n",
      "[10]\tvalidation_0-auc:0.94200\tvalidation_1-auc:0.95726\n",
      "[11]\tvalidation_0-auc:0.93773\tvalidation_1-auc:0.95726\n",
      "[12]\tvalidation_0-auc:0.94750\tvalidation_1-auc:0.95726\n",
      "[13]\tvalidation_0-auc:0.94567\tvalidation_1-auc:0.94017\n",
      "[14]\tvalidation_0-auc:0.94261\tvalidation_1-auc:0.93162\n",
      "[15]\tvalidation_0-auc:0.94139\tvalidation_1-auc:0.92308\n",
      "[16]\tvalidation_0-auc:0.94444\tvalidation_1-auc:0.92308\n",
      "[17]\tvalidation_0-auc:0.94383\tvalidation_1-auc:0.92308\n",
      "[18]\tvalidation_0-auc:0.94322\tvalidation_1-auc:0.92308\n",
      "[19]\tvalidation_0-auc:0.94261\tvalidation_1-auc:0.91453\n",
      "[20]\tvalidation_0-auc:0.94139\tvalidation_1-auc:0.91453\n",
      "[21]\tvalidation_0-auc:0.94017\tvalidation_1-auc:0.91453\n",
      "[22]\tvalidation_0-auc:0.93956\tvalidation_1-auc:0.91453\n",
      "[23]\tvalidation_0-auc:0.94017\tvalidation_1-auc:0.91453\n",
      "[24]\tvalidation_0-auc:0.94322\tvalidation_1-auc:0.91453\n",
      "[25]\tvalidation_0-auc:0.94322\tvalidation_1-auc:0.91453\n",
      "[26]\tvalidation_0-auc:0.94505\tvalidation_1-auc:0.91453\n",
      "[27]\tvalidation_0-auc:0.94170\tvalidation_1-auc:0.91453\n"
     ]
    },
    {
     "name": "stderr",
     "output_type": "stream",
     "text": [
      "c:\\Users\\wndgj\\AppData\\Local\\Programs\\Python\\Python310\\lib\\site-packages\\xgboost\\sklearn.py:793: UserWarning: `eval_metric` in `fit` method is deprecated for better compatibility with scikit-learn, use `eval_metric` in constructor or`set_params` instead.\n",
      "  warnings.warn(\n",
      "c:\\Users\\wndgj\\AppData\\Local\\Programs\\Python\\Python310\\lib\\site-packages\\xgboost\\sklearn.py:793: UserWarning: `early_stopping_rounds` in `fit` method is deprecated for better compatibility with scikit-learn, use `early_stopping_rounds` in constructor or`set_params` instead.\n",
      "  warnings.warn(\n"
     ]
    },
    {
     "name": "stdout",
     "output_type": "stream",
     "text": [
      "[28]\tvalidation_0-auc:0.94170\tvalidation_1-auc:0.91453\n",
      "[29]\tvalidation_0-auc:0.94170\tvalidation_1-auc:0.91453\n",
      "[30]\tvalidation_0-auc:0.94231\tvalidation_1-auc:0.91453\n",
      "[31]\tvalidation_0-auc:0.94231\tvalidation_1-auc:0.91453\n",
      "[32]\tvalidation_0-auc:0.94231\tvalidation_1-auc:0.91453\n",
      "[33]\tvalidation_0-auc:0.94231\tvalidation_1-auc:0.91453\n",
      "[34]\tvalidation_0-auc:0.94231\tvalidation_1-auc:0.91453\n",
      "[35]\tvalidation_0-auc:0.94170\tvalidation_1-auc:0.91453\n",
      "[36]\tvalidation_0-auc:0.94292\tvalidation_1-auc:0.91453\n",
      "[37]\tvalidation_0-auc:0.94292\tvalidation_1-auc:0.91453\n",
      "[38]\tvalidation_0-auc:0.94292\tvalidation_1-auc:0.91453\n",
      "[0]\tvalidation_0-auc:0.97314\tvalidation_1-auc:0.95726\n",
      "[1]\tvalidation_0-auc:0.97772\tvalidation_1-auc:0.95726\n",
      "[2]\tvalidation_0-auc:0.99023\tvalidation_1-auc:0.97436\n",
      "[3]\tvalidation_0-auc:0.99664\tvalidation_1-auc:0.96154\n",
      "[4]\tvalidation_0-auc:0.99603\tvalidation_1-auc:0.95299\n",
      "[5]\tvalidation_0-auc:0.99481\tvalidation_1-auc:0.96581\n",
      "[6]\tvalidation_0-auc:0.99573\tvalidation_1-auc:0.96581\n",
      "[7]\tvalidation_0-auc:0.99573\tvalidation_1-auc:0.96581\n",
      "[8]\tvalidation_0-auc:0.99573\tvalidation_1-auc:0.96581\n",
      "[9]\tvalidation_0-auc:0.99573\tvalidation_1-auc:0.96581\n",
      "[10]\tvalidation_0-auc:0.99573\tvalidation_1-auc:0.96581\n",
      "[11]\tvalidation_0-auc:0.99573\tvalidation_1-auc:0.96581\n",
      "[12]\tvalidation_0-auc:0.99634\tvalidation_1-auc:0.97436\n",
      "[13]\tvalidation_0-auc:0.99634\tvalidation_1-auc:0.97436\n",
      "[14]\tvalidation_0-auc:0.99634\tvalidation_1-auc:0.97436\n",
      "[15]\tvalidation_0-auc:0.99634\tvalidation_1-auc:0.97436\n",
      "[16]\tvalidation_0-auc:0.99634\tvalidation_1-auc:0.97436\n",
      "[17]\tvalidation_0-auc:0.99634\tvalidation_1-auc:0.97436\n",
      "[18]\tvalidation_0-auc:0.99634\tvalidation_1-auc:0.97436\n",
      "[19]\tvalidation_0-auc:0.99634\tvalidation_1-auc:0.97436\n",
      "[20]\tvalidation_0-auc:0.99634\tvalidation_1-auc:0.97436\n",
      "[21]\tvalidation_0-auc:0.99634\tvalidation_1-auc:0.97436\n",
      "[22]\tvalidation_0-auc:0.99634\tvalidation_1-auc:0.96581\n",
      "[23]\tvalidation_0-auc:0.99634\tvalidation_1-auc:0.96581\n",
      "[24]\tvalidation_0-auc:0.99634\tvalidation_1-auc:0.96581\n",
      "[25]\tvalidation_0-auc:0.99634\tvalidation_1-auc:0.96581\n",
      "[26]\tvalidation_0-auc:0.99634\tvalidation_1-auc:0.96581\n",
      "[27]\tvalidation_0-auc:0.99634\tvalidation_1-auc:0.96581\n",
      "[28]\tvalidation_0-auc:0.99634\tvalidation_1-auc:0.96581\n",
      "[29]\tvalidation_0-auc:0.99634\tvalidation_1-auc:0.96581\n",
      "[30]\tvalidation_0-auc:0.99634\tvalidation_1-auc:0.95726\n",
      "[31]\tvalidation_0-auc:0.99634\tvalidation_1-auc:0.95726\n"
     ]
    },
    {
     "name": "stderr",
     "output_type": "stream",
     "text": [
      "c:\\Users\\wndgj\\AppData\\Local\\Programs\\Python\\Python310\\lib\\site-packages\\xgboost\\sklearn.py:793: UserWarning: `eval_metric` in `fit` method is deprecated for better compatibility with scikit-learn, use `eval_metric` in constructor or`set_params` instead.\n",
      "  warnings.warn(\n",
      "c:\\Users\\wndgj\\AppData\\Local\\Programs\\Python\\Python310\\lib\\site-packages\\xgboost\\sklearn.py:793: UserWarning: `early_stopping_rounds` in `fit` method is deprecated for better compatibility with scikit-learn, use `early_stopping_rounds` in constructor or`set_params` instead.\n",
      "  warnings.warn(\n"
     ]
    },
    {
     "name": "stdout",
     "output_type": "stream",
     "text": [
      "[0]\tvalidation_0-auc:0.95513\tvalidation_1-auc:0.96154\n",
      "[1]\tvalidation_0-auc:0.97100\tvalidation_1-auc:0.93162\n",
      "[2]\tvalidation_0-auc:0.95452\tvalidation_1-auc:0.93162\n",
      "[3]\tvalidation_0-auc:0.97833\tvalidation_1-auc:0.93590\n",
      "[4]\tvalidation_0-auc:0.98077\tvalidation_1-auc:0.95726\n",
      "[5]\tvalidation_0-auc:0.98443\tvalidation_1-auc:0.95726\n",
      "[6]\tvalidation_0-auc:0.98718\tvalidation_1-auc:0.96581\n",
      "[7]\tvalidation_0-auc:0.99023\tvalidation_1-auc:0.96581\n",
      "[8]\tvalidation_0-auc:0.98993\tvalidation_1-auc:0.96581\n",
      "[9]\tvalidation_0-auc:0.99176\tvalidation_1-auc:0.98291\n",
      "[10]\tvalidation_0-auc:0.99237\tvalidation_1-auc:0.98291\n",
      "[11]\tvalidation_0-auc:0.99389\tvalidation_1-auc:0.98291\n",
      "[12]\tvalidation_0-auc:0.99695\tvalidation_1-auc:0.98291\n",
      "[13]\tvalidation_0-auc:0.99817\tvalidation_1-auc:0.98291\n",
      "[14]\tvalidation_0-auc:0.99817\tvalidation_1-auc:0.98291\n",
      "[15]\tvalidation_0-auc:0.99817\tvalidation_1-auc:0.98291\n",
      "[16]\tvalidation_0-auc:0.99817\tvalidation_1-auc:0.98291\n",
      "[17]\tvalidation_0-auc:0.99939\tvalidation_1-auc:0.98291\n",
      "[18]\tvalidation_0-auc:1.00000\tvalidation_1-auc:0.98291\n",
      "[19]\tvalidation_0-auc:1.00000\tvalidation_1-auc:0.98291\n",
      "[20]\tvalidation_0-auc:1.00000\tvalidation_1-auc:0.98291\n",
      "[21]\tvalidation_0-auc:1.00000\tvalidation_1-auc:0.99145\n",
      "[22]\tvalidation_0-auc:1.00000\tvalidation_1-auc:0.99145\n",
      "[23]\tvalidation_0-auc:1.00000\tvalidation_1-auc:0.99145\n",
      "[24]\tvalidation_0-auc:1.00000\tvalidation_1-auc:0.99145\n",
      "[25]\tvalidation_0-auc:1.00000\tvalidation_1-auc:0.99145\n"
     ]
    },
    {
     "name": "stderr",
     "output_type": "stream",
     "text": [
      "c:\\Users\\wndgj\\AppData\\Local\\Programs\\Python\\Python310\\lib\\site-packages\\xgboost\\sklearn.py:793: UserWarning: `eval_metric` in `fit` method is deprecated for better compatibility with scikit-learn, use `eval_metric` in constructor or`set_params` instead.\n",
      "  warnings.warn(\n",
      "c:\\Users\\wndgj\\AppData\\Local\\Programs\\Python\\Python310\\lib\\site-packages\\xgboost\\sklearn.py:793: UserWarning: `early_stopping_rounds` in `fit` method is deprecated for better compatibility with scikit-learn, use `early_stopping_rounds` in constructor or`set_params` instead.\n",
      "  warnings.warn(\n"
     ]
    },
    {
     "name": "stdout",
     "output_type": "stream",
     "text": [
      "[26]\tvalidation_0-auc:1.00000\tvalidation_1-auc:0.99145\n",
      "[27]\tvalidation_0-auc:1.00000\tvalidation_1-auc:0.99145\n",
      "[28]\tvalidation_0-auc:1.00000\tvalidation_1-auc:0.99145\n",
      "[29]\tvalidation_0-auc:1.00000\tvalidation_1-auc:0.99145\n",
      "[30]\tvalidation_0-auc:1.00000\tvalidation_1-auc:0.99145\n",
      "[31]\tvalidation_0-auc:1.00000\tvalidation_1-auc:0.99145\n",
      "[32]\tvalidation_0-auc:1.00000\tvalidation_1-auc:0.97436\n",
      "[33]\tvalidation_0-auc:1.00000\tvalidation_1-auc:0.97436\n",
      "[34]\tvalidation_0-auc:1.00000\tvalidation_1-auc:0.97436\n",
      "[35]\tvalidation_0-auc:1.00000\tvalidation_1-auc:0.98291\n",
      "[36]\tvalidation_0-auc:1.00000\tvalidation_1-auc:0.97436\n",
      "[37]\tvalidation_0-auc:1.00000\tvalidation_1-auc:0.97436\n",
      "[38]\tvalidation_0-auc:1.00000\tvalidation_1-auc:0.98291\n",
      "[39]\tvalidation_0-auc:1.00000\tvalidation_1-auc:0.97436\n",
      "[40]\tvalidation_0-auc:1.00000\tvalidation_1-auc:0.97436\n",
      "[41]\tvalidation_0-auc:1.00000\tvalidation_1-auc:0.97436\n",
      "[42]\tvalidation_0-auc:1.00000\tvalidation_1-auc:0.97436\n",
      "[43]\tvalidation_0-auc:1.00000\tvalidation_1-auc:0.97436\n",
      "[44]\tvalidation_0-auc:1.00000\tvalidation_1-auc:0.97436\n",
      "[45]\tvalidation_0-auc:1.00000\tvalidation_1-auc:0.97436\n",
      "[46]\tvalidation_0-auc:1.00000\tvalidation_1-auc:0.97436\n",
      "[47]\tvalidation_0-auc:1.00000\tvalidation_1-auc:0.97436\n",
      "[48]\tvalidation_0-auc:1.00000\tvalidation_1-auc:0.97436\n",
      "[49]\tvalidation_0-auc:1.00000\tvalidation_1-auc:0.97436\n",
      "[50]\tvalidation_0-auc:1.00000\tvalidation_1-auc:0.97436\n",
      "[0]\tvalidation_0-auc:0.92979\tvalidation_1-auc:0.97436\n",
      "[1]\tvalidation_0-auc:0.92460\tvalidation_1-auc:0.95726\n",
      "[2]\tvalidation_0-auc:0.91484\tvalidation_1-auc:0.94872\n",
      "[3]\tvalidation_0-auc:0.94994\tvalidation_1-auc:0.97863\n",
      "[4]\tvalidation_0-auc:0.94536\tvalidation_1-auc:0.95726\n",
      "[5]\tvalidation_0-auc:0.95208\tvalidation_1-auc:0.97436\n",
      "[6]\tvalidation_0-auc:0.95147\tvalidation_1-auc:0.98291\n",
      "[7]\tvalidation_0-auc:0.95910\tvalidation_1-auc:0.97436\n",
      "[8]\tvalidation_0-auc:0.95788\tvalidation_1-auc:0.96581\n",
      "[9]\tvalidation_0-auc:0.95849\tvalidation_1-auc:0.96581\n",
      "[10]\tvalidation_0-auc:0.97192\tvalidation_1-auc:0.96581\n",
      "[11]\tvalidation_0-auc:0.97192\tvalidation_1-auc:0.96581\n",
      "[12]\tvalidation_0-auc:0.97192\tvalidation_1-auc:0.97436\n",
      "[13]\tvalidation_0-auc:0.97131\tvalidation_1-auc:0.97436\n",
      "[14]\tvalidation_0-auc:0.97131\tvalidation_1-auc:0.96581\n",
      "[15]\tvalidation_0-auc:0.98107\tvalidation_1-auc:0.97436\n",
      "[16]\tvalidation_0-auc:0.98352\tvalidation_1-auc:0.97436\n",
      "[17]\tvalidation_0-auc:0.97985\tvalidation_1-auc:0.96581\n",
      "[18]\tvalidation_0-auc:0.98230\tvalidation_1-auc:0.95726\n",
      "[19]\tvalidation_0-auc:0.98291\tvalidation_1-auc:0.96581\n",
      "[20]\tvalidation_0-auc:0.98230\tvalidation_1-auc:0.96581\n",
      "[21]\tvalidation_0-auc:0.97924\tvalidation_1-auc:0.96581\n",
      "[22]\tvalidation_0-auc:0.97924\tvalidation_1-auc:0.95726\n",
      "[23]\tvalidation_0-auc:0.97802\tvalidation_1-auc:0.96581\n",
      "[24]\tvalidation_0-auc:0.97985\tvalidation_1-auc:0.96581\n",
      "[25]\tvalidation_0-auc:0.98230\tvalidation_1-auc:0.96581\n",
      "[26]\tvalidation_0-auc:0.98352\tvalidation_1-auc:0.96581\n",
      "[27]\tvalidation_0-auc:0.98474\tvalidation_1-auc:0.96581\n",
      "[28]\tvalidation_0-auc:0.98535\tvalidation_1-auc:0.96581\n",
      "[29]\tvalidation_0-auc:0.98474\tvalidation_1-auc:0.96581\n",
      "[30]\tvalidation_0-auc:0.98474\tvalidation_1-auc:0.95726\n",
      "[31]\tvalidation_0-auc:0.98230\tvalidation_1-auc:0.95726\n"
     ]
    },
    {
     "name": "stderr",
     "output_type": "stream",
     "text": [
      "c:\\Users\\wndgj\\AppData\\Local\\Programs\\Python\\Python310\\lib\\site-packages\\xgboost\\sklearn.py:793: UserWarning: `eval_metric` in `fit` method is deprecated for better compatibility with scikit-learn, use `eval_metric` in constructor or`set_params` instead.\n",
      "  warnings.warn(\n",
      "c:\\Users\\wndgj\\AppData\\Local\\Programs\\Python\\Python310\\lib\\site-packages\\xgboost\\sklearn.py:793: UserWarning: `early_stopping_rounds` in `fit` method is deprecated for better compatibility with scikit-learn, use `early_stopping_rounds` in constructor or`set_params` instead.\n",
      "  warnings.warn(\n"
     ]
    },
    {
     "name": "stdout",
     "output_type": "stream",
     "text": [
      "[32]\tvalidation_0-auc:0.98230\tvalidation_1-auc:0.94872\n",
      "[33]\tvalidation_0-auc:0.98413\tvalidation_1-auc:0.94872\n",
      "[34]\tvalidation_0-auc:0.98291\tvalidation_1-auc:0.94872\n",
      "[35]\tvalidation_0-auc:0.98413\tvalidation_1-auc:0.94872\n",
      "[0]\tvalidation_0-auc:0.96306\tvalidation_1-auc:0.94872\n",
      "[1]\tvalidation_0-auc:0.96306\tvalidation_1-auc:0.95726\n",
      "[2]\tvalidation_0-auc:0.96062\tvalidation_1-auc:0.94444\n",
      "[3]\tvalidation_0-auc:0.96123\tvalidation_1-auc:0.94444\n",
      "[4]\tvalidation_0-auc:0.97009\tvalidation_1-auc:0.94017\n",
      "[5]\tvalidation_0-auc:0.97497\tvalidation_1-auc:0.94017\n",
      "[6]\tvalidation_0-auc:0.98291\tvalidation_1-auc:0.97009\n",
      "[7]\tvalidation_0-auc:0.98901\tvalidation_1-auc:0.97009\n",
      "[8]\tvalidation_0-auc:0.98535\tvalidation_1-auc:0.96154\n",
      "[9]\tvalidation_0-auc:0.98657\tvalidation_1-auc:0.97009\n",
      "[10]\tvalidation_0-auc:0.98779\tvalidation_1-auc:0.97863\n",
      "[11]\tvalidation_0-auc:0.98718\tvalidation_1-auc:0.97009\n",
      "[12]\tvalidation_0-auc:0.98596\tvalidation_1-auc:0.97009\n",
      "[13]\tvalidation_0-auc:0.98596\tvalidation_1-auc:0.97009\n",
      "[14]\tvalidation_0-auc:0.98718\tvalidation_1-auc:0.97009\n",
      "[15]\tvalidation_0-auc:0.98657\tvalidation_1-auc:0.97009\n",
      "[16]\tvalidation_0-auc:0.98718\tvalidation_1-auc:0.97009\n",
      "[17]\tvalidation_0-auc:0.98718\tvalidation_1-auc:0.97009\n",
      "[18]\tvalidation_0-auc:0.98779\tvalidation_1-auc:0.97009\n",
      "[19]\tvalidation_0-auc:0.99023\tvalidation_1-auc:0.97009\n"
     ]
    },
    {
     "name": "stderr",
     "output_type": "stream",
     "text": [
      "c:\\Users\\wndgj\\AppData\\Local\\Programs\\Python\\Python310\\lib\\site-packages\\xgboost\\sklearn.py:793: UserWarning: `eval_metric` in `fit` method is deprecated for better compatibility with scikit-learn, use `eval_metric` in constructor or`set_params` instead.\n",
      "  warnings.warn(\n",
      "c:\\Users\\wndgj\\AppData\\Local\\Programs\\Python\\Python310\\lib\\site-packages\\xgboost\\sklearn.py:793: UserWarning: `early_stopping_rounds` in `fit` method is deprecated for better compatibility with scikit-learn, use `early_stopping_rounds` in constructor or`set_params` instead.\n",
      "  warnings.warn(\n"
     ]
    },
    {
     "name": "stdout",
     "output_type": "stream",
     "text": [
      "[20]\tvalidation_0-auc:0.98535\tvalidation_1-auc:0.97009\n",
      "[21]\tvalidation_0-auc:0.99054\tvalidation_1-auc:0.96581\n",
      "[22]\tvalidation_0-auc:0.98565\tvalidation_1-auc:0.96581\n",
      "[23]\tvalidation_0-auc:0.98565\tvalidation_1-auc:0.96581\n",
      "[24]\tvalidation_0-auc:0.99054\tvalidation_1-auc:0.96581\n",
      "[25]\tvalidation_0-auc:0.98565\tvalidation_1-auc:0.96581\n",
      "[26]\tvalidation_0-auc:0.98810\tvalidation_1-auc:0.96581\n",
      "[27]\tvalidation_0-auc:0.98810\tvalidation_1-auc:0.96581\n",
      "[28]\tvalidation_0-auc:0.99054\tvalidation_1-auc:0.96581\n",
      "[29]\tvalidation_0-auc:0.98810\tvalidation_1-auc:0.96581\n",
      "[30]\tvalidation_0-auc:0.98810\tvalidation_1-auc:0.96581\n",
      "[31]\tvalidation_0-auc:0.98810\tvalidation_1-auc:0.96581\n",
      "[32]\tvalidation_0-auc:0.99054\tvalidation_1-auc:0.96581\n",
      "[33]\tvalidation_0-auc:0.98810\tvalidation_1-auc:0.96581\n",
      "[34]\tvalidation_0-auc:0.99054\tvalidation_1-auc:0.96581\n",
      "[35]\tvalidation_0-auc:0.98810\tvalidation_1-auc:0.96581\n",
      "[36]\tvalidation_0-auc:0.99054\tvalidation_1-auc:0.96581\n",
      "[37]\tvalidation_0-auc:0.98810\tvalidation_1-auc:0.96581\n",
      "[38]\tvalidation_0-auc:0.99054\tvalidation_1-auc:0.96581\n",
      "[39]\tvalidation_0-auc:0.98810\tvalidation_1-auc:0.96581\n",
      "[0]\tvalidation_0-auc:0.95513\tvalidation_1-auc:0.96154\n",
      "[1]\tvalidation_0-auc:0.91819\tvalidation_1-auc:0.93162\n",
      "[2]\tvalidation_0-auc:0.93315\tvalidation_1-auc:0.93590\n",
      "[3]\tvalidation_0-auc:0.93864\tvalidation_1-auc:0.97436\n",
      "[4]\tvalidation_0-auc:0.94231\tvalidation_1-auc:0.97436\n",
      "[5]\tvalidation_0-auc:0.96306\tvalidation_1-auc:0.97436\n",
      "[6]\tvalidation_0-auc:0.96062\tvalidation_1-auc:0.97436\n",
      "[7]\tvalidation_0-auc:0.96612\tvalidation_1-auc:0.97436\n",
      "[8]\tvalidation_0-auc:0.97161\tvalidation_1-auc:0.97436\n",
      "[9]\tvalidation_0-auc:0.97650\tvalidation_1-auc:0.97436\n",
      "[10]\tvalidation_0-auc:0.97466\tvalidation_1-auc:0.97436\n",
      "[11]\tvalidation_0-auc:0.97924\tvalidation_1-auc:0.97436\n",
      "[12]\tvalidation_0-auc:0.97863\tvalidation_1-auc:0.96581\n",
      "[13]\tvalidation_0-auc:0.97802\tvalidation_1-auc:0.96581\n",
      "[14]\tvalidation_0-auc:0.97924\tvalidation_1-auc:0.96581\n",
      "[15]\tvalidation_0-auc:0.97924\tvalidation_1-auc:0.96581\n",
      "[16]\tvalidation_0-auc:0.98168\tvalidation_1-auc:0.96581\n",
      "[17]\tvalidation_0-auc:0.98046\tvalidation_1-auc:0.96581\n",
      "[18]\tvalidation_0-auc:0.97863\tvalidation_1-auc:0.96581\n",
      "[19]\tvalidation_0-auc:0.97924\tvalidation_1-auc:0.96581\n",
      "[20]\tvalidation_0-auc:0.97863\tvalidation_1-auc:0.96581\n",
      "[21]\tvalidation_0-auc:0.97924\tvalidation_1-auc:0.95726\n",
      "[22]\tvalidation_0-auc:0.97863\tvalidation_1-auc:0.95726\n",
      "[23]\tvalidation_0-auc:0.98107\tvalidation_1-auc:0.95726\n",
      "[24]\tvalidation_0-auc:0.98046\tvalidation_1-auc:0.95726\n",
      "[25]\tvalidation_0-auc:0.97985\tvalidation_1-auc:0.95726\n",
      "[26]\tvalidation_0-auc:0.97863\tvalidation_1-auc:0.95726\n",
      "[27]\tvalidation_0-auc:0.97863\tvalidation_1-auc:0.95726\n",
      "[28]\tvalidation_0-auc:0.97802\tvalidation_1-auc:0.95726\n",
      "[29]\tvalidation_0-auc:0.97802\tvalidation_1-auc:0.95726\n"
     ]
    },
    {
     "name": "stderr",
     "output_type": "stream",
     "text": [
      "c:\\Users\\wndgj\\AppData\\Local\\Programs\\Python\\Python310\\lib\\site-packages\\xgboost\\sklearn.py:793: UserWarning: `eval_metric` in `fit` method is deprecated for better compatibility with scikit-learn, use `eval_metric` in constructor or`set_params` instead.\n",
      "  warnings.warn(\n",
      "c:\\Users\\wndgj\\AppData\\Local\\Programs\\Python\\Python310\\lib\\site-packages\\xgboost\\sklearn.py:793: UserWarning: `early_stopping_rounds` in `fit` method is deprecated for better compatibility with scikit-learn, use `early_stopping_rounds` in constructor or`set_params` instead.\n",
      "  warnings.warn(\n"
     ]
    },
    {
     "name": "stdout",
     "output_type": "stream",
     "text": [
      "[30]\tvalidation_0-auc:0.97741\tvalidation_1-auc:0.95726\n",
      "[31]\tvalidation_0-auc:0.97741\tvalidation_1-auc:0.94872\n",
      "[32]\tvalidation_0-auc:0.97741\tvalidation_1-auc:0.94872\n",
      "[33]\tvalidation_0-auc:0.97741\tvalidation_1-auc:0.94872\n",
      "[0]\tvalidation_0-auc:0.77106\tvalidation_1-auc:0.71795\n",
      "[1]\tvalidation_0-auc:0.80556\tvalidation_1-auc:0.83333\n",
      "[2]\tvalidation_0-auc:0.82082\tvalidation_1-auc:0.83333\n",
      "[3]\tvalidation_0-auc:0.90629\tvalidation_1-auc:0.93162\n",
      "[4]\tvalidation_0-auc:0.90751\tvalidation_1-auc:0.89744\n",
      "[5]\tvalidation_0-auc:0.92033\tvalidation_1-auc:0.91453\n",
      "[6]\tvalidation_0-auc:0.91758\tvalidation_1-auc:0.91453\n",
      "[7]\tvalidation_0-auc:0.93223\tvalidation_1-auc:0.95726\n",
      "[8]\tvalidation_0-auc:0.92857\tvalidation_1-auc:0.94017\n",
      "[9]\tvalidation_0-auc:0.92735\tvalidation_1-auc:0.92308\n",
      "[10]\tvalidation_0-auc:0.93834\tvalidation_1-auc:0.94017\n",
      "[11]\tvalidation_0-auc:0.94475\tvalidation_1-auc:0.94017\n",
      "[12]\tvalidation_0-auc:0.94231\tvalidation_1-auc:0.94017\n",
      "[13]\tvalidation_0-auc:0.94048\tvalidation_1-auc:0.93162\n",
      "[14]\tvalidation_0-auc:0.94353\tvalidation_1-auc:0.93162\n",
      "[15]\tvalidation_0-auc:0.94628\tvalidation_1-auc:0.93162\n",
      "[16]\tvalidation_0-auc:0.94872\tvalidation_1-auc:0.93162\n",
      "[17]\tvalidation_0-auc:0.94444\tvalidation_1-auc:0.90598\n",
      "[18]\tvalidation_0-auc:0.94444\tvalidation_1-auc:0.90598\n",
      "[19]\tvalidation_0-auc:0.94628\tvalidation_1-auc:0.90598\n",
      "[20]\tvalidation_0-auc:0.94383\tvalidation_1-auc:0.90598\n",
      "[21]\tvalidation_0-auc:0.94261\tvalidation_1-auc:0.90598\n",
      "[22]\tvalidation_0-auc:0.94231\tvalidation_1-auc:0.90598\n",
      "[23]\tvalidation_0-auc:0.94231\tvalidation_1-auc:0.90598\n",
      "[24]\tvalidation_0-auc:0.94231\tvalidation_1-auc:0.90598\n",
      "[25]\tvalidation_0-auc:0.93987\tvalidation_1-auc:0.89744\n",
      "[26]\tvalidation_0-auc:0.94170\tvalidation_1-auc:0.89744\n",
      "[27]\tvalidation_0-auc:0.94231\tvalidation_1-auc:0.89744\n",
      "[28]\tvalidation_0-auc:0.94170\tvalidation_1-auc:0.89744\n",
      "[29]\tvalidation_0-auc:0.94231\tvalidation_1-auc:0.89744\n",
      "[30]\tvalidation_0-auc:0.94170\tvalidation_1-auc:0.89744\n",
      "[31]\tvalidation_0-auc:0.94353\tvalidation_1-auc:0.89744\n",
      "[32]\tvalidation_0-auc:0.94353\tvalidation_1-auc:0.89744\n"
     ]
    },
    {
     "name": "stderr",
     "output_type": "stream",
     "text": [
      "c:\\Users\\wndgj\\AppData\\Local\\Programs\\Python\\Python310\\lib\\site-packages\\xgboost\\sklearn.py:793: UserWarning: `eval_metric` in `fit` method is deprecated for better compatibility with scikit-learn, use `eval_metric` in constructor or`set_params` instead.\n",
      "  warnings.warn(\n",
      "c:\\Users\\wndgj\\AppData\\Local\\Programs\\Python\\Python310\\lib\\site-packages\\xgboost\\sklearn.py:793: UserWarning: `early_stopping_rounds` in `fit` method is deprecated for better compatibility with scikit-learn, use `early_stopping_rounds` in constructor or`set_params` instead.\n",
      "  warnings.warn(\n"
     ]
    },
    {
     "name": "stdout",
     "output_type": "stream",
     "text": [
      "[33]\tvalidation_0-auc:0.94414\tvalidation_1-auc:0.90598\n",
      "[34]\tvalidation_0-auc:0.94475\tvalidation_1-auc:0.90598\n",
      "[35]\tvalidation_0-auc:0.94475\tvalidation_1-auc:0.90598\n",
      "[36]\tvalidation_0-auc:0.94475\tvalidation_1-auc:0.90598\n",
      "[37]\tvalidation_0-auc:0.94475\tvalidation_1-auc:0.90598\n",
      "[0]\tvalidation_0-auc:0.97314\tvalidation_1-auc:0.95726\n",
      "[1]\tvalidation_0-auc:0.97924\tvalidation_1-auc:0.97436\n",
      "[2]\tvalidation_0-auc:0.99023\tvalidation_1-auc:0.97436\n",
      "[3]\tvalidation_0-auc:0.99664\tvalidation_1-auc:0.97009\n",
      "[4]\tvalidation_0-auc:0.99481\tvalidation_1-auc:0.96154\n",
      "[5]\tvalidation_0-auc:0.99420\tvalidation_1-auc:0.97436\n",
      "[6]\tvalidation_0-auc:0.99573\tvalidation_1-auc:0.97436\n",
      "[7]\tvalidation_0-auc:0.99573\tvalidation_1-auc:0.97436\n",
      "[8]\tvalidation_0-auc:0.99573\tvalidation_1-auc:0.96581\n",
      "[9]\tvalidation_0-auc:0.99573\tvalidation_1-auc:0.97436\n",
      "[10]\tvalidation_0-auc:0.99573\tvalidation_1-auc:0.97436\n",
      "[11]\tvalidation_0-auc:0.99573\tvalidation_1-auc:0.97436\n",
      "[12]\tvalidation_0-auc:0.99634\tvalidation_1-auc:0.97436\n",
      "[13]\tvalidation_0-auc:0.99634\tvalidation_1-auc:0.97436\n",
      "[14]\tvalidation_0-auc:0.99634\tvalidation_1-auc:0.97436\n",
      "[15]\tvalidation_0-auc:0.99634\tvalidation_1-auc:0.97436\n",
      "[16]\tvalidation_0-auc:0.99634\tvalidation_1-auc:0.97436\n",
      "[17]\tvalidation_0-auc:0.99634\tvalidation_1-auc:0.97436\n",
      "[18]\tvalidation_0-auc:0.99634\tvalidation_1-auc:0.97436\n",
      "[19]\tvalidation_0-auc:0.99634\tvalidation_1-auc:0.97436\n",
      "[20]\tvalidation_0-auc:0.99634\tvalidation_1-auc:0.97436\n",
      "[21]\tvalidation_0-auc:0.99634\tvalidation_1-auc:0.97436\n",
      "[22]\tvalidation_0-auc:0.99634\tvalidation_1-auc:0.97436\n",
      "[23]\tvalidation_0-auc:0.99634\tvalidation_1-auc:0.97436\n",
      "[24]\tvalidation_0-auc:0.99634\tvalidation_1-auc:0.97436\n",
      "[25]\tvalidation_0-auc:0.99634\tvalidation_1-auc:0.97436\n",
      "[26]\tvalidation_0-auc:0.99634\tvalidation_1-auc:0.97436\n",
      "[27]\tvalidation_0-auc:0.99634\tvalidation_1-auc:0.97436\n",
      "[28]\tvalidation_0-auc:0.99634\tvalidation_1-auc:0.97436\n",
      "[29]\tvalidation_0-auc:0.99634\tvalidation_1-auc:0.97436\n",
      "[30]\tvalidation_0-auc:0.99634\tvalidation_1-auc:0.97436\n"
     ]
    },
    {
     "name": "stderr",
     "output_type": "stream",
     "text": [
      "c:\\Users\\wndgj\\AppData\\Local\\Programs\\Python\\Python310\\lib\\site-packages\\xgboost\\sklearn.py:793: UserWarning: `eval_metric` in `fit` method is deprecated for better compatibility with scikit-learn, use `eval_metric` in constructor or`set_params` instead.\n",
      "  warnings.warn(\n",
      "c:\\Users\\wndgj\\AppData\\Local\\Programs\\Python\\Python310\\lib\\site-packages\\xgboost\\sklearn.py:793: UserWarning: `early_stopping_rounds` in `fit` method is deprecated for better compatibility with scikit-learn, use `early_stopping_rounds` in constructor or`set_params` instead.\n",
      "  warnings.warn(\n",
      "c:\\Users\\wndgj\\AppData\\Local\\Programs\\Python\\Python310\\lib\\site-packages\\xgboost\\sklearn.py:793: UserWarning: `eval_metric` in `fit` method is deprecated for better compatibility with scikit-learn, use `eval_metric` in constructor or`set_params` instead.\n",
      "  warnings.warn(\n",
      "c:\\Users\\wndgj\\AppData\\Local\\Programs\\Python\\Python310\\lib\\site-packages\\xgboost\\sklearn.py:793: UserWarning: `early_stopping_rounds` in `fit` method is deprecated for better compatibility with scikit-learn, use `early_stopping_rounds` in constructor or`set_params` instead.\n",
      "  warnings.warn(\n"
     ]
    },
    {
     "name": "stdout",
     "output_type": "stream",
     "text": [
      "[0]\tvalidation_0-auc:0.95513\tvalidation_1-auc:0.96154\n",
      "[1]\tvalidation_0-auc:0.97100\tvalidation_1-auc:0.93162\n",
      "[2]\tvalidation_0-auc:0.95452\tvalidation_1-auc:0.93162\n",
      "[3]\tvalidation_0-auc:0.97833\tvalidation_1-auc:0.93590\n",
      "[4]\tvalidation_0-auc:0.98077\tvalidation_1-auc:0.95726\n",
      "[5]\tvalidation_0-auc:0.98443\tvalidation_1-auc:0.95726\n",
      "[6]\tvalidation_0-auc:0.98718\tvalidation_1-auc:0.96581\n",
      "[7]\tvalidation_0-auc:0.99023\tvalidation_1-auc:0.96581\n",
      "[8]\tvalidation_0-auc:0.98993\tvalidation_1-auc:0.96581\n",
      "[9]\tvalidation_0-auc:0.99176\tvalidation_1-auc:0.98291\n",
      "[10]\tvalidation_0-auc:0.99237\tvalidation_1-auc:0.98291\n",
      "[11]\tvalidation_0-auc:0.99389\tvalidation_1-auc:0.98291\n",
      "[12]\tvalidation_0-auc:0.99695\tvalidation_1-auc:0.98291\n",
      "[13]\tvalidation_0-auc:0.99817\tvalidation_1-auc:0.98291\n",
      "[14]\tvalidation_0-auc:0.99817\tvalidation_1-auc:0.98291\n",
      "[15]\tvalidation_0-auc:0.99817\tvalidation_1-auc:0.98291\n",
      "[16]\tvalidation_0-auc:0.99817\tvalidation_1-auc:0.98291\n",
      "[17]\tvalidation_0-auc:0.99939\tvalidation_1-auc:0.98291\n",
      "[18]\tvalidation_0-auc:1.00000\tvalidation_1-auc:0.98291\n",
      "[19]\tvalidation_0-auc:1.00000\tvalidation_1-auc:0.98291\n",
      "[20]\tvalidation_0-auc:1.00000\tvalidation_1-auc:0.98291\n",
      "[21]\tvalidation_0-auc:1.00000\tvalidation_1-auc:0.99145\n",
      "[22]\tvalidation_0-auc:1.00000\tvalidation_1-auc:0.99145\n",
      "[23]\tvalidation_0-auc:1.00000\tvalidation_1-auc:0.99145\n",
      "[24]\tvalidation_0-auc:1.00000\tvalidation_1-auc:0.99145\n",
      "[25]\tvalidation_0-auc:1.00000\tvalidation_1-auc:0.99145\n",
      "[26]\tvalidation_0-auc:1.00000\tvalidation_1-auc:0.99145\n",
      "[27]\tvalidation_0-auc:1.00000\tvalidation_1-auc:0.99145\n",
      "[28]\tvalidation_0-auc:1.00000\tvalidation_1-auc:0.99145\n",
      "[29]\tvalidation_0-auc:1.00000\tvalidation_1-auc:0.99145\n",
      "[30]\tvalidation_0-auc:1.00000\tvalidation_1-auc:0.99145\n",
      "[31]\tvalidation_0-auc:1.00000\tvalidation_1-auc:0.99145\n",
      "[32]\tvalidation_0-auc:1.00000\tvalidation_1-auc:0.97436\n",
      "[33]\tvalidation_0-auc:1.00000\tvalidation_1-auc:0.97436\n",
      "[34]\tvalidation_0-auc:1.00000\tvalidation_1-auc:0.97436\n",
      "[35]\tvalidation_0-auc:1.00000\tvalidation_1-auc:0.98291\n",
      "[36]\tvalidation_0-auc:1.00000\tvalidation_1-auc:0.97436\n",
      "[37]\tvalidation_0-auc:1.00000\tvalidation_1-auc:0.97436\n",
      "[38]\tvalidation_0-auc:1.00000\tvalidation_1-auc:0.98291\n",
      "[39]\tvalidation_0-auc:1.00000\tvalidation_1-auc:0.97436\n",
      "[40]\tvalidation_0-auc:1.00000\tvalidation_1-auc:0.97436\n",
      "[41]\tvalidation_0-auc:1.00000\tvalidation_1-auc:0.97436\n",
      "[42]\tvalidation_0-auc:1.00000\tvalidation_1-auc:0.97436\n",
      "[43]\tvalidation_0-auc:1.00000\tvalidation_1-auc:0.97436\n",
      "[44]\tvalidation_0-auc:1.00000\tvalidation_1-auc:0.97436\n",
      "[45]\tvalidation_0-auc:1.00000\tvalidation_1-auc:0.97436\n",
      "[46]\tvalidation_0-auc:1.00000\tvalidation_1-auc:0.97436\n",
      "[47]\tvalidation_0-auc:1.00000\tvalidation_1-auc:0.97436\n",
      "[48]\tvalidation_0-auc:1.00000\tvalidation_1-auc:0.97436\n",
      "[49]\tvalidation_0-auc:1.00000\tvalidation_1-auc:0.97436\n",
      "[50]\tvalidation_0-auc:1.00000\tvalidation_1-auc:0.97436\n",
      "[0]\tvalidation_0-auc:0.92979\tvalidation_1-auc:0.97436\n",
      "[1]\tvalidation_0-auc:0.92460\tvalidation_1-auc:0.95726\n",
      "[2]\tvalidation_0-auc:0.91484\tvalidation_1-auc:0.94872\n",
      "[3]\tvalidation_0-auc:0.94994\tvalidation_1-auc:0.97863\n",
      "[4]\tvalidation_0-auc:0.94536\tvalidation_1-auc:0.95726\n",
      "[5]\tvalidation_0-auc:0.95208\tvalidation_1-auc:0.97436\n",
      "[6]\tvalidation_0-auc:0.95147\tvalidation_1-auc:0.98291\n",
      "[7]\tvalidation_0-auc:0.95910\tvalidation_1-auc:0.97436\n",
      "[8]\tvalidation_0-auc:0.95788\tvalidation_1-auc:0.96581\n",
      "[9]\tvalidation_0-auc:0.95849\tvalidation_1-auc:0.96581\n",
      "[10]\tvalidation_0-auc:0.97192\tvalidation_1-auc:0.96581\n",
      "[11]\tvalidation_0-auc:0.97192\tvalidation_1-auc:0.96581\n",
      "[12]\tvalidation_0-auc:0.97192\tvalidation_1-auc:0.97436\n",
      "[13]\tvalidation_0-auc:0.97131\tvalidation_1-auc:0.97436\n",
      "[14]\tvalidation_0-auc:0.97131\tvalidation_1-auc:0.96581\n",
      "[15]\tvalidation_0-auc:0.98107\tvalidation_1-auc:0.97436\n",
      "[16]\tvalidation_0-auc:0.98352\tvalidation_1-auc:0.97436\n",
      "[17]\tvalidation_0-auc:0.97985\tvalidation_1-auc:0.96581\n",
      "[18]\tvalidation_0-auc:0.98230\tvalidation_1-auc:0.95726\n",
      "[19]\tvalidation_0-auc:0.98291\tvalidation_1-auc:0.96581\n",
      "[20]\tvalidation_0-auc:0.98230\tvalidation_1-auc:0.96581\n",
      "[21]\tvalidation_0-auc:0.97924\tvalidation_1-auc:0.96581\n",
      "[22]\tvalidation_0-auc:0.97924\tvalidation_1-auc:0.95726\n",
      "[23]\tvalidation_0-auc:0.97802\tvalidation_1-auc:0.96581\n",
      "[24]\tvalidation_0-auc:0.97985\tvalidation_1-auc:0.96581\n",
      "[25]\tvalidation_0-auc:0.98230\tvalidation_1-auc:0.96581\n",
      "[26]\tvalidation_0-auc:0.98352\tvalidation_1-auc:0.96581\n",
      "[27]\tvalidation_0-auc:0.98474\tvalidation_1-auc:0.96581\n",
      "[28]\tvalidation_0-auc:0.98535\tvalidation_1-auc:0.96581\n",
      "[29]\tvalidation_0-auc:0.98474\tvalidation_1-auc:0.96581\n",
      "[30]\tvalidation_0-auc:0.98474\tvalidation_1-auc:0.95726\n",
      "[31]\tvalidation_0-auc:0.98230\tvalidation_1-auc:0.95726\n",
      "[32]\tvalidation_0-auc:0.98230\tvalidation_1-auc:0.94872\n"
     ]
    },
    {
     "name": "stderr",
     "output_type": "stream",
     "text": [
      "c:\\Users\\wndgj\\AppData\\Local\\Programs\\Python\\Python310\\lib\\site-packages\\xgboost\\sklearn.py:793: UserWarning: `eval_metric` in `fit` method is deprecated for better compatibility with scikit-learn, use `eval_metric` in constructor or`set_params` instead.\n",
      "  warnings.warn(\n",
      "c:\\Users\\wndgj\\AppData\\Local\\Programs\\Python\\Python310\\lib\\site-packages\\xgboost\\sklearn.py:793: UserWarning: `early_stopping_rounds` in `fit` method is deprecated for better compatibility with scikit-learn, use `early_stopping_rounds` in constructor or`set_params` instead.\n",
      "  warnings.warn(\n"
     ]
    },
    {
     "name": "stdout",
     "output_type": "stream",
     "text": [
      "[33]\tvalidation_0-auc:0.98413\tvalidation_1-auc:0.94872\n",
      "[34]\tvalidation_0-auc:0.98291\tvalidation_1-auc:0.94872\n",
      "[35]\tvalidation_0-auc:0.98413\tvalidation_1-auc:0.94872\n",
      "[36]\tvalidation_0-auc:0.98291\tvalidation_1-auc:0.94872\n",
      "[0]\tvalidation_0-auc:0.96306\tvalidation_1-auc:0.94872\n",
      "[1]\tvalidation_0-auc:0.96306\tvalidation_1-auc:0.95726\n",
      "[2]\tvalidation_0-auc:0.96062\tvalidation_1-auc:0.94444\n",
      "[3]\tvalidation_0-auc:0.96123\tvalidation_1-auc:0.94444\n",
      "[4]\tvalidation_0-auc:0.97009\tvalidation_1-auc:0.94017\n",
      "[5]\tvalidation_0-auc:0.97497\tvalidation_1-auc:0.94017\n",
      "[6]\tvalidation_0-auc:0.98291\tvalidation_1-auc:0.97009\n",
      "[7]\tvalidation_0-auc:0.98901\tvalidation_1-auc:0.97009\n",
      "[8]\tvalidation_0-auc:0.98535\tvalidation_1-auc:0.96154\n",
      "[9]\tvalidation_0-auc:0.98657\tvalidation_1-auc:0.97009\n",
      "[10]\tvalidation_0-auc:0.98779\tvalidation_1-auc:0.97863\n",
      "[11]\tvalidation_0-auc:0.98718\tvalidation_1-auc:0.97009\n",
      "[12]\tvalidation_0-auc:0.98596\tvalidation_1-auc:0.97009\n",
      "[13]\tvalidation_0-auc:0.98596\tvalidation_1-auc:0.97009\n",
      "[14]\tvalidation_0-auc:0.98718\tvalidation_1-auc:0.97009\n",
      "[15]\tvalidation_0-auc:0.98657\tvalidation_1-auc:0.97009\n",
      "[16]\tvalidation_0-auc:0.98718\tvalidation_1-auc:0.97009\n",
      "[17]\tvalidation_0-auc:0.98718\tvalidation_1-auc:0.97009\n",
      "[18]\tvalidation_0-auc:0.98779\tvalidation_1-auc:0.97009\n",
      "[19]\tvalidation_0-auc:0.99023\tvalidation_1-auc:0.97009\n",
      "[20]\tvalidation_0-auc:0.98535\tvalidation_1-auc:0.97009\n",
      "[21]\tvalidation_0-auc:0.99054\tvalidation_1-auc:0.96581\n",
      "[22]\tvalidation_0-auc:0.98565\tvalidation_1-auc:0.96581\n",
      "[23]\tvalidation_0-auc:0.98565\tvalidation_1-auc:0.96581\n",
      "[24]\tvalidation_0-auc:0.99054\tvalidation_1-auc:0.96581\n",
      "[25]\tvalidation_0-auc:0.98565\tvalidation_1-auc:0.96581\n",
      "[26]\tvalidation_0-auc:0.98810\tvalidation_1-auc:0.96581\n",
      "[27]\tvalidation_0-auc:0.98810\tvalidation_1-auc:0.96581\n",
      "[28]\tvalidation_0-auc:0.99054\tvalidation_1-auc:0.96581\n",
      "[29]\tvalidation_0-auc:0.98810\tvalidation_1-auc:0.96581\n",
      "[30]\tvalidation_0-auc:0.98810\tvalidation_1-auc:0.96581\n",
      "[31]\tvalidation_0-auc:0.98810\tvalidation_1-auc:0.96581\n",
      "[32]\tvalidation_0-auc:0.99054\tvalidation_1-auc:0.96581\n",
      "[33]\tvalidation_0-auc:0.98810\tvalidation_1-auc:0.96581\n"
     ]
    },
    {
     "name": "stderr",
     "output_type": "stream",
     "text": [
      "c:\\Users\\wndgj\\AppData\\Local\\Programs\\Python\\Python310\\lib\\site-packages\\xgboost\\sklearn.py:793: UserWarning: `eval_metric` in `fit` method is deprecated for better compatibility with scikit-learn, use `eval_metric` in constructor or`set_params` instead.\n",
      "  warnings.warn(\n",
      "c:\\Users\\wndgj\\AppData\\Local\\Programs\\Python\\Python310\\lib\\site-packages\\xgboost\\sklearn.py:793: UserWarning: `early_stopping_rounds` in `fit` method is deprecated for better compatibility with scikit-learn, use `early_stopping_rounds` in constructor or`set_params` instead.\n",
      "  warnings.warn(\n"
     ]
    },
    {
     "name": "stdout",
     "output_type": "stream",
     "text": [
      "[34]\tvalidation_0-auc:0.99054\tvalidation_1-auc:0.96581\n",
      "[35]\tvalidation_0-auc:0.98810\tvalidation_1-auc:0.96581\n",
      "[36]\tvalidation_0-auc:0.99054\tvalidation_1-auc:0.96581\n",
      "[37]\tvalidation_0-auc:0.98810\tvalidation_1-auc:0.96581\n",
      "[38]\tvalidation_0-auc:0.99054\tvalidation_1-auc:0.96581\n",
      "[39]\tvalidation_0-auc:0.98810\tvalidation_1-auc:0.96581\n",
      "[0]\tvalidation_0-auc:0.95513\tvalidation_1-auc:0.96154\n",
      "[1]\tvalidation_0-auc:0.91819\tvalidation_1-auc:0.93162\n",
      "[2]\tvalidation_0-auc:0.93315\tvalidation_1-auc:0.93590\n",
      "[3]\tvalidation_0-auc:0.93864\tvalidation_1-auc:0.97436\n",
      "[4]\tvalidation_0-auc:0.94231\tvalidation_1-auc:0.97436\n",
      "[5]\tvalidation_0-auc:0.96306\tvalidation_1-auc:0.97436\n",
      "[6]\tvalidation_0-auc:0.96062\tvalidation_1-auc:0.97436\n",
      "[7]\tvalidation_0-auc:0.96612\tvalidation_1-auc:0.97436\n",
      "[8]\tvalidation_0-auc:0.97161\tvalidation_1-auc:0.97436\n",
      "[9]\tvalidation_0-auc:0.97650\tvalidation_1-auc:0.97436\n",
      "[10]\tvalidation_0-auc:0.97466\tvalidation_1-auc:0.97436\n",
      "[11]\tvalidation_0-auc:0.97924\tvalidation_1-auc:0.97436\n",
      "[12]\tvalidation_0-auc:0.97863\tvalidation_1-auc:0.96581\n",
      "[13]\tvalidation_0-auc:0.97802\tvalidation_1-auc:0.96581\n",
      "[14]\tvalidation_0-auc:0.97924\tvalidation_1-auc:0.96581\n",
      "[15]\tvalidation_0-auc:0.97924\tvalidation_1-auc:0.96581\n",
      "[16]\tvalidation_0-auc:0.98168\tvalidation_1-auc:0.96581\n",
      "[17]\tvalidation_0-auc:0.98046\tvalidation_1-auc:0.96581\n",
      "[18]\tvalidation_0-auc:0.97863\tvalidation_1-auc:0.96581\n",
      "[19]\tvalidation_0-auc:0.97924\tvalidation_1-auc:0.96581\n",
      "[20]\tvalidation_0-auc:0.97863\tvalidation_1-auc:0.96581\n",
      "[21]\tvalidation_0-auc:0.97924\tvalidation_1-auc:0.95726\n",
      "[22]\tvalidation_0-auc:0.97863\tvalidation_1-auc:0.95726\n",
      "[23]\tvalidation_0-auc:0.98107\tvalidation_1-auc:0.95726\n",
      "[24]\tvalidation_0-auc:0.98046\tvalidation_1-auc:0.95726\n",
      "[25]\tvalidation_0-auc:0.97985\tvalidation_1-auc:0.95726\n",
      "[26]\tvalidation_0-auc:0.97863\tvalidation_1-auc:0.95726\n",
      "[27]\tvalidation_0-auc:0.97863\tvalidation_1-auc:0.95726\n",
      "[28]\tvalidation_0-auc:0.97802\tvalidation_1-auc:0.95726\n",
      "[29]\tvalidation_0-auc:0.97802\tvalidation_1-auc:0.95726\n",
      "[30]\tvalidation_0-auc:0.97741\tvalidation_1-auc:0.95726\n",
      "[31]\tvalidation_0-auc:0.97741\tvalidation_1-auc:0.94872\n",
      "[32]\tvalidation_0-auc:0.97741\tvalidation_1-auc:0.94872\n",
      "[33]\tvalidation_0-auc:0.97741\tvalidation_1-auc:0.94872\n"
     ]
    },
    {
     "name": "stderr",
     "output_type": "stream",
     "text": [
      "c:\\Users\\wndgj\\AppData\\Local\\Programs\\Python\\Python310\\lib\\site-packages\\xgboost\\sklearn.py:793: UserWarning: `eval_metric` in `fit` method is deprecated for better compatibility with scikit-learn, use `eval_metric` in constructor or`set_params` instead.\n",
      "  warnings.warn(\n",
      "c:\\Users\\wndgj\\AppData\\Local\\Programs\\Python\\Python310\\lib\\site-packages\\xgboost\\sklearn.py:793: UserWarning: `early_stopping_rounds` in `fit` method is deprecated for better compatibility with scikit-learn, use `early_stopping_rounds` in constructor or`set_params` instead.\n",
      "  warnings.warn(\n",
      "c:\\Users\\wndgj\\AppData\\Local\\Programs\\Python\\Python310\\lib\\site-packages\\xgboost\\sklearn.py:793: UserWarning: `eval_metric` in `fit` method is deprecated for better compatibility with scikit-learn, use `eval_metric` in constructor or`set_params` instead.\n",
      "  warnings.warn(\n",
      "c:\\Users\\wndgj\\AppData\\Local\\Programs\\Python\\Python310\\lib\\site-packages\\xgboost\\sklearn.py:793: UserWarning: `early_stopping_rounds` in `fit` method is deprecated for better compatibility with scikit-learn, use `early_stopping_rounds` in constructor or`set_params` instead.\n",
      "  warnings.warn(\n"
     ]
    },
    {
     "name": "stdout",
     "output_type": "stream",
     "text": [
      "[0]\tvalidation_0-auc:0.77106\tvalidation_1-auc:0.71795\n",
      "[1]\tvalidation_0-auc:0.80556\tvalidation_1-auc:0.83333\n",
      "[2]\tvalidation_0-auc:0.82082\tvalidation_1-auc:0.83333\n",
      "[3]\tvalidation_0-auc:0.90629\tvalidation_1-auc:0.93162\n",
      "[4]\tvalidation_0-auc:0.90751\tvalidation_1-auc:0.89744\n",
      "[5]\tvalidation_0-auc:0.92033\tvalidation_1-auc:0.91453\n",
      "[6]\tvalidation_0-auc:0.91758\tvalidation_1-auc:0.91453\n",
      "[7]\tvalidation_0-auc:0.93223\tvalidation_1-auc:0.95726\n",
      "[8]\tvalidation_0-auc:0.92857\tvalidation_1-auc:0.94017\n",
      "[9]\tvalidation_0-auc:0.92735\tvalidation_1-auc:0.92308\n",
      "[10]\tvalidation_0-auc:0.93834\tvalidation_1-auc:0.94017\n",
      "[11]\tvalidation_0-auc:0.94475\tvalidation_1-auc:0.94017\n",
      "[12]\tvalidation_0-auc:0.94231\tvalidation_1-auc:0.94017\n",
      "[13]\tvalidation_0-auc:0.94048\tvalidation_1-auc:0.93162\n",
      "[14]\tvalidation_0-auc:0.94353\tvalidation_1-auc:0.93162\n",
      "[15]\tvalidation_0-auc:0.94628\tvalidation_1-auc:0.93162\n",
      "[16]\tvalidation_0-auc:0.94872\tvalidation_1-auc:0.93162\n",
      "[17]\tvalidation_0-auc:0.94444\tvalidation_1-auc:0.90598\n",
      "[18]\tvalidation_0-auc:0.94444\tvalidation_1-auc:0.90598\n",
      "[19]\tvalidation_0-auc:0.94628\tvalidation_1-auc:0.90598\n",
      "[20]\tvalidation_0-auc:0.94383\tvalidation_1-auc:0.90598\n",
      "[21]\tvalidation_0-auc:0.94261\tvalidation_1-auc:0.90598\n",
      "[22]\tvalidation_0-auc:0.94231\tvalidation_1-auc:0.90598\n",
      "[23]\tvalidation_0-auc:0.94231\tvalidation_1-auc:0.90598\n",
      "[24]\tvalidation_0-auc:0.94231\tvalidation_1-auc:0.90598\n",
      "[25]\tvalidation_0-auc:0.93987\tvalidation_1-auc:0.89744\n",
      "[26]\tvalidation_0-auc:0.94170\tvalidation_1-auc:0.89744\n",
      "[27]\tvalidation_0-auc:0.94231\tvalidation_1-auc:0.89744\n",
      "[28]\tvalidation_0-auc:0.94170\tvalidation_1-auc:0.89744\n",
      "[29]\tvalidation_0-auc:0.94231\tvalidation_1-auc:0.89744\n",
      "[30]\tvalidation_0-auc:0.94170\tvalidation_1-auc:0.89744\n",
      "[31]\tvalidation_0-auc:0.94353\tvalidation_1-auc:0.89744\n",
      "[32]\tvalidation_0-auc:0.94353\tvalidation_1-auc:0.89744\n",
      "[33]\tvalidation_0-auc:0.94414\tvalidation_1-auc:0.90598\n",
      "[34]\tvalidation_0-auc:0.94475\tvalidation_1-auc:0.90598\n",
      "[35]\tvalidation_0-auc:0.94475\tvalidation_1-auc:0.90598\n",
      "[36]\tvalidation_0-auc:0.94475\tvalidation_1-auc:0.90598\n",
      "[37]\tvalidation_0-auc:0.94475\tvalidation_1-auc:0.90598\n",
      "[0]\tvalidation_0-auc:0.90385\tvalidation_1-auc:0.86325\n",
      "[1]\tvalidation_0-auc:0.92155\tvalidation_1-auc:0.85470\n",
      "[2]\tvalidation_0-auc:0.96276\tvalidation_1-auc:0.87607\n",
      "[3]\tvalidation_0-auc:0.98901\tvalidation_1-auc:0.92735\n",
      "[4]\tvalidation_0-auc:0.98901\tvalidation_1-auc:0.92735\n",
      "[5]\tvalidation_0-auc:0.98718\tvalidation_1-auc:0.92735\n",
      "[6]\tvalidation_0-auc:0.98962\tvalidation_1-auc:0.91880\n",
      "[7]\tvalidation_0-auc:0.99389\tvalidation_1-auc:0.92735\n",
      "[8]\tvalidation_0-auc:0.99451\tvalidation_1-auc:0.92308\n",
      "[9]\tvalidation_0-auc:0.99878\tvalidation_1-auc:0.94872\n",
      "[10]\tvalidation_0-auc:0.99756\tvalidation_1-auc:0.94872\n",
      "[11]\tvalidation_0-auc:0.99878\tvalidation_1-auc:0.94872\n",
      "[12]\tvalidation_0-auc:0.99939\tvalidation_1-auc:0.95726\n",
      "[13]\tvalidation_0-auc:0.99939\tvalidation_1-auc:0.95726\n",
      "[14]\tvalidation_0-auc:0.99939\tvalidation_1-auc:0.95726\n",
      "[15]\tvalidation_0-auc:0.99939\tvalidation_1-auc:0.95726\n",
      "[16]\tvalidation_0-auc:0.99939\tvalidation_1-auc:0.95726\n",
      "[17]\tvalidation_0-auc:0.99939\tvalidation_1-auc:0.95726\n",
      "[18]\tvalidation_0-auc:1.00000\tvalidation_1-auc:0.95726\n",
      "[19]\tvalidation_0-auc:1.00000\tvalidation_1-auc:0.95726\n",
      "[20]\tvalidation_0-auc:1.00000\tvalidation_1-auc:0.95726\n",
      "[21]\tvalidation_0-auc:1.00000\tvalidation_1-auc:0.95726\n",
      "[22]\tvalidation_0-auc:1.00000\tvalidation_1-auc:0.95726\n",
      "[23]\tvalidation_0-auc:1.00000\tvalidation_1-auc:0.95726\n",
      "[24]\tvalidation_0-auc:1.00000\tvalidation_1-auc:0.95726\n",
      "[25]\tvalidation_0-auc:1.00000\tvalidation_1-auc:0.95726\n",
      "[26]\tvalidation_0-auc:1.00000\tvalidation_1-auc:0.95726\n",
      "[27]\tvalidation_0-auc:1.00000\tvalidation_1-auc:0.95726\n",
      "[28]\tvalidation_0-auc:1.00000\tvalidation_1-auc:0.95726\n",
      "[29]\tvalidation_0-auc:1.00000\tvalidation_1-auc:0.95726\n",
      "[30]\tvalidation_0-auc:1.00000\tvalidation_1-auc:0.95726\n",
      "[31]\tvalidation_0-auc:1.00000\tvalidation_1-auc:0.95726\n",
      "[32]\tvalidation_0-auc:1.00000\tvalidation_1-auc:0.95726\n",
      "[33]\tvalidation_0-auc:1.00000\tvalidation_1-auc:0.95726\n",
      "[34]\tvalidation_0-auc:1.00000\tvalidation_1-auc:0.95726\n",
      "[35]\tvalidation_0-auc:1.00000\tvalidation_1-auc:0.95726\n"
     ]
    },
    {
     "name": "stderr",
     "output_type": "stream",
     "text": [
      "c:\\Users\\wndgj\\AppData\\Local\\Programs\\Python\\Python310\\lib\\site-packages\\xgboost\\sklearn.py:793: UserWarning: `eval_metric` in `fit` method is deprecated for better compatibility with scikit-learn, use `eval_metric` in constructor or`set_params` instead.\n",
      "  warnings.warn(\n",
      "c:\\Users\\wndgj\\AppData\\Local\\Programs\\Python\\Python310\\lib\\site-packages\\xgboost\\sklearn.py:793: UserWarning: `early_stopping_rounds` in `fit` method is deprecated for better compatibility with scikit-learn, use `early_stopping_rounds` in constructor or`set_params` instead.\n",
      "  warnings.warn(\n"
     ]
    },
    {
     "name": "stdout",
     "output_type": "stream",
     "text": [
      "[36]\tvalidation_0-auc:1.00000\tvalidation_1-auc:0.95726\n",
      "[37]\tvalidation_0-auc:1.00000\tvalidation_1-auc:0.95726\n",
      "[38]\tvalidation_0-auc:1.00000\tvalidation_1-auc:0.95726\n",
      "[39]\tvalidation_0-auc:1.00000\tvalidation_1-auc:0.95726\n",
      "[40]\tvalidation_0-auc:1.00000\tvalidation_1-auc:0.95726\n",
      "[41]\tvalidation_0-auc:1.00000\tvalidation_1-auc:0.95726\n",
      "GridSearchCV 최적 파라미터: {'colsample_bytree': 0.5, 'max_depth': 5, 'min_child_weight': 1}\n",
      "ROC AUC: 0.9573\n"
     ]
    }
   ],
   "source": [
    "from sklearn.model_selection import GridSearchCV\n",
    "\n",
    "xgb_clf = XGBClassifier(n_estimators=100)\n",
    "\n",
    "params = {'max_depth':[5,7], 'min_child_weight':[1, 3], 'colsample_bytree':[0.5, 0.75]}\n",
    "\n",
    "gridcv = GridSearchCV(xgb_clf, param_grid=params, cv=3)\n",
    "gridcv.fit(X_train, y_train, early_stopping_rounds=30, eval_metric=\"auc\", \n",
    "           eval_set=[(X_train, y_train), (X_test, y_test)])\n",
    "\n",
    "print('GridSearchCV 최적 파라미터:', gridcv.best_params_)\n",
    "\n",
    "xgb_roc_score = roc_auc_score(y_test, gridcv.predict_proba(X_test)[:, 1], average='macro')\n",
    "print('ROC AUC: {0:.4f}'.format(xgb_roc_score))"
   ]
  },
  {
   "cell_type": "code",
   "execution_count": 128,
   "metadata": {},
   "outputs": [
    {
     "name": "stdout",
     "output_type": "stream",
     "text": [
      "[18:23:53] WARNING: C:/Users/Administrator/workspace/xgboost-win64_release_1.6.0/src/learner.cc:627: \n",
      "Parameters: { \"learning_reate\" } might not be used.\n",
      "\n",
      "  This could be a false alarm, with some parameters getting used by language bindings but\n",
      "  then being mistakenly passed down to XGBoost core, or some parameter actually being used\n",
      "  but getting flagged wrongly here. Please open an issue if you find any such cases.\n",
      "\n",
      "\n",
      "[0]\tvalidation_0-auc:0.92063\tvalidation_1-auc:0.69658\n",
      "[1]\tvalidation_0-auc:0.99084\tvalidation_1-auc:0.86752\n",
      "[2]\tvalidation_0-auc:0.99267\tvalidation_1-auc:0.86325\n",
      "[3]\tvalidation_0-auc:0.99878\tvalidation_1-auc:0.84615\n",
      "[4]\tvalidation_0-auc:0.99939\tvalidation_1-auc:0.90598\n",
      "[5]\tvalidation_0-auc:0.99939\tvalidation_1-auc:0.94872\n",
      "[6]\tvalidation_0-auc:0.99939\tvalidation_1-auc:0.95726\n",
      "[7]\tvalidation_0-auc:0.99939\tvalidation_1-auc:0.95726\n",
      "[8]\tvalidation_0-auc:0.99939\tvalidation_1-auc:0.96581\n",
      "[9]\tvalidation_0-auc:0.99939\tvalidation_1-auc:0.96581\n",
      "[10]\tvalidation_0-auc:0.99939\tvalidation_1-auc:0.96581\n",
      "[11]\tvalidation_0-auc:1.00000\tvalidation_1-auc:0.97436\n",
      "[12]\tvalidation_0-auc:1.00000\tvalidation_1-auc:0.97436\n",
      "[13]\tvalidation_0-auc:1.00000\tvalidation_1-auc:0.97436\n",
      "[14]\tvalidation_0-auc:1.00000\tvalidation_1-auc:0.97436\n",
      "[15]\tvalidation_0-auc:1.00000\tvalidation_1-auc:0.97436\n",
      "[16]\tvalidation_0-auc:1.00000\tvalidation_1-auc:0.97436\n",
      "[17]\tvalidation_0-auc:1.00000\tvalidation_1-auc:0.97436\n",
      "[18]\tvalidation_0-auc:1.00000\tvalidation_1-auc:0.97436\n",
      "[19]\tvalidation_0-auc:1.00000\tvalidation_1-auc:0.97436\n",
      "[20]\tvalidation_0-auc:1.00000\tvalidation_1-auc:0.97436\n",
      "[21]\tvalidation_0-auc:1.00000\tvalidation_1-auc:0.97436\n",
      "[22]\tvalidation_0-auc:1.00000\tvalidation_1-auc:0.96581\n",
      "[23]\tvalidation_0-auc:1.00000\tvalidation_1-auc:0.96581\n",
      "[24]\tvalidation_0-auc:1.00000\tvalidation_1-auc:0.96581\n",
      "[25]\tvalidation_0-auc:1.00000\tvalidation_1-auc:0.96581\n",
      "[26]\tvalidation_0-auc:1.00000\tvalidation_1-auc:0.96581\n",
      "[27]\tvalidation_0-auc:1.00000\tvalidation_1-auc:0.96581\n",
      "[28]\tvalidation_0-auc:1.00000\tvalidation_1-auc:0.96581\n",
      "[29]\tvalidation_0-auc:1.00000\tvalidation_1-auc:0.96581\n",
      "[30]\tvalidation_0-auc:1.00000\tvalidation_1-auc:0.96581\n",
      "[31]\tvalidation_0-auc:1.00000\tvalidation_1-auc:0.97436\n",
      "[32]\tvalidation_0-auc:1.00000\tvalidation_1-auc:0.96581\n",
      "[33]\tvalidation_0-auc:1.00000\tvalidation_1-auc:0.96581\n",
      "[34]\tvalidation_0-auc:1.00000\tvalidation_1-auc:0.96581\n"
     ]
    },
    {
     "name": "stderr",
     "output_type": "stream",
     "text": [
      "c:\\Users\\wndgj\\AppData\\Local\\Programs\\Python\\Python310\\lib\\site-packages\\xgboost\\sklearn.py:793: UserWarning: `eval_metric` in `fit` method is deprecated for better compatibility with scikit-learn, use `eval_metric` in constructor or`set_params` instead.\n",
      "  warnings.warn(\n",
      "c:\\Users\\wndgj\\AppData\\Local\\Programs\\Python\\Python310\\lib\\site-packages\\xgboost\\sklearn.py:793: UserWarning: `early_stopping_rounds` in `fit` method is deprecated for better compatibility with scikit-learn, use `early_stopping_rounds` in constructor or`set_params` instead.\n",
      "  warnings.warn(\n"
     ]
    },
    {
     "name": "stdout",
     "output_type": "stream",
     "text": [
      "[35]\tvalidation_0-auc:1.00000\tvalidation_1-auc:0.96581\n",
      "[36]\tvalidation_0-auc:1.00000\tvalidation_1-auc:0.96581\n",
      "[37]\tvalidation_0-auc:1.00000\tvalidation_1-auc:0.96581\n",
      "[38]\tvalidation_0-auc:1.00000\tvalidation_1-auc:0.96581\n",
      "[39]\tvalidation_0-auc:1.00000\tvalidation_1-auc:0.96581\n",
      "[40]\tvalidation_0-auc:1.00000\tvalidation_1-auc:0.96581\n",
      "[41]\tvalidation_0-auc:1.00000\tvalidation_1-auc:0.96581\n",
      "[42]\tvalidation_0-auc:1.00000\tvalidation_1-auc:0.96581\n",
      "[43]\tvalidation_0-auc:1.00000\tvalidation_1-auc:0.96581\n",
      "[44]\tvalidation_0-auc:1.00000\tvalidation_1-auc:0.96581\n",
      "[45]\tvalidation_0-auc:1.00000\tvalidation_1-auc:0.96581\n",
      "[46]\tvalidation_0-auc:1.00000\tvalidation_1-auc:0.96581\n",
      "[47]\tvalidation_0-auc:1.00000\tvalidation_1-auc:0.96581\n",
      "[48]\tvalidation_0-auc:1.00000\tvalidation_1-auc:0.96581\n",
      "[49]\tvalidation_0-auc:1.00000\tvalidation_1-auc:0.96581\n",
      "[50]\tvalidation_0-auc:1.00000\tvalidation_1-auc:0.96581\n",
      "[51]\tvalidation_0-auc:1.00000\tvalidation_1-auc:0.96581\n",
      "[52]\tvalidation_0-auc:1.00000\tvalidation_1-auc:0.96581\n",
      "[53]\tvalidation_0-auc:1.00000\tvalidation_1-auc:0.96581\n",
      "[54]\tvalidation_0-auc:1.00000\tvalidation_1-auc:0.96581\n",
      "[55]\tvalidation_0-auc:1.00000\tvalidation_1-auc:0.96581\n",
      "[56]\tvalidation_0-auc:1.00000\tvalidation_1-auc:0.96581\n",
      "[57]\tvalidation_0-auc:1.00000\tvalidation_1-auc:0.96581\n",
      "[58]\tvalidation_0-auc:1.00000\tvalidation_1-auc:0.96581\n",
      "[59]\tvalidation_0-auc:1.00000\tvalidation_1-auc:0.96581\n",
      "[60]\tvalidation_0-auc:1.00000\tvalidation_1-auc:0.96581\n",
      "[61]\tvalidation_0-auc:1.00000\tvalidation_1-auc:0.96581\n",
      "[62]\tvalidation_0-auc:1.00000\tvalidation_1-auc:0.96581\n",
      "[63]\tvalidation_0-auc:1.00000\tvalidation_1-auc:0.96581\n",
      "[64]\tvalidation_0-auc:1.00000\tvalidation_1-auc:0.96581\n",
      "[65]\tvalidation_0-auc:1.00000\tvalidation_1-auc:0.96581\n",
      "[66]\tvalidation_0-auc:1.00000\tvalidation_1-auc:0.96581\n",
      "[67]\tvalidation_0-auc:1.00000\tvalidation_1-auc:0.96581\n",
      "[68]\tvalidation_0-auc:1.00000\tvalidation_1-auc:0.96581\n",
      "[69]\tvalidation_0-auc:1.00000\tvalidation_1-auc:0.96581\n",
      "[70]\tvalidation_0-auc:1.00000\tvalidation_1-auc:0.96581\n",
      "[71]\tvalidation_0-auc:1.00000\tvalidation_1-auc:0.96581\n",
      "[72]\tvalidation_0-auc:1.00000\tvalidation_1-auc:0.96581\n",
      "[73]\tvalidation_0-auc:1.00000\tvalidation_1-auc:0.96581\n",
      "[74]\tvalidation_0-auc:1.00000\tvalidation_1-auc:0.96581\n",
      "[75]\tvalidation_0-auc:1.00000\tvalidation_1-auc:0.96581\n",
      "[76]\tvalidation_0-auc:1.00000\tvalidation_1-auc:0.96581\n",
      "[77]\tvalidation_0-auc:1.00000\tvalidation_1-auc:0.96581\n",
      "[78]\tvalidation_0-auc:1.00000\tvalidation_1-auc:0.96581\n",
      "[79]\tvalidation_0-auc:1.00000\tvalidation_1-auc:0.96581\n",
      "[80]\tvalidation_0-auc:1.00000\tvalidation_1-auc:0.96581\n",
      "[81]\tvalidation_0-auc:1.00000\tvalidation_1-auc:0.96581\n",
      "[82]\tvalidation_0-auc:1.00000\tvalidation_1-auc:0.96581\n",
      "[83]\tvalidation_0-auc:1.00000\tvalidation_1-auc:0.96581\n",
      "[84]\tvalidation_0-auc:1.00000\tvalidation_1-auc:0.96581\n",
      "[85]\tvalidation_0-auc:1.00000\tvalidation_1-auc:0.96581\n",
      "[86]\tvalidation_0-auc:1.00000\tvalidation_1-auc:0.96581\n",
      "[87]\tvalidation_0-auc:1.00000\tvalidation_1-auc:0.96581\n",
      "[88]\tvalidation_0-auc:1.00000\tvalidation_1-auc:0.96581\n",
      "[89]\tvalidation_0-auc:1.00000\tvalidation_1-auc:0.96581\n",
      "[90]\tvalidation_0-auc:1.00000\tvalidation_1-auc:0.96581\n",
      "[91]\tvalidation_0-auc:1.00000\tvalidation_1-auc:0.96581\n",
      "[92]\tvalidation_0-auc:1.00000\tvalidation_1-auc:0.96581\n",
      "[93]\tvalidation_0-auc:1.00000\tvalidation_1-auc:0.96581\n",
      "[94]\tvalidation_0-auc:1.00000\tvalidation_1-auc:0.96581\n",
      "[95]\tvalidation_0-auc:1.00000\tvalidation_1-auc:0.96581\n",
      "[96]\tvalidation_0-auc:1.00000\tvalidation_1-auc:0.96581\n",
      "[97]\tvalidation_0-auc:1.00000\tvalidation_1-auc:0.96581\n",
      "[98]\tvalidation_0-auc:1.00000\tvalidation_1-auc:0.96581\n",
      "[99]\tvalidation_0-auc:1.00000\tvalidation_1-auc:0.96581\n",
      "[100]\tvalidation_0-auc:1.00000\tvalidation_1-auc:0.96581\n",
      "[101]\tvalidation_0-auc:1.00000\tvalidation_1-auc:0.96581\n",
      "[102]\tvalidation_0-auc:1.00000\tvalidation_1-auc:0.96581\n",
      "[103]\tvalidation_0-auc:1.00000\tvalidation_1-auc:0.96581\n",
      "[104]\tvalidation_0-auc:1.00000\tvalidation_1-auc:0.96581\n",
      "[105]\tvalidation_0-auc:1.00000\tvalidation_1-auc:0.96581\n",
      "[106]\tvalidation_0-auc:1.00000\tvalidation_1-auc:0.96581\n",
      "[107]\tvalidation_0-auc:1.00000\tvalidation_1-auc:0.96581\n",
      "[108]\tvalidation_0-auc:1.00000\tvalidation_1-auc:0.96581\n",
      "[109]\tvalidation_0-auc:1.00000\tvalidation_1-auc:0.96581\n",
      "[110]\tvalidation_0-auc:1.00000\tvalidation_1-auc:0.96581\n",
      "[111]\tvalidation_0-auc:1.00000\tvalidation_1-auc:0.96581\n",
      "[112]\tvalidation_0-auc:1.00000\tvalidation_1-auc:0.96581\n",
      "[113]\tvalidation_0-auc:1.00000\tvalidation_1-auc:0.96581\n",
      "[114]\tvalidation_0-auc:1.00000\tvalidation_1-auc:0.96581\n",
      "[115]\tvalidation_0-auc:1.00000\tvalidation_1-auc:0.96581\n",
      "[116]\tvalidation_0-auc:1.00000\tvalidation_1-auc:0.96581\n",
      "[117]\tvalidation_0-auc:1.00000\tvalidation_1-auc:0.96581\n",
      "[118]\tvalidation_0-auc:1.00000\tvalidation_1-auc:0.96581\n",
      "[119]\tvalidation_0-auc:1.00000\tvalidation_1-auc:0.96581\n",
      "[120]\tvalidation_0-auc:1.00000\tvalidation_1-auc:0.96581\n",
      "[121]\tvalidation_0-auc:1.00000\tvalidation_1-auc:0.96581\n",
      "[122]\tvalidation_0-auc:1.00000\tvalidation_1-auc:0.96581\n",
      "[123]\tvalidation_0-auc:1.00000\tvalidation_1-auc:0.96581\n",
      "[124]\tvalidation_0-auc:1.00000\tvalidation_1-auc:0.96581\n",
      "[125]\tvalidation_0-auc:1.00000\tvalidation_1-auc:0.96581\n",
      "[126]\tvalidation_0-auc:1.00000\tvalidation_1-auc:0.96581\n",
      "[127]\tvalidation_0-auc:1.00000\tvalidation_1-auc:0.96581\n",
      "[128]\tvalidation_0-auc:1.00000\tvalidation_1-auc:0.96581\n",
      "[129]\tvalidation_0-auc:1.00000\tvalidation_1-auc:0.96581\n",
      "[130]\tvalidation_0-auc:1.00000\tvalidation_1-auc:0.96581\n",
      "[131]\tvalidation_0-auc:1.00000\tvalidation_1-auc:0.96581\n",
      "[132]\tvalidation_0-auc:1.00000\tvalidation_1-auc:0.96581\n",
      "[133]\tvalidation_0-auc:1.00000\tvalidation_1-auc:0.96581\n",
      "[134]\tvalidation_0-auc:1.00000\tvalidation_1-auc:0.96581\n",
      "[135]\tvalidation_0-auc:1.00000\tvalidation_1-auc:0.96581\n",
      "[136]\tvalidation_0-auc:1.00000\tvalidation_1-auc:0.96581\n",
      "[137]\tvalidation_0-auc:1.00000\tvalidation_1-auc:0.96581\n",
      "[138]\tvalidation_0-auc:1.00000\tvalidation_1-auc:0.96581\n",
      "[139]\tvalidation_0-auc:1.00000\tvalidation_1-auc:0.96581\n",
      "[140]\tvalidation_0-auc:1.00000\tvalidation_1-auc:0.96581\n",
      "[141]\tvalidation_0-auc:1.00000\tvalidation_1-auc:0.96581\n",
      "[142]\tvalidation_0-auc:1.00000\tvalidation_1-auc:0.96581\n",
      "[143]\tvalidation_0-auc:1.00000\tvalidation_1-auc:0.96581\n",
      "[144]\tvalidation_0-auc:1.00000\tvalidation_1-auc:0.96581\n",
      "[145]\tvalidation_0-auc:1.00000\tvalidation_1-auc:0.96581\n",
      "[146]\tvalidation_0-auc:1.00000\tvalidation_1-auc:0.96581\n",
      "[147]\tvalidation_0-auc:1.00000\tvalidation_1-auc:0.96581\n",
      "[148]\tvalidation_0-auc:1.00000\tvalidation_1-auc:0.96581\n",
      "[149]\tvalidation_0-auc:1.00000\tvalidation_1-auc:0.96581\n",
      "[150]\tvalidation_0-auc:1.00000\tvalidation_1-auc:0.96581\n",
      "[151]\tvalidation_0-auc:1.00000\tvalidation_1-auc:0.96581\n",
      "[152]\tvalidation_0-auc:1.00000\tvalidation_1-auc:0.96581\n",
      "[153]\tvalidation_0-auc:1.00000\tvalidation_1-auc:0.96581\n",
      "[154]\tvalidation_0-auc:1.00000\tvalidation_1-auc:0.96581\n",
      "[155]\tvalidation_0-auc:1.00000\tvalidation_1-auc:0.96581\n",
      "[156]\tvalidation_0-auc:1.00000\tvalidation_1-auc:0.96581\n",
      "[157]\tvalidation_0-auc:1.00000\tvalidation_1-auc:0.96581\n",
      "[158]\tvalidation_0-auc:1.00000\tvalidation_1-auc:0.96581\n",
      "[159]\tvalidation_0-auc:1.00000\tvalidation_1-auc:0.96581\n",
      "[160]\tvalidation_0-auc:1.00000\tvalidation_1-auc:0.96581\n",
      "[161]\tvalidation_0-auc:1.00000\tvalidation_1-auc:0.96581\n",
      "[162]\tvalidation_0-auc:1.00000\tvalidation_1-auc:0.96581\n",
      "[163]\tvalidation_0-auc:1.00000\tvalidation_1-auc:0.96581\n",
      "[164]\tvalidation_0-auc:1.00000\tvalidation_1-auc:0.96581\n",
      "[165]\tvalidation_0-auc:1.00000\tvalidation_1-auc:0.96581\n",
      "[166]\tvalidation_0-auc:1.00000\tvalidation_1-auc:0.96581\n",
      "[167]\tvalidation_0-auc:1.00000\tvalidation_1-auc:0.96581\n",
      "[168]\tvalidation_0-auc:1.00000\tvalidation_1-auc:0.96581\n",
      "[169]\tvalidation_0-auc:1.00000\tvalidation_1-auc:0.96581\n",
      "[170]\tvalidation_0-auc:1.00000\tvalidation_1-auc:0.96581\n",
      "[171]\tvalidation_0-auc:1.00000\tvalidation_1-auc:0.96581\n",
      "[172]\tvalidation_0-auc:1.00000\tvalidation_1-auc:0.96581\n",
      "[173]\tvalidation_0-auc:1.00000\tvalidation_1-auc:0.96581\n",
      "[174]\tvalidation_0-auc:1.00000\tvalidation_1-auc:0.96581\n",
      "[175]\tvalidation_0-auc:1.00000\tvalidation_1-auc:0.96581\n",
      "[176]\tvalidation_0-auc:1.00000\tvalidation_1-auc:0.96581\n",
      "[177]\tvalidation_0-auc:1.00000\tvalidation_1-auc:0.96581\n",
      "[178]\tvalidation_0-auc:1.00000\tvalidation_1-auc:0.96581\n",
      "[179]\tvalidation_0-auc:1.00000\tvalidation_1-auc:0.96581\n",
      "[180]\tvalidation_0-auc:1.00000\tvalidation_1-auc:0.96581\n",
      "[181]\tvalidation_0-auc:1.00000\tvalidation_1-auc:0.96581\n",
      "[182]\tvalidation_0-auc:1.00000\tvalidation_1-auc:0.96581\n",
      "[183]\tvalidation_0-auc:1.00000\tvalidation_1-auc:0.96581\n",
      "[184]\tvalidation_0-auc:1.00000\tvalidation_1-auc:0.96581\n",
      "[185]\tvalidation_0-auc:1.00000\tvalidation_1-auc:0.96581\n",
      "[186]\tvalidation_0-auc:1.00000\tvalidation_1-auc:0.96581\n",
      "[187]\tvalidation_0-auc:1.00000\tvalidation_1-auc:0.96581\n",
      "[188]\tvalidation_0-auc:1.00000\tvalidation_1-auc:0.96581\n",
      "[189]\tvalidation_0-auc:1.00000\tvalidation_1-auc:0.96581\n",
      "[190]\tvalidation_0-auc:1.00000\tvalidation_1-auc:0.96581\n",
      "[191]\tvalidation_0-auc:1.00000\tvalidation_1-auc:0.96581\n",
      "[192]\tvalidation_0-auc:1.00000\tvalidation_1-auc:0.96581\n",
      "[193]\tvalidation_0-auc:1.00000\tvalidation_1-auc:0.96581\n",
      "[194]\tvalidation_0-auc:1.00000\tvalidation_1-auc:0.96581\n",
      "[195]\tvalidation_0-auc:1.00000\tvalidation_1-auc:0.96581\n",
      "[196]\tvalidation_0-auc:1.00000\tvalidation_1-auc:0.96581\n",
      "[197]\tvalidation_0-auc:1.00000\tvalidation_1-auc:0.96581\n",
      "[198]\tvalidation_0-auc:1.00000\tvalidation_1-auc:0.96581\n",
      "[199]\tvalidation_0-auc:1.00000\tvalidation_1-auc:0.96581\n",
      "[200]\tvalidation_0-auc:1.00000\tvalidation_1-auc:0.96581\n",
      "[201]\tvalidation_0-auc:1.00000\tvalidation_1-auc:0.96581\n",
      "[202]\tvalidation_0-auc:1.00000\tvalidation_1-auc:0.96581\n",
      "[203]\tvalidation_0-auc:1.00000\tvalidation_1-auc:0.96581\n",
      "[204]\tvalidation_0-auc:1.00000\tvalidation_1-auc:0.96581\n",
      "[205]\tvalidation_0-auc:1.00000\tvalidation_1-auc:0.96581\n",
      "[206]\tvalidation_0-auc:1.00000\tvalidation_1-auc:0.96581\n",
      "[207]\tvalidation_0-auc:1.00000\tvalidation_1-auc:0.96581\n",
      "[208]\tvalidation_0-auc:1.00000\tvalidation_1-auc:0.96581\n",
      "[209]\tvalidation_0-auc:1.00000\tvalidation_1-auc:0.96581\n",
      "[210]\tvalidation_0-auc:1.00000\tvalidation_1-auc:0.96581\n",
      "ROC AUC: 0.9744\n"
     ]
    }
   ],
   "source": [
    "xgb_clf = XGBClassifier(n_estimators=1000, random_state=11, learning_reate=0.02, max_depth=7, min_child_weight=1, colsample_bytree=0.75, reg_alpha=0.03)\n",
    "\n",
    "xgb_clf.fit(X_train, y_train, early_stopping_rounds=200, eval_metric=\"auc\", eval_set=[(X_train, y_train), (X_test, y_test)])\n",
    "\n",
    "xgb_roc_score = roc_auc_score(y_test, xgb_clf.predict_proba(X_test)[:, 1], average='macro')\n",
    "print('ROC AUC: {0:.4f}'.format(xgb_roc_score))"
   ]
  },
  {
   "cell_type": "code",
   "execution_count": 129,
   "metadata": {},
   "outputs": [
    {
     "data": {
      "text/plain": [
       "<AxesSubplot:title={'center':'Feature importance'}, xlabel='F score', ylabel='Features'>"
      ]
     },
     "execution_count": 129,
     "metadata": {},
     "output_type": "execute_result"
    },
    {
     "data": {
      "image/png": "[encoded data removed]",
      "text/plain": [
       "<Figure size 1152x720 with 1 Axes>"
      ]
     },
     "metadata": {
      "needs_background": "light"
     },
     "output_type": "display_data"
    }
   ],
   "source": [
    "from xgboost import plot_importance\n",
    "import matplotlib.pyplot as plt\n",
    "%matplotlib inline\n",
    "\n",
    "fig, ax = plt.subplots(1, 1, figsize=(16,10))\n",
    "plot_importance(xgb_clf, ax=ax)"
   ]
  },
  {
   "cell_type": "code",
   "execution_count": 22,
   "metadata": {},
   "outputs": [
    {
     "data": {
      "text/plain": [
       "<Figure size 1152x720 with 0 Axes>"
      ]
     },
     "metadata": {},
     "output_type": "display_data"
    }
   ],
   "source": [
    "from sklearn.tree import export_graphviz\n",
    "from sklearn import tree\n",
    "\n",
    "feature_names = [\"날짜\", \"등락률\", \"소비자물가지수\", \"소매판매지수\",  \"전년_동월_대비\"]\n",
    "target_names = [\"0\", \"1\"]\n",
    "\n",
    "plt.rcParams[\"font.family\"] = \"Malgun Gothic\"\n",
    "\n",
    "plt.figure(figsize=(16,10))\n",
    "export_graphviz(dt_clf, \n",
    "                out_file=\"tree_corona.dot\",\n",
    "                class_names=target_names, \n",
    "                feature_names=feature_names, \n",
    "                impurity=True, \n",
    "                filled=True, \n",
    "                rounded=True\n",
    "                )"
   ]
  },
  {
   "cell_type": "code",
   "execution_count": 23,
   "metadata": {},
   "outputs": [
    {
     "data": {
      "image/svg+xml": "<?xml version=\"1.0\" encoding=\"UTF-8\" standalone=\"no\"?>\n<!DOCTYPE svg PUBLIC \"-//W3C//DTD SVG 1.1//EN\"\n \"http://www.w3.org/Graphics/SVG/1.1/DTD/svg11.dtd\">\n<!-- Generated by graphviz version 4.0.0 (20220529.0937)\n -->\n<!-- Title: Tree Pages: 1 -->\n<svg width=\"791pt\" height=\"671pt\"\n viewBox=\"0.00 0.00 791.00 671.00\" xmlns=\"http://www.w3.org/2000/svg\" xmlns:xlink=\"http://www.w3.org/1999/xlink\">\n<g id=\"graph0\" class=\"graph\" transform=\"scale(1 1) rotate(0) translate(4 667)\">\n<title>Tree</title>\n<polygon fill=\"white\" stroke=\"transparent\" points=\"-4,4 -4,-667 787,-667 787,4 -4,4\"/>\n<!-- 0 -->\n<g id=\"node1\" class=\"node\">\n<title>0</title>\n<path fill=\"#88c4ef\" stroke=\"black\" d=\"M685,-663C685,-663 528,-663 528,-663 522,-663 516,-657 516,-651 516,-651 516,-592 516,-592 516,-586 522,-580 528,-580 528,-580 685,-580 685,-580 691,-580 697,-586 697,-592 697,-592 697,-651 697,-651 697,-657 691,-663 685,-663\"/>\n<text text-anchor=\"middle\" x=\"606.5\" y=\"-647.8\" font-family=\"Helvetica,sans-Serif\" font-size=\"14.00\">전년_동월_대비 &lt;= 0.5</text>\n<text text-anchor=\"middle\" x=\"606.5\" y=\"-632.8\" font-family=\"Helvetica,sans-Serif\" font-size=\"14.00\">gini = 0.408</text>\n<text text-anchor=\"middle\" x=\"606.5\" y=\"-617.8\" font-family=\"Helvetica,sans-Serif\" font-size=\"14.00\">samples = 84</text>\n<text text-anchor=\"middle\" x=\"606.5\" y=\"-602.8\" font-family=\"Helvetica,sans-Serif\" font-size=\"14.00\">value = [24, 60]</text>\n<text text-anchor=\"middle\" x=\"606.5\" y=\"-587.8\" font-family=\"Helvetica,sans-Serif\" font-size=\"14.00\">class = 1</text>\n</g>\n<!-- 1 -->\n<g id=\"node2\" class=\"node\">\n<title>1</title>\n<path fill=\"#fcefe6\" stroke=\"black\" d=\"M605,-544C605,-544 448,-544 448,-544 442,-544 436,-538 436,-532 436,-532 436,-473 436,-473 436,-467 442,-461 448,-461 448,-461 605,-461 605,-461 611,-461 617,-467 617,-473 617,-473 617,-532 617,-532 617,-538 611,-544 605,-544\"/>\n<text text-anchor=\"middle\" x=\"526.5\" y=\"-528.8\" font-family=\"Helvetica,sans-Serif\" font-size=\"14.00\">소매판매지수 &lt;= 0.016</text>\n<text text-anchor=\"middle\" x=\"526.5\" y=\"-513.8\" font-family=\"Helvetica,sans-Serif\" font-size=\"14.00\">gini = 0.498</text>\n<text text-anchor=\"middle\" x=\"526.5\" y=\"-498.8\" font-family=\"Helvetica,sans-Serif\" font-size=\"14.00\">samples = 45</text>\n<text text-anchor=\"middle\" x=\"526.5\" y=\"-483.8\" font-family=\"Helvetica,sans-Serif\" font-size=\"14.00\">value = [24, 21]</text>\n<text text-anchor=\"middle\" x=\"526.5\" y=\"-468.8\" font-family=\"Helvetica,sans-Serif\" font-size=\"14.00\">class = 0</text>\n</g>\n<!-- 0&#45;&gt;1 -->\n<g id=\"edge1\" class=\"edge\">\n<title>0&#45;&gt;1</title>\n<path fill=\"none\" stroke=\"black\" d=\"M578.74,-579.91C572.66,-571.01 566.16,-561.51 559.89,-552.33\"/>\n<polygon fill=\"black\" stroke=\"black\" points=\"562.74,-550.3 554.21,-544.02 556.96,-554.25 562.74,-550.3\"/>\n<text text-anchor=\"middle\" x=\"549.59\" y=\"-564.89\" font-family=\"Helvetica,sans-Serif\" font-size=\"14.00\">True</text>\n</g>\n<!-- 14 -->\n<g id=\"node15\" class=\"node\">\n<title>14</title>\n<path fill=\"#399de5\" stroke=\"black\" d=\"M728,-536.5C728,-536.5 647,-536.5 647,-536.5 641,-536.5 635,-530.5 635,-524.5 635,-524.5 635,-480.5 635,-480.5 635,-474.5 641,-468.5 647,-468.5 647,-468.5 728,-468.5 728,-468.5 734,-468.5 740,-474.5 740,-480.5 740,-480.5 740,-524.5 740,-524.5 740,-530.5 734,-536.5 728,-536.5\"/>\n<text text-anchor=\"middle\" x=\"687.5\" y=\"-521.3\" font-family=\"Helvetica,sans-Serif\" font-size=\"14.00\">gini = 0.0</text>\n<text text-anchor=\"middle\" x=\"687.5\" y=\"-506.3\" font-family=\"Helvetica,sans-Serif\" font-size=\"14.00\">samples = 39</text>\n<text text-anchor=\"middle\" x=\"687.5\" y=\"-491.3\" font-family=\"Helvetica,sans-Serif\" font-size=\"14.00\">value = [0, 39]</text>\n<text text-anchor=\"middle\" x=\"687.5\" y=\"-476.3\" font-family=\"Helvetica,sans-Serif\" font-size=\"14.00\">class = 1</text>\n</g>\n<!-- 0&#45;&gt;14 -->\n<g id=\"edge14\" class=\"edge\">\n<title>0&#45;&gt;14</title>\n<path fill=\"none\" stroke=\"black\" d=\"M634.6,-579.91C642.39,-568.65 650.86,-556.42 658.7,-545.11\"/>\n<polygon fill=\"black\" stroke=\"black\" points=\"661.72,-546.88 664.54,-536.67 655.97,-542.9 661.72,-546.88\"/>\n<text text-anchor=\"middle\" x=\"669.01\" y=\"-557.56\" font-family=\"Helvetica,sans-Serif\" font-size=\"14.00\">False</text>\n</g>\n<!-- 2 -->\n<g id=\"node3\" class=\"node\">\n<title>2</title>\n<path fill=\"#e89153\" stroke=\"black\" d=\"M488,-425C488,-425 383,-425 383,-425 377,-425 371,-419 371,-413 371,-413 371,-354 371,-354 371,-348 377,-342 383,-342 383,-342 488,-342 488,-342 494,-342 500,-348 500,-354 500,-354 500,-413 500,-413 500,-419 494,-425 488,-425\"/>\n<text text-anchor=\"middle\" x=\"435.5\" y=\"-409.8\" font-family=\"Helvetica,sans-Serif\" font-size=\"14.00\">등락률 &lt;= 0.094</text>\n<text text-anchor=\"middle\" x=\"435.5\" y=\"-394.8\" font-family=\"Helvetica,sans-Serif\" font-size=\"14.00\">gini = 0.204</text>\n<text text-anchor=\"middle\" x=\"435.5\" y=\"-379.8\" font-family=\"Helvetica,sans-Serif\" font-size=\"14.00\">samples = 26</text>\n<text text-anchor=\"middle\" x=\"435.5\" y=\"-364.8\" font-family=\"Helvetica,sans-Serif\" font-size=\"14.00\">value = [23, 3]</text>\n<text text-anchor=\"middle\" x=\"435.5\" y=\"-349.8\" font-family=\"Helvetica,sans-Serif\" font-size=\"14.00\">class = 0</text>\n</g>\n<!-- 1&#45;&gt;2 -->\n<g id=\"edge2\" class=\"edge\">\n<title>1&#45;&gt;2</title>\n<path fill=\"none\" stroke=\"black\" d=\"M494.93,-460.91C487.94,-451.92 480.47,-442.32 473.26,-433.05\"/>\n<polygon fill=\"black\" stroke=\"black\" points=\"475.92,-430.77 467.02,-425.02 470.39,-435.06 475.92,-430.77\"/>\n</g>\n<!-- 11 -->\n<g id=\"node12\" class=\"node\">\n<title>11</title>\n<path fill=\"#44a2e6\" stroke=\"black\" d=\"M704.5,-425C704.5,-425 530.5,-425 530.5,-425 524.5,-425 518.5,-419 518.5,-413 518.5,-413 518.5,-354 518.5,-354 518.5,-348 524.5,-342 530.5,-342 530.5,-342 704.5,-342 704.5,-342 710.5,-342 716.5,-348 716.5,-354 716.5,-354 716.5,-413 716.5,-413 716.5,-419 710.5,-425 704.5,-425\"/>\n<text text-anchor=\"middle\" x=\"617.5\" y=\"-409.8\" font-family=\"Helvetica,sans-Serif\" font-size=\"14.00\">소비자물가지수 &lt;= 0.005</text>\n<text text-anchor=\"middle\" x=\"617.5\" y=\"-394.8\" font-family=\"Helvetica,sans-Serif\" font-size=\"14.00\">gini = 0.1</text>\n<text text-anchor=\"middle\" x=\"617.5\" y=\"-379.8\" font-family=\"Helvetica,sans-Serif\" font-size=\"14.00\">samples = 19</text>\n<text text-anchor=\"middle\" x=\"617.5\" y=\"-364.8\" font-family=\"Helvetica,sans-Serif\" font-size=\"14.00\">value = [1, 18]</text>\n<text text-anchor=\"middle\" x=\"617.5\" y=\"-349.8\" font-family=\"Helvetica,sans-Serif\" font-size=\"14.00\">class = 1</text>\n</g>\n<!-- 1&#45;&gt;11 -->\n<g id=\"edge11\" class=\"edge\">\n<title>1&#45;&gt;11</title>\n<path fill=\"none\" stroke=\"black\" d=\"M558.07,-460.91C565.06,-451.92 572.53,-442.32 579.74,-433.05\"/>\n<polygon fill=\"black\" stroke=\"black\" points=\"582.61,-435.06 585.98,-425.02 577.08,-430.77 582.61,-435.06\"/>\n</g>\n<!-- 3 -->\n<g id=\"node4\" class=\"node\">\n<title>3</title>\n<path fill=\"#e68742\" stroke=\"black\" d=\"M307,-306C307,-306 194,-306 194,-306 188,-306 182,-300 182,-294 182,-294 182,-235 182,-235 182,-229 188,-223 194,-223 194,-223 307,-223 307,-223 313,-223 319,-229 319,-235 319,-235 319,-294 319,-294 319,-300 313,-306 307,-306\"/>\n<text text-anchor=\"middle\" x=\"250.5\" y=\"-290.8\" font-family=\"Helvetica,sans-Serif\" font-size=\"14.00\">날짜 &lt;= 201305.0</text>\n<text text-anchor=\"middle\" x=\"250.5\" y=\"-275.8\" font-family=\"Helvetica,sans-Serif\" font-size=\"14.00\">gini = 0.083</text>\n<text text-anchor=\"middle\" x=\"250.5\" y=\"-260.8\" font-family=\"Helvetica,sans-Serif\" font-size=\"14.00\">samples = 23</text>\n<text text-anchor=\"middle\" x=\"250.5\" y=\"-245.8\" font-family=\"Helvetica,sans-Serif\" font-size=\"14.00\">value = [22, 1]</text>\n<text text-anchor=\"middle\" x=\"250.5\" y=\"-230.8\" font-family=\"Helvetica,sans-Serif\" font-size=\"14.00\">class = 0</text>\n</g>\n<!-- 2&#45;&gt;3 -->\n<g id=\"edge3\" class=\"edge\">\n<title>2&#45;&gt;3</title>\n<path fill=\"none\" stroke=\"black\" d=\"M371.32,-341.91C355.82,-332.11 339.15,-321.56 323.29,-311.53\"/>\n<polygon fill=\"black\" stroke=\"black\" points=\"324.89,-308.41 314.57,-306.02 321.15,-314.32 324.89,-308.41\"/>\n</g>\n<!-- 8 -->\n<g id=\"node9\" class=\"node\">\n<title>8</title>\n<path fill=\"#9ccef2\" stroke=\"black\" d=\"M528,-306C528,-306 349,-306 349,-306 343,-306 337,-300 337,-294 337,-294 337,-235 337,-235 337,-229 343,-223 349,-223 349,-223 528,-223 528,-223 534,-223 540,-229 540,-235 540,-235 540,-294 540,-294 540,-300 534,-306 528,-306\"/>\n<text text-anchor=\"middle\" x=\"438.5\" y=\"-290.8\" font-family=\"Helvetica,sans-Serif\" font-size=\"14.00\">소비자물가지수 &lt;= &#45;0.003</text>\n<text text-anchor=\"middle\" x=\"438.5\" y=\"-275.8\" font-family=\"Helvetica,sans-Serif\" font-size=\"14.00\">gini = 0.444</text>\n<text text-anchor=\"middle\" x=\"438.5\" y=\"-260.8\" font-family=\"Helvetica,sans-Serif\" font-size=\"14.00\">samples = 3</text>\n<text text-anchor=\"middle\" x=\"438.5\" y=\"-245.8\" font-family=\"Helvetica,sans-Serif\" font-size=\"14.00\">value = [1, 2]</text>\n<text text-anchor=\"middle\" x=\"438.5\" y=\"-230.8\" font-family=\"Helvetica,sans-Serif\" font-size=\"14.00\">class = 1</text>\n</g>\n<!-- 2&#45;&gt;8 -->\n<g id=\"edge8\" class=\"edge\">\n<title>2&#45;&gt;8</title>\n<path fill=\"none\" stroke=\"black\" d=\"M436.54,-341.91C436.75,-333.56 436.98,-324.67 437.2,-316.02\"/>\n<polygon fill=\"black\" stroke=\"black\" points=\"440.7,-316.11 437.46,-306.02 433.71,-315.93 440.7,-316.11\"/>\n</g>\n<!-- 4 -->\n<g id=\"node5\" class=\"node\">\n<title>4</title>\n<path fill=\"#f2c09c\" stroke=\"black\" d=\"M186,-187C186,-187 25,-187 25,-187 19,-187 13,-181 13,-175 13,-175 13,-116 13,-116 13,-110 19,-104 25,-104 25,-104 186,-104 186,-104 192,-104 198,-110 198,-116 198,-116 198,-175 198,-175 198,-181 192,-187 186,-187\"/>\n<text text-anchor=\"middle\" x=\"105.5\" y=\"-171.8\" font-family=\"Helvetica,sans-Serif\" font-size=\"14.00\">소매판매지수 &lt;= &#45;0.033</text>\n<text text-anchor=\"middle\" x=\"105.5\" y=\"-156.8\" font-family=\"Helvetica,sans-Serif\" font-size=\"14.00\">gini = 0.444</text>\n<text text-anchor=\"middle\" x=\"105.5\" y=\"-141.8\" font-family=\"Helvetica,sans-Serif\" font-size=\"14.00\">samples = 3</text>\n<text text-anchor=\"middle\" x=\"105.5\" y=\"-126.8\" font-family=\"Helvetica,sans-Serif\" font-size=\"14.00\">value = [2, 1]</text>\n<text text-anchor=\"middle\" x=\"105.5\" y=\"-111.8\" font-family=\"Helvetica,sans-Serif\" font-size=\"14.00\">class = 0</text>\n</g>\n<!-- 3&#45;&gt;4 -->\n<g id=\"edge4\" class=\"edge\">\n<title>3&#45;&gt;4</title>\n<path fill=\"none\" stroke=\"black\" d=\"M200.19,-222.91C188.38,-213.38 175.71,-203.15 163.59,-193.37\"/>\n<polygon fill=\"black\" stroke=\"black\" points=\"165.7,-190.58 155.72,-187.02 161.3,-196.02 165.7,-190.58\"/>\n</g>\n<!-- 7 -->\n<g id=\"node8\" class=\"node\">\n<title>7</title>\n<path fill=\"#e58139\" stroke=\"black\" d=\"M309,-179.5C309,-179.5 228,-179.5 228,-179.5 222,-179.5 216,-173.5 216,-167.5 216,-167.5 216,-123.5 216,-123.5 216,-117.5 222,-111.5 228,-111.5 228,-111.5 309,-111.5 309,-111.5 315,-111.5 321,-117.5 321,-123.5 321,-123.5 321,-167.5 321,-167.5 321,-173.5 315,-179.5 309,-179.5\"/>\n<text text-anchor=\"middle\" x=\"268.5\" y=\"-164.3\" font-family=\"Helvetica,sans-Serif\" font-size=\"14.00\">gini = 0.0</text>\n<text text-anchor=\"middle\" x=\"268.5\" y=\"-149.3\" font-family=\"Helvetica,sans-Serif\" font-size=\"14.00\">samples = 20</text>\n<text text-anchor=\"middle\" x=\"268.5\" y=\"-134.3\" font-family=\"Helvetica,sans-Serif\" font-size=\"14.00\">value = [20, 0]</text>\n<text text-anchor=\"middle\" x=\"268.5\" y=\"-119.3\" font-family=\"Helvetica,sans-Serif\" font-size=\"14.00\">class = 0</text>\n</g>\n<!-- 3&#45;&gt;7 -->\n<g id=\"edge7\" class=\"edge\">\n<title>3&#45;&gt;7</title>\n<path fill=\"none\" stroke=\"black\" d=\"M256.75,-222.91C258.39,-212.2 260.17,-200.62 261.84,-189.78\"/>\n<polygon fill=\"black\" stroke=\"black\" points=\"265.34,-190.08 263.4,-179.67 258.42,-189.02 265.34,-190.08\"/>\n</g>\n<!-- 5 -->\n<g id=\"node6\" class=\"node\">\n<title>5</title>\n<path fill=\"#e58139\" stroke=\"black\" d=\"M85,-68C85,-68 12,-68 12,-68 6,-68 0,-62 0,-56 0,-56 0,-12 0,-12 0,-6 6,0 12,0 12,0 85,0 85,0 91,0 97,-6 97,-12 97,-12 97,-56 97,-56 97,-62 91,-68 85,-68\"/>\n<text text-anchor=\"middle\" x=\"48.5\" y=\"-52.8\" font-family=\"Helvetica,sans-Serif\" font-size=\"14.00\">gini = 0.0</text>\n<text text-anchor=\"middle\" x=\"48.5\" y=\"-37.8\" font-family=\"Helvetica,sans-Serif\" font-size=\"14.00\">samples = 2</text>\n<text text-anchor=\"middle\" x=\"48.5\" y=\"-22.8\" font-family=\"Helvetica,sans-Serif\" font-size=\"14.00\">value = [2, 0]</text>\n<text text-anchor=\"middle\" x=\"48.5\" y=\"-7.8\" font-family=\"Helvetica,sans-Serif\" font-size=\"14.00\">class = 0</text>\n</g>\n<!-- 4&#45;&gt;5 -->\n<g id=\"edge5\" class=\"edge\">\n<title>4&#45;&gt;5</title>\n<path fill=\"none\" stroke=\"black\" d=\"M84.28,-103.73C79.76,-95.06 74.99,-85.9 70.46,-77.18\"/>\n<polygon fill=\"black\" stroke=\"black\" points=\"73.56,-75.55 65.83,-68.3 67.35,-78.79 73.56,-75.55\"/>\n</g>\n<!-- 6 -->\n<g id=\"node7\" class=\"node\">\n<title>6</title>\n<path fill=\"#399de5\" stroke=\"black\" d=\"M200,-68C200,-68 127,-68 127,-68 121,-68 115,-62 115,-56 115,-56 115,-12 115,-12 115,-6 121,0 127,0 127,0 200,0 200,0 206,0 212,-6 212,-12 212,-12 212,-56 212,-56 212,-62 206,-68 200,-68\"/>\n<text text-anchor=\"middle\" x=\"163.5\" y=\"-52.8\" font-family=\"Helvetica,sans-Serif\" font-size=\"14.00\">gini = 0.0</text>\n<text text-anchor=\"middle\" x=\"163.5\" y=\"-37.8\" font-family=\"Helvetica,sans-Serif\" font-size=\"14.00\">samples = 1</text>\n<text text-anchor=\"middle\" x=\"163.5\" y=\"-22.8\" font-family=\"Helvetica,sans-Serif\" font-size=\"14.00\">value = [0, 1]</text>\n<text text-anchor=\"middle\" x=\"163.5\" y=\"-7.8\" font-family=\"Helvetica,sans-Serif\" font-size=\"14.00\">class = 1</text>\n</g>\n<!-- 4&#45;&gt;6 -->\n<g id=\"edge6\" class=\"edge\">\n<title>4&#45;&gt;6</title>\n<path fill=\"none\" stroke=\"black\" d=\"M127.1,-103.73C131.69,-95.06 136.54,-85.9 141.16,-77.18\"/>\n<polygon fill=\"black\" stroke=\"black\" points=\"144.27,-78.77 145.86,-68.3 138.09,-75.5 144.27,-78.77\"/>\n</g>\n<!-- 9 -->\n<g id=\"node10\" class=\"node\">\n<title>9</title>\n<path fill=\"#e58139\" stroke=\"black\" d=\"M458,-179.5C458,-179.5 385,-179.5 385,-179.5 379,-179.5 373,-173.5 373,-167.5 373,-167.5 373,-123.5 373,-123.5 373,-117.5 379,-111.5 385,-111.5 385,-111.5 458,-111.5 458,-111.5 464,-111.5 470,-117.5 470,-123.5 470,-123.5 470,-167.5 470,-167.5 470,-173.5 464,-179.5 458,-179.5\"/>\n<text text-anchor=\"middle\" x=\"421.5\" y=\"-164.3\" font-family=\"Helvetica,sans-Serif\" font-size=\"14.00\">gini = 0.0</text>\n<text text-anchor=\"middle\" x=\"421.5\" y=\"-149.3\" font-family=\"Helvetica,sans-Serif\" font-size=\"14.00\">samples = 1</text>\n<text text-anchor=\"middle\" x=\"421.5\" y=\"-134.3\" font-family=\"Helvetica,sans-Serif\" font-size=\"14.00\">value = [1, 0]</text>\n<text text-anchor=\"middle\" x=\"421.5\" y=\"-119.3\" font-family=\"Helvetica,sans-Serif\" font-size=\"14.00\">class = 0</text>\n</g>\n<!-- 8&#45;&gt;9 -->\n<g id=\"edge9\" class=\"edge\">\n<title>8&#45;&gt;9</title>\n<path fill=\"none\" stroke=\"black\" d=\"M432.6,-222.91C431.05,-212.2 429.36,-200.62 427.79,-189.78\"/>\n<polygon fill=\"black\" stroke=\"black\" points=\"431.22,-189.06 426.32,-179.67 424.29,-190.07 431.22,-189.06\"/>\n</g>\n<!-- 10 -->\n<g id=\"node11\" class=\"node\">\n<title>10</title>\n<path fill=\"#399de5\" stroke=\"black\" d=\"M573,-179.5C573,-179.5 500,-179.5 500,-179.5 494,-179.5 488,-173.5 488,-167.5 488,-167.5 488,-123.5 488,-123.5 488,-117.5 494,-111.5 500,-111.5 500,-111.5 573,-111.5 573,-111.5 579,-111.5 585,-117.5 585,-123.5 585,-123.5 585,-167.5 585,-167.5 585,-173.5 579,-179.5 573,-179.5\"/>\n<text text-anchor=\"middle\" x=\"536.5\" y=\"-164.3\" font-family=\"Helvetica,sans-Serif\" font-size=\"14.00\">gini = 0.0</text>\n<text text-anchor=\"middle\" x=\"536.5\" y=\"-149.3\" font-family=\"Helvetica,sans-Serif\" font-size=\"14.00\">samples = 2</text>\n<text text-anchor=\"middle\" x=\"536.5\" y=\"-134.3\" font-family=\"Helvetica,sans-Serif\" font-size=\"14.00\">value = [0, 2]</text>\n<text text-anchor=\"middle\" x=\"536.5\" y=\"-119.3\" font-family=\"Helvetica,sans-Serif\" font-size=\"14.00\">class = 1</text>\n</g>\n<!-- 8&#45;&gt;10 -->\n<g id=\"edge10\" class=\"edge\">\n<title>8&#45;&gt;10</title>\n<path fill=\"none\" stroke=\"black\" d=\"M472.5,-222.91C482.11,-211.43 492.58,-198.94 502.21,-187.44\"/>\n<polygon fill=\"black\" stroke=\"black\" points=\"504.98,-189.58 508.72,-179.67 499.61,-185.09 504.98,-189.58\"/>\n</g>\n<!-- 12 -->\n<g id=\"node13\" class=\"node\">\n<title>12</title>\n<path fill=\"#399de5\" stroke=\"black\" d=\"M656,-298.5C656,-298.5 575,-298.5 575,-298.5 569,-298.5 563,-292.5 563,-286.5 563,-286.5 563,-242.5 563,-242.5 563,-236.5 569,-230.5 575,-230.5 575,-230.5 656,-230.5 656,-230.5 662,-230.5 668,-236.5 668,-242.5 668,-242.5 668,-286.5 668,-286.5 668,-292.5 662,-298.5 656,-298.5\"/>\n<text text-anchor=\"middle\" x=\"615.5\" y=\"-283.3\" font-family=\"Helvetica,sans-Serif\" font-size=\"14.00\">gini = 0.0</text>\n<text text-anchor=\"middle\" x=\"615.5\" y=\"-268.3\" font-family=\"Helvetica,sans-Serif\" font-size=\"14.00\">samples = 18</text>\n<text text-anchor=\"middle\" x=\"615.5\" y=\"-253.3\" font-family=\"Helvetica,sans-Serif\" font-size=\"14.00\">value = [0, 18]</text>\n<text text-anchor=\"middle\" x=\"615.5\" y=\"-238.3\" font-family=\"Helvetica,sans-Serif\" font-size=\"14.00\">class = 1</text>\n</g>\n<!-- 11&#45;&gt;12 -->\n<g id=\"edge12\" class=\"edge\">\n<title>11&#45;&gt;12</title>\n<path fill=\"none\" stroke=\"black\" d=\"M616.81,-341.91C616.62,-331.2 616.43,-319.62 616.24,-308.78\"/>\n<polygon fill=\"black\" stroke=\"black\" points=\"619.74,-308.61 616.07,-298.67 612.74,-308.73 619.74,-308.61\"/>\n</g>\n<!-- 13 -->\n<g id=\"node14\" class=\"node\">\n<title>13</title>\n<path fill=\"#e58139\" stroke=\"black\" d=\"M771,-298.5C771,-298.5 698,-298.5 698,-298.5 692,-298.5 686,-292.5 686,-286.5 686,-286.5 686,-242.5 686,-242.5 686,-236.5 692,-230.5 698,-230.5 698,-230.5 771,-230.5 771,-230.5 777,-230.5 783,-236.5 783,-242.5 783,-242.5 783,-286.5 783,-286.5 783,-292.5 777,-298.5 771,-298.5\"/>\n<text text-anchor=\"middle\" x=\"734.5\" y=\"-283.3\" font-family=\"Helvetica,sans-Serif\" font-size=\"14.00\">gini = 0.0</text>\n<text text-anchor=\"middle\" x=\"734.5\" y=\"-268.3\" font-family=\"Helvetica,sans-Serif\" font-size=\"14.00\">samples = 1</text>\n<text text-anchor=\"middle\" x=\"734.5\" y=\"-253.3\" font-family=\"Helvetica,sans-Serif\" font-size=\"14.00\">value = [1, 0]</text>\n<text text-anchor=\"middle\" x=\"734.5\" y=\"-238.3\" font-family=\"Helvetica,sans-Serif\" font-size=\"14.00\">class = 0</text>\n</g>\n<!-- 11&#45;&gt;13 -->\n<g id=\"edge13\" class=\"edge\">\n<title>11&#45;&gt;13</title>\n<path fill=\"none\" stroke=\"black\" d=\"M658.09,-341.91C669.79,-330.21 682.54,-317.46 694.22,-305.78\"/>\n<polygon fill=\"black\" stroke=\"black\" points=\"696.74,-308.21 701.33,-298.67 691.79,-303.26 696.74,-308.21\"/>\n</g>\n</g>\n</svg>\n",
      "text/plain": [
       "<graphviz.sources.Source at 0x21b644c8d90>"
      ]
     },
     "execution_count": 23,
     "metadata": {},
     "output_type": "execute_result"
    }
   ],
   "source": [
    "import graphviz\n",
    "\n",
    "with open('./data/tree_corona.dot', encoding='UTF-8') as f:\n",
    "    dot_graph = f.read()\n",
    "graphviz.Source(dot_graph)"
   ]
  },
  {
   "cell_type": "code",
   "execution_count": 26,
   "metadata": {},
   "outputs": [
    {
     "data": {
      "text/plain": [
       "<AxesSubplot:title={'center':'피처중요도'}>"
      ]
     },
     "execution_count": 26,
     "metadata": {},
     "output_type": "execute_result"
    },
    {
     "data": {
      "image/png": "[encoded data removed]",
      "text/plain": [
       "<Figure size 864x576 with 1 Axes>"
      ]
     },
     "metadata": {
      "needs_background": "light"
     },
     "output_type": "display_data"
    }
   ],
   "source": [
    "# 피처 중요도 시각화\n",
    "import seaborn as sns\n",
    "import matplotlib.pyplot as plt\n",
    "\n",
    "plt.rcParams[\"font.family\"] = \"Malgun Gothic\"\n",
    "\n",
    "plt.figure(figsize=(12,8))\n",
    "plt.title(\"피처중요도\")\n",
    "sns.barplot(x=dt_clf.feature_importances_, y=data.columns)"
   ]
  },
  {
   "cell_type": "code",
   "execution_count": null,
   "metadata": {},
   "outputs": [],
   "source": []
  }
 ],
 "metadata": {
  "kernelspec": {
   "display_name": "Python 3.10.1 64-bit",
   "language": "python",
   "name": "python3"
  },
  "language_info": {
   "codemirror_mode": {
    "name": "ipython",
    "version": 3
   },
   "file_extension": ".py",
   "mimetype": "text/x-python",
   "name": "python",
   "nbconvert_exporter": "python",
   "pygments_lexer": "ipython3",
   "version": "3.10.1"
  },
  "orig_nbformat": 4,
  "vscode": {
   "interpreter": {
    "hash": "664601c8c9e5ea170ac235a51849067b39cba8c284ace64cc1dec43cb5b20d30"
   }
  }
 },
 "nbformat": 4,
 "nbformat_minor": 2
}
